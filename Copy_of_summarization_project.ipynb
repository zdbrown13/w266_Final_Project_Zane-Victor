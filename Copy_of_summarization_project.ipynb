{
  "cells": [
    {
      "cell_type": "markdown",
      "metadata": {
        "id": "5G5yQrxPscqh"
      },
      "source": [
        "# **Import Packages**"
      ]
    },
    {
      "cell_type": "code",
      "execution_count": 1,
      "metadata": {
        "colab": {
          "base_uri": "https://localhost:8080/"
        },
        "id": "PtRRhhh_sca5",
        "outputId": "4aa16c9c-2485-4627-b3c0-25bfacd12401"
      },
      "outputs": [
        {
          "name": "stderr",
          "output_type": "stream",
          "text": [
            "C:\\Users\\Zane\\AppData\\Local\\Packages\\PythonSoftwareFoundation.Python.3.11_qbz5n2kfra8p0\\LocalCache\\local-packages\\Python311\\site-packages\\tqdm\\auto.py:21: TqdmWarning: IProgress not found. Please update jupyter and ipywidgets. See https://ipywidgets.readthedocs.io/en/stable/user_install.html\n",
            "  from .autonotebook import tqdm as notebook_tqdm\n"
          ]
        }
      ],
      "source": [
        "# !pip install bitsandbytes --upgrade\n",
        "# !pip install transformers accelerate --upgrade\n",
        "# !pip install git+https://github.com/huggingface/peft.git -q\n",
        "# !pip install torch\n",
        "\n",
        "import requests\n",
        "import json\n",
        "# !pip install jsonlines\n",
        "import jsonlines\n",
        "from io import StringIO\n",
        "import os\n",
        "import pandas as pd\n",
        "import numpy as np\n",
        "import matplotlib.pyplot as plt\n",
        "import seaborn as sns\n",
        "# !pip install datasets\n",
        "from datasets import load_dataset, Dataset\n",
        "import torch\n",
        "import transformers\n",
        "from transformers import T5Tokenizer, TFT5ForConditionalGeneration\n",
        "from transformers import AutoTokenizer, AutoModelForSeq2SeqLM\n",
        "from transformers import pipeline\n",
        "# !pip install rouge_score\n",
        "from rouge_score import rouge_scorer"
      ]
    },
    {
      "cell_type": "code",
      "execution_count": 2,
      "metadata": {},
      "outputs": [
        {
          "data": {
            "text/plain": [
              "True"
            ]
          },
          "execution_count": 2,
          "metadata": {},
          "output_type": "execute_result"
        }
      ],
      "source": [
        "torch.cuda.is_available()"
      ]
    },
    {
      "cell_type": "code",
      "execution_count": 3,
      "metadata": {},
      "outputs": [
        {
          "name": "stdout",
          "output_type": "stream",
          "text": [
            "PyTorch version: 2.4.0+cu124\n",
            "CUDA available: True\n",
            "CUDA version: 12.4\n",
            "CUDA device count: 1\n",
            "Current CUDA device: 0\n",
            "CUDA device name: NVIDIA GeForce RTX 4070 SUPER\n"
          ]
        }
      ],
      "source": [
        "print(f\"PyTorch version: {torch.__version__}\")\n",
        "print(f\"CUDA available: {torch.cuda.is_available()}\")\n",
        "if torch.cuda.is_available():\n",
        "    print(f\"CUDA version: {torch.version.cuda}\")\n",
        "    print(f\"CUDA device count: {torch.cuda.device_count()}\")\n",
        "    print(f\"Current CUDA device: {torch.cuda.current_device()}\")\n",
        "    print(f\"CUDA device name: {torch.cuda.get_device_name(torch.cuda.current_device())}\")\n",
        "else:\n",
        "    print(\"CUDA is not available. Using CPU.\")"
      ]
    },
    {
      "cell_type": "code",
      "execution_count": 4,
      "metadata": {},
      "outputs": [
        {
          "name": "stdout",
          "output_type": "stream",
          "text": [
            "Using device: cuda\n"
          ]
        }
      ],
      "source": [
        "device = torch.device(\"cuda\" if torch.cuda.is_available() else \"cpu\")\n",
        "print(f\"Using device: {device}\")"
      ]
    },
    {
      "cell_type": "markdown",
      "metadata": {
        "id": "PFIRqi7UQ10M"
      },
      "source": [
        "# **Load Datasets**"
      ]
    },
    {
      "cell_type": "code",
      "execution_count": 5,
      "metadata": {
        "colab": {
          "base_uri": "https://localhost:8080/"
        },
        "id": "EYpU3XMLtzTg",
        "outputId": "9ff96d30-d338-4462-8c90-3824f3902c7c"
      },
      "outputs": [
        {
          "name": "stdout",
          "output_type": "stream",
          "text": [
            "c:\\Users\\Zane\\Downloads\n"
          ]
        }
      ],
      "source": [
        "print(os.getcwd())"
      ]
    },
    {
      "cell_type": "markdown",
      "metadata": {
        "id": "dFZjR8k40t_p"
      },
      "source": [
        "Load the summarization data"
      ]
    },
    {
      "cell_type": "code",
      "execution_count": 6,
      "metadata": {
        "id": "HHD7bE9p0x04"
      },
      "outputs": [],
      "source": [
        "import requests\n",
        "def get_data(subreddit):\n",
        "  response = requests.get(subreddit)\n",
        "  response.raise_for_status()\n",
        "  data = []\n",
        "  for line in response.iter_lines():\n",
        "    if line:\n",
        "      data.append(json.loads(line))\n",
        "  return data\n",
        "\n",
        "train_url = \"https://openaipublic.blob.core.windows.net/summarize-from-feedback/datasets/tldr_3_filtered/train.jsonl\"\n",
        "test_url = \"https://openaipublic.blob.core.windows.net/summarize-from-feedback/datasets/tldr_3_filtered/test.jsonl\"\n",
        "val_url = \"https://openaipublic.blob.core.windows.net/summarize-from-feedback/datasets/tldr_3_filtered/valid.jsonl\""
      ]
    },
    {
      "cell_type": "code",
      "execution_count": 7,
      "metadata": {
        "id": "kKJ-Ji7903bd"
      },
      "outputs": [],
      "source": [
        "train_data = get_data(train_url)\n",
        "test_data = get_data(test_url)\n",
        "val_data = get_data(val_url)"
      ]
    },
    {
      "cell_type": "markdown",
      "metadata": {
        "id": "YwHejsfNtToM"
      },
      "source": [
        "Load the human preference data"
      ]
    },
    {
      "cell_type": "code",
      "execution_count": 8,
      "metadata": {},
      "outputs": [],
      "source": [
        "import json\n",
        "import pandas as pd\n",
        "\n",
        "def load_json_file(file_path):\n",
        "    # If file_path is a list, take the first element\n",
        "    if isinstance(file_path, list):\n",
        "        file_path = file_path[0]\n",
        "    \n",
        "    try:\n",
        "        with open(file_path, 'r') as file:\n",
        "            # Try to load as a single JSON object first\n",
        "            try:\n",
        "                data = json.load(file)\n",
        "                df = pd.json_normalize([data])\n",
        "            except json.JSONDecodeError:\n",
        "                # If that fails, try to load as JSON Lines\n",
        "                file.seek(0)  # Reset file pointer to the beginning\n",
        "                data = [json.loads(line) for line in file]\n",
        "                df = pd.json_normalize(data)\n",
        "            \n",
        "            # Rename columns if necessary\n",
        "            column_mapping = {\n",
        "                'info.id': 'id',\n",
        "                'info.article': 'post',\n",
        "                'info.post': 'post',\n",
        "                'info.subreddit': 'subreddit',\n",
        "                'info.title': 'title',\n",
        "                'info.site': 'subreddit',\n",
        "                'summary.text': 'summary_text',\n",
        "                'summary.policy': 'summary_policy',\n",
        "                'summary.note': 'summary_note',\n",
        "                'summary.axes.overall': 'overall_score',\n",
        "                'summary.axes.accuracy': 'accuracy_score',\n",
        "                'summary.axes.coverage': 'coverage_score',\n",
        "                'summary.axes.coherence': 'coherence_score'\n",
        "            }\n",
        "            df.rename(columns=column_mapping, inplace=True)\n",
        "            \n",
        "            return df\n",
        "    except Exception as e:\n",
        "        print(f\"Error loading {file_path}: {e}\")\n",
        "        return pd.DataFrame()"
      ]
    },
    {
      "cell_type": "code",
      "execution_count": 9,
      "metadata": {
        "colab": {
          "base_uri": "https://localhost:8080/",
          "height": 211
        },
        "id": "jwOyfFmKtQ4H",
        "outputId": "cc38e6f4-c339-4b18-e4d0-e7f31434ee8a"
      },
      "outputs": [],
      "source": [
        "# tldraxis1\n",
        "tldraxis1 = load_json_file(['./tldraxis1.json'])\n",
        "\n",
        "# tldraxis2\n",
        "tldraxis2 = load_json_file(['./tldraxis2.json'])\n",
        "\n",
        "# cnndm1\n",
        "cnndm1 = load_json_file(['./cnndm1.json'])\n",
        "\n",
        "# cnndm3\n",
        "cnndm3 = load_json_file(['./cnndm3.json'])\n",
        "\n",
        "# cnndm4\n",
        "cnndm4 = load_json_file(['./cnndm4.json'])\n",
        "\n",
        "# cnndm0\n",
        "cnndm0 = load_json_file(['./cnndm0.json'])\n",
        "\n",
        "# cnndm2\n",
        "cnndm2 = load_json_file(['./cnndm2.json'])\n",
        "\n",
        "# batch0_cnndm\n",
        "batch0_cnndm = load_json_file(['./batch0_cnndm.json'])"
      ]
    },
    {
      "cell_type": "code",
      "execution_count": 10,
      "metadata": {},
      "outputs": [
        {
          "data": {
            "text/plain": [
              "split\n",
              "valid2    1410\n",
              "Name: count, dtype: int64"
            ]
          },
          "execution_count": 10,
          "metadata": {},
          "output_type": "execute_result"
        }
      ],
      "source": [
        "cnndm2['split'].value_counts()"
      ]
    },
    {
      "cell_type": "markdown",
      "metadata": {
        "id": "xpmVeagH1-AU"
      },
      "source": [
        "# **EDA and Pre-processing**"
      ]
    },
    {
      "cell_type": "code",
      "execution_count": 11,
      "metadata": {
        "colab": {
          "base_uri": "https://localhost:8080/",
          "height": 316
        },
        "id": "d_2bggYKtQvY",
        "outputId": "cf58cb9a-4f06-4bf2-9196-466935bbb082"
      },
      "outputs": [
        {
          "data": {
            "text/html": [
              "<div>\n",
              "<style scoped>\n",
              "    .dataframe tbody tr th:only-of-type {\n",
              "        vertical-align: middle;\n",
              "    }\n",
              "\n",
              "    .dataframe tbody tr th {\n",
              "        vertical-align: top;\n",
              "    }\n",
              "\n",
              "    .dataframe thead th {\n",
              "        text-align: right;\n",
              "    }\n",
              "</style>\n",
              "<table border=\"1\" class=\"dataframe\">\n",
              "  <thead>\n",
              "    <tr style=\"text-align: right;\">\n",
              "      <th></th>\n",
              "      <th>split</th>\n",
              "      <th>worker</th>\n",
              "      <th>batch</th>\n",
              "      <th>id</th>\n",
              "      <th>post</th>\n",
              "      <th>title</th>\n",
              "      <th>subreddit</th>\n",
              "      <th>summary_text</th>\n",
              "      <th>summary_policy</th>\n",
              "      <th>summary_note</th>\n",
              "      <th>overall_score</th>\n",
              "      <th>accuracy_score</th>\n",
              "      <th>coverage_score</th>\n",
              "      <th>coherence_score</th>\n",
              "    </tr>\n",
              "  </thead>\n",
              "  <tbody>\n",
              "    <tr>\n",
              "      <th>count</th>\n",
              "      <td>3056</td>\n",
              "      <td>3056</td>\n",
              "      <td>3056</td>\n",
              "      <td>3056</td>\n",
              "      <td>3056</td>\n",
              "      <td>3056</td>\n",
              "      <td>3056</td>\n",
              "      <td>3056</td>\n",
              "      <td>3056</td>\n",
              "      <td>3052</td>\n",
              "      <td>3006</td>\n",
              "      <td>3037</td>\n",
              "      <td>2997</td>\n",
              "      <td>3041</td>\n",
              "    </tr>\n",
              "    <tr>\n",
              "      <th>unique</th>\n",
              "      <td>2</td>\n",
              "      <td>17</td>\n",
              "      <td>1</td>\n",
              "      <td>441</td>\n",
              "      <td>441</td>\n",
              "      <td>441</td>\n",
              "      <td>25</td>\n",
              "      <td>2642</td>\n",
              "      <td>6</td>\n",
              "      <td>2838</td>\n",
              "      <td>14</td>\n",
              "      <td>14</td>\n",
              "      <td>14</td>\n",
              "      <td>14</td>\n",
              "    </tr>\n",
              "    <tr>\n",
              "      <th>top</th>\n",
              "      <td>valid2</td>\n",
              "      <td>OKFDIsAZl6Qa0m9x26f5Ao4S0uc7Ca</td>\n",
              "      <td>tldraxis1</td>\n",
              "      <td>t3_2k0qfz</td>\n",
              "      <td>I was fired last week from my seasonal part-ti...</td>\n",
              "      <td>TIFU by getting fired at the most unfortunate ...</td>\n",
              "      <td>relationships</td>\n",
              "      <td>I was fired at the worst possible time and ma...</td>\n",
              "      <td>sup4_ppo_rm4_t.7</td>\n",
              "      <td>Looks good to me.</td>\n",
              "      <td>4</td>\n",
              "      <td>7</td>\n",
              "      <td>4</td>\n",
              "      <td>7</td>\n",
              "    </tr>\n",
              "    <tr>\n",
              "      <th>freq</th>\n",
              "      <td>2211</td>\n",
              "      <td>480</td>\n",
              "      <td>3056</td>\n",
              "      <td>36</td>\n",
              "      <td>36</td>\n",
              "      <td>36</td>\n",
              "      <td>1662</td>\n",
              "      <td>6</td>\n",
              "      <td>510</td>\n",
              "      <td>50</td>\n",
              "      <td>555</td>\n",
              "      <td>1146</td>\n",
              "      <td>703</td>\n",
              "      <td>1429</td>\n",
              "    </tr>\n",
              "  </tbody>\n",
              "</table>\n",
              "</div>"
            ],
            "text/plain": [
              "         split                          worker      batch         id  \\\n",
              "count     3056                            3056       3056       3056   \n",
              "unique       2                              17          1        441   \n",
              "top     valid2  OKFDIsAZl6Qa0m9x26f5Ao4S0uc7Ca  tldraxis1  t3_2k0qfz   \n",
              "freq      2211                             480       3056         36   \n",
              "\n",
              "                                                     post  \\\n",
              "count                                                3056   \n",
              "unique                                                441   \n",
              "top     I was fired last week from my seasonal part-ti...   \n",
              "freq                                                   36   \n",
              "\n",
              "                                                    title      subreddit  \\\n",
              "count                                                3056           3056   \n",
              "unique                                                441             25   \n",
              "top     TIFU by getting fired at the most unfortunate ...  relationships   \n",
              "freq                                                   36           1662   \n",
              "\n",
              "                                             summary_text    summary_policy  \\\n",
              "count                                                3056              3056   \n",
              "unique                                               2642                 6   \n",
              "top      I was fired at the worst possible time and ma...  sup4_ppo_rm4_t.7   \n",
              "freq                                                    6               510   \n",
              "\n",
              "             summary_note overall_score accuracy_score coverage_score  \\\n",
              "count                3052          3006           3037           2997   \n",
              "unique               2838            14             14             14   \n",
              "top     Looks good to me.             4              7              4   \n",
              "freq                   50           555           1146            703   \n",
              "\n",
              "       coherence_score  \n",
              "count             3041  \n",
              "unique              14  \n",
              "top                  7  \n",
              "freq              1429  "
            ]
          },
          "execution_count": 11,
          "metadata": {},
          "output_type": "execute_result"
        }
      ],
      "source": [
        "tldraxis1.describe()"
      ]
    },
    {
      "cell_type": "code",
      "execution_count": 12,
      "metadata": {
        "colab": {
          "base_uri": "https://localhost:8080/",
          "height": 542
        },
        "id": "q-h85zCerbWP",
        "outputId": "10578835-9926-4794-d823-447bf69624f2"
      },
      "outputs": [
        {
          "data": {
            "text/html": [
              "<div>\n",
              "<style scoped>\n",
              "    .dataframe tbody tr th:only-of-type {\n",
              "        vertical-align: middle;\n",
              "    }\n",
              "\n",
              "    .dataframe tbody tr th {\n",
              "        vertical-align: top;\n",
              "    }\n",
              "\n",
              "    .dataframe thead th {\n",
              "        text-align: right;\n",
              "    }\n",
              "</style>\n",
              "<table border=\"1\" class=\"dataframe\">\n",
              "  <thead>\n",
              "    <tr style=\"text-align: right;\">\n",
              "      <th></th>\n",
              "      <th>split</th>\n",
              "      <th>worker</th>\n",
              "      <th>batch</th>\n",
              "      <th>id</th>\n",
              "      <th>subreddit</th>\n",
              "      <th>title</th>\n",
              "      <th>post</th>\n",
              "      <th>summary_text</th>\n",
              "      <th>summary_policy</th>\n",
              "      <th>summary_note</th>\n",
              "      <th>overall_score</th>\n",
              "      <th>accuracy_score</th>\n",
              "      <th>coverage_score</th>\n",
              "      <th>coherence_score</th>\n",
              "    </tr>\n",
              "  </thead>\n",
              "  <tbody>\n",
              "    <tr>\n",
              "      <th>0</th>\n",
              "      <td>test</td>\n",
              "      <td>qo6WIyEh27cwAjWpA3Q60J7NaDxzQJ</td>\n",
              "      <td>cnndm1</td>\n",
              "      <td>167f80cc6634b166a699d182e25c81a2349d82d2</td>\n",
              "      <td>dailymail</td>\n",
              "      <td>Newcastle United midfielder Moussa Sissoko fac...</td>\n",
              "      <td>Newcastle stand-in skipper Moussa Sissoko is f...</td>\n",
              "      <td>Moussa Sissoko was sent off against Liverpool ...</td>\n",
              "      <td>ref</td>\n",
              "      <td>Misleading: \"Carver admits he is only concerne...</td>\n",
              "      <td>3</td>\n",
              "      <td>5</td>\n",
              "      <td>4</td>\n",
              "      <td>2</td>\n",
              "    </tr>\n",
              "  </tbody>\n",
              "</table>\n",
              "</div>"
            ],
            "text/plain": [
              "  split                          worker   batch  \\\n",
              "0  test  qo6WIyEh27cwAjWpA3Q60J7NaDxzQJ  cnndm1   \n",
              "\n",
              "                                         id  subreddit  \\\n",
              "0  167f80cc6634b166a699d182e25c81a2349d82d2  dailymail   \n",
              "\n",
              "                                               title  \\\n",
              "0  Newcastle United midfielder Moussa Sissoko fac...   \n",
              "\n",
              "                                                post  \\\n",
              "0  Newcastle stand-in skipper Moussa Sissoko is f...   \n",
              "\n",
              "                                        summary_text summary_policy  \\\n",
              "0  Moussa Sissoko was sent off against Liverpool ...            ref   \n",
              "\n",
              "                                        summary_note overall_score  \\\n",
              "0  Misleading: \"Carver admits he is only concerne...             3   \n",
              "\n",
              "  accuracy_score coverage_score coherence_score  \n",
              "0              5              4               2  "
            ]
          },
          "execution_count": 12,
          "metadata": {},
          "output_type": "execute_result"
        }
      ],
      "source": [
        "cnndm1.head(1)"
      ]
    },
    {
      "cell_type": "code",
      "execution_count": 13,
      "metadata": {
        "colab": {
          "base_uri": "https://localhost:8080/"
        },
        "id": "EShbsCu1Ltqb",
        "outputId": "a6e779ad-6335-4a40-a091-17fccd5d2510"
      },
      "outputs": [
        {
          "data": {
            "text/plain": [
              "split\n",
              "test    969\n",
              "Name: count, dtype: int64"
            ]
          },
          "execution_count": 13,
          "metadata": {},
          "output_type": "execute_result"
        }
      ],
      "source": [
        "cnndm3['split'].value_counts()"
      ]
    },
    {
      "cell_type": "code",
      "execution_count": 14,
      "metadata": {
        "colab": {
          "base_uri": "https://localhost:8080/"
        },
        "id": "Og7v2jKMspB6",
        "outputId": "6f9ca214-9640-4cc6-9ff8-0c5f6f6beccc"
      },
      "outputs": [
        {
          "data": {
            "text/plain": [
              "split\n",
              "valid2    2211\n",
              "valid1     845\n",
              "Name: count, dtype: int64"
            ]
          },
          "execution_count": 14,
          "metadata": {},
          "output_type": "execute_result"
        }
      ],
      "source": [
        "tldraxis1['split'].value_counts()"
      ]
    },
    {
      "cell_type": "code",
      "execution_count": 15,
      "metadata": {
        "colab": {
          "base_uri": "https://localhost:8080/"
        },
        "id": "pp8TENhE3k3k",
        "outputId": "b5053f5d-d88c-4d51-ac02-413abed31e70"
      },
      "outputs": [
        {
          "data": {
            "text/plain": [
              "split               0\n",
              "worker              0\n",
              "batch               0\n",
              "id                  0\n",
              "post                0\n",
              "title               0\n",
              "subreddit           0\n",
              "summary_text        0\n",
              "summary_policy      0\n",
              "summary_note        4\n",
              "overall_score      50\n",
              "accuracy_score     19\n",
              "coverage_score     59\n",
              "coherence_score    15\n",
              "dtype: int64"
            ]
          },
          "execution_count": 15,
          "metadata": {},
          "output_type": "execute_result"
        }
      ],
      "source": [
        "tldraxis1.isnull().sum()"
      ]
    },
    {
      "cell_type": "markdown",
      "metadata": {},
      "source": [
        "Let's look at the summaries with null value overall scores"
      ]
    },
    {
      "cell_type": "code",
      "execution_count": 16,
      "metadata": {},
      "outputs": [
        {
          "data": {
            "text/html": [
              "<div>\n",
              "<style scoped>\n",
              "    .dataframe tbody tr th:only-of-type {\n",
              "        vertical-align: middle;\n",
              "    }\n",
              "\n",
              "    .dataframe tbody tr th {\n",
              "        vertical-align: top;\n",
              "    }\n",
              "\n",
              "    .dataframe thead th {\n",
              "        text-align: right;\n",
              "    }\n",
              "</style>\n",
              "<table border=\"1\" class=\"dataframe\">\n",
              "  <thead>\n",
              "    <tr style=\"text-align: right;\">\n",
              "      <th></th>\n",
              "      <th>split</th>\n",
              "      <th>worker</th>\n",
              "      <th>batch</th>\n",
              "      <th>id</th>\n",
              "      <th>post</th>\n",
              "      <th>title</th>\n",
              "      <th>subreddit</th>\n",
              "      <th>summary_text</th>\n",
              "      <th>summary_policy</th>\n",
              "      <th>summary_note</th>\n",
              "      <th>overall_score</th>\n",
              "      <th>accuracy_score</th>\n",
              "      <th>coverage_score</th>\n",
              "      <th>coherence_score</th>\n",
              "    </tr>\n",
              "  </thead>\n",
              "  <tbody>\n",
              "    <tr>\n",
              "      <th>117</th>\n",
              "      <td>valid2</td>\n",
              "      <td>dL2Aff39094mOhTKsLkJg8sCCFbirW</td>\n",
              "      <td>tldraxis1</td>\n",
              "      <td>t3_1jgx9g</td>\n",
              "      <td>I have acquaintances, but no other *actual* fr...</td>\n",
              "      <td>I blame my best friend for me not having any o...</td>\n",
              "      <td>offmychest</td>\n",
              "      <td>I have no friends because my best friend is a...</td>\n",
              "      <td>sup4_6b_t0.7</td>\n",
              "      <td>Doesn't describe the poster's feeling towards ...</td>\n",
              "      <td>NaN</td>\n",
              "      <td>7</td>\n",
              "      <td>NaN</td>\n",
              "      <td>7</td>\n",
              "    </tr>\n",
              "    <tr>\n",
              "      <th>289</th>\n",
              "      <td>valid2</td>\n",
              "      <td>D8z53gLFLFqhZowaegbtxmSGa0jqv0</td>\n",
              "      <td>tldraxis1</td>\n",
              "      <td>t3_2jn8fx</td>\n",
              "      <td>I just started working at an office job where ...</td>\n",
              "      <td>Me [25 M] with my co-worker [23 F] ~1month, ho...</td>\n",
              "      <td>relationships</td>\n",
              "      <td>[25M] with [23F] female co-worker. Hooked up ...</td>\n",
              "      <td>pretrain_6b_t.7</td>\n",
              "      <td>The summary can be framed better in terms of g...</td>\n",
              "      <td>NaN</td>\n",
              "      <td>7</td>\n",
              "      <td>NaN</td>\n",
              "      <td>6</td>\n",
              "    </tr>\n",
              "    <tr>\n",
              "      <th>291</th>\n",
              "      <td>valid2</td>\n",
              "      <td>D8z53gLFLFqhZowaegbtxmSGa0jqv0</td>\n",
              "      <td>tldraxis1</td>\n",
              "      <td>t3_2jn8fx</td>\n",
              "      <td>I just started working at an office job where ...</td>\n",
              "      <td>Me [25 M] with my co-worker [23 F] ~1month, ho...</td>\n",
              "      <td>relationships</td>\n",
              "      <td>I have to watch my co-worker hook up with som...</td>\n",
              "      <td>sup4_12b_t0.7</td>\n",
              "      <td>The summary comes across as if the writer has ...</td>\n",
              "      <td>NaN</td>\n",
              "      <td>6</td>\n",
              "      <td>NaN</td>\n",
              "      <td>7</td>\n",
              "    </tr>\n",
              "    <tr>\n",
              "      <th>420</th>\n",
              "      <td>valid2</td>\n",
              "      <td>r3rJgaEN7p04d65VAVAejoMN02DsM9</td>\n",
              "      <td>tldraxis1</td>\n",
              "      <td>t3_35iuym</td>\n",
              "      <td>Sorry if this post seems all over the place.\\n...</td>\n",
              "      <td>I [16M] found my mom's [49F] thong when i did ...</td>\n",
              "      <td>relationships</td>\n",
              "      <td>Found my mom's thong after doing laundry. Dad...</td>\n",
              "      <td>sup4_ppo_rm4_t.7</td>\n",
              "      <td>Missing key information about the suspicion of...</td>\n",
              "      <td>NaN</td>\n",
              "      <td>7</td>\n",
              "      <td>4</td>\n",
              "      <td>7</td>\n",
              "    </tr>\n",
              "    <tr>\n",
              "      <th>422</th>\n",
              "      <td>valid2</td>\n",
              "      <td>r3rJgaEN7p04d65VAVAejoMN02DsM9</td>\n",
              "      <td>tldraxis1</td>\n",
              "      <td>t3_35iuym</td>\n",
              "      <td>Sorry if this post seems all over the place.\\n...</td>\n",
              "      <td>I [16M] found my mom's [49F] thong when i did ...</td>\n",
              "      <td>relationships</td>\n",
              "      <td>Found clue to my mom having an affair after 2...</td>\n",
              "      <td>sup4_12b_t0.7</td>\n",
              "      <td>Phrasing is difficult to understand.\\nThere is...</td>\n",
              "      <td>NaN</td>\n",
              "      <td>4</td>\n",
              "      <td>NaN</td>\n",
              "      <td>4</td>\n",
              "    </tr>\n",
              "  </tbody>\n",
              "</table>\n",
              "</div>"
            ],
            "text/plain": [
              "      split                          worker      batch         id  \\\n",
              "117  valid2  dL2Aff39094mOhTKsLkJg8sCCFbirW  tldraxis1  t3_1jgx9g   \n",
              "289  valid2  D8z53gLFLFqhZowaegbtxmSGa0jqv0  tldraxis1  t3_2jn8fx   \n",
              "291  valid2  D8z53gLFLFqhZowaegbtxmSGa0jqv0  tldraxis1  t3_2jn8fx   \n",
              "420  valid2  r3rJgaEN7p04d65VAVAejoMN02DsM9  tldraxis1  t3_35iuym   \n",
              "422  valid2  r3rJgaEN7p04d65VAVAejoMN02DsM9  tldraxis1  t3_35iuym   \n",
              "\n",
              "                                                  post  \\\n",
              "117  I have acquaintances, but no other *actual* fr...   \n",
              "289  I just started working at an office job where ...   \n",
              "291  I just started working at an office job where ...   \n",
              "420  Sorry if this post seems all over the place.\\n...   \n",
              "422  Sorry if this post seems all over the place.\\n...   \n",
              "\n",
              "                                                 title      subreddit  \\\n",
              "117  I blame my best friend for me not having any o...     offmychest   \n",
              "289  Me [25 M] with my co-worker [23 F] ~1month, ho...  relationships   \n",
              "291  Me [25 M] with my co-worker [23 F] ~1month, ho...  relationships   \n",
              "420  I [16M] found my mom's [49F] thong when i did ...  relationships   \n",
              "422  I [16M] found my mom's [49F] thong when i did ...  relationships   \n",
              "\n",
              "                                          summary_text    summary_policy  \\\n",
              "117   I have no friends because my best friend is a...      sup4_6b_t0.7   \n",
              "289   [25M] with [23F] female co-worker. Hooked up ...   pretrain_6b_t.7   \n",
              "291   I have to watch my co-worker hook up with som...     sup4_12b_t0.7   \n",
              "420   Found my mom's thong after doing laundry. Dad...  sup4_ppo_rm4_t.7   \n",
              "422   Found clue to my mom having an affair after 2...     sup4_12b_t0.7   \n",
              "\n",
              "                                          summary_note overall_score  \\\n",
              "117  Doesn't describe the poster's feeling towards ...           NaN   \n",
              "289  The summary can be framed better in terms of g...           NaN   \n",
              "291  The summary comes across as if the writer has ...           NaN   \n",
              "420  Missing key information about the suspicion of...           NaN   \n",
              "422  Phrasing is difficult to understand.\\nThere is...           NaN   \n",
              "\n",
              "    accuracy_score coverage_score coherence_score  \n",
              "117              7            NaN               7  \n",
              "289              7            NaN               6  \n",
              "291              6            NaN               7  \n",
              "420              7              4               7  \n",
              "422              4            NaN               4  "
            ]
          },
          "execution_count": 16,
          "metadata": {},
          "output_type": "execute_result"
        }
      ],
      "source": [
        "tldraxis1[tldraxis1['overall_score'].isnull()].head(5)"
      ]
    },
    {
      "cell_type": "markdown",
      "metadata": {},
      "source": [
        "There's only 50 NaN values out of >3000 records. We will just drop these."
      ]
    },
    {
      "cell_type": "code",
      "execution_count": 17,
      "metadata": {},
      "outputs": [],
      "source": [
        "tldraxis1.dropna(subset=['overall_score'], inplace=True)"
      ]
    },
    {
      "cell_type": "code",
      "execution_count": 18,
      "metadata": {},
      "outputs": [
        {
          "data": {
            "text/plain": [
              "split               0\n",
              "worker              0\n",
              "batch               0\n",
              "id                  0\n",
              "post                0\n",
              "title               0\n",
              "subreddit           0\n",
              "summary_text        0\n",
              "summary_policy      0\n",
              "summary_note        3\n",
              "overall_score       0\n",
              "accuracy_score     14\n",
              "coverage_score     37\n",
              "coherence_score     9\n",
              "dtype: int64"
            ]
          },
          "execution_count": 18,
          "metadata": {},
          "output_type": "execute_result"
        }
      ],
      "source": [
        "tldraxis1.isnull().sum()"
      ]
    },
    {
      "cell_type": "code",
      "execution_count": 19,
      "metadata": {
        "colab": {
          "base_uri": "https://localhost:8080/"
        },
        "id": "EDIEulke3oXK",
        "outputId": "f0a7ce30-f2d6-45eb-90f1-c58195b16ae2"
      },
      "outputs": [
        {
          "data": {
            "text/plain": [
              "split                      0\n",
              "worker                     0\n",
              "batch                      0\n",
              "id                         0\n",
              "post                       0\n",
              "title                      0\n",
              "subreddit                  0\n",
              "summary_text               0\n",
              "summary_policy             0\n",
              "summary_note               1\n",
              "overall_score              0\n",
              "accuracy_score             0\n",
              "coverage_score             0\n",
              "coherence_score            0\n",
              "summary.axes.compatible    0\n",
              "dtype: int64"
            ]
          },
          "execution_count": 19,
          "metadata": {},
          "output_type": "execute_result"
        }
      ],
      "source": [
        "tldraxis2.isnull().sum()"
      ]
    },
    {
      "cell_type": "code",
      "execution_count": 20,
      "metadata": {},
      "outputs": [],
      "source": [
        "tldraxis2.dropna(subset=['overall_score'], inplace=True)"
      ]
    },
    {
      "cell_type": "code",
      "execution_count": 21,
      "metadata": {
        "colab": {
          "base_uri": "https://localhost:8080/"
        },
        "id": "hkXECRm23ZIZ",
        "outputId": "3bc12380-9cd3-43f9-d756-f0c916e026ba"
      },
      "outputs": [
        {
          "data": {
            "text/plain": [
              "split              0\n",
              "worker             0\n",
              "batch              0\n",
              "id                 0\n",
              "subreddit          0\n",
              "title              0\n",
              "post               0\n",
              "summary_text       0\n",
              "summary_policy     0\n",
              "summary_note       3\n",
              "overall_score      0\n",
              "accuracy_score     0\n",
              "coverage_score     0\n",
              "coherence_score    1\n",
              "dtype: int64"
            ]
          },
          "execution_count": 21,
          "metadata": {},
          "output_type": "execute_result"
        }
      ],
      "source": [
        "cnndm1.isnull().sum()"
      ]
    },
    {
      "cell_type": "code",
      "execution_count": 22,
      "metadata": {},
      "outputs": [],
      "source": [
        "cnndm1.dropna(subset=['overall_score'], inplace=True)"
      ]
    },
    {
      "cell_type": "code",
      "execution_count": 23,
      "metadata": {
        "colab": {
          "base_uri": "https://localhost:8080/"
        },
        "id": "cSIq5Pu93c7E",
        "outputId": "d25eaf57-c400-46df-9d03-aa93befa4f67"
      },
      "outputs": [
        {
          "data": {
            "text/plain": [
              "split              0\n",
              "worker             0\n",
              "batch              0\n",
              "id                 0\n",
              "subreddit          0\n",
              "title              0\n",
              "post               0\n",
              "summary_text       0\n",
              "summary_policy     0\n",
              "summary_note       1\n",
              "overall_score      0\n",
              "accuracy_score     0\n",
              "coverage_score     0\n",
              "coherence_score    0\n",
              "dtype: int64"
            ]
          },
          "execution_count": 23,
          "metadata": {},
          "output_type": "execute_result"
        }
      ],
      "source": [
        "cnndm3.isnull().sum()"
      ]
    },
    {
      "cell_type": "code",
      "execution_count": 24,
      "metadata": {},
      "outputs": [],
      "source": [
        "cnndm3.dropna(subset=['overall_score'], inplace=True)"
      ]
    },
    {
      "cell_type": "code",
      "execution_count": 25,
      "metadata": {},
      "outputs": [
        {
          "data": {
            "text/plain": [
              "split                      0\n",
              "worker                     0\n",
              "batch                      0\n",
              "id                         0\n",
              "subreddit                  0\n",
              "title                      0\n",
              "post                       0\n",
              "summary_text               0\n",
              "summary_policy             0\n",
              "summary_note               0\n",
              "overall_score              0\n",
              "accuracy_score             0\n",
              "coverage_score             0\n",
              "coherence_score            0\n",
              "summary.axes.compatible    0\n",
              "dtype: int64"
            ]
          },
          "execution_count": 25,
          "metadata": {},
          "output_type": "execute_result"
        }
      ],
      "source": [
        "cnndm4.isnull().sum()"
      ]
    },
    {
      "cell_type": "markdown",
      "metadata": {
        "id": "frOsuIbD3yYo"
      },
      "source": [
        "## There are some null values in other columns for each dataframe. For DPO training only the post, summary text, and overall_score will be used in training. Let's now look at our other TLDR training data that will be used to fine-tune our models with QDoRA."
      ]
    },
    {
      "cell_type": "code",
      "execution_count": 26,
      "metadata": {
        "colab": {
          "base_uri": "https://localhost:8080/"
        },
        "id": "p5rk71TyeNYK",
        "outputId": "d6a31c78-c0b0-4392-b083-8d578f549ba0"
      },
      "outputs": [
        {
          "name": "stdout",
          "output_type": "stream",
          "text": [
            "Train data {'id': 't3_1hxu8s', 'subreddit': 'relationships', 'title': 'I (f/22) have to figure out if I want to still know these girls or not and would hate to sound insulting', 'post': \"Not sure if this belongs here but it's worth a try. \\n\\nBackstory:\\nWhen I (f/22) went through my first real breakup 2 years ago because he needed space after a year of dating roand  it effected me more than I thought. It was a horrible time in my life due to living with my mother and finally having the chance to cut her out of my life. I can admit because of it was an emotional wreck and this guy was stable and didn't know how to deal with me. We ended by him avoiding for a month or so after going to a festival with my friends. When I think back I wish he just ended. So after he ended it added my depression I suffered but my friends helped me through it and I got rid of everything from him along with cutting contact. \\n\\nNow: Its been almost 3 years now and I've gotten better after counselling and mild anti depressants. My mother has been out of my life since then so there's been alot of progress. Being stronger after learning some lessons there been more insight about that time of my life but when I see him or a picture everything comes back. The emotions and memories bring me back down. \\n\\nHis friends (both girls) are on my facebook because we get along well which is hard to find and I know they'll always have his back. But seeing him in a picture or talking to him at a convention having a conversation is tough. Crying confront of my current boyfriend is something I want to avoid. \\n\\nSo I've been thinking that I have to cut contact with these girls because it's time to move on because it's healthier. It's best to avoid him as well. But will they be insulted? Will they accept it? Is there going to be awkwardness? I'm not sure if it's the right to do and could use some outside opinions.\", 'summary': \"I still have contact with an old ex's friends but can't stand to see or talk to him. His friends are really nice ,so how do I tell them I possibly want to unfriend them on Facebook because of him?\"}\n",
            "Test data {'id': 't3_1wbdsh', 'subreddit': 'relationships', 'title': 'Me [19 F] with my friend [19 M], not sure if I may have messed things up already.', 'post': 'Hello hello everybody. I hope this isn\\'t too trivial of a question to ask on here, but I\\'ve been feeling a bit out of my depth when it comes to this situation (I\\'ve had only one relationship before, and for many reasons, it was out of the ordinary).\\n\\nOkay! So, a couple of weeks ago, I started talking to this guy on Facebook, through a student group that we were both part of. I thought he was sort of cute, so I sent him a PM just to talk, etc, etc. We\\'re both transfer students at the same school, so I knew that we could eventually meet in person once we both moved on-campus. So, we did, and we hung out maybe twice, just as friends.\\n\\nOkay. So, everything is going pretty well. We talk over Facebook and Snapchat, whatever. So, Saturday night, I was just hanging out with people and kind of being bored, when I got a Snapchat from him asking what I was doing. I asked if he wanted to hang out, so we did. \\n\\nWe ended up smoking pot (the first time for me, ever), and sort of just wandering around. Eventually we ended up back at his dorm room, where high me decided to just go for it, and I came on to him pretty strongly. It worked out for me (luckily, otherwise things would have been really super awkward), and we ended up messing around but not having sex.\\n\\nYesterday, however, I ended up going to hang out with him again, and this time we did sleep together. Afterward, we kind of discussed what we were going to do, and he just said that he wanted to \"play it by ear\" and not slap any labels on anything. I\\'m wondering if this means that he wants a fwb-type situation, or if he might actually be interested in me. The way I\\'ve been acting is extremely out of character for me, and I am not interested in having a fuck buddy. I like him, and I would be very interested in maybe seeing where things go, but I\\'m worried that I may have ruined my chances of a relationship by sleeping with him already.', 'summary': 'I really like this guy, but after having sex with him after only knowing him for a very brief period of time, I am worried that I may have ruined my chances of a relationship with him.'}\n",
            "Validation data {'id': 't3_o08yr', 'subreddit': 'AskReddit', 'title': 'How do you get someone out of your head?', 'post': \"Hi,\\nI'm 22, and I have been with my girlfriend for 5 years now. We recently moved together. We've always loved each other intensely.\\n\\nProblem, I recently started to have feelings for an other person (a friend). This person has had a boyfriend for now 3 years, and has absolutely no ideas. Those feelings were so strong, it was hard to hide them. After 2 months of me being distant and really sad, my girlfriend forced me to say what was bothering me. I'm not a good liar, and now she knows.\\n\\nWe decided to give us a week alone, I went to my parents. \\n\\nNow, I'm completely lost. I keep on thinking about this person, and I hate that. I would like for those feelings to go away, to leave me alone. But I can't.  \\n\\nWhat do I do? It's been 3 months now, and I'm just desperate.\", 'summary': \"long relationship; fell in love with an other person; admitted it; would like it to disappear, though it doesn't.\"}\n"
          ]
        }
      ],
      "source": [
        "print(\"Train data\", train_data[0])\n",
        "print(\"Test data\", test_data[0])\n",
        "print(\"Validation data\", val_data[0])"
      ]
    },
    {
      "cell_type": "code",
      "execution_count": 27,
      "metadata": {
        "id": "QeYDrJ_wUmgy"
      },
      "outputs": [],
      "source": [
        "train_df = pd.DataFrame(train_data)\n",
        "test_df = pd.DataFrame(test_data)\n",
        "val_df = pd.DataFrame(val_data)"
      ]
    },
    {
      "cell_type": "code",
      "execution_count": 28,
      "metadata": {
        "colab": {
          "base_uri": "https://localhost:8080/",
          "height": 206
        },
        "id": "QfNy-VQChYYW",
        "outputId": "10448337-83f3-4bba-8923-8ad33ace1d04"
      },
      "outputs": [
        {
          "data": {
            "text/html": [
              "<div>\n",
              "<style scoped>\n",
              "    .dataframe tbody tr th:only-of-type {\n",
              "        vertical-align: middle;\n",
              "    }\n",
              "\n",
              "    .dataframe tbody tr th {\n",
              "        vertical-align: top;\n",
              "    }\n",
              "\n",
              "    .dataframe thead th {\n",
              "        text-align: right;\n",
              "    }\n",
              "</style>\n",
              "<table border=\"1\" class=\"dataframe\">\n",
              "  <thead>\n",
              "    <tr style=\"text-align: right;\">\n",
              "      <th></th>\n",
              "      <th>id</th>\n",
              "      <th>subreddit</th>\n",
              "      <th>title</th>\n",
              "      <th>post</th>\n",
              "      <th>summary</th>\n",
              "    </tr>\n",
              "  </thead>\n",
              "  <tbody>\n",
              "    <tr>\n",
              "      <th>0</th>\n",
              "      <td>t3_1hxu8s</td>\n",
              "      <td>relationships</td>\n",
              "      <td>I (f/22) have to figure out if I want to still...</td>\n",
              "      <td>Not sure if this belongs here but it's worth a...</td>\n",
              "      <td>I still have contact with an old ex's friends ...</td>\n",
              "    </tr>\n",
              "    <tr>\n",
              "      <th>1</th>\n",
              "      <td>t3_33lz18</td>\n",
              "      <td>loseit</td>\n",
              "      <td>SV &amp; NSV! Keeping on keeping on.</td>\n",
              "      <td>30F, 5'6\". SW: 236 GW: 150 CW: 219\\n\\nI weigh ...</td>\n",
              "      <td>Progress is still happening, even when you thi...</td>\n",
              "    </tr>\n",
              "    <tr>\n",
              "      <th>2</th>\n",
              "      <td>t3_38a85h</td>\n",
              "      <td>relationships</td>\n",
              "      <td>Me [19F] with my friend [19M] 10 months, Insec...</td>\n",
              "      <td>What are your stories about insecurities you'v...</td>\n",
              "      <td>My skin is scarred badly; what could I do/say ...</td>\n",
              "    </tr>\n",
              "    <tr>\n",
              "      <th>3</th>\n",
              "      <td>t3_2as12n</td>\n",
              "      <td>personalfinance</td>\n",
              "      <td>Prioritize student debt or saving for down pay...</td>\n",
              "      <td>I have $25k in student debt. One private loan ...</td>\n",
              "      <td>$14k in student debt (all &lt;5%) and need to sav...</td>\n",
              "    </tr>\n",
              "    <tr>\n",
              "      <th>4</th>\n",
              "      <td>t3_2bzi1g</td>\n",
              "      <td>relationships</td>\n",
              "      <td>My[25m] girlfriend [24f] is only nice and plea...</td>\n",
              "      <td>Throwaway\\n\\nI noticed the more I'm cold and d...</td>\n",
              "      <td>GF is a meanie-bo-beanie when I'm nice, and an...</td>\n",
              "    </tr>\n",
              "  </tbody>\n",
              "</table>\n",
              "</div>"
            ],
            "text/plain": [
              "          id        subreddit  \\\n",
              "0  t3_1hxu8s    relationships   \n",
              "1  t3_33lz18           loseit   \n",
              "2  t3_38a85h    relationships   \n",
              "3  t3_2as12n  personalfinance   \n",
              "4  t3_2bzi1g    relationships   \n",
              "\n",
              "                                               title  \\\n",
              "0  I (f/22) have to figure out if I want to still...   \n",
              "1                   SV & NSV! Keeping on keeping on.   \n",
              "2  Me [19F] with my friend [19M] 10 months, Insec...   \n",
              "3  Prioritize student debt or saving for down pay...   \n",
              "4  My[25m] girlfriend [24f] is only nice and plea...   \n",
              "\n",
              "                                                post  \\\n",
              "0  Not sure if this belongs here but it's worth a...   \n",
              "1  30F, 5'6\". SW: 236 GW: 150 CW: 219\\n\\nI weigh ...   \n",
              "2  What are your stories about insecurities you'v...   \n",
              "3  I have $25k in student debt. One private loan ...   \n",
              "4  Throwaway\\n\\nI noticed the more I'm cold and d...   \n",
              "\n",
              "                                             summary  \n",
              "0  I still have contact with an old ex's friends ...  \n",
              "1  Progress is still happening, even when you thi...  \n",
              "2  My skin is scarred badly; what could I do/say ...  \n",
              "3  $14k in student debt (all <5%) and need to sav...  \n",
              "4  GF is a meanie-bo-beanie when I'm nice, and an...  "
            ]
          },
          "execution_count": 28,
          "metadata": {},
          "output_type": "execute_result"
        }
      ],
      "source": [
        "train_df.head()"
      ]
    },
    {
      "cell_type": "code",
      "execution_count": 29,
      "metadata": {},
      "outputs": [
        {
          "data": {
            "image/png": "[encoded data removed]",
            "text/plain": [
              "<Figure size 640x480 with 1 Axes>"
            ]
          },
          "metadata": {},
          "output_type": "display_data"
        }
      ],
      "source": [
        "train_df.groupby('subreddit').size().plot(kind='barh', color=sns.palettes.mpl_palette('Dark2'))\n",
        "plt.gca().spines[['top', 'right',]].set_visible(False)"
      ]
    },
    {
      "cell_type": "markdown",
      "metadata": {},
      "source": [
        "### There are many more data points for the 'relationships' subreddit. To help with compute and better normalize our distribution, we'll remove 70% of these examples. We'll leave our val and test set as-is. This will likely lead to higher loss when we evaluate the fine-tuned model on eval/test data (because the distributions are different), but it's worth it to remove some of these data points for compute."
      ]
    },
    {
      "cell_type": "code",
      "execution_count": 30,
      "metadata": {},
      "outputs": [
        {
          "name": "stdout",
          "output_type": "stream",
          "text": [
            "Number of 'relationships' examples: 63324\n"
          ]
        }
      ],
      "source": [
        "subreddit_counts = train_df['subreddit'].value_counts()\n",
        "relationship_count = subreddit_counts['relationships']\n",
        "print(f\"Number of 'relationships' examples: {relationship_count}\")"
      ]
    },
    {
      "cell_type": "code",
      "execution_count": 31,
      "metadata": {},
      "outputs": [
        {
          "name": "stdout",
          "output_type": "stream",
          "text": [
            "subreddit\n",
            "AskReddit              15440\n",
            "relationships          10377\n",
            "relationship_advice     8691\n",
            "tifu                    7685\n",
            "dating_advice           2849\n",
            "personalfinance         2312\n",
            "Advice                  2088\n",
            "legaladvice             1997\n",
            "offmychest              1582\n",
            "loseit                  1452\n",
            "jobs                    1084\n",
            "self                    1048\n",
            "BreakUps                 838\n",
            "askwomenadvice           688\n",
            "dogs                     638\n",
            "running                  567\n",
            "pettyrevenge             548\n",
            "needadvice               528\n",
            "travel                   452\n",
            "Parenting                435\n",
            "weddingplanning          433\n",
            "Pets                     366\n",
            "Dogtraining              362\n",
            "cats                     324\n",
            "AskDocs                  283\n",
            "college                  264\n",
            "GetMotivated             169\n",
            "books                    161\n",
            "Cooking                  114\n",
            "Name: count, dtype: int64\n"
          ]
        }
      ],
      "source": [
        "keep_ratio = 0.3\n",
        "keep_count = int(relationship_count * keep_ratio)\n",
        "\n",
        "# Create a boolean mask for the rows to keep\n",
        "mask = ~((train_df['subreddit'] == 'relationships') & (train_df.index >= keep_count))\n",
        "\n",
        "# Apply the mask to create a new DataFrame\n",
        "df_train_balanced = train_df[mask].reset_index(drop=True)\n",
        "\n",
        "# Check the new distribution\n",
        "new_subreddit_counts = df_train_balanced['subreddit'].value_counts()\n",
        "print(new_subreddit_counts)"
      ]
    },
    {
      "cell_type": "code",
      "execution_count": 32,
      "metadata": {},
      "outputs": [
        {
          "data": {
            "image/png": "[encoded data removed]",
            "text/plain": [
              "<Figure size 640x480 with 1 Axes>"
            ]
          },
          "metadata": {},
          "output_type": "display_data"
        }
      ],
      "source": [
        "df_train_balanced.groupby('subreddit').size().plot(kind='barh', color=sns.palettes.mpl_palette('Dark2'))\n",
        "plt.gca().spines[['top', 'right',]].set_visible(False)"
      ]
    },
    {
      "cell_type": "markdown",
      "metadata": {},
      "source": [
        "That looks better. Let's look at the validation data"
      ]
    },
    {
      "cell_type": "code",
      "execution_count": 33,
      "metadata": {
        "colab": {
          "base_uri": "https://localhost:8080/",
          "height": 430
        },
        "id": "tSYMov8Xi1Ii",
        "outputId": "885acaf2-0da6-47dd-8593-5268b3031d83"
      },
      "outputs": [
        {
          "data": {
            "image/png": "[encoded data removed]",
            "text/plain": [
              "<Figure size 640x480 with 1 Axes>"
            ]
          },
          "metadata": {},
          "output_type": "display_data"
        }
      ],
      "source": [
        "val_df.groupby('subreddit').size().plot(kind='barh', color=sns.palettes.mpl_palette('Dark2'))\n",
        "plt.gca().spines[['top', 'right',]].set_visible(False)"
      ]
    },
    {
      "cell_type": "markdown",
      "metadata": {
        "id": "So4Wy63GYlbj"
      },
      "source": [
        "# **Pre-Trained Models**"
      ]
    },
    {
      "cell_type": "markdown",
      "metadata": {},
      "source": [
        "### **Llama-2-7b**"
      ]
    },
    {
      "cell_type": "markdown",
      "metadata": {
        "id": "DuKA0VfP4XZ1"
      },
      "source": [
        "### **BART**"
      ]
    },
    {
      "cell_type": "code",
      "execution_count": 34,
      "metadata": {},
      "outputs": [],
      "source": [
        "# Convert DataFrame to Hugging Face Dataset\n",
        "train_dataset = Dataset.from_pandas(df_train_balanced)\n",
        "eval_dataset = Dataset.from_pandas(val_df)"
      ]
    },
    {
      "cell_type": "code",
      "execution_count": 35,
      "metadata": {},
      "outputs": [
        {
          "data": {
            "text/plain": [
              "True"
            ]
          },
          "execution_count": 35,
          "metadata": {},
          "output_type": "execute_result"
        }
      ],
      "source": [
        "torch.cuda.is_available()"
      ]
    },
    {
      "cell_type": "code",
      "execution_count": 99,
      "metadata": {
        "colab": {
          "base_uri": "https://localhost:8080/"
        },
        "id": "d5BmOqq-dDsi",
        "outputId": "86e39ee9-9e48-4329-b4e0-ee2e3ef461ef"
      },
      "outputs": [],
      "source": [
        "import pandas as pd\n",
        "import torch\n",
        "# !pip install bitsandbytes as bnb\n",
        "# !pip install transformers\n",
        "from transformers import AutoTokenizer, AutoModelForSeq2SeqLM, DataCollatorForSeq2Seq, Seq2SeqTrainingArguments, Seq2SeqTrainer, BitsAndBytesConfig\n",
        "from datasets import Dataset\n",
        "# !pip install peft\n",
        "from peft import LoraConfig, get_peft_model, prepare_model_for_kbit_training\n",
        "from torch.utils.data import DataLoader\n",
        "\n",
        "# Define device\n",
        "device = torch.device(\"cuda\" if torch.cuda.is_available() else \"cpu\")\n",
        "\n",
        "# Define quantization config\n",
        "bnb_config = BitsAndBytesConfig(\n",
        "    load_in_4bit=True,\n",
        "    bnb_4bit_use_double_quant=True,\n",
        "    bnb_4bit_quant_type=\"nf4\",\n",
        "    bnb_4bit_compute_dtype=torch.bfloat16,\n",
        "    bnb_4bit_quant_storage=torch.bfloat16,\n",
        ")\n",
        "\n",
        "# Load tokenizer\n",
        "bart_tokenizer = AutoTokenizer.from_pretrained('facebook/bart-large')\n",
        "\n",
        "# Load model with quantization config\n",
        "bart_model = AutoModelForSeq2SeqLM.from_pretrained('facebook/bart-large',\n",
        "                                              quantization_config=bnb_config,\n",
        "                                              torch_dtype=torch.bfloat16,\n",
        "                                              device_map=\"auto\" if device == torch.device(\"cuda\") else None)\n",
        "\n",
        "# Prepare the model for k-bit training\n",
        "bart_model = prepare_model_for_kbit_training(bart_model)\n",
        "\n",
        "# Define LoRA Config\n",
        "peft_config = LoraConfig(\n",
        "    task_type=\"SEQ_2_SEQ_LM\",\n",
        "    r=8,\n",
        "    lora_alpha=16,\n",
        "    lora_dropout=0.1,\n",
        "    target_modules=[\"q_proj\", \"v_proj\"],\n",
        "\n",
        "    # Implement DoRA\n",
        "    use_dora=True\n",
        ")\n",
        "\n",
        "# Get the PEFT model\n",
        "bart_model = get_peft_model(bart_model, peft_config)\n",
        "\n",
        "bart_model = bart_model.to(device)\n",
        "\n",
        "# Enable gradient checkpointing\n",
        "bart_model.gradient_checkpointing_enable()\n",
        "\n",
        "# Check that model parameters require gradients\n",
        "for param in bart_model.parameters():\n",
        "    if param.dtype in [torch.float16, torch.float32, torch.float64, torch.complex64, torch.complex128]:\n",
        "        param.requires_grad = True"
      ]
    },
    {
      "cell_type": "code",
      "execution_count": 100,
      "metadata": {
        "colab": {
          "base_uri": "https://localhost:8080/",
          "height": 49,
          "referenced_widgets": [
            "ce10f4f851b94d259e81bcba936fa607",
            "74698c46de9a48a1b8888663653f8e66",
            "5654cb7edf0a4839bf84711c0b534ad9",
            "0a6b55fbf6a143498a670dbc8099fc97",
            "b83017b6a84a418d9ebc6e8dddd4d027",
            "f27e8a394f45485ab70fe85834b21a9a",
            "8d94aa177e384a4d8adfb5656127084b",
            "911e609438844eea8e846f3061d76459",
            "4d96e10aeffb4eb8913f0406f9f9a747",
            "0e11e0550d4e48b78f526707f8061634",
            "ea8afb737d1645b7b4b4022843cf8682"
          ]
        },
        "id": "pybu48D_YkHP",
        "outputId": "916a9360-2fc9-4187-bc92-98a2c1a76467"
      },
      "outputs": [
        {
          "name": "stderr",
          "output_type": "stream",
          "text": [
            "Map: 100%|██████████| 63775/63775 [00:16<00:00, 3758.88 examples/s]\n",
            "Map: 100%|██████████| 6447/6447 [00:01<00:00, 3814.74 examples/s]\n"
          ]
        }
      ],
      "source": [
        "# Tokenize the data\n",
        "def preprocess_function(examples):\n",
        "    inputs = bart_tokenizer(examples['post'], max_length=512, truncation=True, padding=\"max_length\", return_tensors=\"pt\")\n",
        "    targets = bart_tokenizer(examples['summary'], max_length=128, truncation=True, padding=\"max_length\", return_tensors=\"pt\")\n",
        "    return {\"input_ids\": inputs[\"input_ids\"], \"attention_mask\": inputs[\"attention_mask\"], \"labels\": targets[\"input_ids\"]}\n",
        "\n",
        "tokenized_dataset = train_dataset.map(preprocess_function, batched=True, remove_columns=['id', 'subreddit', 'title'])\n",
        "\n",
        "# Preprocess the evaluation dataset\n",
        "tokenized_eval_dataset = eval_dataset.map(preprocess_function, batched=True, remove_columns=['id', 'subreddit', 'title'])"
      ]
    },
    {
      "cell_type": "code",
      "execution_count": 101,
      "metadata": {},
      "outputs": [
        {
          "name": "stdout",
          "output_type": "stream",
          "text": [
            "GPU memory allocated: 3969.96 MB\n",
            "GPU memory cached: 6790.00 MB\n"
          ]
        }
      ],
      "source": [
        "import torch\n",
        "\n",
        "def print_gpu_memory():\n",
        "    if torch.cuda.is_available():\n",
        "        print(f\"GPU memory allocated: {torch.cuda.memory_allocated() / 1024**2:.2f} MB\")\n",
        "        print(f\"GPU memory cached: {torch.cuda.memory_reserved() / 1024**2:.2f} MB\")\n",
        "\n",
        "# Call this function at key points in your training loop\n",
        "print_gpu_memory()"
      ]
    },
    {
      "cell_type": "code",
      "execution_count": 102,
      "metadata": {
        "colab": {
          "base_uri": "https://localhost:8080/"
        },
        "id": "yn_zHEIoZppf",
        "outputId": "d76b9221-e307-4aae-d4a5-c2f9aa69b9bc"
      },
      "outputs": [
        {
          "name": "stdout",
          "output_type": "stream",
          "text": [
            "trainable params: 55,223,296 || all params: 407,544,832 || trainable%: 13.5502\n"
          ]
        }
      ],
      "source": [
        "bart_model.print_trainable_parameters()"
      ]
    },
    {
      "cell_type": "code",
      "execution_count": 103,
      "metadata": {
        "colab": {
          "base_uri": "https://localhost:8080/"
        },
        "id": "abJcY_1ZZxws",
        "outputId": "305e25e6-1b73-4dc0-e01d-9302114a46a7"
      },
      "outputs": [
        {
          "data": {
            "text/plain": [
              "device(type='cuda')"
            ]
          },
          "execution_count": 103,
          "metadata": {},
          "output_type": "execute_result"
        }
      ],
      "source": [
        "device"
      ]
    },
    {
      "cell_type": "code",
      "execution_count": 104,
      "metadata": {
        "colab": {
          "base_uri": "https://localhost:8080/",
          "height": 414
        },
        "id": "nYwx-5-GYfvA",
        "outputId": "3861001c-791e-4c9f-db60-3b1225d15ded"
      },
      "outputs": [
        {
          "name": "stderr",
          "output_type": "stream",
          "text": [
            "  0%|          | 3/664 [05:33<20:24:45, 111.17s/it]\n",
            " 15%|█▌        | 100/664 [17:14<1:37:07, 10.33s/it]"
          ]
        },
        {
          "name": "stdout",
          "output_type": "stream",
          "text": [
            "{'loss': 3.6, 'grad_norm': 0.22765450179576874, 'learning_rate': 0.0009447236180904523, 'epoch': 0.3}\n"
          ]
        },
        {
          "name": "stderr",
          "output_type": "stream",
          "text": [
            " 30%|███       | 200/664 [34:22<1:18:52, 10.20s/it]"
          ]
        },
        {
          "name": "stdout",
          "output_type": "stream",
          "text": [
            "{'loss': 0.64, 'grad_norm': 0.23279891908168793, 'learning_rate': 0.0007772194304857622, 'epoch': 0.6}\n"
          ]
        },
        {
          "name": "stderr",
          "output_type": "stream",
          "text": [
            " 45%|████▌     | 300/664 [51:41<1:03:43, 10.50s/it]"
          ]
        },
        {
          "name": "stdout",
          "output_type": "stream",
          "text": [
            "{'loss': 0.64, 'grad_norm': 0.20687654614448547, 'learning_rate': 0.0006097152428810721, 'epoch': 0.9}\n"
          ]
        },
        {
          "name": "stderr",
          "output_type": "stream",
          "text": [
            " 50%|█████     | 332/664 [57:15<57:20, 10.36s/it]  \n",
            " 50%|█████     | 332/664 [58:54<57:20, 10.36s/it]"
          ]
        },
        {
          "name": "stdout",
          "output_type": "stream",
          "text": [
            "{'eval_loss': 0.6263094544410706, 'eval_runtime': 96.5383, 'eval_samples_per_second': 66.782, 'eval_steps_per_second': 1.398, 'epoch': 1.0}\n"
          ]
        },
        {
          "name": "stderr",
          "output_type": "stream",
          "text": [
            " 60%|██████    | 400/664 [1:10:43<45:49, 10.41s/it]  "
          ]
        },
        {
          "name": "stdout",
          "output_type": "stream",
          "text": [
            "{'loss': 0.64, 'grad_norm': 0.19651158154010773, 'learning_rate': 0.00044221105527638197, 'epoch': 1.2}\n"
          ]
        },
        {
          "name": "stderr",
          "output_type": "stream",
          "text": [
            " 75%|███████▌  | 500/664 [1:27:49<28:03, 10.27s/it]"
          ]
        },
        {
          "name": "stdout",
          "output_type": "stream",
          "text": [
            "{'loss': 0.64, 'grad_norm': 0.1904231160879135, 'learning_rate': 0.00027470686767169176, 'epoch': 1.5}\n"
          ]
        },
        {
          "name": "stderr",
          "output_type": "stream",
          "text": [
            "C:\\Users\\Zane\\AppData\\Local\\Packages\\PythonSoftwareFoundation.Python.3.11_qbz5n2kfra8p0\\LocalCache\\local-packages\\Python311\\site-packages\\torch\\utils\\checkpoint.py:295: FutureWarning: `torch.cpu.amp.autocast(args...)` is deprecated. Please use `torch.amp.autocast('cpu', args...)` instead.\n",
            "  with torch.enable_grad(), device_autocast_ctx, torch.cpu.amp.autocast(**ctx.cpu_autocast_kwargs):  # type: ignore[attr-defined]\n",
            " 90%|█████████ | 600/664 [1:45:09<10:56, 10.25s/it]"
          ]
        },
        {
          "name": "stdout",
          "output_type": "stream",
          "text": [
            "{'loss': 0.64, 'grad_norm': 0.1722136288881302, 'learning_rate': 0.00010720268006700168, 'epoch': 1.81}\n"
          ]
        },
        {
          "name": "stderr",
          "output_type": "stream",
          "text": [
            "100%|██████████| 664/664 [1:56:02<00:00, 10.20s/it]\n",
            "100%|██████████| 664/664 [1:57:38<00:00, 10.63s/it]"
          ]
        },
        {
          "name": "stdout",
          "output_type": "stream",
          "text": [
            "{'eval_loss': 0.6198016405105591, 'eval_runtime': 94.8924, 'eval_samples_per_second': 67.94, 'eval_steps_per_second': 1.423, 'epoch': 2.0}\n",
            "{'train_runtime': 7058.7308, 'train_samples_per_second': 18.07, 'train_steps_per_second': 0.094, 'train_loss': 1.0835843373493976, 'epoch': 2.0}\n"
          ]
        },
        {
          "name": "stderr",
          "output_type": "stream",
          "text": [
            "\n"
          ]
        },
        {
          "data": {
            "text/plain": [
              "TrainOutput(global_step=664, training_loss=1.0835843373493976, metrics={'train_runtime': 7058.7308, 'train_samples_per_second': 18.07, 'train_steps_per_second': 0.094, 'total_flos': 1.3861230601882829e+17, 'train_loss': 1.0835843373493976, 'epoch': 1.99849510910459})"
            ]
          },
          "execution_count": 104,
          "metadata": {},
          "output_type": "execute_result"
        }
      ],
      "source": [
        "data_collator = DataCollatorForSeq2Seq(bart_tokenizer, model=bart_model)\n",
        "\n",
        "# Define training arguments\n",
        "training_args = Seq2SeqTrainingArguments(\n",
        "    output_dir=\"./results\",\n",
        "    evaluation_strategy=\"steps\",\n",
        "    eval_steps=100,  # Evaluate every 100 steps\n",
        "    learning_rate=1e-3,\n",
        "    per_device_train_batch_size=48,\n",
        "    per_device_eval_batch_size=48,\n",
        "    num_train_epochs=2,\n",
        "    weight_decay=0.01,\n",
        "    push_to_hub=False,\n",
        "    logging_dir='./logs',\n",
        "    logging_steps=100,\n",
        "    bf16=True,\n",
        "    metric_for_best_model=\"eval_loss\",  # Use eval_loss to determine the best model\n",
        "    greater_is_better=False,  # Lower loss is better\n",
        "    gradient_accumulation_steps=4,  # Added gradient accumulation\n",
        "    warmup_ratio=0.1,  # Added warmup\n",
        "    lr_scheduler_type=\"linear\"  # Added linear learning rate decay\n",
        ")\n",
        "\n",
        "# Define the trainer\n",
        "trainer = Seq2SeqTrainer(\n",
        "    model=bart_model,\n",
        "    args=training_args,\n",
        "    train_dataset=tokenized_dataset,\n",
        "    eval_dataset=tokenized_eval_dataset,\n",
        "    data_collator=data_collator,\n",
        "    tokenizer=bart_tokenizer,\n",
        ")\n",
        "\n",
        "# Train the model\n",
        "trainer.train()"
      ]
    },
    {
      "cell_type": "code",
      "execution_count": null,
      "metadata": {},
      "outputs": [],
      "source": [
        "# Save the model\n",
        "output_dir = \"./BART_QDoRA_summarization_model\"\n",
        "trainer.save_model(output_dir)\n",
        "\n",
        "# Save the tokenizer\n",
        "bart_tokenizer.save_pretrained(output_dir)\n",
        "\n",
        "print(f\"Model and tokenizer saved to {output_dir}\")"
      ]
    },
    {
      "cell_type": "code",
      "execution_count": 32,
      "metadata": {},
      "outputs": [],
      "source": [
        "# Save some memory.\n",
        "\n",
        "# del bart_model\n",
        "# del bart_tokenizer\n",
        "torch.cuda.empty_cache()"
      ]
    },
    {
      "cell_type": "markdown",
      "metadata": {},
      "source": [
        "## QDoRA BART Evaluation"
      ]
    },
    {
      "cell_type": "code",
      "execution_count": 33,
      "metadata": {},
      "outputs": [
        {
          "data": {
            "text/html": [
              "<div>\n",
              "<style scoped>\n",
              "    .dataframe tbody tr th:only-of-type {\n",
              "        vertical-align: middle;\n",
              "    }\n",
              "\n",
              "    .dataframe tbody tr th {\n",
              "        vertical-align: top;\n",
              "    }\n",
              "\n",
              "    .dataframe thead th {\n",
              "        text-align: right;\n",
              "    }\n",
              "</style>\n",
              "<table border=\"1\" class=\"dataframe\">\n",
              "  <thead>\n",
              "    <tr style=\"text-align: right;\">\n",
              "      <th></th>\n",
              "      <th>id</th>\n",
              "      <th>subreddit</th>\n",
              "      <th>title</th>\n",
              "      <th>post</th>\n",
              "      <th>summary</th>\n",
              "    </tr>\n",
              "  </thead>\n",
              "  <tbody>\n",
              "    <tr>\n",
              "      <th>0</th>\n",
              "      <td>t3_1wbdsh</td>\n",
              "      <td>relationships</td>\n",
              "      <td>Me [19 F] with my friend [19 M], not sure if I...</td>\n",
              "      <td>Hello hello everybody. I hope this isn't too t...</td>\n",
              "      <td>I really like this guy, but after having sex w...</td>\n",
              "    </tr>\n",
              "    <tr>\n",
              "      <th>1</th>\n",
              "      <td>t3_4sdnjx</td>\n",
              "      <td>Parenting</td>\n",
              "      <td>My 11 year old sons friend died suddenly, his ...</td>\n",
              "      <td>**repost from relationships**\\n\\nA couple of w...</td>\n",
              "      <td>Sons good friend died and his funeral is today...</td>\n",
              "    </tr>\n",
              "    <tr>\n",
              "      <th>2</th>\n",
              "      <td>t3_2g42p8</td>\n",
              "      <td>relationships</td>\n",
              "      <td>The girl [26 F] I [22 M] have been seeing for ...</td>\n",
              "      <td>She gets terrible service while at her house, ...</td>\n",
              "      <td>Girl I'm seeing didn't respond to my texts whi...</td>\n",
              "    </tr>\n",
              "    <tr>\n",
              "      <th>3</th>\n",
              "      <td>t3_4oyv23</td>\n",
              "      <td>tifu</td>\n",
              "      <td>TIFU by accidently kicking an old woman</td>\n",
              "      <td>So this didn't happen today but actually about...</td>\n",
              "      <td>Tried to stop an old lady falling, kicked her ...</td>\n",
              "    </tr>\n",
              "    <tr>\n",
              "      <th>4</th>\n",
              "      <td>t3_2u6e8x</td>\n",
              "      <td>relationships</td>\n",
              "      <td>I [32 M] found out my wife [31 F] had an affai...</td>\n",
              "      <td>Wife and I moved accross the country with our ...</td>\n",
              "      <td>Wife Cheats on me but I stuck around for kids....</td>\n",
              "    </tr>\n",
              "    <tr>\n",
              "      <th>...</th>\n",
              "      <td>...</td>\n",
              "      <td>...</td>\n",
              "      <td>...</td>\n",
              "      <td>...</td>\n",
              "      <td>...</td>\n",
              "    </tr>\n",
              "    <tr>\n",
              "      <th>6548</th>\n",
              "      <td>t3_1w9swx</td>\n",
              "      <td>relationships</td>\n",
              "      <td>Me [22M] with my significant other [22F] of 7 ...</td>\n",
              "      <td>* I've been a long time user but mainly just l...</td>\n",
              "      <td>Been in a relationship since high school, now ...</td>\n",
              "    </tr>\n",
              "    <tr>\n",
              "      <th>6549</th>\n",
              "      <td>t3_3pmpp1</td>\n",
              "      <td>loseit</td>\n",
              "      <td>Metabolism changes, gained weight while I was ...</td>\n",
              "      <td>Hey guys!\\nBasically I've always had quite a f...</td>\n",
              "      <td>was losing weight with a fast metabolism, star...</td>\n",
              "    </tr>\n",
              "    <tr>\n",
              "      <th>6550</th>\n",
              "      <td>t3_35aciq</td>\n",
              "      <td>relationships</td>\n",
              "      <td>My [24F] step-second-cousin (?) [33M] asked me...</td>\n",
              "      <td>This person is my step dad (of 6 months)'s fir...</td>\n",
              "      <td>Second step cousin asked me on a date. What le...</td>\n",
              "    </tr>\n",
              "    <tr>\n",
              "      <th>6551</th>\n",
              "      <td>t3_3couur</td>\n",
              "      <td>relationships</td>\n",
              "      <td>My [30 M] with my wife [30 F] of 6 years, toge...</td>\n",
              "      <td>Ive been together with my wife 11 years and ma...</td>\n",
              "      <td>Wife gets upset if I express any dissatisfacti...</td>\n",
              "    </tr>\n",
              "    <tr>\n",
              "      <th>6552</th>\n",
              "      <td>t3_p8li6</td>\n",
              "      <td>AskReddit</td>\n",
              "      <td>Help get my friend's family out of harms way i...</td>\n",
              "      <td>Hi Reddit,\\n\\nI got a text from a friend recen...</td>\n",
              "      <td>Gunmen are threatening my friends family in ce...</td>\n",
              "    </tr>\n",
              "  </tbody>\n",
              "</table>\n",
              "<p>6553 rows × 5 columns</p>\n",
              "</div>"
            ],
            "text/plain": [
              "             id      subreddit  \\\n",
              "0     t3_1wbdsh  relationships   \n",
              "1     t3_4sdnjx      Parenting   \n",
              "2     t3_2g42p8  relationships   \n",
              "3     t3_4oyv23           tifu   \n",
              "4     t3_2u6e8x  relationships   \n",
              "...         ...            ...   \n",
              "6548  t3_1w9swx  relationships   \n",
              "6549  t3_3pmpp1         loseit   \n",
              "6550  t3_35aciq  relationships   \n",
              "6551  t3_3couur  relationships   \n",
              "6552   t3_p8li6      AskReddit   \n",
              "\n",
              "                                                  title  \\\n",
              "0     Me [19 F] with my friend [19 M], not sure if I...   \n",
              "1     My 11 year old sons friend died suddenly, his ...   \n",
              "2     The girl [26 F] I [22 M] have been seeing for ...   \n",
              "3               TIFU by accidently kicking an old woman   \n",
              "4     I [32 M] found out my wife [31 F] had an affai...   \n",
              "...                                                 ...   \n",
              "6548  Me [22M] with my significant other [22F] of 7 ...   \n",
              "6549  Metabolism changes, gained weight while I was ...   \n",
              "6550  My [24F] step-second-cousin (?) [33M] asked me...   \n",
              "6551  My [30 M] with my wife [30 F] of 6 years, toge...   \n",
              "6552  Help get my friend's family out of harms way i...   \n",
              "\n",
              "                                                   post  \\\n",
              "0     Hello hello everybody. I hope this isn't too t...   \n",
              "1     **repost from relationships**\\n\\nA couple of w...   \n",
              "2     She gets terrible service while at her house, ...   \n",
              "3     So this didn't happen today but actually about...   \n",
              "4     Wife and I moved accross the country with our ...   \n",
              "...                                                 ...   \n",
              "6548  * I've been a long time user but mainly just l...   \n",
              "6549  Hey guys!\\nBasically I've always had quite a f...   \n",
              "6550  This person is my step dad (of 6 months)'s fir...   \n",
              "6551  Ive been together with my wife 11 years and ma...   \n",
              "6552  Hi Reddit,\\n\\nI got a text from a friend recen...   \n",
              "\n",
              "                                                summary  \n",
              "0     I really like this guy, but after having sex w...  \n",
              "1     Sons good friend died and his funeral is today...  \n",
              "2     Girl I'm seeing didn't respond to my texts whi...  \n",
              "3     Tried to stop an old lady falling, kicked her ...  \n",
              "4     Wife Cheats on me but I stuck around for kids....  \n",
              "...                                                 ...  \n",
              "6548  Been in a relationship since high school, now ...  \n",
              "6549  was losing weight with a fast metabolism, star...  \n",
              "6550  Second step cousin asked me on a date. What le...  \n",
              "6551  Wife gets upset if I express any dissatisfacti...  \n",
              "6552  Gunmen are threatening my friends family in ce...  \n",
              "\n",
              "[6553 rows x 5 columns]"
            ]
          },
          "execution_count": 33,
          "metadata": {},
          "output_type": "execute_result"
        }
      ],
      "source": [
        "test_df"
      ]
    },
    {
      "cell_type": "code",
      "execution_count": 36,
      "metadata": {},
      "outputs": [],
      "source": [
        "# Load your trained model and tokenizer\n",
        "model_path = \"./BART_QDoRA_summarization_model\"\n",
        "QDoRA_BART_model = AutoModelForSeq2SeqLM.from_pretrained(model_path)\n",
        "QDoRA_BART_tokenizer = AutoTokenizer.from_pretrained(model_path)"
      ]
    },
    {
      "cell_type": "code",
      "execution_count": 35,
      "metadata": {},
      "outputs": [
        {
          "data": {
            "text/plain": [
              "BartForConditionalGeneration(\n",
              "  (model): BartModel(\n",
              "    (shared): Embedding(50265, 1024, padding_idx=1)\n",
              "    (encoder): BartEncoder(\n",
              "      (embed_tokens): BartScaledWordEmbedding(50265, 1024, padding_idx=1)\n",
              "      (embed_positions): BartLearnedPositionalEmbedding(1026, 1024)\n",
              "      (layers): ModuleList(\n",
              "        (0-11): 12 x BartEncoderLayer(\n",
              "          (self_attn): BartSdpaAttention(\n",
              "            (k_proj): Linear(in_features=1024, out_features=1024, bias=True)\n",
              "            (v_proj): lora.Linear(\n",
              "              (base_layer): Linear(in_features=1024, out_features=1024, bias=True)\n",
              "              (lora_dropout): ModuleDict(\n",
              "                (default): Dropout(p=0.1, inplace=False)\n",
              "              )\n",
              "              (lora_A): ModuleDict(\n",
              "                (default): Linear(in_features=1024, out_features=8, bias=False)\n",
              "              )\n",
              "              (lora_B): ModuleDict(\n",
              "                (default): Linear(in_features=8, out_features=1024, bias=False)\n",
              "              )\n",
              "              (lora_embedding_A): ParameterDict()\n",
              "              (lora_embedding_B): ParameterDict()\n",
              "              (lora_magnitude_vector): ModuleDict(\n",
              "                (default): lora.dora.DoraLinearLayer()\n",
              "              )\n",
              "            )\n",
              "            (q_proj): lora.Linear(\n",
              "              (base_layer): Linear(in_features=1024, out_features=1024, bias=True)\n",
              "              (lora_dropout): ModuleDict(\n",
              "                (default): Dropout(p=0.1, inplace=False)\n",
              "              )\n",
              "              (lora_A): ModuleDict(\n",
              "                (default): Linear(in_features=1024, out_features=8, bias=False)\n",
              "              )\n",
              "              (lora_B): ModuleDict(\n",
              "                (default): Linear(in_features=8, out_features=1024, bias=False)\n",
              "              )\n",
              "              (lora_embedding_A): ParameterDict()\n",
              "              (lora_embedding_B): ParameterDict()\n",
              "              (lora_magnitude_vector): ModuleDict(\n",
              "                (default): lora.dora.DoraLinearLayer()\n",
              "              )\n",
              "            )\n",
              "            (out_proj): Linear(in_features=1024, out_features=1024, bias=True)\n",
              "          )\n",
              "          (self_attn_layer_norm): LayerNorm((1024,), eps=1e-05, elementwise_affine=True)\n",
              "          (activation_fn): GELUActivation()\n",
              "          (fc1): Linear(in_features=1024, out_features=4096, bias=True)\n",
              "          (fc2): Linear(in_features=4096, out_features=1024, bias=True)\n",
              "          (final_layer_norm): LayerNorm((1024,), eps=1e-05, elementwise_affine=True)\n",
              "        )\n",
              "      )\n",
              "      (layernorm_embedding): LayerNorm((1024,), eps=1e-05, elementwise_affine=True)\n",
              "    )\n",
              "    (decoder): BartDecoder(\n",
              "      (embed_tokens): BartScaledWordEmbedding(50265, 1024, padding_idx=1)\n",
              "      (embed_positions): BartLearnedPositionalEmbedding(1026, 1024)\n",
              "      (layers): ModuleList(\n",
              "        (0-11): 12 x BartDecoderLayer(\n",
              "          (self_attn): BartSdpaAttention(\n",
              "            (k_proj): Linear(in_features=1024, out_features=1024, bias=True)\n",
              "            (v_proj): lora.Linear(\n",
              "              (base_layer): Linear(in_features=1024, out_features=1024, bias=True)\n",
              "              (lora_dropout): ModuleDict(\n",
              "                (default): Dropout(p=0.1, inplace=False)\n",
              "              )\n",
              "              (lora_A): ModuleDict(\n",
              "                (default): Linear(in_features=1024, out_features=8, bias=False)\n",
              "              )\n",
              "              (lora_B): ModuleDict(\n",
              "                (default): Linear(in_features=8, out_features=1024, bias=False)\n",
              "              )\n",
              "              (lora_embedding_A): ParameterDict()\n",
              "              (lora_embedding_B): ParameterDict()\n",
              "              (lora_magnitude_vector): ModuleDict(\n",
              "                (default): lora.dora.DoraLinearLayer()\n",
              "              )\n",
              "            )\n",
              "            (q_proj): lora.Linear(\n",
              "              (base_layer): Linear(in_features=1024, out_features=1024, bias=True)\n",
              "              (lora_dropout): ModuleDict(\n",
              "                (default): Dropout(p=0.1, inplace=False)\n",
              "              )\n",
              "              (lora_A): ModuleDict(\n",
              "                (default): Linear(in_features=1024, out_features=8, bias=False)\n",
              "              )\n",
              "              (lora_B): ModuleDict(\n",
              "                (default): Linear(in_features=8, out_features=1024, bias=False)\n",
              "              )\n",
              "              (lora_embedding_A): ParameterDict()\n",
              "              (lora_embedding_B): ParameterDict()\n",
              "              (lora_magnitude_vector): ModuleDict(\n",
              "                (default): lora.dora.DoraLinearLayer()\n",
              "              )\n",
              "            )\n",
              "            (out_proj): Linear(in_features=1024, out_features=1024, bias=True)\n",
              "          )\n",
              "          (activation_fn): GELUActivation()\n",
              "          (self_attn_layer_norm): LayerNorm((1024,), eps=1e-05, elementwise_affine=True)\n",
              "          (encoder_attn): BartSdpaAttention(\n",
              "            (k_proj): Linear(in_features=1024, out_features=1024, bias=True)\n",
              "            (v_proj): lora.Linear(\n",
              "              (base_layer): Linear(in_features=1024, out_features=1024, bias=True)\n",
              "              (lora_dropout): ModuleDict(\n",
              "                (default): Dropout(p=0.1, inplace=False)\n",
              "              )\n",
              "              (lora_A): ModuleDict(\n",
              "                (default): Linear(in_features=1024, out_features=8, bias=False)\n",
              "              )\n",
              "              (lora_B): ModuleDict(\n",
              "                (default): Linear(in_features=8, out_features=1024, bias=False)\n",
              "              )\n",
              "              (lora_embedding_A): ParameterDict()\n",
              "              (lora_embedding_B): ParameterDict()\n",
              "              (lora_magnitude_vector): ModuleDict(\n",
              "                (default): lora.dora.DoraLinearLayer()\n",
              "              )\n",
              "            )\n",
              "            (q_proj): lora.Linear(\n",
              "              (base_layer): Linear(in_features=1024, out_features=1024, bias=True)\n",
              "              (lora_dropout): ModuleDict(\n",
              "                (default): Dropout(p=0.1, inplace=False)\n",
              "              )\n",
              "              (lora_A): ModuleDict(\n",
              "                (default): Linear(in_features=1024, out_features=8, bias=False)\n",
              "              )\n",
              "              (lora_B): ModuleDict(\n",
              "                (default): Linear(in_features=8, out_features=1024, bias=False)\n",
              "              )\n",
              "              (lora_embedding_A): ParameterDict()\n",
              "              (lora_embedding_B): ParameterDict()\n",
              "              (lora_magnitude_vector): ModuleDict(\n",
              "                (default): lora.dora.DoraLinearLayer()\n",
              "              )\n",
              "            )\n",
              "            (out_proj): Linear(in_features=1024, out_features=1024, bias=True)\n",
              "          )\n",
              "          (encoder_attn_layer_norm): LayerNorm((1024,), eps=1e-05, elementwise_affine=True)\n",
              "          (fc1): Linear(in_features=1024, out_features=4096, bias=True)\n",
              "          (fc2): Linear(in_features=4096, out_features=1024, bias=True)\n",
              "          (final_layer_norm): LayerNorm((1024,), eps=1e-05, elementwise_affine=True)\n",
              "        )\n",
              "      )\n",
              "      (layernorm_embedding): LayerNorm((1024,), eps=1e-05, elementwise_affine=True)\n",
              "    )\n",
              "  )\n",
              "  (lm_head): Linear(in_features=1024, out_features=50265, bias=False)\n",
              ")"
            ]
          },
          "execution_count": 35,
          "metadata": {},
          "output_type": "execute_result"
        }
      ],
      "source": [
        "# Move model to GPU if available\n",
        "from torch.utils.data import Dataset, DataLoader\n",
        "device = torch.device(\"cuda\" if torch.cuda.is_available() else \"cpu\")\n",
        "QDoRA_BART_model = QDoRA_BART_model.to(device)\n",
        "QDoRA_BART_model.eval()"
      ]
    },
    {
      "cell_type": "code",
      "execution_count": 31,
      "metadata": {},
      "outputs": [
        {
          "name": "stderr",
          "output_type": "stream",
          "text": [
            "  0%|          | 0/410 [00:00<?, ?it/s]"
          ]
        }
      ],
      "source": [
        "import pandas as pd\n",
        "from transformers import AutoModelForSeq2SeqLM, AutoTokenizer\n",
        "import evaluate\n",
        "import torch\n",
        "from tqdm import tqdm\n",
        "import numpy as np\n",
        "from functools import partial\n",
        "from multiprocessing import Pool, cpu_count\n",
        "from rouge import Rouge\n",
        "\n",
        "# Load ROUGE metric\n",
        "rouge = Rouge()\n",
        "\n",
        "def generate_summaries(posts):\n",
        "    inputs = QDoRA_BART_tokenizer(posts, return_tensors=\"pt\", max_length=512, truncation=True, padding=True)\n",
        "    inputs = {k: v.to(device) for k, v in inputs.items()}\n",
        "    with torch.no_grad():\n",
        "        summary_ids = QDoRA_BART_model.generate(\n",
        "            inputs[\"input_ids\"],\n",
        "            max_length=150,\n",
        "            min_length=40,\n",
        "            length_penalty=2.0,\n",
        "            num_beams=4,\n",
        "            early_stopping=True\n",
        "        )\n",
        "    return QDoRA_BART_tokenizer.batch_decode(summary_ids, skip_special_tokens=True)\n",
        "\n",
        "def compute_rouge(reference, prediction):\n",
        "    return rouge.get_scores(prediction, reference)[0]\n",
        "\n",
        "class SummarizationDataset(Dataset):\n",
        "    def __init__(self, dataframe):\n",
        "        self.posts = dataframe['post'].tolist()\n",
        "        self.summaries = dataframe['summary'].tolist()\n",
        "\n",
        "    def __len__(self):\n",
        "        return len(self.posts)\n",
        "\n",
        "    def __getitem__(self, idx):\n",
        "        return self.posts[idx], self.summaries[idx]\n",
        "\n",
        "# Prepare the dataset and dataloader\n",
        "dataset = SummarizationDataset(test_df)\n",
        "dataloader = DataLoader(dataset, batch_size=16, shuffle=False)\n",
        "\n",
        "# Process batches\n",
        "all_metrics = []\n",
        "\n",
        "for batch_posts, batch_summaries in tqdm(dataloader):\n",
        "    generated_summaries = generate_summaries(batch_posts)\n",
        "    \n",
        "    with Pool(cpu_count()) as p:\n",
        "        batch_metrics = p.starmap(compute_rouge, zip(batch_summaries, generated_summaries))\n",
        "    \n",
        "    all_metrics.extend(batch_metrics)\n",
        "\n",
        "# Compute average scores\n",
        "avg_metrics = {key: np.mean([m[key] for m in all_metrics]) for key in all_metrics[0].keys()}\n",
        "\n",
        "# Print results\n",
        "print(\"\\nAverage Metrics:\")\n",
        "for metric, score in avg_metrics.items():\n",
        "    print(f\"{metric}: {score:.4f}\")"
      ]
    },
    {
      "cell_type": "markdown",
      "metadata": {},
      "source": [
        "# **DPO Fine-Tuning**"
      ]
    },
    {
      "cell_type": "markdown",
      "metadata": {},
      "source": [
        "Our preference data is on a Likert scale, which will not work for DPO. DPO requires the data to be binary 'preference' and 'not preference'. We'll have to do some preprocessing to get the data in this format."
      ]
    },
    {
      "cell_type": "code",
      "execution_count": 37,
      "metadata": {},
      "outputs": [],
      "source": [
        "# Import necessary libraries\n",
        "import torch\n",
        "from transformers import AutoModelForSeq2SeqLM, AutoTokenizer\n",
        "from datasets import Dataset\n",
        "#!pip install trl\n",
        "from trl import DPOTrainer"
      ]
    },
    {
      "cell_type": "code",
      "execution_count": 38,
      "metadata": {},
      "outputs": [
        {
          "data": {
            "text/plain": [
              "Index(['split', 'worker', 'batch', 'id', 'subreddit', 'title', 'post',\n",
              "       'summary_text', 'summary_policy', 'summary_note', 'overall_score',\n",
              "       'accuracy_score', 'coverage_score', 'coherence_score'],\n",
              "      dtype='object')"
            ]
          },
          "execution_count": 38,
          "metadata": {},
          "output_type": "execute_result"
        }
      ],
      "source": [
        "cnndm1.columns"
      ]
    },
    {
      "cell_type": "code",
      "execution_count": 39,
      "metadata": {},
      "outputs": [
        {
          "data": {
            "text/plain": [
              "split              object\n",
              "worker             object\n",
              "batch              object\n",
              "id                 object\n",
              "subreddit          object\n",
              "title              object\n",
              "post               object\n",
              "summary_text       object\n",
              "summary_policy     object\n",
              "summary_note       object\n",
              "overall_score      object\n",
              "accuracy_score     object\n",
              "coverage_score     object\n",
              "coherence_score    object\n",
              "dtype: object"
            ]
          },
          "execution_count": 39,
          "metadata": {},
          "output_type": "execute_result"
        }
      ],
      "source": [
        "cnndm1.dtypes"
      ]
    },
    {
      "cell_type": "markdown",
      "metadata": {},
      "source": [
        "All of the columns are object data types. Need to modify the score columns in the dataframe to be integer datatypes."
      ]
    },
    {
      "cell_type": "code",
      "execution_count": 40,
      "metadata": {},
      "outputs": [],
      "source": [
        "# Convert 'overall_score' to numeric, replacing non-numeric values with NaN\n",
        "cnndm1['overall_score'] = pd.to_numeric(cnndm1['overall_score'], errors='coerce')\n",
        "cnndm3['overall_score'] = pd.to_numeric(cnndm3['overall_score'], errors='coerce')\n",
        "cnndm4['overall_score'] = pd.to_numeric(cnndm4['overall_score'], errors='coerce')\n",
        "tldraxis1['overall_score'] = pd.to_numeric(tldraxis1['overall_score'], errors='coerce')\n",
        "tldraxis2['overall_score'] = pd.to_numeric(tldraxis2['overall_score'], errors='coerce')\n",
        "    \n",
        "# Drop rows where 'overall_score' is NaN\n",
        "cnndm1 = cnndm1.dropna(subset=['overall_score'])\n",
        "cnndm3 = cnndm3.dropna(subset=['overall_score'])\n",
        "cnndm4 = cnndm4.dropna(subset=['overall_score'])\n",
        "tldraxis1 = tldraxis1.dropna(subset=['overall_score'])\n",
        "tldraxis2 = tldraxis2.dropna(subset=['overall_score'])"
      ]
    },
    {
      "cell_type": "code",
      "execution_count": 41,
      "metadata": {},
      "outputs": [
        {
          "data": {
            "text/plain": [
              "0       Newcastle stand-in skipper Moussa Sissoko is f...\n",
              "1       Newcastle stand-in skipper Moussa Sissoko is f...\n",
              "2       Newcastle stand-in skipper Moussa Sissoko is f...\n",
              "3       Newcastle stand-in skipper Moussa Sissoko is f...\n",
              "4       Newcastle stand-in skipper Moussa Sissoko is f...\n",
              "                              ...                        \n",
              "2792    A New York City bus driver is facing possible ...\n",
              "2793    A New York City bus driver is facing possible ...\n",
              "2794    A New York City bus driver is facing possible ...\n",
              "2795    A New York City bus driver is facing possible ...\n",
              "2796    A New York City bus driver is facing possible ...\n",
              "Name: post, Length: 2797, dtype: object"
            ]
          },
          "execution_count": 41,
          "metadata": {},
          "output_type": "execute_result"
        }
      ],
      "source": [
        "cnndm1['post']"
      ]
    },
    {
      "cell_type": "markdown",
      "metadata": {},
      "source": [
        "Now we need to categorize the preference data as 'chosen' and 'rejected'. For chosen we will take the highest overall score for each post summary text, for rejected we will take the lowest overall score for each post summary text."
      ]
    },
    {
      "cell_type": "code",
      "execution_count": 42,
      "metadata": {},
      "outputs": [
        {
          "name": "stdout",
          "output_type": "stream",
          "text": [
            "Initial dataframe shape: (14847, 15)\n",
            "Number of unique posts: 1677\n",
            "After grouping, shape: (1677, 5)\n",
            "Score difference statistics:\n",
            "count    1677.000000\n",
            "mean        3.861658\n",
            "std         1.438041\n",
            "min         0.000000\n",
            "25%         3.000000\n",
            "50%         4.000000\n",
            "75%         5.000000\n",
            "max         6.000000\n",
            "dtype: float64\n",
            "Number of rows with no score difference: 18\n",
            "Final dataset size: 1677\n"
          ]
        },
        {
          "name": "stderr",
          "output_type": "stream",
          "text": [
            "C:\\Users\\Zane\\AppData\\Local\\Temp\\ipykernel_19544\\3225554516.py:11: DeprecationWarning: DataFrameGroupBy.apply operated on the grouping columns. This behavior is deprecated, and in a future version of pandas the grouping columns will be excluded from the operation. Either pass `include_groups=False` to exclude the groupings or explicitly select the grouping columns after groupby to silence this warning.\n",
            "  grouped = df.groupby('post').apply(lambda x: pd.Series({\n"
          ]
        }
      ],
      "source": [
        "# Prepare data for DPO\n",
        "import pandas as pd\n",
        "from datasets import Dataset\n",
        "\n",
        "def prepare_dpo_data(df):\n",
        "    # Group by post and find the highest and lowest scoring summaries\n",
        "    print(f\"Initial dataframe shape: {df.shape}\")\n",
        "    print(f\"Number of unique posts: {df['post'].nunique()}\")\n",
        "    \n",
        "    # Group by post and find the highest and lowest scoring summaries\n",
        "    grouped = df.groupby('post').apply(lambda x: pd.Series({\n",
        "        'chosen_summary': x.loc[x['overall_score'].idxmax(), 'summary_text'],\n",
        "        'chosen_score': x['overall_score'].max(),\n",
        "        'rejected_summary': x.loc[x['overall_score'].idxmin(), 'summary_text'],\n",
        "        'rejected_score': x['overall_score'].min()\n",
        "    })).reset_index()\n",
        "    \n",
        "    print(f\"After grouping, shape: {grouped.shape}\")\n",
        "    \n",
        "    # Instead of filtering, let's keep all rows and print some statistics\n",
        "    score_diff = grouped['chosen_score'] - grouped['rejected_score']\n",
        "    print(f\"Score difference statistics:\\n{score_diff.describe()}\")\n",
        "    print(f\"Number of rows with no score difference: {(score_diff == 0).sum()}\")\n",
        "    \n",
        "    data = {\n",
        "        'prompt': grouped['post'].tolist(),\n",
        "        'chosen': grouped['chosen_summary'].tolist(),\n",
        "        'rejected': grouped['rejected_summary'].tolist()\n",
        "    }\n",
        "    dataset = Dataset.from_dict(data)\n",
        "    print(f\"Final dataset size: {len(dataset)}\")\n",
        "    return dataset\n",
        "\n",
        "\n",
        "\n",
        "# We need to combine all of the data. Otherwise our sample won't be large enough for meaningful training.\n",
        "all_data = pd.concat([cnndm1, cnndm3, cnndm4, tldraxis1, tldraxis2], ignore_index=True)\n",
        "dpo_dataset = prepare_dpo_data(all_data)"
      ]
    },
    {
      "cell_type": "code",
      "execution_count": 43,
      "metadata": {},
      "outputs": [
        {
          "data": {
            "text/plain": [
              "Dataset({\n",
              "    features: ['prompt', 'chosen', 'rejected'],\n",
              "    num_rows: 1677\n",
              "})"
            ]
          },
          "execution_count": 43,
          "metadata": {},
          "output_type": "execute_result"
        }
      ],
      "source": [
        "dpo_dataset"
      ]
    },
    {
      "cell_type": "markdown",
      "metadata": {},
      "source": [
        "## Fine-tune our QDoRA BART Model using DPO!"
      ]
    },
    {
      "cell_type": "code",
      "execution_count": 44,
      "metadata": {},
      "outputs": [
        {
          "name": "stdout",
          "output_type": "stream",
          "text": [
            "Parameter model.shared.weight does not require gradients. Setting requires_grad to True.\n",
            "Parameter model.encoder.embed_positions.weight does not require gradients. Setting requires_grad to True.\n",
            "Parameter model.encoder.layers.0.self_attn.k_proj.weight does not require gradients. Setting requires_grad to True.\n",
            "Parameter model.encoder.layers.0.self_attn.k_proj.bias does not require gradients. Setting requires_grad to True.\n",
            "Parameter model.encoder.layers.0.self_attn.v_proj.base_layer.weight does not require gradients. Setting requires_grad to True.\n",
            "Parameter model.encoder.layers.0.self_attn.v_proj.base_layer.bias does not require gradients. Setting requires_grad to True.\n",
            "Parameter model.encoder.layers.0.self_attn.v_proj.lora_A.default.weight does not require gradients. Setting requires_grad to True.\n",
            "Parameter model.encoder.layers.0.self_attn.v_proj.lora_B.default.weight does not require gradients. Setting requires_grad to True.\n",
            "Parameter model.encoder.layers.0.self_attn.v_proj.lora_magnitude_vector.default.weight does not require gradients. Setting requires_grad to True.\n",
            "Parameter model.encoder.layers.0.self_attn.q_proj.base_layer.weight does not require gradients. Setting requires_grad to True.\n",
            "Parameter model.encoder.layers.0.self_attn.q_proj.base_layer.bias does not require gradients. Setting requires_grad to True.\n",
            "Parameter model.encoder.layers.0.self_attn.q_proj.lora_A.default.weight does not require gradients. Setting requires_grad to True.\n",
            "Parameter model.encoder.layers.0.self_attn.q_proj.lora_B.default.weight does not require gradients. Setting requires_grad to True.\n",
            "Parameter model.encoder.layers.0.self_attn.q_proj.lora_magnitude_vector.default.weight does not require gradients. Setting requires_grad to True.\n",
            "Parameter model.encoder.layers.0.self_attn.out_proj.weight does not require gradients. Setting requires_grad to True.\n",
            "Parameter model.encoder.layers.0.self_attn.out_proj.bias does not require gradients. Setting requires_grad to True.\n",
            "Parameter model.encoder.layers.0.self_attn_layer_norm.weight does not require gradients. Setting requires_grad to True.\n",
            "Parameter model.encoder.layers.0.self_attn_layer_norm.bias does not require gradients. Setting requires_grad to True.\n",
            "Parameter model.encoder.layers.0.fc1.weight does not require gradients. Setting requires_grad to True.\n",
            "Parameter model.encoder.layers.0.fc1.bias does not require gradients. Setting requires_grad to True.\n",
            "Parameter model.encoder.layers.0.fc2.weight does not require gradients. Setting requires_grad to True.\n",
            "Parameter model.encoder.layers.0.fc2.bias does not require gradients. Setting requires_grad to True.\n",
            "Parameter model.encoder.layers.0.final_layer_norm.weight does not require gradients. Setting requires_grad to True.\n",
            "Parameter model.encoder.layers.0.final_layer_norm.bias does not require gradients. Setting requires_grad to True.\n",
            "Parameter model.encoder.layers.1.self_attn.k_proj.weight does not require gradients. Setting requires_grad to True.\n",
            "Parameter model.encoder.layers.1.self_attn.k_proj.bias does not require gradients. Setting requires_grad to True.\n",
            "Parameter model.encoder.layers.1.self_attn.v_proj.base_layer.weight does not require gradients. Setting requires_grad to True.\n",
            "Parameter model.encoder.layers.1.self_attn.v_proj.base_layer.bias does not require gradients. Setting requires_grad to True.\n",
            "Parameter model.encoder.layers.1.self_attn.v_proj.lora_A.default.weight does not require gradients. Setting requires_grad to True.\n",
            "Parameter model.encoder.layers.1.self_attn.v_proj.lora_B.default.weight does not require gradients. Setting requires_grad to True.\n",
            "Parameter model.encoder.layers.1.self_attn.v_proj.lora_magnitude_vector.default.weight does not require gradients. Setting requires_grad to True.\n",
            "Parameter model.encoder.layers.1.self_attn.q_proj.base_layer.weight does not require gradients. Setting requires_grad to True.\n",
            "Parameter model.encoder.layers.1.self_attn.q_proj.base_layer.bias does not require gradients. Setting requires_grad to True.\n",
            "Parameter model.encoder.layers.1.self_attn.q_proj.lora_A.default.weight does not require gradients. Setting requires_grad to True.\n",
            "Parameter model.encoder.layers.1.self_attn.q_proj.lora_B.default.weight does not require gradients. Setting requires_grad to True.\n",
            "Parameter model.encoder.layers.1.self_attn.q_proj.lora_magnitude_vector.default.weight does not require gradients. Setting requires_grad to True.\n",
            "Parameter model.encoder.layers.1.self_attn.out_proj.weight does not require gradients. Setting requires_grad to True.\n",
            "Parameter model.encoder.layers.1.self_attn.out_proj.bias does not require gradients. Setting requires_grad to True.\n",
            "Parameter model.encoder.layers.1.self_attn_layer_norm.weight does not require gradients. Setting requires_grad to True.\n",
            "Parameter model.encoder.layers.1.self_attn_layer_norm.bias does not require gradients. Setting requires_grad to True.\n",
            "Parameter model.encoder.layers.1.fc1.weight does not require gradients. Setting requires_grad to True.\n",
            "Parameter model.encoder.layers.1.fc1.bias does not require gradients. Setting requires_grad to True.\n",
            "Parameter model.encoder.layers.1.fc2.weight does not require gradients. Setting requires_grad to True.\n",
            "Parameter model.encoder.layers.1.fc2.bias does not require gradients. Setting requires_grad to True.\n",
            "Parameter model.encoder.layers.1.final_layer_norm.weight does not require gradients. Setting requires_grad to True.\n",
            "Parameter model.encoder.layers.1.final_layer_norm.bias does not require gradients. Setting requires_grad to True.\n",
            "Parameter model.encoder.layers.2.self_attn.k_proj.weight does not require gradients. Setting requires_grad to True.\n",
            "Parameter model.encoder.layers.2.self_attn.k_proj.bias does not require gradients. Setting requires_grad to True.\n",
            "Parameter model.encoder.layers.2.self_attn.v_proj.base_layer.weight does not require gradients. Setting requires_grad to True.\n",
            "Parameter model.encoder.layers.2.self_attn.v_proj.base_layer.bias does not require gradients. Setting requires_grad to True.\n",
            "Parameter model.encoder.layers.2.self_attn.v_proj.lora_A.default.weight does not require gradients. Setting requires_grad to True.\n",
            "Parameter model.encoder.layers.2.self_attn.v_proj.lora_B.default.weight does not require gradients. Setting requires_grad to True.\n",
            "Parameter model.encoder.layers.2.self_attn.v_proj.lora_magnitude_vector.default.weight does not require gradients. Setting requires_grad to True.\n",
            "Parameter model.encoder.layers.2.self_attn.q_proj.base_layer.weight does not require gradients. Setting requires_grad to True.\n",
            "Parameter model.encoder.layers.2.self_attn.q_proj.base_layer.bias does not require gradients. Setting requires_grad to True.\n",
            "Parameter model.encoder.layers.2.self_attn.q_proj.lora_A.default.weight does not require gradients. Setting requires_grad to True.\n",
            "Parameter model.encoder.layers.2.self_attn.q_proj.lora_B.default.weight does not require gradients. Setting requires_grad to True.\n",
            "Parameter model.encoder.layers.2.self_attn.q_proj.lora_magnitude_vector.default.weight does not require gradients. Setting requires_grad to True.\n",
            "Parameter model.encoder.layers.2.self_attn.out_proj.weight does not require gradients. Setting requires_grad to True.\n",
            "Parameter model.encoder.layers.2.self_attn.out_proj.bias does not require gradients. Setting requires_grad to True.\n",
            "Parameter model.encoder.layers.2.self_attn_layer_norm.weight does not require gradients. Setting requires_grad to True.\n",
            "Parameter model.encoder.layers.2.self_attn_layer_norm.bias does not require gradients. Setting requires_grad to True.\n",
            "Parameter model.encoder.layers.2.fc1.weight does not require gradients. Setting requires_grad to True.\n",
            "Parameter model.encoder.layers.2.fc1.bias does not require gradients. Setting requires_grad to True.\n",
            "Parameter model.encoder.layers.2.fc2.weight does not require gradients. Setting requires_grad to True.\n",
            "Parameter model.encoder.layers.2.fc2.bias does not require gradients. Setting requires_grad to True.\n",
            "Parameter model.encoder.layers.2.final_layer_norm.weight does not require gradients. Setting requires_grad to True.\n",
            "Parameter model.encoder.layers.2.final_layer_norm.bias does not require gradients. Setting requires_grad to True.\n",
            "Parameter model.encoder.layers.3.self_attn.k_proj.weight does not require gradients. Setting requires_grad to True.\n",
            "Parameter model.encoder.layers.3.self_attn.k_proj.bias does not require gradients. Setting requires_grad to True.\n",
            "Parameter model.encoder.layers.3.self_attn.v_proj.base_layer.weight does not require gradients. Setting requires_grad to True.\n",
            "Parameter model.encoder.layers.3.self_attn.v_proj.base_layer.bias does not require gradients. Setting requires_grad to True.\n",
            "Parameter model.encoder.layers.3.self_attn.v_proj.lora_A.default.weight does not require gradients. Setting requires_grad to True.\n",
            "Parameter model.encoder.layers.3.self_attn.v_proj.lora_B.default.weight does not require gradients. Setting requires_grad to True.\n",
            "Parameter model.encoder.layers.3.self_attn.v_proj.lora_magnitude_vector.default.weight does not require gradients. Setting requires_grad to True.\n",
            "Parameter model.encoder.layers.3.self_attn.q_proj.base_layer.weight does not require gradients. Setting requires_grad to True.\n",
            "Parameter model.encoder.layers.3.self_attn.q_proj.base_layer.bias does not require gradients. Setting requires_grad to True.\n",
            "Parameter model.encoder.layers.3.self_attn.q_proj.lora_A.default.weight does not require gradients. Setting requires_grad to True.\n",
            "Parameter model.encoder.layers.3.self_attn.q_proj.lora_B.default.weight does not require gradients. Setting requires_grad to True.\n",
            "Parameter model.encoder.layers.3.self_attn.q_proj.lora_magnitude_vector.default.weight does not require gradients. Setting requires_grad to True.\n",
            "Parameter model.encoder.layers.3.self_attn.out_proj.weight does not require gradients. Setting requires_grad to True.\n",
            "Parameter model.encoder.layers.3.self_attn.out_proj.bias does not require gradients. Setting requires_grad to True.\n",
            "Parameter model.encoder.layers.3.self_attn_layer_norm.weight does not require gradients. Setting requires_grad to True.\n",
            "Parameter model.encoder.layers.3.self_attn_layer_norm.bias does not require gradients. Setting requires_grad to True.\n",
            "Parameter model.encoder.layers.3.fc1.weight does not require gradients. Setting requires_grad to True.\n",
            "Parameter model.encoder.layers.3.fc1.bias does not require gradients. Setting requires_grad to True.\n",
            "Parameter model.encoder.layers.3.fc2.weight does not require gradients. Setting requires_grad to True.\n",
            "Parameter model.encoder.layers.3.fc2.bias does not require gradients. Setting requires_grad to True.\n",
            "Parameter model.encoder.layers.3.final_layer_norm.weight does not require gradients. Setting requires_grad to True.\n",
            "Parameter model.encoder.layers.3.final_layer_norm.bias does not require gradients. Setting requires_grad to True.\n",
            "Parameter model.encoder.layers.4.self_attn.k_proj.weight does not require gradients. Setting requires_grad to True.\n",
            "Parameter model.encoder.layers.4.self_attn.k_proj.bias does not require gradients. Setting requires_grad to True.\n",
            "Parameter model.encoder.layers.4.self_attn.v_proj.base_layer.weight does not require gradients. Setting requires_grad to True.\n",
            "Parameter model.encoder.layers.4.self_attn.v_proj.base_layer.bias does not require gradients. Setting requires_grad to True.\n",
            "Parameter model.encoder.layers.4.self_attn.v_proj.lora_A.default.weight does not require gradients. Setting requires_grad to True.\n",
            "Parameter model.encoder.layers.4.self_attn.v_proj.lora_B.default.weight does not require gradients. Setting requires_grad to True.\n",
            "Parameter model.encoder.layers.4.self_attn.v_proj.lora_magnitude_vector.default.weight does not require gradients. Setting requires_grad to True.\n",
            "Parameter model.encoder.layers.4.self_attn.q_proj.base_layer.weight does not require gradients. Setting requires_grad to True.\n",
            "Parameter model.encoder.layers.4.self_attn.q_proj.base_layer.bias does not require gradients. Setting requires_grad to True.\n",
            "Parameter model.encoder.layers.4.self_attn.q_proj.lora_A.default.weight does not require gradients. Setting requires_grad to True.\n",
            "Parameter model.encoder.layers.4.self_attn.q_proj.lora_B.default.weight does not require gradients. Setting requires_grad to True.\n",
            "Parameter model.encoder.layers.4.self_attn.q_proj.lora_magnitude_vector.default.weight does not require gradients. Setting requires_grad to True.\n",
            "Parameter model.encoder.layers.4.self_attn.out_proj.weight does not require gradients. Setting requires_grad to True.\n",
            "Parameter model.encoder.layers.4.self_attn.out_proj.bias does not require gradients. Setting requires_grad to True.\n",
            "Parameter model.encoder.layers.4.self_attn_layer_norm.weight does not require gradients. Setting requires_grad to True.\n",
            "Parameter model.encoder.layers.4.self_attn_layer_norm.bias does not require gradients. Setting requires_grad to True.\n",
            "Parameter model.encoder.layers.4.fc1.weight does not require gradients. Setting requires_grad to True.\n",
            "Parameter model.encoder.layers.4.fc1.bias does not require gradients. Setting requires_grad to True.\n",
            "Parameter model.encoder.layers.4.fc2.weight does not require gradients. Setting requires_grad to True.\n",
            "Parameter model.encoder.layers.4.fc2.bias does not require gradients. Setting requires_grad to True.\n",
            "Parameter model.encoder.layers.4.final_layer_norm.weight does not require gradients. Setting requires_grad to True.\n",
            "Parameter model.encoder.layers.4.final_layer_norm.bias does not require gradients. Setting requires_grad to True.\n",
            "Parameter model.encoder.layers.5.self_attn.k_proj.weight does not require gradients. Setting requires_grad to True.\n",
            "Parameter model.encoder.layers.5.self_attn.k_proj.bias does not require gradients. Setting requires_grad to True.\n",
            "Parameter model.encoder.layers.5.self_attn.v_proj.base_layer.weight does not require gradients. Setting requires_grad to True.\n",
            "Parameter model.encoder.layers.5.self_attn.v_proj.base_layer.bias does not require gradients. Setting requires_grad to True.\n",
            "Parameter model.encoder.layers.5.self_attn.v_proj.lora_A.default.weight does not require gradients. Setting requires_grad to True.\n",
            "Parameter model.encoder.layers.5.self_attn.v_proj.lora_B.default.weight does not require gradients. Setting requires_grad to True.\n",
            "Parameter model.encoder.layers.5.self_attn.v_proj.lora_magnitude_vector.default.weight does not require gradients. Setting requires_grad to True.\n",
            "Parameter model.encoder.layers.5.self_attn.q_proj.base_layer.weight does not require gradients. Setting requires_grad to True.\n",
            "Parameter model.encoder.layers.5.self_attn.q_proj.base_layer.bias does not require gradients. Setting requires_grad to True.\n",
            "Parameter model.encoder.layers.5.self_attn.q_proj.lora_A.default.weight does not require gradients. Setting requires_grad to True.\n",
            "Parameter model.encoder.layers.5.self_attn.q_proj.lora_B.default.weight does not require gradients. Setting requires_grad to True.\n",
            "Parameter model.encoder.layers.5.self_attn.q_proj.lora_magnitude_vector.default.weight does not require gradients. Setting requires_grad to True.\n",
            "Parameter model.encoder.layers.5.self_attn.out_proj.weight does not require gradients. Setting requires_grad to True.\n",
            "Parameter model.encoder.layers.5.self_attn.out_proj.bias does not require gradients. Setting requires_grad to True.\n",
            "Parameter model.encoder.layers.5.self_attn_layer_norm.weight does not require gradients. Setting requires_grad to True.\n",
            "Parameter model.encoder.layers.5.self_attn_layer_norm.bias does not require gradients. Setting requires_grad to True.\n",
            "Parameter model.encoder.layers.5.fc1.weight does not require gradients. Setting requires_grad to True.\n",
            "Parameter model.encoder.layers.5.fc1.bias does not require gradients. Setting requires_grad to True.\n",
            "Parameter model.encoder.layers.5.fc2.weight does not require gradients. Setting requires_grad to True.\n",
            "Parameter model.encoder.layers.5.fc2.bias does not require gradients. Setting requires_grad to True.\n",
            "Parameter model.encoder.layers.5.final_layer_norm.weight does not require gradients. Setting requires_grad to True.\n",
            "Parameter model.encoder.layers.5.final_layer_norm.bias does not require gradients. Setting requires_grad to True.\n",
            "Parameter model.encoder.layers.6.self_attn.k_proj.weight does not require gradients. Setting requires_grad to True.\n",
            "Parameter model.encoder.layers.6.self_attn.k_proj.bias does not require gradients. Setting requires_grad to True.\n",
            "Parameter model.encoder.layers.6.self_attn.v_proj.base_layer.weight does not require gradients. Setting requires_grad to True.\n",
            "Parameter model.encoder.layers.6.self_attn.v_proj.base_layer.bias does not require gradients. Setting requires_grad to True.\n",
            "Parameter model.encoder.layers.6.self_attn.v_proj.lora_A.default.weight does not require gradients. Setting requires_grad to True.\n",
            "Parameter model.encoder.layers.6.self_attn.v_proj.lora_B.default.weight does not require gradients. Setting requires_grad to True.\n",
            "Parameter model.encoder.layers.6.self_attn.v_proj.lora_magnitude_vector.default.weight does not require gradients. Setting requires_grad to True.\n",
            "Parameter model.encoder.layers.6.self_attn.q_proj.base_layer.weight does not require gradients. Setting requires_grad to True.\n",
            "Parameter model.encoder.layers.6.self_attn.q_proj.base_layer.bias does not require gradients. Setting requires_grad to True.\n",
            "Parameter model.encoder.layers.6.self_attn.q_proj.lora_A.default.weight does not require gradients. Setting requires_grad to True.\n",
            "Parameter model.encoder.layers.6.self_attn.q_proj.lora_B.default.weight does not require gradients. Setting requires_grad to True.\n",
            "Parameter model.encoder.layers.6.self_attn.q_proj.lora_magnitude_vector.default.weight does not require gradients. Setting requires_grad to True.\n",
            "Parameter model.encoder.layers.6.self_attn.out_proj.weight does not require gradients. Setting requires_grad to True.\n",
            "Parameter model.encoder.layers.6.self_attn.out_proj.bias does not require gradients. Setting requires_grad to True.\n",
            "Parameter model.encoder.layers.6.self_attn_layer_norm.weight does not require gradients. Setting requires_grad to True.\n",
            "Parameter model.encoder.layers.6.self_attn_layer_norm.bias does not require gradients. Setting requires_grad to True.\n",
            "Parameter model.encoder.layers.6.fc1.weight does not require gradients. Setting requires_grad to True.\n",
            "Parameter model.encoder.layers.6.fc1.bias does not require gradients. Setting requires_grad to True.\n",
            "Parameter model.encoder.layers.6.fc2.weight does not require gradients. Setting requires_grad to True.\n",
            "Parameter model.encoder.layers.6.fc2.bias does not require gradients. Setting requires_grad to True.\n",
            "Parameter model.encoder.layers.6.final_layer_norm.weight does not require gradients. Setting requires_grad to True.\n",
            "Parameter model.encoder.layers.6.final_layer_norm.bias does not require gradients. Setting requires_grad to True.\n",
            "Parameter model.encoder.layers.7.self_attn.k_proj.weight does not require gradients. Setting requires_grad to True.\n",
            "Parameter model.encoder.layers.7.self_attn.k_proj.bias does not require gradients. Setting requires_grad to True.\n",
            "Parameter model.encoder.layers.7.self_attn.v_proj.base_layer.weight does not require gradients. Setting requires_grad to True.\n",
            "Parameter model.encoder.layers.7.self_attn.v_proj.base_layer.bias does not require gradients. Setting requires_grad to True.\n",
            "Parameter model.encoder.layers.7.self_attn.v_proj.lora_A.default.weight does not require gradients. Setting requires_grad to True.\n",
            "Parameter model.encoder.layers.7.self_attn.v_proj.lora_B.default.weight does not require gradients. Setting requires_grad to True.\n",
            "Parameter model.encoder.layers.7.self_attn.v_proj.lora_magnitude_vector.default.weight does not require gradients. Setting requires_grad to True.\n",
            "Parameter model.encoder.layers.7.self_attn.q_proj.base_layer.weight does not require gradients. Setting requires_grad to True.\n",
            "Parameter model.encoder.layers.7.self_attn.q_proj.base_layer.bias does not require gradients. Setting requires_grad to True.\n",
            "Parameter model.encoder.layers.7.self_attn.q_proj.lora_A.default.weight does not require gradients. Setting requires_grad to True.\n",
            "Parameter model.encoder.layers.7.self_attn.q_proj.lora_B.default.weight does not require gradients. Setting requires_grad to True.\n",
            "Parameter model.encoder.layers.7.self_attn.q_proj.lora_magnitude_vector.default.weight does not require gradients. Setting requires_grad to True.\n",
            "Parameter model.encoder.layers.7.self_attn.out_proj.weight does not require gradients. Setting requires_grad to True.\n",
            "Parameter model.encoder.layers.7.self_attn.out_proj.bias does not require gradients. Setting requires_grad to True.\n",
            "Parameter model.encoder.layers.7.self_attn_layer_norm.weight does not require gradients. Setting requires_grad to True.\n",
            "Parameter model.encoder.layers.7.self_attn_layer_norm.bias does not require gradients. Setting requires_grad to True.\n",
            "Parameter model.encoder.layers.7.fc1.weight does not require gradients. Setting requires_grad to True.\n",
            "Parameter model.encoder.layers.7.fc1.bias does not require gradients. Setting requires_grad to True.\n",
            "Parameter model.encoder.layers.7.fc2.weight does not require gradients. Setting requires_grad to True.\n",
            "Parameter model.encoder.layers.7.fc2.bias does not require gradients. Setting requires_grad to True.\n",
            "Parameter model.encoder.layers.7.final_layer_norm.weight does not require gradients. Setting requires_grad to True.\n",
            "Parameter model.encoder.layers.7.final_layer_norm.bias does not require gradients. Setting requires_grad to True.\n",
            "Parameter model.encoder.layers.8.self_attn.k_proj.weight does not require gradients. Setting requires_grad to True.\n",
            "Parameter model.encoder.layers.8.self_attn.k_proj.bias does not require gradients. Setting requires_grad to True.\n",
            "Parameter model.encoder.layers.8.self_attn.v_proj.base_layer.weight does not require gradients. Setting requires_grad to True.\n",
            "Parameter model.encoder.layers.8.self_attn.v_proj.base_layer.bias does not require gradients. Setting requires_grad to True.\n",
            "Parameter model.encoder.layers.8.self_attn.v_proj.lora_A.default.weight does not require gradients. Setting requires_grad to True.\n",
            "Parameter model.encoder.layers.8.self_attn.v_proj.lora_B.default.weight does not require gradients. Setting requires_grad to True.\n",
            "Parameter model.encoder.layers.8.self_attn.v_proj.lora_magnitude_vector.default.weight does not require gradients. Setting requires_grad to True.\n",
            "Parameter model.encoder.layers.8.self_attn.q_proj.base_layer.weight does not require gradients. Setting requires_grad to True.\n",
            "Parameter model.encoder.layers.8.self_attn.q_proj.base_layer.bias does not require gradients. Setting requires_grad to True.\n",
            "Parameter model.encoder.layers.8.self_attn.q_proj.lora_A.default.weight does not require gradients. Setting requires_grad to True.\n",
            "Parameter model.encoder.layers.8.self_attn.q_proj.lora_B.default.weight does not require gradients. Setting requires_grad to True.\n",
            "Parameter model.encoder.layers.8.self_attn.q_proj.lora_magnitude_vector.default.weight does not require gradients. Setting requires_grad to True.\n",
            "Parameter model.encoder.layers.8.self_attn.out_proj.weight does not require gradients. Setting requires_grad to True.\n",
            "Parameter model.encoder.layers.8.self_attn.out_proj.bias does not require gradients. Setting requires_grad to True.\n",
            "Parameter model.encoder.layers.8.self_attn_layer_norm.weight does not require gradients. Setting requires_grad to True.\n",
            "Parameter model.encoder.layers.8.self_attn_layer_norm.bias does not require gradients. Setting requires_grad to True.\n",
            "Parameter model.encoder.layers.8.fc1.weight does not require gradients. Setting requires_grad to True.\n",
            "Parameter model.encoder.layers.8.fc1.bias does not require gradients. Setting requires_grad to True.\n",
            "Parameter model.encoder.layers.8.fc2.weight does not require gradients. Setting requires_grad to True.\n",
            "Parameter model.encoder.layers.8.fc2.bias does not require gradients. Setting requires_grad to True.\n",
            "Parameter model.encoder.layers.8.final_layer_norm.weight does not require gradients. Setting requires_grad to True.\n",
            "Parameter model.encoder.layers.8.final_layer_norm.bias does not require gradients. Setting requires_grad to True.\n",
            "Parameter model.encoder.layers.9.self_attn.k_proj.weight does not require gradients. Setting requires_grad to True.\n",
            "Parameter model.encoder.layers.9.self_attn.k_proj.bias does not require gradients. Setting requires_grad to True.\n",
            "Parameter model.encoder.layers.9.self_attn.v_proj.base_layer.weight does not require gradients. Setting requires_grad to True.\n",
            "Parameter model.encoder.layers.9.self_attn.v_proj.base_layer.bias does not require gradients. Setting requires_grad to True.\n",
            "Parameter model.encoder.layers.9.self_attn.v_proj.lora_A.default.weight does not require gradients. Setting requires_grad to True.\n",
            "Parameter model.encoder.layers.9.self_attn.v_proj.lora_B.default.weight does not require gradients. Setting requires_grad to True.\n",
            "Parameter model.encoder.layers.9.self_attn.v_proj.lora_magnitude_vector.default.weight does not require gradients. Setting requires_grad to True.\n",
            "Parameter model.encoder.layers.9.self_attn.q_proj.base_layer.weight does not require gradients. Setting requires_grad to True.\n",
            "Parameter model.encoder.layers.9.self_attn.q_proj.base_layer.bias does not require gradients. Setting requires_grad to True.\n",
            "Parameter model.encoder.layers.9.self_attn.q_proj.lora_A.default.weight does not require gradients. Setting requires_grad to True.\n",
            "Parameter model.encoder.layers.9.self_attn.q_proj.lora_B.default.weight does not require gradients. Setting requires_grad to True.\n",
            "Parameter model.encoder.layers.9.self_attn.q_proj.lora_magnitude_vector.default.weight does not require gradients. Setting requires_grad to True.\n",
            "Parameter model.encoder.layers.9.self_attn.out_proj.weight does not require gradients. Setting requires_grad to True.\n",
            "Parameter model.encoder.layers.9.self_attn.out_proj.bias does not require gradients. Setting requires_grad to True.\n",
            "Parameter model.encoder.layers.9.self_attn_layer_norm.weight does not require gradients. Setting requires_grad to True.\n",
            "Parameter model.encoder.layers.9.self_attn_layer_norm.bias does not require gradients. Setting requires_grad to True.\n",
            "Parameter model.encoder.layers.9.fc1.weight does not require gradients. Setting requires_grad to True.\n",
            "Parameter model.encoder.layers.9.fc1.bias does not require gradients. Setting requires_grad to True.\n",
            "Parameter model.encoder.layers.9.fc2.weight does not require gradients. Setting requires_grad to True.\n",
            "Parameter model.encoder.layers.9.fc2.bias does not require gradients. Setting requires_grad to True.\n",
            "Parameter model.encoder.layers.9.final_layer_norm.weight does not require gradients. Setting requires_grad to True.\n",
            "Parameter model.encoder.layers.9.final_layer_norm.bias does not require gradients. Setting requires_grad to True.\n",
            "Parameter model.encoder.layers.10.self_attn.k_proj.weight does not require gradients. Setting requires_grad to True.\n",
            "Parameter model.encoder.layers.10.self_attn.k_proj.bias does not require gradients. Setting requires_grad to True.\n",
            "Parameter model.encoder.layers.10.self_attn.v_proj.base_layer.weight does not require gradients. Setting requires_grad to True.\n",
            "Parameter model.encoder.layers.10.self_attn.v_proj.base_layer.bias does not require gradients. Setting requires_grad to True.\n",
            "Parameter model.encoder.layers.10.self_attn.v_proj.lora_A.default.weight does not require gradients. Setting requires_grad to True.\n",
            "Parameter model.encoder.layers.10.self_attn.v_proj.lora_B.default.weight does not require gradients. Setting requires_grad to True.\n",
            "Parameter model.encoder.layers.10.self_attn.v_proj.lora_magnitude_vector.default.weight does not require gradients. Setting requires_grad to True.\n",
            "Parameter model.encoder.layers.10.self_attn.q_proj.base_layer.weight does not require gradients. Setting requires_grad to True.\n",
            "Parameter model.encoder.layers.10.self_attn.q_proj.base_layer.bias does not require gradients. Setting requires_grad to True.\n",
            "Parameter model.encoder.layers.10.self_attn.q_proj.lora_A.default.weight does not require gradients. Setting requires_grad to True.\n",
            "Parameter model.encoder.layers.10.self_attn.q_proj.lora_B.default.weight does not require gradients. Setting requires_grad to True.\n",
            "Parameter model.encoder.layers.10.self_attn.q_proj.lora_magnitude_vector.default.weight does not require gradients. Setting requires_grad to True.\n",
            "Parameter model.encoder.layers.10.self_attn.out_proj.weight does not require gradients. Setting requires_grad to True.\n",
            "Parameter model.encoder.layers.10.self_attn.out_proj.bias does not require gradients. Setting requires_grad to True.\n",
            "Parameter model.encoder.layers.10.self_attn_layer_norm.weight does not require gradients. Setting requires_grad to True.\n",
            "Parameter model.encoder.layers.10.self_attn_layer_norm.bias does not require gradients. Setting requires_grad to True.\n",
            "Parameter model.encoder.layers.10.fc1.weight does not require gradients. Setting requires_grad to True.\n",
            "Parameter model.encoder.layers.10.fc1.bias does not require gradients. Setting requires_grad to True.\n",
            "Parameter model.encoder.layers.10.fc2.weight does not require gradients. Setting requires_grad to True.\n",
            "Parameter model.encoder.layers.10.fc2.bias does not require gradients. Setting requires_grad to True.\n",
            "Parameter model.encoder.layers.10.final_layer_norm.weight does not require gradients. Setting requires_grad to True.\n",
            "Parameter model.encoder.layers.10.final_layer_norm.bias does not require gradients. Setting requires_grad to True.\n",
            "Parameter model.encoder.layers.11.self_attn.k_proj.weight does not require gradients. Setting requires_grad to True.\n",
            "Parameter model.encoder.layers.11.self_attn.k_proj.bias does not require gradients. Setting requires_grad to True.\n",
            "Parameter model.encoder.layers.11.self_attn.v_proj.base_layer.weight does not require gradients. Setting requires_grad to True.\n",
            "Parameter model.encoder.layers.11.self_attn.v_proj.base_layer.bias does not require gradients. Setting requires_grad to True.\n",
            "Parameter model.encoder.layers.11.self_attn.v_proj.lora_A.default.weight does not require gradients. Setting requires_grad to True.\n",
            "Parameter model.encoder.layers.11.self_attn.v_proj.lora_B.default.weight does not require gradients. Setting requires_grad to True.\n",
            "Parameter model.encoder.layers.11.self_attn.v_proj.lora_magnitude_vector.default.weight does not require gradients. Setting requires_grad to True.\n",
            "Parameter model.encoder.layers.11.self_attn.q_proj.base_layer.weight does not require gradients. Setting requires_grad to True.\n",
            "Parameter model.encoder.layers.11.self_attn.q_proj.base_layer.bias does not require gradients. Setting requires_grad to True.\n",
            "Parameter model.encoder.layers.11.self_attn.q_proj.lora_A.default.weight does not require gradients. Setting requires_grad to True.\n",
            "Parameter model.encoder.layers.11.self_attn.q_proj.lora_B.default.weight does not require gradients. Setting requires_grad to True.\n",
            "Parameter model.encoder.layers.11.self_attn.q_proj.lora_magnitude_vector.default.weight does not require gradients. Setting requires_grad to True.\n",
            "Parameter model.encoder.layers.11.self_attn.out_proj.weight does not require gradients. Setting requires_grad to True.\n",
            "Parameter model.encoder.layers.11.self_attn.out_proj.bias does not require gradients. Setting requires_grad to True.\n",
            "Parameter model.encoder.layers.11.self_attn_layer_norm.weight does not require gradients. Setting requires_grad to True.\n",
            "Parameter model.encoder.layers.11.self_attn_layer_norm.bias does not require gradients. Setting requires_grad to True.\n",
            "Parameter model.encoder.layers.11.fc1.weight does not require gradients. Setting requires_grad to True.\n",
            "Parameter model.encoder.layers.11.fc1.bias does not require gradients. Setting requires_grad to True.\n",
            "Parameter model.encoder.layers.11.fc2.weight does not require gradients. Setting requires_grad to True.\n",
            "Parameter model.encoder.layers.11.fc2.bias does not require gradients. Setting requires_grad to True.\n",
            "Parameter model.encoder.layers.11.final_layer_norm.weight does not require gradients. Setting requires_grad to True.\n",
            "Parameter model.encoder.layers.11.final_layer_norm.bias does not require gradients. Setting requires_grad to True.\n",
            "Parameter model.encoder.layernorm_embedding.weight does not require gradients. Setting requires_grad to True.\n",
            "Parameter model.encoder.layernorm_embedding.bias does not require gradients. Setting requires_grad to True.\n",
            "Parameter model.decoder.embed_positions.weight does not require gradients. Setting requires_grad to True.\n",
            "Parameter model.decoder.layers.0.self_attn.k_proj.weight does not require gradients. Setting requires_grad to True.\n",
            "Parameter model.decoder.layers.0.self_attn.k_proj.bias does not require gradients. Setting requires_grad to True.\n",
            "Parameter model.decoder.layers.0.self_attn.v_proj.base_layer.weight does not require gradients. Setting requires_grad to True.\n",
            "Parameter model.decoder.layers.0.self_attn.v_proj.base_layer.bias does not require gradients. Setting requires_grad to True.\n",
            "Parameter model.decoder.layers.0.self_attn.v_proj.lora_A.default.weight does not require gradients. Setting requires_grad to True.\n",
            "Parameter model.decoder.layers.0.self_attn.v_proj.lora_B.default.weight does not require gradients. Setting requires_grad to True.\n",
            "Parameter model.decoder.layers.0.self_attn.v_proj.lora_magnitude_vector.default.weight does not require gradients. Setting requires_grad to True.\n",
            "Parameter model.decoder.layers.0.self_attn.q_proj.base_layer.weight does not require gradients. Setting requires_grad to True.\n",
            "Parameter model.decoder.layers.0.self_attn.q_proj.base_layer.bias does not require gradients. Setting requires_grad to True.\n",
            "Parameter model.decoder.layers.0.self_attn.q_proj.lora_A.default.weight does not require gradients. Setting requires_grad to True.\n",
            "Parameter model.decoder.layers.0.self_attn.q_proj.lora_B.default.weight does not require gradients. Setting requires_grad to True.\n",
            "Parameter model.decoder.layers.0.self_attn.q_proj.lora_magnitude_vector.default.weight does not require gradients. Setting requires_grad to True.\n",
            "Parameter model.decoder.layers.0.self_attn.out_proj.weight does not require gradients. Setting requires_grad to True.\n",
            "Parameter model.decoder.layers.0.self_attn.out_proj.bias does not require gradients. Setting requires_grad to True.\n",
            "Parameter model.decoder.layers.0.self_attn_layer_norm.weight does not require gradients. Setting requires_grad to True.\n",
            "Parameter model.decoder.layers.0.self_attn_layer_norm.bias does not require gradients. Setting requires_grad to True.\n",
            "Parameter model.decoder.layers.0.encoder_attn.k_proj.weight does not require gradients. Setting requires_grad to True.\n",
            "Parameter model.decoder.layers.0.encoder_attn.k_proj.bias does not require gradients. Setting requires_grad to True.\n",
            "Parameter model.decoder.layers.0.encoder_attn.v_proj.base_layer.weight does not require gradients. Setting requires_grad to True.\n",
            "Parameter model.decoder.layers.0.encoder_attn.v_proj.base_layer.bias does not require gradients. Setting requires_grad to True.\n",
            "Parameter model.decoder.layers.0.encoder_attn.v_proj.lora_A.default.weight does not require gradients. Setting requires_grad to True.\n",
            "Parameter model.decoder.layers.0.encoder_attn.v_proj.lora_B.default.weight does not require gradients. Setting requires_grad to True.\n",
            "Parameter model.decoder.layers.0.encoder_attn.v_proj.lora_magnitude_vector.default.weight does not require gradients. Setting requires_grad to True.\n",
            "Parameter model.decoder.layers.0.encoder_attn.q_proj.base_layer.weight does not require gradients. Setting requires_grad to True.\n",
            "Parameter model.decoder.layers.0.encoder_attn.q_proj.base_layer.bias does not require gradients. Setting requires_grad to True.\n",
            "Parameter model.decoder.layers.0.encoder_attn.q_proj.lora_A.default.weight does not require gradients. Setting requires_grad to True.\n",
            "Parameter model.decoder.layers.0.encoder_attn.q_proj.lora_B.default.weight does not require gradients. Setting requires_grad to True.\n",
            "Parameter model.decoder.layers.0.encoder_attn.q_proj.lora_magnitude_vector.default.weight does not require gradients. Setting requires_grad to True.\n",
            "Parameter model.decoder.layers.0.encoder_attn.out_proj.weight does not require gradients. Setting requires_grad to True.\n",
            "Parameter model.decoder.layers.0.encoder_attn.out_proj.bias does not require gradients. Setting requires_grad to True.\n",
            "Parameter model.decoder.layers.0.encoder_attn_layer_norm.weight does not require gradients. Setting requires_grad to True.\n",
            "Parameter model.decoder.layers.0.encoder_attn_layer_norm.bias does not require gradients. Setting requires_grad to True.\n",
            "Parameter model.decoder.layers.0.fc1.weight does not require gradients. Setting requires_grad to True.\n",
            "Parameter model.decoder.layers.0.fc1.bias does not require gradients. Setting requires_grad to True.\n",
            "Parameter model.decoder.layers.0.fc2.weight does not require gradients. Setting requires_grad to True.\n",
            "Parameter model.decoder.layers.0.fc2.bias does not require gradients. Setting requires_grad to True.\n",
            "Parameter model.decoder.layers.0.final_layer_norm.weight does not require gradients. Setting requires_grad to True.\n",
            "Parameter model.decoder.layers.0.final_layer_norm.bias does not require gradients. Setting requires_grad to True.\n",
            "Parameter model.decoder.layers.1.self_attn.k_proj.weight does not require gradients. Setting requires_grad to True.\n",
            "Parameter model.decoder.layers.1.self_attn.k_proj.bias does not require gradients. Setting requires_grad to True.\n",
            "Parameter model.decoder.layers.1.self_attn.v_proj.base_layer.weight does not require gradients. Setting requires_grad to True.\n",
            "Parameter model.decoder.layers.1.self_attn.v_proj.base_layer.bias does not require gradients. Setting requires_grad to True.\n",
            "Parameter model.decoder.layers.1.self_attn.v_proj.lora_A.default.weight does not require gradients. Setting requires_grad to True.\n",
            "Parameter model.decoder.layers.1.self_attn.v_proj.lora_B.default.weight does not require gradients. Setting requires_grad to True.\n",
            "Parameter model.decoder.layers.1.self_attn.v_proj.lora_magnitude_vector.default.weight does not require gradients. Setting requires_grad to True.\n",
            "Parameter model.decoder.layers.1.self_attn.q_proj.base_layer.weight does not require gradients. Setting requires_grad to True.\n",
            "Parameter model.decoder.layers.1.self_attn.q_proj.base_layer.bias does not require gradients. Setting requires_grad to True.\n",
            "Parameter model.decoder.layers.1.self_attn.q_proj.lora_A.default.weight does not require gradients. Setting requires_grad to True.\n",
            "Parameter model.decoder.layers.1.self_attn.q_proj.lora_B.default.weight does not require gradients. Setting requires_grad to True.\n",
            "Parameter model.decoder.layers.1.self_attn.q_proj.lora_magnitude_vector.default.weight does not require gradients. Setting requires_grad to True.\n",
            "Parameter model.decoder.layers.1.self_attn.out_proj.weight does not require gradients. Setting requires_grad to True.\n",
            "Parameter model.decoder.layers.1.self_attn.out_proj.bias does not require gradients. Setting requires_grad to True.\n",
            "Parameter model.decoder.layers.1.self_attn_layer_norm.weight does not require gradients. Setting requires_grad to True.\n",
            "Parameter model.decoder.layers.1.self_attn_layer_norm.bias does not require gradients. Setting requires_grad to True.\n",
            "Parameter model.decoder.layers.1.encoder_attn.k_proj.weight does not require gradients. Setting requires_grad to True.\n",
            "Parameter model.decoder.layers.1.encoder_attn.k_proj.bias does not require gradients. Setting requires_grad to True.\n",
            "Parameter model.decoder.layers.1.encoder_attn.v_proj.base_layer.weight does not require gradients. Setting requires_grad to True.\n",
            "Parameter model.decoder.layers.1.encoder_attn.v_proj.base_layer.bias does not require gradients. Setting requires_grad to True.\n",
            "Parameter model.decoder.layers.1.encoder_attn.v_proj.lora_A.default.weight does not require gradients. Setting requires_grad to True.\n",
            "Parameter model.decoder.layers.1.encoder_attn.v_proj.lora_B.default.weight does not require gradients. Setting requires_grad to True.\n",
            "Parameter model.decoder.layers.1.encoder_attn.v_proj.lora_magnitude_vector.default.weight does not require gradients. Setting requires_grad to True.\n",
            "Parameter model.decoder.layers.1.encoder_attn.q_proj.base_layer.weight does not require gradients. Setting requires_grad to True.\n",
            "Parameter model.decoder.layers.1.encoder_attn.q_proj.base_layer.bias does not require gradients. Setting requires_grad to True.\n",
            "Parameter model.decoder.layers.1.encoder_attn.q_proj.lora_A.default.weight does not require gradients. Setting requires_grad to True.\n",
            "Parameter model.decoder.layers.1.encoder_attn.q_proj.lora_B.default.weight does not require gradients. Setting requires_grad to True.\n",
            "Parameter model.decoder.layers.1.encoder_attn.q_proj.lora_magnitude_vector.default.weight does not require gradients. Setting requires_grad to True.\n",
            "Parameter model.decoder.layers.1.encoder_attn.out_proj.weight does not require gradients. Setting requires_grad to True.\n",
            "Parameter model.decoder.layers.1.encoder_attn.out_proj.bias does not require gradients. Setting requires_grad to True.\n",
            "Parameter model.decoder.layers.1.encoder_attn_layer_norm.weight does not require gradients. Setting requires_grad to True.\n",
            "Parameter model.decoder.layers.1.encoder_attn_layer_norm.bias does not require gradients. Setting requires_grad to True.\n",
            "Parameter model.decoder.layers.1.fc1.weight does not require gradients. Setting requires_grad to True.\n",
            "Parameter model.decoder.layers.1.fc1.bias does not require gradients. Setting requires_grad to True.\n",
            "Parameter model.decoder.layers.1.fc2.weight does not require gradients. Setting requires_grad to True.\n",
            "Parameter model.decoder.layers.1.fc2.bias does not require gradients. Setting requires_grad to True.\n",
            "Parameter model.decoder.layers.1.final_layer_norm.weight does not require gradients. Setting requires_grad to True.\n",
            "Parameter model.decoder.layers.1.final_layer_norm.bias does not require gradients. Setting requires_grad to True.\n",
            "Parameter model.decoder.layers.2.self_attn.k_proj.weight does not require gradients. Setting requires_grad to True.\n",
            "Parameter model.decoder.layers.2.self_attn.k_proj.bias does not require gradients. Setting requires_grad to True.\n",
            "Parameter model.decoder.layers.2.self_attn.v_proj.base_layer.weight does not require gradients. Setting requires_grad to True.\n",
            "Parameter model.decoder.layers.2.self_attn.v_proj.base_layer.bias does not require gradients. Setting requires_grad to True.\n",
            "Parameter model.decoder.layers.2.self_attn.v_proj.lora_A.default.weight does not require gradients. Setting requires_grad to True.\n",
            "Parameter model.decoder.layers.2.self_attn.v_proj.lora_B.default.weight does not require gradients. Setting requires_grad to True.\n",
            "Parameter model.decoder.layers.2.self_attn.v_proj.lora_magnitude_vector.default.weight does not require gradients. Setting requires_grad to True.\n",
            "Parameter model.decoder.layers.2.self_attn.q_proj.base_layer.weight does not require gradients. Setting requires_grad to True.\n",
            "Parameter model.decoder.layers.2.self_attn.q_proj.base_layer.bias does not require gradients. Setting requires_grad to True.\n",
            "Parameter model.decoder.layers.2.self_attn.q_proj.lora_A.default.weight does not require gradients. Setting requires_grad to True.\n",
            "Parameter model.decoder.layers.2.self_attn.q_proj.lora_B.default.weight does not require gradients. Setting requires_grad to True.\n",
            "Parameter model.decoder.layers.2.self_attn.q_proj.lora_magnitude_vector.default.weight does not require gradients. Setting requires_grad to True.\n",
            "Parameter model.decoder.layers.2.self_attn.out_proj.weight does not require gradients. Setting requires_grad to True.\n",
            "Parameter model.decoder.layers.2.self_attn.out_proj.bias does not require gradients. Setting requires_grad to True.\n",
            "Parameter model.decoder.layers.2.self_attn_layer_norm.weight does not require gradients. Setting requires_grad to True.\n",
            "Parameter model.decoder.layers.2.self_attn_layer_norm.bias does not require gradients. Setting requires_grad to True.\n",
            "Parameter model.decoder.layers.2.encoder_attn.k_proj.weight does not require gradients. Setting requires_grad to True.\n",
            "Parameter model.decoder.layers.2.encoder_attn.k_proj.bias does not require gradients. Setting requires_grad to True.\n",
            "Parameter model.decoder.layers.2.encoder_attn.v_proj.base_layer.weight does not require gradients. Setting requires_grad to True.\n",
            "Parameter model.decoder.layers.2.encoder_attn.v_proj.base_layer.bias does not require gradients. Setting requires_grad to True.\n",
            "Parameter model.decoder.layers.2.encoder_attn.v_proj.lora_A.default.weight does not require gradients. Setting requires_grad to True.\n",
            "Parameter model.decoder.layers.2.encoder_attn.v_proj.lora_B.default.weight does not require gradients. Setting requires_grad to True.\n",
            "Parameter model.decoder.layers.2.encoder_attn.v_proj.lora_magnitude_vector.default.weight does not require gradients. Setting requires_grad to True.\n",
            "Parameter model.decoder.layers.2.encoder_attn.q_proj.base_layer.weight does not require gradients. Setting requires_grad to True.\n",
            "Parameter model.decoder.layers.2.encoder_attn.q_proj.base_layer.bias does not require gradients. Setting requires_grad to True.\n",
            "Parameter model.decoder.layers.2.encoder_attn.q_proj.lora_A.default.weight does not require gradients. Setting requires_grad to True.\n",
            "Parameter model.decoder.layers.2.encoder_attn.q_proj.lora_B.default.weight does not require gradients. Setting requires_grad to True.\n",
            "Parameter model.decoder.layers.2.encoder_attn.q_proj.lora_magnitude_vector.default.weight does not require gradients. Setting requires_grad to True.\n",
            "Parameter model.decoder.layers.2.encoder_attn.out_proj.weight does not require gradients. Setting requires_grad to True.\n",
            "Parameter model.decoder.layers.2.encoder_attn.out_proj.bias does not require gradients. Setting requires_grad to True.\n",
            "Parameter model.decoder.layers.2.encoder_attn_layer_norm.weight does not require gradients. Setting requires_grad to True.\n",
            "Parameter model.decoder.layers.2.encoder_attn_layer_norm.bias does not require gradients. Setting requires_grad to True.\n",
            "Parameter model.decoder.layers.2.fc1.weight does not require gradients. Setting requires_grad to True.\n",
            "Parameter model.decoder.layers.2.fc1.bias does not require gradients. Setting requires_grad to True.\n",
            "Parameter model.decoder.layers.2.fc2.weight does not require gradients. Setting requires_grad to True.\n",
            "Parameter model.decoder.layers.2.fc2.bias does not require gradients. Setting requires_grad to True.\n",
            "Parameter model.decoder.layers.2.final_layer_norm.weight does not require gradients. Setting requires_grad to True.\n",
            "Parameter model.decoder.layers.2.final_layer_norm.bias does not require gradients. Setting requires_grad to True.\n",
            "Parameter model.decoder.layers.3.self_attn.k_proj.weight does not require gradients. Setting requires_grad to True.\n",
            "Parameter model.decoder.layers.3.self_attn.k_proj.bias does not require gradients. Setting requires_grad to True.\n",
            "Parameter model.decoder.layers.3.self_attn.v_proj.base_layer.weight does not require gradients. Setting requires_grad to True.\n",
            "Parameter model.decoder.layers.3.self_attn.v_proj.base_layer.bias does not require gradients. Setting requires_grad to True.\n",
            "Parameter model.decoder.layers.3.self_attn.v_proj.lora_A.default.weight does not require gradients. Setting requires_grad to True.\n",
            "Parameter model.decoder.layers.3.self_attn.v_proj.lora_B.default.weight does not require gradients. Setting requires_grad to True.\n",
            "Parameter model.decoder.layers.3.self_attn.v_proj.lora_magnitude_vector.default.weight does not require gradients. Setting requires_grad to True.\n",
            "Parameter model.decoder.layers.3.self_attn.q_proj.base_layer.weight does not require gradients. Setting requires_grad to True.\n",
            "Parameter model.decoder.layers.3.self_attn.q_proj.base_layer.bias does not require gradients. Setting requires_grad to True.\n",
            "Parameter model.decoder.layers.3.self_attn.q_proj.lora_A.default.weight does not require gradients. Setting requires_grad to True.\n",
            "Parameter model.decoder.layers.3.self_attn.q_proj.lora_B.default.weight does not require gradients. Setting requires_grad to True.\n",
            "Parameter model.decoder.layers.3.self_attn.q_proj.lora_magnitude_vector.default.weight does not require gradients. Setting requires_grad to True.\n",
            "Parameter model.decoder.layers.3.self_attn.out_proj.weight does not require gradients. Setting requires_grad to True.\n",
            "Parameter model.decoder.layers.3.self_attn.out_proj.bias does not require gradients. Setting requires_grad to True.\n",
            "Parameter model.decoder.layers.3.self_attn_layer_norm.weight does not require gradients. Setting requires_grad to True.\n",
            "Parameter model.decoder.layers.3.self_attn_layer_norm.bias does not require gradients. Setting requires_grad to True.\n",
            "Parameter model.decoder.layers.3.encoder_attn.k_proj.weight does not require gradients. Setting requires_grad to True.\n",
            "Parameter model.decoder.layers.3.encoder_attn.k_proj.bias does not require gradients. Setting requires_grad to True.\n",
            "Parameter model.decoder.layers.3.encoder_attn.v_proj.base_layer.weight does not require gradients. Setting requires_grad to True.\n",
            "Parameter model.decoder.layers.3.encoder_attn.v_proj.base_layer.bias does not require gradients. Setting requires_grad to True.\n",
            "Parameter model.decoder.layers.3.encoder_attn.v_proj.lora_A.default.weight does not require gradients. Setting requires_grad to True.\n",
            "Parameter model.decoder.layers.3.encoder_attn.v_proj.lora_B.default.weight does not require gradients. Setting requires_grad to True.\n",
            "Parameter model.decoder.layers.3.encoder_attn.v_proj.lora_magnitude_vector.default.weight does not require gradients. Setting requires_grad to True.\n",
            "Parameter model.decoder.layers.3.encoder_attn.q_proj.base_layer.weight does not require gradients. Setting requires_grad to True.\n",
            "Parameter model.decoder.layers.3.encoder_attn.q_proj.base_layer.bias does not require gradients. Setting requires_grad to True.\n",
            "Parameter model.decoder.layers.3.encoder_attn.q_proj.lora_A.default.weight does not require gradients. Setting requires_grad to True.\n",
            "Parameter model.decoder.layers.3.encoder_attn.q_proj.lora_B.default.weight does not require gradients. Setting requires_grad to True.\n",
            "Parameter model.decoder.layers.3.encoder_attn.q_proj.lora_magnitude_vector.default.weight does not require gradients. Setting requires_grad to True.\n",
            "Parameter model.decoder.layers.3.encoder_attn.out_proj.weight does not require gradients. Setting requires_grad to True.\n",
            "Parameter model.decoder.layers.3.encoder_attn.out_proj.bias does not require gradients. Setting requires_grad to True.\n",
            "Parameter model.decoder.layers.3.encoder_attn_layer_norm.weight does not require gradients. Setting requires_grad to True.\n",
            "Parameter model.decoder.layers.3.encoder_attn_layer_norm.bias does not require gradients. Setting requires_grad to True.\n",
            "Parameter model.decoder.layers.3.fc1.weight does not require gradients. Setting requires_grad to True.\n",
            "Parameter model.decoder.layers.3.fc1.bias does not require gradients. Setting requires_grad to True.\n",
            "Parameter model.decoder.layers.3.fc2.weight does not require gradients. Setting requires_grad to True.\n",
            "Parameter model.decoder.layers.3.fc2.bias does not require gradients. Setting requires_grad to True.\n",
            "Parameter model.decoder.layers.3.final_layer_norm.weight does not require gradients. Setting requires_grad to True.\n",
            "Parameter model.decoder.layers.3.final_layer_norm.bias does not require gradients. Setting requires_grad to True.\n",
            "Parameter model.decoder.layers.4.self_attn.k_proj.weight does not require gradients. Setting requires_grad to True.\n",
            "Parameter model.decoder.layers.4.self_attn.k_proj.bias does not require gradients. Setting requires_grad to True.\n",
            "Parameter model.decoder.layers.4.self_attn.v_proj.base_layer.weight does not require gradients. Setting requires_grad to True.\n",
            "Parameter model.decoder.layers.4.self_attn.v_proj.base_layer.bias does not require gradients. Setting requires_grad to True.\n",
            "Parameter model.decoder.layers.4.self_attn.v_proj.lora_A.default.weight does not require gradients. Setting requires_grad to True.\n",
            "Parameter model.decoder.layers.4.self_attn.v_proj.lora_B.default.weight does not require gradients. Setting requires_grad to True.\n",
            "Parameter model.decoder.layers.4.self_attn.v_proj.lora_magnitude_vector.default.weight does not require gradients. Setting requires_grad to True.\n",
            "Parameter model.decoder.layers.4.self_attn.q_proj.base_layer.weight does not require gradients. Setting requires_grad to True.\n",
            "Parameter model.decoder.layers.4.self_attn.q_proj.base_layer.bias does not require gradients. Setting requires_grad to True.\n",
            "Parameter model.decoder.layers.4.self_attn.q_proj.lora_A.default.weight does not require gradients. Setting requires_grad to True.\n",
            "Parameter model.decoder.layers.4.self_attn.q_proj.lora_B.default.weight does not require gradients. Setting requires_grad to True.\n",
            "Parameter model.decoder.layers.4.self_attn.q_proj.lora_magnitude_vector.default.weight does not require gradients. Setting requires_grad to True.\n",
            "Parameter model.decoder.layers.4.self_attn.out_proj.weight does not require gradients. Setting requires_grad to True.\n",
            "Parameter model.decoder.layers.4.self_attn.out_proj.bias does not require gradients. Setting requires_grad to True.\n",
            "Parameter model.decoder.layers.4.self_attn_layer_norm.weight does not require gradients. Setting requires_grad to True.\n",
            "Parameter model.decoder.layers.4.self_attn_layer_norm.bias does not require gradients. Setting requires_grad to True.\n",
            "Parameter model.decoder.layers.4.encoder_attn.k_proj.weight does not require gradients. Setting requires_grad to True.\n",
            "Parameter model.decoder.layers.4.encoder_attn.k_proj.bias does not require gradients. Setting requires_grad to True.\n",
            "Parameter model.decoder.layers.4.encoder_attn.v_proj.base_layer.weight does not require gradients. Setting requires_grad to True.\n",
            "Parameter model.decoder.layers.4.encoder_attn.v_proj.base_layer.bias does not require gradients. Setting requires_grad to True.\n",
            "Parameter model.decoder.layers.4.encoder_attn.v_proj.lora_A.default.weight does not require gradients. Setting requires_grad to True.\n",
            "Parameter model.decoder.layers.4.encoder_attn.v_proj.lora_B.default.weight does not require gradients. Setting requires_grad to True.\n",
            "Parameter model.decoder.layers.4.encoder_attn.v_proj.lora_magnitude_vector.default.weight does not require gradients. Setting requires_grad to True.\n",
            "Parameter model.decoder.layers.4.encoder_attn.q_proj.base_layer.weight does not require gradients. Setting requires_grad to True.\n",
            "Parameter model.decoder.layers.4.encoder_attn.q_proj.base_layer.bias does not require gradients. Setting requires_grad to True.\n",
            "Parameter model.decoder.layers.4.encoder_attn.q_proj.lora_A.default.weight does not require gradients. Setting requires_grad to True.\n",
            "Parameter model.decoder.layers.4.encoder_attn.q_proj.lora_B.default.weight does not require gradients. Setting requires_grad to True.\n",
            "Parameter model.decoder.layers.4.encoder_attn.q_proj.lora_magnitude_vector.default.weight does not require gradients. Setting requires_grad to True.\n",
            "Parameter model.decoder.layers.4.encoder_attn.out_proj.weight does not require gradients. Setting requires_grad to True.\n",
            "Parameter model.decoder.layers.4.encoder_attn.out_proj.bias does not require gradients. Setting requires_grad to True.\n",
            "Parameter model.decoder.layers.4.encoder_attn_layer_norm.weight does not require gradients. Setting requires_grad to True.\n",
            "Parameter model.decoder.layers.4.encoder_attn_layer_norm.bias does not require gradients. Setting requires_grad to True.\n",
            "Parameter model.decoder.layers.4.fc1.weight does not require gradients. Setting requires_grad to True.\n",
            "Parameter model.decoder.layers.4.fc1.bias does not require gradients. Setting requires_grad to True.\n",
            "Parameter model.decoder.layers.4.fc2.weight does not require gradients. Setting requires_grad to True.\n",
            "Parameter model.decoder.layers.4.fc2.bias does not require gradients. Setting requires_grad to True.\n",
            "Parameter model.decoder.layers.4.final_layer_norm.weight does not require gradients. Setting requires_grad to True.\n",
            "Parameter model.decoder.layers.4.final_layer_norm.bias does not require gradients. Setting requires_grad to True.\n",
            "Parameter model.decoder.layers.5.self_attn.k_proj.weight does not require gradients. Setting requires_grad to True.\n",
            "Parameter model.decoder.layers.5.self_attn.k_proj.bias does not require gradients. Setting requires_grad to True.\n",
            "Parameter model.decoder.layers.5.self_attn.v_proj.base_layer.weight does not require gradients. Setting requires_grad to True.\n",
            "Parameter model.decoder.layers.5.self_attn.v_proj.base_layer.bias does not require gradients. Setting requires_grad to True.\n",
            "Parameter model.decoder.layers.5.self_attn.v_proj.lora_A.default.weight does not require gradients. Setting requires_grad to True.\n",
            "Parameter model.decoder.layers.5.self_attn.v_proj.lora_B.default.weight does not require gradients. Setting requires_grad to True.\n",
            "Parameter model.decoder.layers.5.self_attn.v_proj.lora_magnitude_vector.default.weight does not require gradients. Setting requires_grad to True.\n",
            "Parameter model.decoder.layers.5.self_attn.q_proj.base_layer.weight does not require gradients. Setting requires_grad to True.\n",
            "Parameter model.decoder.layers.5.self_attn.q_proj.base_layer.bias does not require gradients. Setting requires_grad to True.\n",
            "Parameter model.decoder.layers.5.self_attn.q_proj.lora_A.default.weight does not require gradients. Setting requires_grad to True.\n",
            "Parameter model.decoder.layers.5.self_attn.q_proj.lora_B.default.weight does not require gradients. Setting requires_grad to True.\n",
            "Parameter model.decoder.layers.5.self_attn.q_proj.lora_magnitude_vector.default.weight does not require gradients. Setting requires_grad to True.\n",
            "Parameter model.decoder.layers.5.self_attn.out_proj.weight does not require gradients. Setting requires_grad to True.\n",
            "Parameter model.decoder.layers.5.self_attn.out_proj.bias does not require gradients. Setting requires_grad to True.\n",
            "Parameter model.decoder.layers.5.self_attn_layer_norm.weight does not require gradients. Setting requires_grad to True.\n",
            "Parameter model.decoder.layers.5.self_attn_layer_norm.bias does not require gradients. Setting requires_grad to True.\n",
            "Parameter model.decoder.layers.5.encoder_attn.k_proj.weight does not require gradients. Setting requires_grad to True.\n",
            "Parameter model.decoder.layers.5.encoder_attn.k_proj.bias does not require gradients. Setting requires_grad to True.\n",
            "Parameter model.decoder.layers.5.encoder_attn.v_proj.base_layer.weight does not require gradients. Setting requires_grad to True.\n",
            "Parameter model.decoder.layers.5.encoder_attn.v_proj.base_layer.bias does not require gradients. Setting requires_grad to True.\n",
            "Parameter model.decoder.layers.5.encoder_attn.v_proj.lora_A.default.weight does not require gradients. Setting requires_grad to True.\n",
            "Parameter model.decoder.layers.5.encoder_attn.v_proj.lora_B.default.weight does not require gradients. Setting requires_grad to True.\n",
            "Parameter model.decoder.layers.5.encoder_attn.v_proj.lora_magnitude_vector.default.weight does not require gradients. Setting requires_grad to True.\n",
            "Parameter model.decoder.layers.5.encoder_attn.q_proj.base_layer.weight does not require gradients. Setting requires_grad to True.\n",
            "Parameter model.decoder.layers.5.encoder_attn.q_proj.base_layer.bias does not require gradients. Setting requires_grad to True.\n",
            "Parameter model.decoder.layers.5.encoder_attn.q_proj.lora_A.default.weight does not require gradients. Setting requires_grad to True.\n",
            "Parameter model.decoder.layers.5.encoder_attn.q_proj.lora_B.default.weight does not require gradients. Setting requires_grad to True.\n",
            "Parameter model.decoder.layers.5.encoder_attn.q_proj.lora_magnitude_vector.default.weight does not require gradients. Setting requires_grad to True.\n",
            "Parameter model.decoder.layers.5.encoder_attn.out_proj.weight does not require gradients. Setting requires_grad to True.\n",
            "Parameter model.decoder.layers.5.encoder_attn.out_proj.bias does not require gradients. Setting requires_grad to True.\n",
            "Parameter model.decoder.layers.5.encoder_attn_layer_norm.weight does not require gradients. Setting requires_grad to True.\n",
            "Parameter model.decoder.layers.5.encoder_attn_layer_norm.bias does not require gradients. Setting requires_grad to True.\n",
            "Parameter model.decoder.layers.5.fc1.weight does not require gradients. Setting requires_grad to True.\n",
            "Parameter model.decoder.layers.5.fc1.bias does not require gradients. Setting requires_grad to True.\n",
            "Parameter model.decoder.layers.5.fc2.weight does not require gradients. Setting requires_grad to True.\n",
            "Parameter model.decoder.layers.5.fc2.bias does not require gradients. Setting requires_grad to True.\n",
            "Parameter model.decoder.layers.5.final_layer_norm.weight does not require gradients. Setting requires_grad to True.\n",
            "Parameter model.decoder.layers.5.final_layer_norm.bias does not require gradients. Setting requires_grad to True.\n",
            "Parameter model.decoder.layers.6.self_attn.k_proj.weight does not require gradients. Setting requires_grad to True.\n",
            "Parameter model.decoder.layers.6.self_attn.k_proj.bias does not require gradients. Setting requires_grad to True.\n",
            "Parameter model.decoder.layers.6.self_attn.v_proj.base_layer.weight does not require gradients. Setting requires_grad to True.\n",
            "Parameter model.decoder.layers.6.self_attn.v_proj.base_layer.bias does not require gradients. Setting requires_grad to True.\n",
            "Parameter model.decoder.layers.6.self_attn.v_proj.lora_A.default.weight does not require gradients. Setting requires_grad to True.\n",
            "Parameter model.decoder.layers.6.self_attn.v_proj.lora_B.default.weight does not require gradients. Setting requires_grad to True.\n",
            "Parameter model.decoder.layers.6.self_attn.v_proj.lora_magnitude_vector.default.weight does not require gradients. Setting requires_grad to True.\n",
            "Parameter model.decoder.layers.6.self_attn.q_proj.base_layer.weight does not require gradients. Setting requires_grad to True.\n",
            "Parameter model.decoder.layers.6.self_attn.q_proj.base_layer.bias does not require gradients. Setting requires_grad to True.\n",
            "Parameter model.decoder.layers.6.self_attn.q_proj.lora_A.default.weight does not require gradients. Setting requires_grad to True.\n",
            "Parameter model.decoder.layers.6.self_attn.q_proj.lora_B.default.weight does not require gradients. Setting requires_grad to True.\n",
            "Parameter model.decoder.layers.6.self_attn.q_proj.lora_magnitude_vector.default.weight does not require gradients. Setting requires_grad to True.\n",
            "Parameter model.decoder.layers.6.self_attn.out_proj.weight does not require gradients. Setting requires_grad to True.\n",
            "Parameter model.decoder.layers.6.self_attn.out_proj.bias does not require gradients. Setting requires_grad to True.\n",
            "Parameter model.decoder.layers.6.self_attn_layer_norm.weight does not require gradients. Setting requires_grad to True.\n",
            "Parameter model.decoder.layers.6.self_attn_layer_norm.bias does not require gradients. Setting requires_grad to True.\n",
            "Parameter model.decoder.layers.6.encoder_attn.k_proj.weight does not require gradients. Setting requires_grad to True.\n",
            "Parameter model.decoder.layers.6.encoder_attn.k_proj.bias does not require gradients. Setting requires_grad to True.\n",
            "Parameter model.decoder.layers.6.encoder_attn.v_proj.base_layer.weight does not require gradients. Setting requires_grad to True.\n",
            "Parameter model.decoder.layers.6.encoder_attn.v_proj.base_layer.bias does not require gradients. Setting requires_grad to True.\n",
            "Parameter model.decoder.layers.6.encoder_attn.v_proj.lora_A.default.weight does not require gradients. Setting requires_grad to True.\n",
            "Parameter model.decoder.layers.6.encoder_attn.v_proj.lora_B.default.weight does not require gradients. Setting requires_grad to True.\n",
            "Parameter model.decoder.layers.6.encoder_attn.v_proj.lora_magnitude_vector.default.weight does not require gradients. Setting requires_grad to True.\n",
            "Parameter model.decoder.layers.6.encoder_attn.q_proj.base_layer.weight does not require gradients. Setting requires_grad to True.\n",
            "Parameter model.decoder.layers.6.encoder_attn.q_proj.base_layer.bias does not require gradients. Setting requires_grad to True.\n",
            "Parameter model.decoder.layers.6.encoder_attn.q_proj.lora_A.default.weight does not require gradients. Setting requires_grad to True.\n",
            "Parameter model.decoder.layers.6.encoder_attn.q_proj.lora_B.default.weight does not require gradients. Setting requires_grad to True.\n",
            "Parameter model.decoder.layers.6.encoder_attn.q_proj.lora_magnitude_vector.default.weight does not require gradients. Setting requires_grad to True.\n",
            "Parameter model.decoder.layers.6.encoder_attn.out_proj.weight does not require gradients. Setting requires_grad to True.\n",
            "Parameter model.decoder.layers.6.encoder_attn.out_proj.bias does not require gradients. Setting requires_grad to True.\n",
            "Parameter model.decoder.layers.6.encoder_attn_layer_norm.weight does not require gradients. Setting requires_grad to True.\n",
            "Parameter model.decoder.layers.6.encoder_attn_layer_norm.bias does not require gradients. Setting requires_grad to True.\n",
            "Parameter model.decoder.layers.6.fc1.weight does not require gradients. Setting requires_grad to True.\n",
            "Parameter model.decoder.layers.6.fc1.bias does not require gradients. Setting requires_grad to True.\n",
            "Parameter model.decoder.layers.6.fc2.weight does not require gradients. Setting requires_grad to True.\n",
            "Parameter model.decoder.layers.6.fc2.bias does not require gradients. Setting requires_grad to True.\n",
            "Parameter model.decoder.layers.6.final_layer_norm.weight does not require gradients. Setting requires_grad to True.\n",
            "Parameter model.decoder.layers.6.final_layer_norm.bias does not require gradients. Setting requires_grad to True.\n",
            "Parameter model.decoder.layers.7.self_attn.k_proj.weight does not require gradients. Setting requires_grad to True.\n",
            "Parameter model.decoder.layers.7.self_attn.k_proj.bias does not require gradients. Setting requires_grad to True.\n",
            "Parameter model.decoder.layers.7.self_attn.v_proj.base_layer.weight does not require gradients. Setting requires_grad to True.\n",
            "Parameter model.decoder.layers.7.self_attn.v_proj.base_layer.bias does not require gradients. Setting requires_grad to True.\n",
            "Parameter model.decoder.layers.7.self_attn.v_proj.lora_A.default.weight does not require gradients. Setting requires_grad to True.\n",
            "Parameter model.decoder.layers.7.self_attn.v_proj.lora_B.default.weight does not require gradients. Setting requires_grad to True.\n",
            "Parameter model.decoder.layers.7.self_attn.v_proj.lora_magnitude_vector.default.weight does not require gradients. Setting requires_grad to True.\n",
            "Parameter model.decoder.layers.7.self_attn.q_proj.base_layer.weight does not require gradients. Setting requires_grad to True.\n",
            "Parameter model.decoder.layers.7.self_attn.q_proj.base_layer.bias does not require gradients. Setting requires_grad to True.\n",
            "Parameter model.decoder.layers.7.self_attn.q_proj.lora_A.default.weight does not require gradients. Setting requires_grad to True.\n",
            "Parameter model.decoder.layers.7.self_attn.q_proj.lora_B.default.weight does not require gradients. Setting requires_grad to True.\n",
            "Parameter model.decoder.layers.7.self_attn.q_proj.lora_magnitude_vector.default.weight does not require gradients. Setting requires_grad to True.\n",
            "Parameter model.decoder.layers.7.self_attn.out_proj.weight does not require gradients. Setting requires_grad to True.\n",
            "Parameter model.decoder.layers.7.self_attn.out_proj.bias does not require gradients. Setting requires_grad to True.\n",
            "Parameter model.decoder.layers.7.self_attn_layer_norm.weight does not require gradients. Setting requires_grad to True.\n",
            "Parameter model.decoder.layers.7.self_attn_layer_norm.bias does not require gradients. Setting requires_grad to True.\n",
            "Parameter model.decoder.layers.7.encoder_attn.k_proj.weight does not require gradients. Setting requires_grad to True.\n",
            "Parameter model.decoder.layers.7.encoder_attn.k_proj.bias does not require gradients. Setting requires_grad to True.\n",
            "Parameter model.decoder.layers.7.encoder_attn.v_proj.base_layer.weight does not require gradients. Setting requires_grad to True.\n",
            "Parameter model.decoder.layers.7.encoder_attn.v_proj.base_layer.bias does not require gradients. Setting requires_grad to True.\n",
            "Parameter model.decoder.layers.7.encoder_attn.v_proj.lora_A.default.weight does not require gradients. Setting requires_grad to True.\n",
            "Parameter model.decoder.layers.7.encoder_attn.v_proj.lora_B.default.weight does not require gradients. Setting requires_grad to True.\n",
            "Parameter model.decoder.layers.7.encoder_attn.v_proj.lora_magnitude_vector.default.weight does not require gradients. Setting requires_grad to True.\n",
            "Parameter model.decoder.layers.7.encoder_attn.q_proj.base_layer.weight does not require gradients. Setting requires_grad to True.\n",
            "Parameter model.decoder.layers.7.encoder_attn.q_proj.base_layer.bias does not require gradients. Setting requires_grad to True.\n",
            "Parameter model.decoder.layers.7.encoder_attn.q_proj.lora_A.default.weight does not require gradients. Setting requires_grad to True.\n",
            "Parameter model.decoder.layers.7.encoder_attn.q_proj.lora_B.default.weight does not require gradients. Setting requires_grad to True.\n",
            "Parameter model.decoder.layers.7.encoder_attn.q_proj.lora_magnitude_vector.default.weight does not require gradients. Setting requires_grad to True.\n",
            "Parameter model.decoder.layers.7.encoder_attn.out_proj.weight does not require gradients. Setting requires_grad to True.\n",
            "Parameter model.decoder.layers.7.encoder_attn.out_proj.bias does not require gradients. Setting requires_grad to True.\n",
            "Parameter model.decoder.layers.7.encoder_attn_layer_norm.weight does not require gradients. Setting requires_grad to True.\n",
            "Parameter model.decoder.layers.7.encoder_attn_layer_norm.bias does not require gradients. Setting requires_grad to True.\n",
            "Parameter model.decoder.layers.7.fc1.weight does not require gradients. Setting requires_grad to True.\n",
            "Parameter model.decoder.layers.7.fc1.bias does not require gradients. Setting requires_grad to True.\n",
            "Parameter model.decoder.layers.7.fc2.weight does not require gradients. Setting requires_grad to True.\n",
            "Parameter model.decoder.layers.7.fc2.bias does not require gradients. Setting requires_grad to True.\n",
            "Parameter model.decoder.layers.7.final_layer_norm.weight does not require gradients. Setting requires_grad to True.\n",
            "Parameter model.decoder.layers.7.final_layer_norm.bias does not require gradients. Setting requires_grad to True.\n",
            "Parameter model.decoder.layers.8.self_attn.k_proj.weight does not require gradients. Setting requires_grad to True.\n",
            "Parameter model.decoder.layers.8.self_attn.k_proj.bias does not require gradients. Setting requires_grad to True.\n",
            "Parameter model.decoder.layers.8.self_attn.v_proj.base_layer.weight does not require gradients. Setting requires_grad to True.\n",
            "Parameter model.decoder.layers.8.self_attn.v_proj.base_layer.bias does not require gradients. Setting requires_grad to True.\n",
            "Parameter model.decoder.layers.8.self_attn.v_proj.lora_A.default.weight does not require gradients. Setting requires_grad to True.\n",
            "Parameter model.decoder.layers.8.self_attn.v_proj.lora_B.default.weight does not require gradients. Setting requires_grad to True.\n",
            "Parameter model.decoder.layers.8.self_attn.v_proj.lora_magnitude_vector.default.weight does not require gradients. Setting requires_grad to True.\n",
            "Parameter model.decoder.layers.8.self_attn.q_proj.base_layer.weight does not require gradients. Setting requires_grad to True.\n",
            "Parameter model.decoder.layers.8.self_attn.q_proj.base_layer.bias does not require gradients. Setting requires_grad to True.\n",
            "Parameter model.decoder.layers.8.self_attn.q_proj.lora_A.default.weight does not require gradients. Setting requires_grad to True.\n",
            "Parameter model.decoder.layers.8.self_attn.q_proj.lora_B.default.weight does not require gradients. Setting requires_grad to True.\n",
            "Parameter model.decoder.layers.8.self_attn.q_proj.lora_magnitude_vector.default.weight does not require gradients. Setting requires_grad to True.\n",
            "Parameter model.decoder.layers.8.self_attn.out_proj.weight does not require gradients. Setting requires_grad to True.\n",
            "Parameter model.decoder.layers.8.self_attn.out_proj.bias does not require gradients. Setting requires_grad to True.\n",
            "Parameter model.decoder.layers.8.self_attn_layer_norm.weight does not require gradients. Setting requires_grad to True.\n",
            "Parameter model.decoder.layers.8.self_attn_layer_norm.bias does not require gradients. Setting requires_grad to True.\n",
            "Parameter model.decoder.layers.8.encoder_attn.k_proj.weight does not require gradients. Setting requires_grad to True.\n",
            "Parameter model.decoder.layers.8.encoder_attn.k_proj.bias does not require gradients. Setting requires_grad to True.\n",
            "Parameter model.decoder.layers.8.encoder_attn.v_proj.base_layer.weight does not require gradients. Setting requires_grad to True.\n",
            "Parameter model.decoder.layers.8.encoder_attn.v_proj.base_layer.bias does not require gradients. Setting requires_grad to True.\n",
            "Parameter model.decoder.layers.8.encoder_attn.v_proj.lora_A.default.weight does not require gradients. Setting requires_grad to True.\n",
            "Parameter model.decoder.layers.8.encoder_attn.v_proj.lora_B.default.weight does not require gradients. Setting requires_grad to True.\n",
            "Parameter model.decoder.layers.8.encoder_attn.v_proj.lora_magnitude_vector.default.weight does not require gradients. Setting requires_grad to True.\n",
            "Parameter model.decoder.layers.8.encoder_attn.q_proj.base_layer.weight does not require gradients. Setting requires_grad to True.\n",
            "Parameter model.decoder.layers.8.encoder_attn.q_proj.base_layer.bias does not require gradients. Setting requires_grad to True.\n",
            "Parameter model.decoder.layers.8.encoder_attn.q_proj.lora_A.default.weight does not require gradients. Setting requires_grad to True.\n",
            "Parameter model.decoder.layers.8.encoder_attn.q_proj.lora_B.default.weight does not require gradients. Setting requires_grad to True.\n",
            "Parameter model.decoder.layers.8.encoder_attn.q_proj.lora_magnitude_vector.default.weight does not require gradients. Setting requires_grad to True.\n",
            "Parameter model.decoder.layers.8.encoder_attn.out_proj.weight does not require gradients. Setting requires_grad to True.\n",
            "Parameter model.decoder.layers.8.encoder_attn.out_proj.bias does not require gradients. Setting requires_grad to True.\n",
            "Parameter model.decoder.layers.8.encoder_attn_layer_norm.weight does not require gradients. Setting requires_grad to True.\n",
            "Parameter model.decoder.layers.8.encoder_attn_layer_norm.bias does not require gradients. Setting requires_grad to True.\n",
            "Parameter model.decoder.layers.8.fc1.weight does not require gradients. Setting requires_grad to True.\n",
            "Parameter model.decoder.layers.8.fc1.bias does not require gradients. Setting requires_grad to True.\n",
            "Parameter model.decoder.layers.8.fc2.weight does not require gradients. Setting requires_grad to True.\n",
            "Parameter model.decoder.layers.8.fc2.bias does not require gradients. Setting requires_grad to True.\n",
            "Parameter model.decoder.layers.8.final_layer_norm.weight does not require gradients. Setting requires_grad to True.\n",
            "Parameter model.decoder.layers.8.final_layer_norm.bias does not require gradients. Setting requires_grad to True.\n",
            "Parameter model.decoder.layers.9.self_attn.k_proj.weight does not require gradients. Setting requires_grad to True.\n",
            "Parameter model.decoder.layers.9.self_attn.k_proj.bias does not require gradients. Setting requires_grad to True.\n",
            "Parameter model.decoder.layers.9.self_attn.v_proj.base_layer.weight does not require gradients. Setting requires_grad to True.\n",
            "Parameter model.decoder.layers.9.self_attn.v_proj.base_layer.bias does not require gradients. Setting requires_grad to True.\n",
            "Parameter model.decoder.layers.9.self_attn.v_proj.lora_A.default.weight does not require gradients. Setting requires_grad to True.\n",
            "Parameter model.decoder.layers.9.self_attn.v_proj.lora_B.default.weight does not require gradients. Setting requires_grad to True.\n",
            "Parameter model.decoder.layers.9.self_attn.v_proj.lora_magnitude_vector.default.weight does not require gradients. Setting requires_grad to True.\n",
            "Parameter model.decoder.layers.9.self_attn.q_proj.base_layer.weight does not require gradients. Setting requires_grad to True.\n",
            "Parameter model.decoder.layers.9.self_attn.q_proj.base_layer.bias does not require gradients. Setting requires_grad to True.\n",
            "Parameter model.decoder.layers.9.self_attn.q_proj.lora_A.default.weight does not require gradients. Setting requires_grad to True.\n",
            "Parameter model.decoder.layers.9.self_attn.q_proj.lora_B.default.weight does not require gradients. Setting requires_grad to True.\n",
            "Parameter model.decoder.layers.9.self_attn.q_proj.lora_magnitude_vector.default.weight does not require gradients. Setting requires_grad to True.\n",
            "Parameter model.decoder.layers.9.self_attn.out_proj.weight does not require gradients. Setting requires_grad to True.\n",
            "Parameter model.decoder.layers.9.self_attn.out_proj.bias does not require gradients. Setting requires_grad to True.\n",
            "Parameter model.decoder.layers.9.self_attn_layer_norm.weight does not require gradients. Setting requires_grad to True.\n",
            "Parameter model.decoder.layers.9.self_attn_layer_norm.bias does not require gradients. Setting requires_grad to True.\n",
            "Parameter model.decoder.layers.9.encoder_attn.k_proj.weight does not require gradients. Setting requires_grad to True.\n",
            "Parameter model.decoder.layers.9.encoder_attn.k_proj.bias does not require gradients. Setting requires_grad to True.\n",
            "Parameter model.decoder.layers.9.encoder_attn.v_proj.base_layer.weight does not require gradients. Setting requires_grad to True.\n",
            "Parameter model.decoder.layers.9.encoder_attn.v_proj.base_layer.bias does not require gradients. Setting requires_grad to True.\n",
            "Parameter model.decoder.layers.9.encoder_attn.v_proj.lora_A.default.weight does not require gradients. Setting requires_grad to True.\n",
            "Parameter model.decoder.layers.9.encoder_attn.v_proj.lora_B.default.weight does not require gradients. Setting requires_grad to True.\n",
            "Parameter model.decoder.layers.9.encoder_attn.v_proj.lora_magnitude_vector.default.weight does not require gradients. Setting requires_grad to True.\n",
            "Parameter model.decoder.layers.9.encoder_attn.q_proj.base_layer.weight does not require gradients. Setting requires_grad to True.\n",
            "Parameter model.decoder.layers.9.encoder_attn.q_proj.base_layer.bias does not require gradients. Setting requires_grad to True.\n",
            "Parameter model.decoder.layers.9.encoder_attn.q_proj.lora_A.default.weight does not require gradients. Setting requires_grad to True.\n",
            "Parameter model.decoder.layers.9.encoder_attn.q_proj.lora_B.default.weight does not require gradients. Setting requires_grad to True.\n",
            "Parameter model.decoder.layers.9.encoder_attn.q_proj.lora_magnitude_vector.default.weight does not require gradients. Setting requires_grad to True.\n",
            "Parameter model.decoder.layers.9.encoder_attn.out_proj.weight does not require gradients. Setting requires_grad to True.\n",
            "Parameter model.decoder.layers.9.encoder_attn.out_proj.bias does not require gradients. Setting requires_grad to True.\n",
            "Parameter model.decoder.layers.9.encoder_attn_layer_norm.weight does not require gradients. Setting requires_grad to True.\n",
            "Parameter model.decoder.layers.9.encoder_attn_layer_norm.bias does not require gradients. Setting requires_grad to True.\n",
            "Parameter model.decoder.layers.9.fc1.weight does not require gradients. Setting requires_grad to True.\n",
            "Parameter model.decoder.layers.9.fc1.bias does not require gradients. Setting requires_grad to True.\n",
            "Parameter model.decoder.layers.9.fc2.weight does not require gradients. Setting requires_grad to True.\n",
            "Parameter model.decoder.layers.9.fc2.bias does not require gradients. Setting requires_grad to True.\n",
            "Parameter model.decoder.layers.9.final_layer_norm.weight does not require gradients. Setting requires_grad to True.\n",
            "Parameter model.decoder.layers.9.final_layer_norm.bias does not require gradients. Setting requires_grad to True.\n",
            "Parameter model.decoder.layers.10.self_attn.k_proj.weight does not require gradients. Setting requires_grad to True.\n",
            "Parameter model.decoder.layers.10.self_attn.k_proj.bias does not require gradients. Setting requires_grad to True.\n",
            "Parameter model.decoder.layers.10.self_attn.v_proj.base_layer.weight does not require gradients. Setting requires_grad to True.\n",
            "Parameter model.decoder.layers.10.self_attn.v_proj.base_layer.bias does not require gradients. Setting requires_grad to True.\n",
            "Parameter model.decoder.layers.10.self_attn.v_proj.lora_A.default.weight does not require gradients. Setting requires_grad to True.\n",
            "Parameter model.decoder.layers.10.self_attn.v_proj.lora_B.default.weight does not require gradients. Setting requires_grad to True.\n",
            "Parameter model.decoder.layers.10.self_attn.v_proj.lora_magnitude_vector.default.weight does not require gradients. Setting requires_grad to True.\n",
            "Parameter model.decoder.layers.10.self_attn.q_proj.base_layer.weight does not require gradients. Setting requires_grad to True.\n",
            "Parameter model.decoder.layers.10.self_attn.q_proj.base_layer.bias does not require gradients. Setting requires_grad to True.\n",
            "Parameter model.decoder.layers.10.self_attn.q_proj.lora_A.default.weight does not require gradients. Setting requires_grad to True.\n",
            "Parameter model.decoder.layers.10.self_attn.q_proj.lora_B.default.weight does not require gradients. Setting requires_grad to True.\n",
            "Parameter model.decoder.layers.10.self_attn.q_proj.lora_magnitude_vector.default.weight does not require gradients. Setting requires_grad to True.\n",
            "Parameter model.decoder.layers.10.self_attn.out_proj.weight does not require gradients. Setting requires_grad to True.\n",
            "Parameter model.decoder.layers.10.self_attn.out_proj.bias does not require gradients. Setting requires_grad to True.\n",
            "Parameter model.decoder.layers.10.self_attn_layer_norm.weight does not require gradients. Setting requires_grad to True.\n",
            "Parameter model.decoder.layers.10.self_attn_layer_norm.bias does not require gradients. Setting requires_grad to True.\n",
            "Parameter model.decoder.layers.10.encoder_attn.k_proj.weight does not require gradients. Setting requires_grad to True.\n",
            "Parameter model.decoder.layers.10.encoder_attn.k_proj.bias does not require gradients. Setting requires_grad to True.\n",
            "Parameter model.decoder.layers.10.encoder_attn.v_proj.base_layer.weight does not require gradients. Setting requires_grad to True.\n",
            "Parameter model.decoder.layers.10.encoder_attn.v_proj.base_layer.bias does not require gradients. Setting requires_grad to True.\n",
            "Parameter model.decoder.layers.10.encoder_attn.v_proj.lora_A.default.weight does not require gradients. Setting requires_grad to True.\n",
            "Parameter model.decoder.layers.10.encoder_attn.v_proj.lora_B.default.weight does not require gradients. Setting requires_grad to True.\n",
            "Parameter model.decoder.layers.10.encoder_attn.v_proj.lora_magnitude_vector.default.weight does not require gradients. Setting requires_grad to True.\n",
            "Parameter model.decoder.layers.10.encoder_attn.q_proj.base_layer.weight does not require gradients. Setting requires_grad to True.\n",
            "Parameter model.decoder.layers.10.encoder_attn.q_proj.base_layer.bias does not require gradients. Setting requires_grad to True.\n",
            "Parameter model.decoder.layers.10.encoder_attn.q_proj.lora_A.default.weight does not require gradients. Setting requires_grad to True.\n",
            "Parameter model.decoder.layers.10.encoder_attn.q_proj.lora_B.default.weight does not require gradients. Setting requires_grad to True.\n",
            "Parameter model.decoder.layers.10.encoder_attn.q_proj.lora_magnitude_vector.default.weight does not require gradients. Setting requires_grad to True.\n",
            "Parameter model.decoder.layers.10.encoder_attn.out_proj.weight does not require gradients. Setting requires_grad to True.\n",
            "Parameter model.decoder.layers.10.encoder_attn.out_proj.bias does not require gradients. Setting requires_grad to True.\n",
            "Parameter model.decoder.layers.10.encoder_attn_layer_norm.weight does not require gradients. Setting requires_grad to True.\n",
            "Parameter model.decoder.layers.10.encoder_attn_layer_norm.bias does not require gradients. Setting requires_grad to True.\n",
            "Parameter model.decoder.layers.10.fc1.weight does not require gradients. Setting requires_grad to True.\n",
            "Parameter model.decoder.layers.10.fc1.bias does not require gradients. Setting requires_grad to True.\n",
            "Parameter model.decoder.layers.10.fc2.weight does not require gradients. Setting requires_grad to True.\n",
            "Parameter model.decoder.layers.10.fc2.bias does not require gradients. Setting requires_grad to True.\n",
            "Parameter model.decoder.layers.10.final_layer_norm.weight does not require gradients. Setting requires_grad to True.\n",
            "Parameter model.decoder.layers.10.final_layer_norm.bias does not require gradients. Setting requires_grad to True.\n",
            "Parameter model.decoder.layers.11.self_attn.k_proj.weight does not require gradients. Setting requires_grad to True.\n",
            "Parameter model.decoder.layers.11.self_attn.k_proj.bias does not require gradients. Setting requires_grad to True.\n",
            "Parameter model.decoder.layers.11.self_attn.v_proj.base_layer.weight does not require gradients. Setting requires_grad to True.\n",
            "Parameter model.decoder.layers.11.self_attn.v_proj.base_layer.bias does not require gradients. Setting requires_grad to True.\n",
            "Parameter model.decoder.layers.11.self_attn.v_proj.lora_A.default.weight does not require gradients. Setting requires_grad to True.\n",
            "Parameter model.decoder.layers.11.self_attn.v_proj.lora_B.default.weight does not require gradients. Setting requires_grad to True.\n",
            "Parameter model.decoder.layers.11.self_attn.v_proj.lora_magnitude_vector.default.weight does not require gradients. Setting requires_grad to True.\n",
            "Parameter model.decoder.layers.11.self_attn.q_proj.base_layer.weight does not require gradients. Setting requires_grad to True.\n",
            "Parameter model.decoder.layers.11.self_attn.q_proj.base_layer.bias does not require gradients. Setting requires_grad to True.\n",
            "Parameter model.decoder.layers.11.self_attn.q_proj.lora_A.default.weight does not require gradients. Setting requires_grad to True.\n",
            "Parameter model.decoder.layers.11.self_attn.q_proj.lora_B.default.weight does not require gradients. Setting requires_grad to True.\n",
            "Parameter model.decoder.layers.11.self_attn.q_proj.lora_magnitude_vector.default.weight does not require gradients. Setting requires_grad to True.\n",
            "Parameter model.decoder.layers.11.self_attn.out_proj.weight does not require gradients. Setting requires_grad to True.\n",
            "Parameter model.decoder.layers.11.self_attn.out_proj.bias does not require gradients. Setting requires_grad to True.\n",
            "Parameter model.decoder.layers.11.self_attn_layer_norm.weight does not require gradients. Setting requires_grad to True.\n",
            "Parameter model.decoder.layers.11.self_attn_layer_norm.bias does not require gradients. Setting requires_grad to True.\n",
            "Parameter model.decoder.layers.11.encoder_attn.k_proj.weight does not require gradients. Setting requires_grad to True.\n",
            "Parameter model.decoder.layers.11.encoder_attn.k_proj.bias does not require gradients. Setting requires_grad to True.\n",
            "Parameter model.decoder.layers.11.encoder_attn.v_proj.base_layer.weight does not require gradients. Setting requires_grad to True.\n",
            "Parameter model.decoder.layers.11.encoder_attn.v_proj.base_layer.bias does not require gradients. Setting requires_grad to True.\n",
            "Parameter model.decoder.layers.11.encoder_attn.v_proj.lora_A.default.weight does not require gradients. Setting requires_grad to True.\n",
            "Parameter model.decoder.layers.11.encoder_attn.v_proj.lora_B.default.weight does not require gradients. Setting requires_grad to True.\n",
            "Parameter model.decoder.layers.11.encoder_attn.v_proj.lora_magnitude_vector.default.weight does not require gradients. Setting requires_grad to True.\n",
            "Parameter model.decoder.layers.11.encoder_attn.q_proj.base_layer.weight does not require gradients. Setting requires_grad to True.\n",
            "Parameter model.decoder.layers.11.encoder_attn.q_proj.base_layer.bias does not require gradients. Setting requires_grad to True.\n",
            "Parameter model.decoder.layers.11.encoder_attn.q_proj.lora_A.default.weight does not require gradients. Setting requires_grad to True.\n",
            "Parameter model.decoder.layers.11.encoder_attn.q_proj.lora_B.default.weight does not require gradients. Setting requires_grad to True.\n",
            "Parameter model.decoder.layers.11.encoder_attn.q_proj.lora_magnitude_vector.default.weight does not require gradients. Setting requires_grad to True.\n",
            "Parameter model.decoder.layers.11.encoder_attn.out_proj.weight does not require gradients. Setting requires_grad to True.\n",
            "Parameter model.decoder.layers.11.encoder_attn.out_proj.bias does not require gradients. Setting requires_grad to True.\n",
            "Parameter model.decoder.layers.11.encoder_attn_layer_norm.weight does not require gradients. Setting requires_grad to True.\n",
            "Parameter model.decoder.layers.11.encoder_attn_layer_norm.bias does not require gradients. Setting requires_grad to True.\n",
            "Parameter model.decoder.layers.11.fc1.weight does not require gradients. Setting requires_grad to True.\n",
            "Parameter model.decoder.layers.11.fc1.bias does not require gradients. Setting requires_grad to True.\n",
            "Parameter model.decoder.layers.11.fc2.weight does not require gradients. Setting requires_grad to True.\n",
            "Parameter model.decoder.layers.11.fc2.bias does not require gradients. Setting requires_grad to True.\n",
            "Parameter model.decoder.layers.11.final_layer_norm.weight does not require gradients. Setting requires_grad to True.\n",
            "Parameter model.decoder.layers.11.final_layer_norm.bias does not require gradients. Setting requires_grad to True.\n",
            "Parameter model.decoder.layernorm_embedding.weight does not require gradients. Setting requires_grad to True.\n",
            "Parameter model.decoder.layernorm_embedding.bias does not require gradients. Setting requires_grad to True.\n",
            "Trainable parameters: 407544832\n",
            "All parameters: 407544832\n"
          ]
        }
      ],
      "source": [
        "def check_and_set_gradients(model):\n",
        "    for name, param in model.named_parameters():\n",
        "        if not param.requires_grad:\n",
        "            print(f\"Parameter {name} does not require gradients. Setting requires_grad to True.\")\n",
        "            param.requires_grad = True\n",
        "    \n",
        "    trainable_params = sum(p.numel() for p in model.parameters() if p.requires_grad)\n",
        "    all_params = sum(p.numel() for p in model.parameters())\n",
        "    print(f\"Trainable parameters: {trainable_params}\")\n",
        "    print(f\"All parameters: {all_params}\")\n",
        "\n",
        "# Use this function before creating the DPOTrainer\n",
        "check_and_set_gradients(QDoRA_BART_model)"
      ]
    },
    {
      "cell_type": "code",
      "execution_count": 168,
      "metadata": {},
      "outputs": [],
      "source": [
        "torch.cuda.empty_cache()"
      ]
    },
    {
      "cell_type": "code",
      "execution_count": 46,
      "metadata": {},
      "outputs": [
        {
          "name": "stdout",
          "output_type": "stream",
          "text": [
            "GPU memory allocated: 0.00 MB\n",
            "GPU memory cached: 0.00 MB\n"
          ]
        }
      ],
      "source": [
        "import torch\n",
        "\n",
        "def print_gpu_memory():\n",
        "    if torch.cuda.is_available():\n",
        "        print(f\"GPU memory allocated: {torch.cuda.memory_allocated() / 1024**2:.2f} MB\")\n",
        "        print(f\"GPU memory cached: {torch.cuda.memory_reserved() / 1024**2:.2f} MB\")\n",
        "\n",
        "# Call this function at key points in your training loop\n",
        "print_gpu_memory()"
      ]
    },
    {
      "cell_type": "code",
      "execution_count": 50,
      "metadata": {},
      "outputs": [],
      "source": [
        "import gc\n",
        "torch.cuda.empty_cache()\n",
        "gc.collect()\n",
        "torch.cuda.synchronize()"
      ]
    },
    {
      "cell_type": "code",
      "execution_count": 47,
      "metadata": {},
      "outputs": [
        {
          "name": "stderr",
          "output_type": "stream",
          "text": [
            "C:\\Users\\Zane\\AppData\\Local\\Packages\\PythonSoftwareFoundation.Python.3.11_qbz5n2kfra8p0\\LocalCache\\local-packages\\Python311\\site-packages\\trl\\trainer\\dpo_trainer.py:420: UserWarning: When using an encoder decoder architecture, you should set `max_target_length` in the DPOConfig's init it will default to `128` by default, but you should do it yourself in the future.\n",
            "  warnings.warn(\n",
            "Map: 100%|██████████| 1677/1677 [00:06<00:00, 239.73 examples/s]\n",
            "max_steps is given, it will override any value given in num_train_epochs\n",
            "  0%|          | 0/500 [00:00<?, ?it/s]C:\\Users\\Zane\\AppData\\Local\\Packages\\PythonSoftwareFoundation.Python.3.11_qbz5n2kfra8p0\\LocalCache\\local-packages\\Python311\\site-packages\\torch\\_dynamo\\eval_frame.py:600: UserWarning: torch.utils.checkpoint: the use_reentrant parameter should be passed explicitly. In version 2.4 we will raise an exception if use_reentrant is not passed. use_reentrant=False is recommended, but if you need to preserve the current default behavior, you can pass use_reentrant=True. Refer to docs for more details on the differences between the two variants.\n",
            "  return fn(*args, **kwargs)\n",
            "C:\\Users\\Zane\\AppData\\Local\\Packages\\PythonSoftwareFoundation.Python.3.11_qbz5n2kfra8p0\\LocalCache\\local-packages\\Python311\\site-packages\\transformers\\models\\bart\\modeling_bart.py:496: UserWarning: 1Torch was not compiled with flash attention. (Triggered internally at C:\\actions-runner\\_work\\pytorch\\pytorch\\builder\\windows\\pytorch\\aten\\src\\ATen\\native\\transformers\\cuda\\sdp_utils.cpp:555.)\n",
            "  attn_output = torch.nn.functional.scaled_dot_product_attention(\n",
            "C:\\Users\\Zane\\AppData\\Local\\Packages\\PythonSoftwareFoundation.Python.3.11_qbz5n2kfra8p0\\LocalCache\\local-packages\\Python311\\site-packages\\torch\\utils\\checkpoint.py:295: FutureWarning: `torch.cpu.amp.autocast(args...)` is deprecated. Please use `torch.amp.autocast('cpu', args...)` instead.\n",
            "  with torch.enable_grad(), device_autocast_ctx, torch.cpu.amp.autocast(**ctx.cpu_autocast_kwargs):  # type: ignore[attr-defined]\n",
            "Could not estimate the number of tokens of the input, floating-point operations will not be computed\n",
            "  5%|▌         | 25/500 [03:53<1:13:58,  9.34s/it]"
          ]
        },
        {
          "name": "stdout",
          "output_type": "stream",
          "text": [
            "{'loss': 0.8602, 'grad_norm': 21.36664390563965, 'learning_rate': 2.5e-06, 'rewards/chosen': -0.47831735014915466, 'rewards/rejected': -0.5203663110733032, 'rewards/accuracies': 0.5041666626930237, 'rewards/margins': 0.042048919945955276, 'logps/rejected': -84.97724914550781, 'logps/chosen': -104.83209228515625, 'logits/rejected': 0.3977489471435547, 'logits/chosen': -0.21266451478004456, 'epoch': 1.43}\n"
          ]
        },
        {
          "name": "stderr",
          "output_type": "stream",
          "text": [
            " 10%|█         | 50/500 [07:46<1:09:48,  9.31s/it]"
          ]
        },
        {
          "name": "stdout",
          "output_type": "stream",
          "text": [
            "{'loss': 0.5429, 'grad_norm': 17.378074645996094, 'learning_rate': 5e-06, 'rewards/chosen': -0.46355360746383667, 'rewards/rejected': -1.5232795476913452, 'rewards/accuracies': 0.7300000190734863, 'rewards/margins': 1.0597257614135742, 'logps/rejected': -94.70623016357422, 'logps/chosen': -105.03295135498047, 'logits/rejected': 0.3862801492214203, 'logits/chosen': -0.2172020971775055, 'epoch': 2.86}\n"
          ]
        },
        {
          "name": "stderr",
          "output_type": "stream",
          "text": [
            " 15%|█▌        | 75/500 [12:28<1:12:52, 10.29s/it]"
          ]
        },
        {
          "name": "stdout",
          "output_type": "stream",
          "text": [
            "{'loss': 0.341, 'grad_norm': 5.271269798278809, 'learning_rate': 4.722222222222222e-06, 'rewards/chosen': -0.5730621814727783, 'rewards/rejected': -2.7710559368133545, 'rewards/accuracies': 0.8616666197776794, 'rewards/margins': 2.1979939937591553, 'logps/rejected': -107.4961929321289, 'logps/chosen': -104.94161987304688, 'logits/rejected': 0.4674616754055023, 'logits/chosen': -0.16354532539844513, 'epoch': 4.29}\n"
          ]
        },
        {
          "name": "stderr",
          "output_type": "stream",
          "text": [
            " 20%|██        | 100/500 [16:31<1:02:23,  9.36s/it]"
          ]
        },
        {
          "name": "stdout",
          "output_type": "stream",
          "text": [
            "{'loss': 0.2277, 'grad_norm': 5.149679183959961, 'learning_rate': 4.444444444444444e-06, 'rewards/chosen': -0.9334335327148438, 'rewards/rejected': -4.009369373321533, 'rewards/accuracies': 0.9049999713897705, 'rewards/margins': 3.0759363174438477, 'logps/rejected': -118.7489242553711, 'logps/chosen': -110.2880859375, 'logits/rejected': 0.5317259430885315, 'logits/chosen': -0.1529877632856369, 'epoch': 5.71}\n"
          ]
        },
        {
          "name": "stderr",
          "output_type": "stream",
          "text": [
            " 25%|██▌       | 125/500 [21:43<1:01:36,  9.86s/it]"
          ]
        },
        {
          "name": "stdout",
          "output_type": "stream",
          "text": [
            "{'loss': 0.1921, 'grad_norm': 6.225447177886963, 'learning_rate': 4.166666666666667e-06, 'rewards/chosen': -1.1955876350402832, 'rewards/rejected': -4.840334892272949, 'rewards/accuracies': 0.9325000643730164, 'rewards/margins': 3.644747257232666, 'logps/rejected': -129.1064453125, 'logps/chosen': -112.68767547607422, 'logits/rejected': 0.49567925930023193, 'logits/chosen': -0.16314056515693665, 'epoch': 7.14}\n"
          ]
        },
        {
          "name": "stderr",
          "output_type": "stream",
          "text": [
            " 30%|███       | 150/500 [25:40<55:40,  9.54s/it]  "
          ]
        },
        {
          "name": "stdout",
          "output_type": "stream",
          "text": [
            "{'loss': 0.1174, 'grad_norm': 6.359270095825195, 'learning_rate': 3.88888888888889e-06, 'rewards/chosen': -1.5480343103408813, 'rewards/rejected': -5.878332138061523, 'rewards/accuracies': 0.9633333683013916, 'rewards/margins': 4.330297470092773, 'logps/rejected': -137.66732788085938, 'logps/chosen': -114.77643585205078, 'logits/rejected': 0.46023309230804443, 'logits/chosen': -0.2159997522830963, 'epoch': 8.57}\n"
          ]
        },
        {
          "name": "stderr",
          "output_type": "stream",
          "text": [
            " 35%|███▌      | 175/500 [29:41<52:20,  9.66s/it]"
          ]
        },
        {
          "name": "stdout",
          "output_type": "stream",
          "text": [
            "{'loss': 0.086, 'grad_norm': 5.473520278930664, 'learning_rate': 3.6111111111111115e-06, 'rewards/chosen': -1.865243673324585, 'rewards/rejected': -6.7869696617126465, 'rewards/accuracies': 0.9741666913032532, 'rewards/margins': 4.921725273132324, 'logps/rejected': -147.4059600830078, 'logps/chosen': -119.61736297607422, 'logits/rejected': 0.47218263149261475, 'logits/chosen': -0.2288074642419815, 'epoch': 10.0}\n"
          ]
        },
        {
          "name": "stderr",
          "output_type": "stream",
          "text": [
            " 40%|████      | 200/500 [33:42<48:29,  9.70s/it]"
          ]
        },
        {
          "name": "stdout",
          "output_type": "stream",
          "text": [
            "{'loss': 0.0678, 'grad_norm': 11.130814552307129, 'learning_rate': 3.3333333333333333e-06, 'rewards/chosen': -2.612326145172119, 'rewards/rejected': -8.232231140136719, 'rewards/accuracies': 0.9783334136009216, 'rewards/margins': 5.619905471801758, 'logps/rejected': -161.66355895996094, 'logps/chosen': -126.86537170410156, 'logits/rejected': 0.4148316979408264, 'logits/chosen': -0.29140087962150574, 'epoch': 11.43}\n"
          ]
        },
        {
          "name": "stderr",
          "output_type": "stream",
          "text": [
            " 45%|████▌     | 225/500 [37:43<44:34,  9.73s/it]"
          ]
        },
        {
          "name": "stdout",
          "output_type": "stream",
          "text": [
            "{'loss': 0.0639, 'grad_norm': 9.527097702026367, 'learning_rate': 3.055555555555556e-06, 'rewards/chosen': -2.6413724422454834, 'rewards/rejected': -8.518844604492188, 'rewards/accuracies': 0.9754166603088379, 'rewards/margins': 5.8774733543396, 'logps/rejected': -164.80499267578125, 'logps/chosen': -126.28040313720703, 'logits/rejected': 0.3936629891395569, 'logits/chosen': -0.27193310856819153, 'epoch': 12.86}\n"
          ]
        },
        {
          "name": "stderr",
          "output_type": "stream",
          "text": [
            " 50%|█████     | 250/500 [41:41<39:13,  9.42s/it]"
          ]
        },
        {
          "name": "stdout",
          "output_type": "stream",
          "text": [
            "{'loss': 0.0453, 'grad_norm': 2.9319944381713867, 'learning_rate': 2.7777777777777783e-06, 'rewards/chosen': -2.688953161239624, 'rewards/rejected': -8.925610542297363, 'rewards/accuracies': 0.9908333420753479, 'rewards/margins': 6.236657619476318, 'logps/rejected': -168.89083862304688, 'logps/chosen': -126.81861114501953, 'logits/rejected': 0.3416898250579834, 'logits/chosen': -0.3446385860443115, 'epoch': 14.29}\n"
          ]
        },
        {
          "name": "stderr",
          "output_type": "stream",
          "text": [
            " 55%|█████▌    | 275/500 [45:38<35:40,  9.51s/it]"
          ]
        },
        {
          "name": "stdout",
          "output_type": "stream",
          "text": [
            "{'loss': 0.0407, 'grad_norm': 6.992988586425781, 'learning_rate': 2.5e-06, 'rewards/chosen': -3.0380477905273438, 'rewards/rejected': -9.90888500213623, 'rewards/accuracies': 0.9845832586288452, 'rewards/margins': 6.8708367347717285, 'logps/rejected': -178.8726348876953, 'logps/chosen': -130.69174194335938, 'logits/rejected': 0.3228189945220947, 'logits/chosen': -0.3625292181968689, 'epoch': 15.71}\n"
          ]
        },
        {
          "name": "stderr",
          "output_type": "stream",
          "text": [
            " 60%|██████    | 300/500 [49:35<31:47,  9.54s/it]"
          ]
        },
        {
          "name": "stdout",
          "output_type": "stream",
          "text": [
            "{'loss': 0.0366, 'grad_norm': 4.485645771026611, 'learning_rate': 2.222222222222222e-06, 'rewards/chosen': -3.0079586505889893, 'rewards/rejected': -10.07263469696045, 'rewards/accuracies': 0.9891666173934937, 'rewards/margins': 7.064676284790039, 'logps/rejected': -180.57763671875, 'logps/chosen': -131.15679931640625, 'logits/rejected': 0.31616899371147156, 'logits/chosen': -0.3607617914676666, 'epoch': 17.14}\n"
          ]
        },
        {
          "name": "stderr",
          "output_type": "stream",
          "text": [
            " 65%|██████▌   | 325/500 [53:27<26:35,  9.12s/it]"
          ]
        },
        {
          "name": "stdout",
          "output_type": "stream",
          "text": [
            "{'loss': 0.0308, 'grad_norm': 1.0588480234146118, 'learning_rate': 1.944444444444445e-06, 'rewards/chosen': -3.2911388874053955, 'rewards/rejected': -10.654562950134277, 'rewards/accuracies': 0.9912499785423279, 'rewards/margins': 7.363424301147461, 'logps/rejected': -186.21165466308594, 'logps/chosen': -133.23114013671875, 'logits/rejected': 0.3288353979587555, 'logits/chosen': -0.3738727271556854, 'epoch': 18.57}\n"
          ]
        },
        {
          "name": "stderr",
          "output_type": "stream",
          "text": [
            " 70%|███████   | 350/500 [57:20<23:16,  9.31s/it]"
          ]
        },
        {
          "name": "stdout",
          "output_type": "stream",
          "text": [
            "{'loss': 0.0331, 'grad_norm': 1.7564160823822021, 'learning_rate': 1.6666666666666667e-06, 'rewards/chosen': -3.3911077976226807, 'rewards/rejected': -11.037915229797363, 'rewards/accuracies': 0.9900000095367432, 'rewards/margins': 7.646806716918945, 'logps/rejected': -189.5272216796875, 'logps/chosen': -133.27810668945312, 'logits/rejected': 0.24076759815216064, 'logits/chosen': -0.4075072407722473, 'epoch': 20.0}\n"
          ]
        },
        {
          "name": "stderr",
          "output_type": "stream",
          "text": [
            " 75%|███████▌  | 375/500 [1:01:14<19:02,  9.14s/it]"
          ]
        },
        {
          "name": "stdout",
          "output_type": "stream",
          "text": [
            "{'loss': 0.0283, 'grad_norm': 2.563934803009033, 'learning_rate': 1.3888888888888892e-06, 'rewards/chosen': -3.3562896251678467, 'rewards/rejected': -11.023262977600098, 'rewards/accuracies': 0.9916667342185974, 'rewards/margins': 7.666972637176514, 'logps/rejected': -189.9303741455078, 'logps/chosen': -134.6493682861328, 'logits/rejected': 0.3849950134754181, 'logits/chosen': -0.29117342829704285, 'epoch': 21.43}\n"
          ]
        },
        {
          "name": "stderr",
          "output_type": "stream",
          "text": [
            " 80%|████████  | 400/500 [1:05:09<15:36,  9.37s/it]"
          ]
        },
        {
          "name": "stdout",
          "output_type": "stream",
          "text": [
            "{'loss': 0.0341, 'grad_norm': 4.5714592933654785, 'learning_rate': 1.111111111111111e-06, 'rewards/chosen': -3.4701569080352783, 'rewards/rejected': -11.336319923400879, 'rewards/accuracies': 0.9920834302902222, 'rewards/margins': 7.8661627769470215, 'logps/rejected': -193.01527404785156, 'logps/chosen': -134.32171630859375, 'logits/rejected': 0.3602954149246216, 'logits/chosen': -0.2973460257053375, 'epoch': 22.86}\n"
          ]
        },
        {
          "name": "stderr",
          "output_type": "stream",
          "text": [
            " 85%|████████▌ | 425/500 [1:09:00<11:33,  9.25s/it]"
          ]
        },
        {
          "name": "stdout",
          "output_type": "stream",
          "text": [
            "{'loss': 0.0235, 'grad_norm': 3.7720909118652344, 'learning_rate': 8.333333333333333e-07, 'rewards/chosen': -3.342440605163574, 'rewards/rejected': -11.197509765625, 'rewards/accuracies': 0.9916667342185974, 'rewards/margins': 7.855069637298584, 'logps/rejected': -191.78411865234375, 'logps/chosen': -133.01263427734375, 'logits/rejected': 0.3545529842376709, 'logits/chosen': -0.32026779651641846, 'epoch': 24.29}\n"
          ]
        },
        {
          "name": "stderr",
          "output_type": "stream",
          "text": [
            " 90%|█████████ | 450/500 [1:12:51<07:48,  9.37s/it]"
          ]
        },
        {
          "name": "stdout",
          "output_type": "stream",
          "text": [
            "{'loss': 0.0305, 'grad_norm': 3.2331016063690186, 'learning_rate': 5.555555555555555e-07, 'rewards/chosen': -3.5935747623443604, 'rewards/rejected': -11.64019775390625, 'rewards/accuracies': 0.9912500977516174, 'rewards/margins': 8.046623229980469, 'logps/rejected': -195.63687133789062, 'logps/chosen': -136.43333435058594, 'logits/rejected': 0.392853319644928, 'logits/chosen': -0.2858077883720398, 'epoch': 25.71}\n"
          ]
        },
        {
          "name": "stderr",
          "output_type": "stream",
          "text": [
            " 95%|█████████▌| 475/500 [1:16:49<04:00,  9.62s/it]"
          ]
        },
        {
          "name": "stdout",
          "output_type": "stream",
          "text": [
            "{'loss': 0.0225, 'grad_norm': 2.941701650619507, 'learning_rate': 2.7777777777777776e-07, 'rewards/chosen': -3.578803062438965, 'rewards/rejected': -11.741153717041016, 'rewards/accuracies': 0.9920834302902222, 'rewards/margins': 8.16235065460205, 'logps/rejected': -196.6561279296875, 'logps/chosen': -136.0341339111328, 'logits/rejected': 0.3706141710281372, 'logits/chosen': -0.30395302176475525, 'epoch': 27.14}\n"
          ]
        },
        {
          "name": "stderr",
          "output_type": "stream",
          "text": [
            "100%|██████████| 500/500 [1:20:44<00:00,  9.43s/it]C:\\Users\\Zane\\AppData\\Local\\Packages\\PythonSoftwareFoundation.Python.3.11_qbz5n2kfra8p0\\LocalCache\\local-packages\\Python311\\site-packages\\transformers\\integrations\\peft.py:397: FutureWarning: The `active_adapter` method is deprecated and will be removed in a future version.\n",
            "  warnings.warn(\n"
          ]
        },
        {
          "name": "stdout",
          "output_type": "stream",
          "text": [
            "{'loss': 0.0202, 'grad_norm': 2.240435838699341, 'learning_rate': 0.0, 'rewards/chosen': -3.526322841644287, 'rewards/rejected': -11.672798156738281, 'rewards/accuracies': 0.9941667318344116, 'rewards/margins': 8.146474838256836, 'logps/rejected': -195.9036102294922, 'logps/chosen': -135.9593963623047, 'logits/rejected': 0.3983691334724426, 'logits/chosen': -0.2708899974822998, 'epoch': 28.57}\n"
          ]
        },
        {
          "name": "stderr",
          "output_type": "stream",
          "text": [
            "100%|██████████| 500/500 [1:20:51<00:00,  9.70s/it]"
          ]
        },
        {
          "name": "stdout",
          "output_type": "stream",
          "text": [
            "{'train_runtime': 4851.5102, 'train_samples_per_second': 9.894, 'train_steps_per_second': 0.103, 'train_loss': 0.142222860455513, 'epoch': 28.57}\n"
          ]
        },
        {
          "name": "stderr",
          "output_type": "stream",
          "text": [
            "\n"
          ]
        },
        {
          "data": {
            "text/plain": [
              "TrainOutput(global_step=500, training_loss=0.142222860455513, metrics={'train_runtime': 4851.5102, 'train_samples_per_second': 9.894, 'train_steps_per_second': 0.103, 'total_flos': 0.0, 'train_loss': 0.142222860455513, 'epoch': 28.571428571428573})"
            ]
          },
          "execution_count": 47,
          "metadata": {},
          "output_type": "execute_result"
        }
      ],
      "source": [
        "from transformers import AutoTokenizer, AutoModelForSeq2SeqLM\n",
        "from trl import DPOTrainer, DPOConfig\n",
        "\n",
        "# Define DPO configuration\n",
        "dpo_config = DPOConfig(\n",
        "    beta=0.1,\n",
        "    max_prompt_length=256,\n",
        "    max_length=128,\n",
        "    learning_rate=5e-6,\n",
        "    per_device_train_batch_size=6,\n",
        "    gradient_accumulation_steps=16,\n",
        "    max_steps=500,\n",
        "    warmup_steps=50,\n",
        "    logging_steps=25,\n",
        "    output_dir=\"outputs\",\n",
        "    optim=\"paged_adamw_8bit\",\n",
        "    bf16=True,\n",
        "    gradient_checkpointing=True,\n",
        "    remove_unused_columns=False,\n",
        ")\n",
        "\n",
        "# Initialize DPOTrainer\n",
        "trainer = DPOTrainer(\n",
        "    model=QDoRA_BART_model,\n",
        "    args=dpo_config,\n",
        "    train_dataset=dpo_dataset,\n",
        "    tokenizer=QDoRA_BART_tokenizer,\n",
        ")\n",
        "\n",
        "# Train the model\n",
        "trainer.train()"
      ]
    },
    {
      "cell_type": "code",
      "execution_count": 49,
      "metadata": {},
      "outputs": [
        {
          "name": "stderr",
          "output_type": "stream",
          "text": [
            "C:\\Users\\Zane\\AppData\\Local\\Packages\\PythonSoftwareFoundation.Python.3.11_qbz5n2kfra8p0\\LocalCache\\local-packages\\Python311\\site-packages\\transformers\\integrations\\peft.py:397: FutureWarning: The `active_adapter` method is deprecated and will be removed in a future version.\n",
            "  warnings.warn(\n"
          ]
        },
        {
          "name": "stdout",
          "output_type": "stream",
          "text": [
            "Model and tokenizer saved to ./BART_QDoRA_DPO_summarization_model\n"
          ]
        }
      ],
      "source": [
        "# Save the model\n",
        "output_dir = \"./BART_QDoRA_DPO_summarization_model\"\n",
        "trainer.save_model(output_dir)\n",
        "\n",
        "# Save the tokenizer\n",
        "QDoRA_BART_tokenizer.save_pretrained(output_dir)\n",
        "\n",
        "print(f\"Model and tokenizer saved to {output_dir}\")"
      ]
    },
    {
      "cell_type": "markdown",
      "metadata": {},
      "source": [
        "# **OLD/ARCHIVE/DELETE**"
      ]
    },
    {
      "cell_type": "code",
      "execution_count": null,
      "metadata": {
        "id": "Sak5WgIsdDm_"
      },
      "outputs": [],
      "source": [
        "#Initialize model\n",
        "from transformers import BartForConditionalGeneration\n",
        "\n",
        "model = BartForConditionalGeneration.from_pretrained('facebook/bart-base')"
      ]
    },
    {
      "cell_type": "code",
      "execution_count": null,
      "metadata": {
        "colab": {
          "base_uri": "https://localhost:8080/",
          "height": 1000,
          "referenced_widgets": [
            "f1ffbdedb61a43b6b94f23c1f3fe9c10",
            "9596facd94f54883ad939b93b3acf734",
            "5ed55df300d84c65ae78077a8e1a1cb5",
            "d78d85903ea04260957175e0ac2e669c",
            "d019a7226172446994c85a8369863e14",
            "52abe42d15c74eaa89eecd92c7823824",
            "98bdd412c8fa48d1b33edae306d6ef29",
            "743715875da54891b42b22eb6f0c22a3",
            "4cb76570b1d44c32ae7ad8b2001d42bf",
            "f591b4197c154dff9799f46517f76a9f",
            "48fb770688c04da6bc94b422af0a862b",
            "4b2cef31dae84f499c34a0b2df9af21b",
            "63cc2caaa1434787bc052bd8cfc79f27",
            "1355c847fbc84f12b9c376c5c7c0f790",
            "ab450be926c34790bca6c7187440f1fe",
            "48d762b1634f4ab2b0bf75567c3c03ca",
            "42b362c64c6c48d3aaf216daa6fd46a1",
            "9673bbb04a7548e799ff783bb5e2667b",
            "09a1977c9e31445587967e03bba71068",
            "7503f105bcd64e59aa85ad9ee063c425",
            "4c1d3c3e7ee949a4ad55a2a40576cefc",
            "1ce535fa30794890b34d129bee5fe311"
          ]
        },
        "id": "gLlRLohOdDj9",
        "outputId": "fad2f64e-1a7f-4f62-f98f-041e27d437a2"
      },
      "outputs": [
        {
          "name": "stdout",
          "output_type": "stream",
          "text": [
            "The repository for rouge contains custom code which must be executed to correctly load the dataset. You can inspect the repository content at https://hf.co/datasets/rouge.\n",
            "You can avoid this prompt in future by passing the argument `trust_remote_code=True`.\n",
            "\n",
            "Do you wish to run the custom code? [y/N] y\n"
          ]
        },
        {
          "data": {
            "application/vnd.jupyter.widget-view+json": {
              "model_id": "f1ffbdedb61a43b6b94f23c1f3fe9c10",
              "version_major": 2,
              "version_minor": 0
            },
            "text/plain": [
              "Downloading builder script:   0%|          | 0.00/2.48k [00:00<?, ?B/s]"
            ]
          },
          "metadata": {},
          "output_type": "display_data"
        },
        {
          "data": {
            "application/vnd.jupyter.widget-view+json": {
              "model_id": "4b2cef31dae84f499c34a0b2df9af21b",
              "version_major": 2,
              "version_minor": 0
            },
            "text/plain": [
              "Downloading extra modules:   0%|          | 0.00/1.55k [00:00<?, ?B/s]"
            ]
          },
          "metadata": {},
          "output_type": "display_data"
        },
        {
          "name": "stdout",
          "output_type": "stream",
          "text": [
            "The repository for bleu contains custom code which must be executed to correctly load the dataset. You can inspect the repository content at https://hf.co/datasets/bleu.\n",
            "You can avoid this prompt in future by passing the argument `trust_remote_code=True`.\n",
            "\n",
            "Do you wish to run the custom code? [y/N] y\n"
          ]
        },
        {
          "data": {
            "text/html": [
              "\n",
              "    <div>\n",
              "      \n",
              "      <progress value='186' max='186' style='width:300px; height:20px; vertical-align: middle;'></progress>\n",
              "      [186/186 10:12, Epoch 2/3]\n",
              "    </div>\n",
              "    <table border=\"1\" class=\"dataframe\">\n",
              "  <thead>\n",
              " <tr style=\"text-align: left;\">\n",
              "      <th>Step</th>\n",
              "      <th>Training Loss</th>\n",
              "    </tr>\n",
              "  </thead>\n",
              "  <tbody>\n",
              "    <tr>\n",
              "      <td>10</td>\n",
              "      <td>7.579800</td>\n",
              "    </tr>\n",
              "    <tr>\n",
              "      <td>20</td>\n",
              "      <td>7.558100</td>\n",
              "    </tr>\n",
              "    <tr>\n",
              "      <td>30</td>\n",
              "      <td>7.006600</td>\n",
              "    </tr>\n",
              "    <tr>\n",
              "      <td>40</td>\n",
              "      <td>6.692400</td>\n",
              "    </tr>\n",
              "    <tr>\n",
              "      <td>50</td>\n",
              "      <td>6.501200</td>\n",
              "    </tr>\n",
              "    <tr>\n",
              "      <td>60</td>\n",
              "      <td>6.079300</td>\n",
              "    </tr>\n",
              "    <tr>\n",
              "      <td>70</td>\n",
              "      <td>5.924700</td>\n",
              "    </tr>\n",
              "    <tr>\n",
              "      <td>80</td>\n",
              "      <td>5.600200</td>\n",
              "    </tr>\n",
              "    <tr>\n",
              "      <td>90</td>\n",
              "      <td>5.247400</td>\n",
              "    </tr>\n",
              "    <tr>\n",
              "      <td>100</td>\n",
              "      <td>4.774900</td>\n",
              "    </tr>\n",
              "    <tr>\n",
              "      <td>110</td>\n",
              "      <td>4.313100</td>\n",
              "    </tr>\n",
              "    <tr>\n",
              "      <td>120</td>\n",
              "      <td>3.999200</td>\n",
              "    </tr>\n",
              "    <tr>\n",
              "      <td>130</td>\n",
              "      <td>3.764900</td>\n",
              "    </tr>\n",
              "    <tr>\n",
              "      <td>140</td>\n",
              "      <td>3.512200</td>\n",
              "    </tr>\n",
              "    <tr>\n",
              "      <td>150</td>\n",
              "      <td>3.341800</td>\n",
              "    </tr>\n",
              "    <tr>\n",
              "      <td>160</td>\n",
              "      <td>3.206100</td>\n",
              "    </tr>\n",
              "    <tr>\n",
              "      <td>170</td>\n",
              "      <td>3.026200</td>\n",
              "    </tr>\n",
              "    <tr>\n",
              "      <td>180</td>\n",
              "      <td>2.830000</td>\n",
              "    </tr>\n",
              "  </tbody>\n",
              "</table><p>"
            ],
            "text/plain": [
              "<IPython.core.display.HTML object>"
            ]
          },
          "metadata": {},
          "output_type": "display_data"
        },
        {
          "name": "stderr",
          "output_type": "stream",
          "text": [
            "Some non-default generation parameters are set in the model config. These should go into a GenerationConfig file (https://huggingface.co/docs/transformers/generation_strategies#save-a-custom-decoding-strategy-with-your-model) instead. This warning will be raised to an exception in v4.41.\n",
            "Non-default generation parameters: {'early_stopping': True, 'num_beams': 4, 'no_repeat_ngram_size': 3, 'forced_bos_token_id': 0, 'forced_eos_token_id': 2}\n",
            "Some non-default generation parameters are set in the model config. These should go into a GenerationConfig file (https://huggingface.co/docs/transformers/generation_strategies#save-a-custom-decoding-strategy-with-your-model) instead. This warning will be raised to an exception in v4.41.\n",
            "Non-default generation parameters: {'early_stopping': True, 'num_beams': 4, 'no_repeat_ngram_size': 3, 'forced_bos_token_id': 0, 'forced_eos_token_id': 2}\n",
            "Some non-default generation parameters are set in the model config. These should go into a GenerationConfig file (https://huggingface.co/docs/transformers/generation_strategies#save-a-custom-decoding-strategy-with-your-model) instead. This warning will be raised to an exception in v4.41.\n",
            "Non-default generation parameters: {'early_stopping': True, 'num_beams': 4, 'no_repeat_ngram_size': 3, 'forced_bos_token_id': 0, 'forced_eos_token_id': 2}\n",
            "Some non-default generation parameters are set in the model config. These should go into a GenerationConfig file (https://huggingface.co/docs/transformers/generation_strategies#save-a-custom-decoding-strategy-with-your-model) instead. This warning will be raised to an exception in v4.41.\n",
            "Non-default generation parameters: {'early_stopping': True, 'num_beams': 4, 'no_repeat_ngram_size': 3, 'forced_bos_token_id': 0, 'forced_eos_token_id': 2}\n",
            "Some non-default generation parameters are set in the model config. These should go into a GenerationConfig file (https://huggingface.co/docs/transformers/generation_strategies#save-a-custom-decoding-strategy-with-your-model) instead. This warning will be raised to an exception in v4.41.\n",
            "Non-default generation parameters: {'early_stopping': True, 'num_beams': 4, 'no_repeat_ngram_size': 3, 'forced_bos_token_id': 0, 'forced_eos_token_id': 2}\n",
            "Some non-default generation parameters are set in the model config. These should go into a GenerationConfig file (https://huggingface.co/docs/transformers/generation_strategies#save-a-custom-decoding-strategy-with-your-model) instead. This warning will be raised to an exception in v4.41.\n",
            "Non-default generation parameters: {'early_stopping': True, 'num_beams': 4, 'no_repeat_ngram_size': 3, 'forced_bos_token_id': 0, 'forced_eos_token_id': 2}\n",
            "Some non-default generation parameters are set in the model config. These should go into a GenerationConfig file (https://huggingface.co/docs/transformers/generation_strategies#save-a-custom-decoding-strategy-with-your-model) instead. This warning will be raised to an exception in v4.41.\n",
            "Non-default generation parameters: {'early_stopping': True, 'num_beams': 4, 'no_repeat_ngram_size': 3, 'forced_bos_token_id': 0, 'forced_eos_token_id': 2}\n",
            "Some non-default generation parameters are set in the model config. These should go into a GenerationConfig file (https://huggingface.co/docs/transformers/generation_strategies#save-a-custom-decoding-strategy-with-your-model) instead. This warning will be raised to an exception in v4.41.\n",
            "Non-default generation parameters: {'early_stopping': True, 'num_beams': 4, 'no_repeat_ngram_size': 3, 'forced_bos_token_id': 0, 'forced_eos_token_id': 2}\n",
            "Some non-default generation parameters are set in the model config. These should go into a GenerationConfig file (https://huggingface.co/docs/transformers/generation_strategies#save-a-custom-decoding-strategy-with-your-model) instead. This warning will be raised to an exception in v4.41.\n",
            "Non-default generation parameters: {'early_stopping': True, 'num_beams': 4, 'no_repeat_ngram_size': 3, 'forced_bos_token_id': 0, 'forced_eos_token_id': 2}\n",
            "Some non-default generation parameters are set in the model config. These should go into a GenerationConfig file (https://huggingface.co/docs/transformers/generation_strategies#save-a-custom-decoding-strategy-with-your-model) instead. This warning will be raised to an exception in v4.41.\n",
            "Non-default generation parameters: {'early_stopping': True, 'num_beams': 4, 'no_repeat_ngram_size': 3, 'forced_bos_token_id': 0, 'forced_eos_token_id': 2}\n",
            "Some non-default generation parameters are set in the model config. These should go into a GenerationConfig file (https://huggingface.co/docs/transformers/generation_strategies#save-a-custom-decoding-strategy-with-your-model) instead. This warning will be raised to an exception in v4.41.\n",
            "Non-default generation parameters: {'early_stopping': True, 'num_beams': 4, 'no_repeat_ngram_size': 3, 'forced_bos_token_id': 0, 'forced_eos_token_id': 2}\n",
            "Some non-default generation parameters are set in the model config. These should go into a GenerationConfig file (https://huggingface.co/docs/transformers/generation_strategies#save-a-custom-decoding-strategy-with-your-model) instead. This warning will be raised to an exception in v4.41.\n",
            "Non-default generation parameters: {'early_stopping': True, 'num_beams': 4, 'no_repeat_ngram_size': 3, 'forced_bos_token_id': 0, 'forced_eos_token_id': 2}\n",
            "Some non-default generation parameters are set in the model config. These should go into a GenerationConfig file (https://huggingface.co/docs/transformers/generation_strategies#save-a-custom-decoding-strategy-with-your-model) instead. This warning will be raised to an exception in v4.41.\n",
            "Non-default generation parameters: {'early_stopping': True, 'num_beams': 4, 'no_repeat_ngram_size': 3, 'forced_bos_token_id': 0, 'forced_eos_token_id': 2}\n",
            "Some non-default generation parameters are set in the model config. These should go into a GenerationConfig file (https://huggingface.co/docs/transformers/generation_strategies#save-a-custom-decoding-strategy-with-your-model) instead. This warning will be raised to an exception in v4.41.\n",
            "Non-default generation parameters: {'early_stopping': True, 'num_beams': 4, 'no_repeat_ngram_size': 3, 'forced_bos_token_id': 0, 'forced_eos_token_id': 2}\n",
            "Some non-default generation parameters are set in the model config. These should go into a GenerationConfig file (https://huggingface.co/docs/transformers/generation_strategies#save-a-custom-decoding-strategy-with-your-model) instead. This warning will be raised to an exception in v4.41.\n",
            "Non-default generation parameters: {'early_stopping': True, 'num_beams': 4, 'no_repeat_ngram_size': 3, 'forced_bos_token_id': 0, 'forced_eos_token_id': 2}\n",
            "Some non-default generation parameters are set in the model config. These should go into a GenerationConfig file (https://huggingface.co/docs/transformers/generation_strategies#save-a-custom-decoding-strategy-with-your-model) instead. This warning will be raised to an exception in v4.41.\n",
            "Non-default generation parameters: {'early_stopping': True, 'num_beams': 4, 'no_repeat_ngram_size': 3, 'forced_bos_token_id': 0, 'forced_eos_token_id': 2}\n",
            "Some non-default generation parameters are set in the model config. These should go into a GenerationConfig file (https://huggingface.co/docs/transformers/generation_strategies#save-a-custom-decoding-strategy-with-your-model) instead. This warning will be raised to an exception in v4.41.\n",
            "Non-default generation parameters: {'early_stopping': True, 'num_beams': 4, 'no_repeat_ngram_size': 3, 'forced_bos_token_id': 0, 'forced_eos_token_id': 2}\n",
            "Some non-default generation parameters are set in the model config. These should go into a GenerationConfig file (https://huggingface.co/docs/transformers/generation_strategies#save-a-custom-decoding-strategy-with-your-model) instead. This warning will be raised to an exception in v4.41.\n",
            "Non-default generation parameters: {'early_stopping': True, 'num_beams': 4, 'no_repeat_ngram_size': 3, 'forced_bos_token_id': 0, 'forced_eos_token_id': 2}\n",
            "Some non-default generation parameters are set in the model config. These should go into a GenerationConfig file (https://huggingface.co/docs/transformers/generation_strategies#save-a-custom-decoding-strategy-with-your-model) instead. This warning will be raised to an exception in v4.41.\n",
            "Non-default generation parameters: {'early_stopping': True, 'num_beams': 4, 'no_repeat_ngram_size': 3, 'forced_bos_token_id': 0, 'forced_eos_token_id': 2}\n"
          ]
        },
        {
          "data": {
            "text/plain": [
              "TrainOutput(global_step=186, training_loss=4.9763036235686275, metrics={'train_runtime': 614.026, 'train_samples_per_second': 4.886, 'train_steps_per_second': 0.303, 'total_flos': 871846918225920.0, 'train_loss': 4.9763036235686275, 'epoch': 2.976})"
            ]
          },
          "execution_count": 15,
          "metadata": {},
          "output_type": "execute_result"
        }
      ],
      "source": [
        "from transformers import Trainer, TrainingArguments\n",
        "\n",
        "rouge_metric = load_metric(\"rouge\")\n",
        "bleu_metric = load_metric(\"bleu\")\n",
        "\n",
        "def compute_metrics(eval_pred):\n",
        "    labels_ids = eval_pred.label_ids\n",
        "    pred_ids = eval_pred.predictions\n",
        "\n",
        "    pred_str = tokenizer.batch_decode(pred_ids, skip_special_tokens=True)\n",
        "    labels_ids[labels_ids == -100] = tokenizer.pad_token\n",
        "    label_str = tokenizer.batch_decode(labels_ids, skip_special_tokens=True)\n",
        "\n",
        "    rouge_results = rouge_metric.compute(predictions=pred_str, references=label_str, use_stemmer=True)\n",
        "    pred_tokens = [pred.split() for pred in pred_str]\n",
        "    label_tokens = [[label.split()] for label in label_str]\n",
        "\n",
        "    bleu_results = bleu_metric.compute(predictions=pred_tokens, references=label_tokens)\n",
        "\n",
        "    rouge_scores = {\n",
        "        \"rouge1\": rouge_results[\"rouge1\"].mid.fmeasure,\n",
        "        \"rouge2\": rouge_results[\"rouge2\"].mid.fmeasure,\n",
        "        \"rougeL\": rouge_results[\"rougeL\"].mid.fmeasure,\n",
        "        \"rougeLsum\": rouge_results[\"rougeLsum\"].mid.fmeasure,\n",
        "    }\n",
        "\n",
        "    bleu_score = bleu_results[\"bleu\"]\n",
        "\n",
        "    metrics = {**rouge_scores, \"bleu\": bleu_score}\n",
        "\n",
        "    return metrics\n",
        "\n",
        "\n",
        "\n",
        "\n",
        "training_args = TrainingArguments(\n",
        "    output_dir = './results',\n",
        "    num_train_epochs=3,\n",
        "    per_device_train_batch_size=2,\n",
        "    per_device_eval_batch_size=2,\n",
        "    warmup_steps=500,\n",
        "    weight_decay=0.01,\n",
        "    logging_dir='./logs',\n",
        "    gradient_accumulation_steps=8,\n",
        "    logging_steps=10,\n",
        "    save_steps=10,\n",
        "    fp16 = True\n",
        ")\n",
        "\n",
        "trainer = Trainer(\n",
        "    model=model,\n",
        "    args=training_args,\n",
        "    train_dataset=train_dataset, # Pass the Dataset object here\n",
        "    eval_dataset=val_dataset , # Pass the Dataset object here\n",
        "    compute_metrics=compute_metrics\n",
        ")\n",
        "\n",
        "trainer.train()"
      ]
    },
    {
      "cell_type": "code",
      "execution_count": null,
      "metadata": {
        "colab": {
          "base_uri": "https://localhost:8080/",
          "height": 359
        },
        "id": "Nzw8upe_dDhW",
        "outputId": "982e6f71-1545-415a-ea76-10e486c1889a"
      },
      "outputs": [
        {
          "data": {
            "text/html": [
              "\n",
              "    <div>\n",
              "      \n",
              "      <progress value='604' max='500' style='width:300px; height:20px; vertical-align: middle;'></progress>\n",
              "      [500/500 03:21]\n",
              "    </div>\n",
              "    "
            ],
            "text/plain": [
              "<IPython.core.display.HTML object>"
            ]
          },
          "metadata": {},
          "output_type": "display_data"
        },
        {
          "ename": "OutOfMemoryError",
          "evalue": "CUDA out of memory. Tried to allocate 326.00 MiB. GPU ",
          "output_type": "error",
          "traceback": [
            "\u001b[0;31m---------------------------------------------------------------------------\u001b[0m",
            "\u001b[0;31mOutOfMemoryError\u001b[0m                          Traceback (most recent call last)",
            "\u001b[0;32m<ipython-input-35-4014f9122297>\u001b[0m in \u001b[0;36m<cell line: 2>\u001b[0;34m()\u001b[0m\n\u001b[1;32m      1\u001b[0m \u001b[0;31m#evaluating the model\u001b[0m\u001b[0;34m\u001b[0m\u001b[0;34m\u001b[0m\u001b[0m\n\u001b[0;32m----> 2\u001b[0;31m \u001b[0meval_results\u001b[0m \u001b[0;34m=\u001b[0m \u001b[0mtrainer\u001b[0m\u001b[0;34m.\u001b[0m\u001b[0mevaluate\u001b[0m\u001b[0;34m(\u001b[0m\u001b[0meval_dataset\u001b[0m \u001b[0;34m=\u001b[0m \u001b[0mtest_dataset\u001b[0m\u001b[0;34m)\u001b[0m\u001b[0;34m\u001b[0m\u001b[0;34m\u001b[0m\u001b[0m\n\u001b[0m\u001b[1;32m      3\u001b[0m \u001b[0mprint\u001b[0m\u001b[0;34m(\u001b[0m\u001b[0meval_results\u001b[0m\u001b[0;34m)\u001b[0m\u001b[0;34m\u001b[0m\u001b[0;34m\u001b[0m\u001b[0m\n",
            "\u001b[0;32m/usr/local/lib/python3.10/dist-packages/transformers/trainer.py\u001b[0m in \u001b[0;36mevaluate\u001b[0;34m(self, eval_dataset, ignore_keys, metric_key_prefix)\u001b[0m\n\u001b[1;32m   3639\u001b[0m \u001b[0;34m\u001b[0m\u001b[0m\n\u001b[1;32m   3640\u001b[0m         \u001b[0meval_loop\u001b[0m \u001b[0;34m=\u001b[0m \u001b[0mself\u001b[0m\u001b[0;34m.\u001b[0m\u001b[0mprediction_loop\u001b[0m \u001b[0;32mif\u001b[0m \u001b[0mself\u001b[0m\u001b[0;34m.\u001b[0m\u001b[0margs\u001b[0m\u001b[0;34m.\u001b[0m\u001b[0muse_legacy_prediction_loop\u001b[0m \u001b[0;32melse\u001b[0m \u001b[0mself\u001b[0m\u001b[0;34m.\u001b[0m\u001b[0mevaluation_loop\u001b[0m\u001b[0;34m\u001b[0m\u001b[0;34m\u001b[0m\u001b[0m\n\u001b[0;32m-> 3641\u001b[0;31m         output = eval_loop(\n\u001b[0m\u001b[1;32m   3642\u001b[0m             \u001b[0meval_dataloader\u001b[0m\u001b[0;34m,\u001b[0m\u001b[0;34m\u001b[0m\u001b[0;34m\u001b[0m\u001b[0m\n\u001b[1;32m   3643\u001b[0m             \u001b[0mdescription\u001b[0m\u001b[0;34m=\u001b[0m\u001b[0;34m\"Evaluation\"\u001b[0m\u001b[0;34m,\u001b[0m\u001b[0;34m\u001b[0m\u001b[0;34m\u001b[0m\u001b[0m\n",
            "\u001b[0;32m/usr/local/lib/python3.10/dist-packages/transformers/trainer.py\u001b[0m in \u001b[0;36mevaluation_loop\u001b[0;34m(self, dataloader, description, prediction_loss_only, ignore_keys, metric_key_prefix)\u001b[0m\n\u001b[1;32m   3846\u001b[0m                 \u001b[0mlogits\u001b[0m \u001b[0;34m=\u001b[0m \u001b[0mself\u001b[0m\u001b[0;34m.\u001b[0m\u001b[0mgather_function\u001b[0m\u001b[0;34m(\u001b[0m\u001b[0;34m(\u001b[0m\u001b[0mlogits\u001b[0m\u001b[0;34m)\u001b[0m\u001b[0;34m)\u001b[0m\u001b[0;34m\u001b[0m\u001b[0;34m\u001b[0m\u001b[0m\n\u001b[1;32m   3847\u001b[0m                 \u001b[0;32mif\u001b[0m \u001b[0;32mnot\u001b[0m \u001b[0mself\u001b[0m\u001b[0;34m.\u001b[0m\u001b[0margs\u001b[0m\u001b[0;34m.\u001b[0m\u001b[0mbatch_eval_metrics\u001b[0m \u001b[0;32mor\u001b[0m \u001b[0mdescription\u001b[0m \u001b[0;34m==\u001b[0m \u001b[0;34m\"Prediction\"\u001b[0m\u001b[0;34m:\u001b[0m\u001b[0;34m\u001b[0m\u001b[0;34m\u001b[0m\u001b[0m\n\u001b[0;32m-> 3848\u001b[0;31m                     \u001b[0mall_preds\u001b[0m\u001b[0;34m.\u001b[0m\u001b[0madd\u001b[0m\u001b[0;34m(\u001b[0m\u001b[0mlogits\u001b[0m\u001b[0;34m)\u001b[0m\u001b[0;34m\u001b[0m\u001b[0;34m\u001b[0m\u001b[0m\n\u001b[0m\u001b[1;32m   3849\u001b[0m             \u001b[0;32mif\u001b[0m \u001b[0mlabels\u001b[0m \u001b[0;32mis\u001b[0m \u001b[0;32mnot\u001b[0m \u001b[0;32mNone\u001b[0m\u001b[0;34m:\u001b[0m\u001b[0;34m\u001b[0m\u001b[0;34m\u001b[0m\u001b[0m\n\u001b[1;32m   3850\u001b[0m                 \u001b[0mlabels\u001b[0m \u001b[0;34m=\u001b[0m \u001b[0mself\u001b[0m\u001b[0;34m.\u001b[0m\u001b[0maccelerator\u001b[0m\u001b[0;34m.\u001b[0m\u001b[0mpad_across_processes\u001b[0m\u001b[0;34m(\u001b[0m\u001b[0mlabels\u001b[0m\u001b[0;34m,\u001b[0m \u001b[0mdim\u001b[0m\u001b[0;34m=\u001b[0m\u001b[0;36m1\u001b[0m\u001b[0;34m,\u001b[0m \u001b[0mpad_index\u001b[0m\u001b[0;34m=\u001b[0m\u001b[0;34m-\u001b[0m\u001b[0;36m100\u001b[0m\u001b[0;34m)\u001b[0m\u001b[0;34m\u001b[0m\u001b[0;34m\u001b[0m\u001b[0m\n",
            "\u001b[0;32m/usr/local/lib/python3.10/dist-packages/transformers/trainer_pt_utils.py\u001b[0m in \u001b[0;36madd\u001b[0;34m(self, tensors)\u001b[0m\n\u001b[1;32m    325\u001b[0m             \u001b[0mself\u001b[0m\u001b[0;34m.\u001b[0m\u001b[0mtensors\u001b[0m \u001b[0;34m=\u001b[0m \u001b[0mtensors\u001b[0m \u001b[0;32mif\u001b[0m \u001b[0mself\u001b[0m\u001b[0;34m.\u001b[0m\u001b[0mdo_nested_concat\u001b[0m \u001b[0;32melse\u001b[0m \u001b[0;34m[\u001b[0m\u001b[0mtensors\u001b[0m\u001b[0;34m]\u001b[0m\u001b[0;34m\u001b[0m\u001b[0;34m\u001b[0m\u001b[0m\n\u001b[1;32m    326\u001b[0m         \u001b[0;32melif\u001b[0m \u001b[0mself\u001b[0m\u001b[0;34m.\u001b[0m\u001b[0mdo_nested_concat\u001b[0m\u001b[0;34m:\u001b[0m\u001b[0;34m\u001b[0m\u001b[0;34m\u001b[0m\u001b[0m\n\u001b[0;32m--> 327\u001b[0;31m             \u001b[0mself\u001b[0m\u001b[0;34m.\u001b[0m\u001b[0mtensors\u001b[0m \u001b[0;34m=\u001b[0m \u001b[0mnested_concat\u001b[0m\u001b[0;34m(\u001b[0m\u001b[0mself\u001b[0m\u001b[0;34m.\u001b[0m\u001b[0mtensors\u001b[0m\u001b[0;34m,\u001b[0m \u001b[0mtensors\u001b[0m\u001b[0;34m,\u001b[0m \u001b[0mpadding_index\u001b[0m\u001b[0;34m=\u001b[0m\u001b[0mself\u001b[0m\u001b[0;34m.\u001b[0m\u001b[0mpadding_index\u001b[0m\u001b[0;34m)\u001b[0m\u001b[0;34m\u001b[0m\u001b[0;34m\u001b[0m\u001b[0m\n\u001b[0m\u001b[1;32m    328\u001b[0m         \u001b[0;32melse\u001b[0m\u001b[0;34m:\u001b[0m\u001b[0;34m\u001b[0m\u001b[0;34m\u001b[0m\u001b[0m\n\u001b[1;32m    329\u001b[0m             \u001b[0mself\u001b[0m\u001b[0;34m.\u001b[0m\u001b[0mtensors\u001b[0m\u001b[0;34m.\u001b[0m\u001b[0mappend\u001b[0m\u001b[0;34m(\u001b[0m\u001b[0mtensors\u001b[0m\u001b[0;34m)\u001b[0m\u001b[0;34m\u001b[0m\u001b[0;34m\u001b[0m\u001b[0m\n",
            "\u001b[0;32m/usr/local/lib/python3.10/dist-packages/transformers/trainer_pt_utils.py\u001b[0m in \u001b[0;36mnested_concat\u001b[0;34m(tensors, new_tensors, padding_index)\u001b[0m\n\u001b[1;32m    137\u001b[0m         ), f\"Expected `tensors` and `new_tensors` to have the same type but found {type(tensors)} and {type(new_tensors)}.\"\n\u001b[1;32m    138\u001b[0m     \u001b[0;32mif\u001b[0m \u001b[0misinstance\u001b[0m\u001b[0;34m(\u001b[0m\u001b[0mtensors\u001b[0m\u001b[0;34m,\u001b[0m \u001b[0;34m(\u001b[0m\u001b[0mlist\u001b[0m\u001b[0;34m,\u001b[0m \u001b[0mtuple\u001b[0m\u001b[0;34m)\u001b[0m\u001b[0;34m)\u001b[0m\u001b[0;34m:\u001b[0m\u001b[0;34m\u001b[0m\u001b[0;34m\u001b[0m\u001b[0m\n\u001b[0;32m--> 139\u001b[0;31m         \u001b[0;32mreturn\u001b[0m \u001b[0mtype\u001b[0m\u001b[0;34m(\u001b[0m\u001b[0mtensors\u001b[0m\u001b[0;34m)\u001b[0m\u001b[0;34m(\u001b[0m\u001b[0mnested_concat\u001b[0m\u001b[0;34m(\u001b[0m\u001b[0mt\u001b[0m\u001b[0;34m,\u001b[0m \u001b[0mn\u001b[0m\u001b[0;34m,\u001b[0m \u001b[0mpadding_index\u001b[0m\u001b[0;34m=\u001b[0m\u001b[0mpadding_index\u001b[0m\u001b[0;34m)\u001b[0m \u001b[0;32mfor\u001b[0m \u001b[0mt\u001b[0m\u001b[0;34m,\u001b[0m \u001b[0mn\u001b[0m \u001b[0;32min\u001b[0m \u001b[0mzip\u001b[0m\u001b[0;34m(\u001b[0m\u001b[0mtensors\u001b[0m\u001b[0;34m,\u001b[0m \u001b[0mnew_tensors\u001b[0m\u001b[0;34m)\u001b[0m\u001b[0;34m)\u001b[0m\u001b[0;34m\u001b[0m\u001b[0;34m\u001b[0m\u001b[0m\n\u001b[0m\u001b[1;32m    140\u001b[0m     \u001b[0;32melif\u001b[0m \u001b[0misinstance\u001b[0m\u001b[0;34m(\u001b[0m\u001b[0mtensors\u001b[0m\u001b[0;34m,\u001b[0m \u001b[0mtorch\u001b[0m\u001b[0;34m.\u001b[0m\u001b[0mTensor\u001b[0m\u001b[0;34m)\u001b[0m\u001b[0;34m:\u001b[0m\u001b[0;34m\u001b[0m\u001b[0;34m\u001b[0m\u001b[0m\n\u001b[1;32m    141\u001b[0m         \u001b[0;32mreturn\u001b[0m \u001b[0mtorch_pad_and_concatenate\u001b[0m\u001b[0;34m(\u001b[0m\u001b[0mtensors\u001b[0m\u001b[0;34m,\u001b[0m \u001b[0mnew_tensors\u001b[0m\u001b[0;34m,\u001b[0m \u001b[0mpadding_index\u001b[0m\u001b[0;34m=\u001b[0m\u001b[0mpadding_index\u001b[0m\u001b[0;34m)\u001b[0m\u001b[0;34m\u001b[0m\u001b[0;34m\u001b[0m\u001b[0m\n",
            "\u001b[0;32m/usr/local/lib/python3.10/dist-packages/transformers/trainer_pt_utils.py\u001b[0m in \u001b[0;36m<genexpr>\u001b[0;34m(.0)\u001b[0m\n\u001b[1;32m    137\u001b[0m         ), f\"Expected `tensors` and `new_tensors` to have the same type but found {type(tensors)} and {type(new_tensors)}.\"\n\u001b[1;32m    138\u001b[0m     \u001b[0;32mif\u001b[0m \u001b[0misinstance\u001b[0m\u001b[0;34m(\u001b[0m\u001b[0mtensors\u001b[0m\u001b[0;34m,\u001b[0m \u001b[0;34m(\u001b[0m\u001b[0mlist\u001b[0m\u001b[0;34m,\u001b[0m \u001b[0mtuple\u001b[0m\u001b[0;34m)\u001b[0m\u001b[0;34m)\u001b[0m\u001b[0;34m:\u001b[0m\u001b[0;34m\u001b[0m\u001b[0;34m\u001b[0m\u001b[0m\n\u001b[0;32m--> 139\u001b[0;31m         \u001b[0;32mreturn\u001b[0m \u001b[0mtype\u001b[0m\u001b[0;34m(\u001b[0m\u001b[0mtensors\u001b[0m\u001b[0;34m)\u001b[0m\u001b[0;34m(\u001b[0m\u001b[0mnested_concat\u001b[0m\u001b[0;34m(\u001b[0m\u001b[0mt\u001b[0m\u001b[0;34m,\u001b[0m \u001b[0mn\u001b[0m\u001b[0;34m,\u001b[0m \u001b[0mpadding_index\u001b[0m\u001b[0;34m=\u001b[0m\u001b[0mpadding_index\u001b[0m\u001b[0;34m)\u001b[0m \u001b[0;32mfor\u001b[0m \u001b[0mt\u001b[0m\u001b[0;34m,\u001b[0m \u001b[0mn\u001b[0m \u001b[0;32min\u001b[0m \u001b[0mzip\u001b[0m\u001b[0;34m(\u001b[0m\u001b[0mtensors\u001b[0m\u001b[0;34m,\u001b[0m \u001b[0mnew_tensors\u001b[0m\u001b[0;34m)\u001b[0m\u001b[0;34m)\u001b[0m\u001b[0;34m\u001b[0m\u001b[0;34m\u001b[0m\u001b[0m\n\u001b[0m\u001b[1;32m    140\u001b[0m     \u001b[0;32melif\u001b[0m \u001b[0misinstance\u001b[0m\u001b[0;34m(\u001b[0m\u001b[0mtensors\u001b[0m\u001b[0;34m,\u001b[0m \u001b[0mtorch\u001b[0m\u001b[0;34m.\u001b[0m\u001b[0mTensor\u001b[0m\u001b[0;34m)\u001b[0m\u001b[0;34m:\u001b[0m\u001b[0;34m\u001b[0m\u001b[0;34m\u001b[0m\u001b[0m\n\u001b[1;32m    141\u001b[0m         \u001b[0;32mreturn\u001b[0m \u001b[0mtorch_pad_and_concatenate\u001b[0m\u001b[0;34m(\u001b[0m\u001b[0mtensors\u001b[0m\u001b[0;34m,\u001b[0m \u001b[0mnew_tensors\u001b[0m\u001b[0;34m,\u001b[0m \u001b[0mpadding_index\u001b[0m\u001b[0;34m=\u001b[0m\u001b[0mpadding_index\u001b[0m\u001b[0;34m)\u001b[0m\u001b[0;34m\u001b[0m\u001b[0;34m\u001b[0m\u001b[0m\n",
            "\u001b[0;32m/usr/local/lib/python3.10/dist-packages/transformers/trainer_pt_utils.py\u001b[0m in \u001b[0;36mnested_concat\u001b[0;34m(tensors, new_tensors, padding_index)\u001b[0m\n\u001b[1;32m    139\u001b[0m         \u001b[0;32mreturn\u001b[0m \u001b[0mtype\u001b[0m\u001b[0;34m(\u001b[0m\u001b[0mtensors\u001b[0m\u001b[0;34m)\u001b[0m\u001b[0;34m(\u001b[0m\u001b[0mnested_concat\u001b[0m\u001b[0;34m(\u001b[0m\u001b[0mt\u001b[0m\u001b[0;34m,\u001b[0m \u001b[0mn\u001b[0m\u001b[0;34m,\u001b[0m \u001b[0mpadding_index\u001b[0m\u001b[0;34m=\u001b[0m\u001b[0mpadding_index\u001b[0m\u001b[0;34m)\u001b[0m \u001b[0;32mfor\u001b[0m \u001b[0mt\u001b[0m\u001b[0;34m,\u001b[0m \u001b[0mn\u001b[0m \u001b[0;32min\u001b[0m \u001b[0mzip\u001b[0m\u001b[0;34m(\u001b[0m\u001b[0mtensors\u001b[0m\u001b[0;34m,\u001b[0m \u001b[0mnew_tensors\u001b[0m\u001b[0;34m)\u001b[0m\u001b[0;34m)\u001b[0m\u001b[0;34m\u001b[0m\u001b[0;34m\u001b[0m\u001b[0m\n\u001b[1;32m    140\u001b[0m     \u001b[0;32melif\u001b[0m \u001b[0misinstance\u001b[0m\u001b[0;34m(\u001b[0m\u001b[0mtensors\u001b[0m\u001b[0;34m,\u001b[0m \u001b[0mtorch\u001b[0m\u001b[0;34m.\u001b[0m\u001b[0mTensor\u001b[0m\u001b[0;34m)\u001b[0m\u001b[0;34m:\u001b[0m\u001b[0;34m\u001b[0m\u001b[0;34m\u001b[0m\u001b[0m\n\u001b[0;32m--> 141\u001b[0;31m         \u001b[0;32mreturn\u001b[0m \u001b[0mtorch_pad_and_concatenate\u001b[0m\u001b[0;34m(\u001b[0m\u001b[0mtensors\u001b[0m\u001b[0;34m,\u001b[0m \u001b[0mnew_tensors\u001b[0m\u001b[0;34m,\u001b[0m \u001b[0mpadding_index\u001b[0m\u001b[0;34m=\u001b[0m\u001b[0mpadding_index\u001b[0m\u001b[0;34m)\u001b[0m\u001b[0;34m\u001b[0m\u001b[0;34m\u001b[0m\u001b[0m\n\u001b[0m\u001b[1;32m    142\u001b[0m     \u001b[0;32melif\u001b[0m \u001b[0misinstance\u001b[0m\u001b[0;34m(\u001b[0m\u001b[0mtensors\u001b[0m\u001b[0;34m,\u001b[0m \u001b[0mMapping\u001b[0m\u001b[0;34m)\u001b[0m\u001b[0;34m:\u001b[0m\u001b[0;34m\u001b[0m\u001b[0;34m\u001b[0m\u001b[0m\n\u001b[1;32m    143\u001b[0m         return type(tensors)(\n",
            "\u001b[0;32m/usr/local/lib/python3.10/dist-packages/transformers/trainer_pt_utils.py\u001b[0m in \u001b[0;36mtorch_pad_and_concatenate\u001b[0;34m(tensor1, tensor2, padding_index)\u001b[0m\n\u001b[1;32m     97\u001b[0m \u001b[0;34m\u001b[0m\u001b[0m\n\u001b[1;32m     98\u001b[0m     \u001b[0;32mif\u001b[0m \u001b[0mlen\u001b[0m\u001b[0;34m(\u001b[0m\u001b[0mtensor1\u001b[0m\u001b[0;34m.\u001b[0m\u001b[0mshape\u001b[0m\u001b[0;34m)\u001b[0m \u001b[0;34m==\u001b[0m \u001b[0;36m1\u001b[0m \u001b[0;32mor\u001b[0m \u001b[0mtensor1\u001b[0m\u001b[0;34m.\u001b[0m\u001b[0mshape\u001b[0m\u001b[0;34m[\u001b[0m\u001b[0;36m1\u001b[0m\u001b[0;34m]\u001b[0m \u001b[0;34m==\u001b[0m \u001b[0mtensor2\u001b[0m\u001b[0;34m.\u001b[0m\u001b[0mshape\u001b[0m\u001b[0;34m[\u001b[0m\u001b[0;36m1\u001b[0m\u001b[0;34m]\u001b[0m\u001b[0;34m:\u001b[0m\u001b[0;34m\u001b[0m\u001b[0;34m\u001b[0m\u001b[0m\n\u001b[0;32m---> 99\u001b[0;31m         \u001b[0;32mreturn\u001b[0m \u001b[0mtorch\u001b[0m\u001b[0;34m.\u001b[0m\u001b[0mcat\u001b[0m\u001b[0;34m(\u001b[0m\u001b[0;34m(\u001b[0m\u001b[0mtensor1\u001b[0m\u001b[0;34m,\u001b[0m \u001b[0mtensor2\u001b[0m\u001b[0;34m)\u001b[0m\u001b[0;34m,\u001b[0m \u001b[0mdim\u001b[0m\u001b[0;34m=\u001b[0m\u001b[0;36m0\u001b[0m\u001b[0;34m)\u001b[0m\u001b[0;34m\u001b[0m\u001b[0;34m\u001b[0m\u001b[0m\n\u001b[0m\u001b[1;32m    100\u001b[0m \u001b[0;34m\u001b[0m\u001b[0m\n\u001b[1;32m    101\u001b[0m     \u001b[0;31m# Let's figure out the new shape\u001b[0m\u001b[0;34m\u001b[0m\u001b[0;34m\u001b[0m\u001b[0m\n",
            "\u001b[0;31mOutOfMemoryError\u001b[0m: CUDA out of memory. Tried to allocate 326.00 MiB. GPU "
          ]
        }
      ],
      "source": [
        "#evaluating the model\n",
        "eval_results = trainer.evaluate(eval_dataset = test_dataset)\n",
        "print(eval_results)"
      ]
    },
    {
      "cell_type": "code",
      "execution_count": null,
      "metadata": {
        "colab": {
          "base_uri": "https://localhost:8080/"
        },
        "id": "NxJs1_OndDeW",
        "outputId": "f15af694-5770-44ff-a860-8a97d813c715"
      },
      "outputs": [
        {
          "name": "stdout",
          "output_type": "stream",
          "text": [
            "Evaluation Results:\n",
            "eval_loss: 2.2736010551452637\n",
            "eval_runtime: 11.829\n",
            "eval_samples_per_second: 84.538\n",
            "eval_steps_per_second: 42.269\n",
            "epoch: 2.976\n"
          ]
        }
      ],
      "source": [
        "#!pip install datasets\n",
        "#!pip install --upgrade pyarrow\n",
        "#!pip install pyarrow==6.0.1\n",
        "\n",
        "print(\"Evaluation Results:\")\n",
        "for key, value in eval_results.items():\n",
        "    print(f\"{key}: {value}\")\n"
      ]
    },
    {
      "cell_type": "code",
      "execution_count": null,
      "metadata": {
        "colab": {
          "base_uri": "https://localhost:8080/",
          "height": 1000
        },
        "id": "yyTTkCGadDYn",
        "outputId": "424919cc-da67-45da-f3ff-ba466c925aa8"
      },
      "outputs": [
        {
          "data": {
            "text/html": [
              "\n",
              "    <div>\n",
              "      \n",
              "      <progress value='186' max='186' style='width:300px; height:20px; vertical-align: middle;'></progress>\n",
              "      [186/186 12:54, Epoch 2/3]\n",
              "    </div>\n",
              "    <table border=\"1\" class=\"dataframe\">\n",
              "  <thead>\n",
              " <tr style=\"text-align: left;\">\n",
              "      <th>Step</th>\n",
              "      <th>Training Loss</th>\n",
              "    </tr>\n",
              "  </thead>\n",
              "  <tbody>\n",
              "    <tr>\n",
              "      <td>10</td>\n",
              "      <td>2.607400</td>\n",
              "    </tr>\n",
              "    <tr>\n",
              "      <td>20</td>\n",
              "      <td>2.631200</td>\n",
              "    </tr>\n",
              "    <tr>\n",
              "      <td>30</td>\n",
              "      <td>2.546900</td>\n",
              "    </tr>\n",
              "    <tr>\n",
              "      <td>40</td>\n",
              "      <td>2.568200</td>\n",
              "    </tr>\n",
              "    <tr>\n",
              "      <td>50</td>\n",
              "      <td>2.482700</td>\n",
              "    </tr>\n",
              "    <tr>\n",
              "      <td>60</td>\n",
              "      <td>2.521400</td>\n",
              "    </tr>\n",
              "    <tr>\n",
              "      <td>70</td>\n",
              "      <td>2.407800</td>\n",
              "    </tr>\n",
              "    <tr>\n",
              "      <td>80</td>\n",
              "      <td>2.355100</td>\n",
              "    </tr>\n",
              "    <tr>\n",
              "      <td>90</td>\n",
              "      <td>2.302000</td>\n",
              "    </tr>\n",
              "    <tr>\n",
              "      <td>100</td>\n",
              "      <td>2.196200</td>\n",
              "    </tr>\n",
              "    <tr>\n",
              "      <td>110</td>\n",
              "      <td>2.227200</td>\n",
              "    </tr>\n",
              "    <tr>\n",
              "      <td>120</td>\n",
              "      <td>2.153200</td>\n",
              "    </tr>\n",
              "    <tr>\n",
              "      <td>130</td>\n",
              "      <td>2.070900</td>\n",
              "    </tr>\n",
              "    <tr>\n",
              "      <td>140</td>\n",
              "      <td>1.995500</td>\n",
              "    </tr>\n",
              "    <tr>\n",
              "      <td>150</td>\n",
              "      <td>1.869500</td>\n",
              "    </tr>\n",
              "    <tr>\n",
              "      <td>160</td>\n",
              "      <td>1.881700</td>\n",
              "    </tr>\n",
              "    <tr>\n",
              "      <td>170</td>\n",
              "      <td>1.822700</td>\n",
              "    </tr>\n",
              "    <tr>\n",
              "      <td>180</td>\n",
              "      <td>1.851500</td>\n",
              "    </tr>\n",
              "  </tbody>\n",
              "</table><p>"
            ],
            "text/plain": [
              "<IPython.core.display.HTML object>"
            ]
          },
          "metadata": {},
          "output_type": "display_data"
        },
        {
          "name": "stderr",
          "output_type": "stream",
          "text": [
            "Some non-default generation parameters are set in the model config. These should go into a GenerationConfig file (https://huggingface.co/docs/transformers/generation_strategies#save-a-custom-decoding-strategy-with-your-model) instead. This warning will be raised to an exception in v4.41.\n",
            "Non-default generation parameters: {'early_stopping': True, 'num_beams': 4, 'no_repeat_ngram_size': 3, 'forced_bos_token_id': 0, 'forced_eos_token_id': 2}\n",
            "Some non-default generation parameters are set in the model config. These should go into a GenerationConfig file (https://huggingface.co/docs/transformers/generation_strategies#save-a-custom-decoding-strategy-with-your-model) instead. This warning will be raised to an exception in v4.41.\n",
            "Non-default generation parameters: {'early_stopping': True, 'num_beams': 4, 'no_repeat_ngram_size': 3, 'forced_bos_token_id': 0, 'forced_eos_token_id': 2}\n",
            "Some non-default generation parameters are set in the model config. These should go into a GenerationConfig file (https://huggingface.co/docs/transformers/generation_strategies#save-a-custom-decoding-strategy-with-your-model) instead. This warning will be raised to an exception in v4.41.\n",
            "Non-default generation parameters: {'early_stopping': True, 'num_beams': 4, 'no_repeat_ngram_size': 3, 'forced_bos_token_id': 0, 'forced_eos_token_id': 2}\n",
            "Some non-default generation parameters are set in the model config. These should go into a GenerationConfig file (https://huggingface.co/docs/transformers/generation_strategies#save-a-custom-decoding-strategy-with-your-model) instead. This warning will be raised to an exception in v4.41.\n",
            "Non-default generation parameters: {'early_stopping': True, 'num_beams': 4, 'no_repeat_ngram_size': 3, 'forced_bos_token_id': 0, 'forced_eos_token_id': 2}\n",
            "Some non-default generation parameters are set in the model config. These should go into a GenerationConfig file (https://huggingface.co/docs/transformers/generation_strategies#save-a-custom-decoding-strategy-with-your-model) instead. This warning will be raised to an exception in v4.41.\n",
            "Non-default generation parameters: {'early_stopping': True, 'num_beams': 4, 'no_repeat_ngram_size': 3, 'forced_bos_token_id': 0, 'forced_eos_token_id': 2}\n",
            "Some non-default generation parameters are set in the model config. These should go into a GenerationConfig file (https://huggingface.co/docs/transformers/generation_strategies#save-a-custom-decoding-strategy-with-your-model) instead. This warning will be raised to an exception in v4.41.\n",
            "Non-default generation parameters: {'early_stopping': True, 'num_beams': 4, 'no_repeat_ngram_size': 3, 'forced_bos_token_id': 0, 'forced_eos_token_id': 2}\n",
            "Some non-default generation parameters are set in the model config. These should go into a GenerationConfig file (https://huggingface.co/docs/transformers/generation_strategies#save-a-custom-decoding-strategy-with-your-model) instead. This warning will be raised to an exception in v4.41.\n",
            "Non-default generation parameters: {'early_stopping': True, 'num_beams': 4, 'no_repeat_ngram_size': 3, 'forced_bos_token_id': 0, 'forced_eos_token_id': 2}\n",
            "Some non-default generation parameters are set in the model config. These should go into a GenerationConfig file (https://huggingface.co/docs/transformers/generation_strategies#save-a-custom-decoding-strategy-with-your-model) instead. This warning will be raised to an exception in v4.41.\n",
            "Non-default generation parameters: {'early_stopping': True, 'num_beams': 4, 'no_repeat_ngram_size': 3, 'forced_bos_token_id': 0, 'forced_eos_token_id': 2}\n",
            "Some non-default generation parameters are set in the model config. These should go into a GenerationConfig file (https://huggingface.co/docs/transformers/generation_strategies#save-a-custom-decoding-strategy-with-your-model) instead. This warning will be raised to an exception in v4.41.\n",
            "Non-default generation parameters: {'early_stopping': True, 'num_beams': 4, 'no_repeat_ngram_size': 3, 'forced_bos_token_id': 0, 'forced_eos_token_id': 2}\n",
            "Some non-default generation parameters are set in the model config. These should go into a GenerationConfig file (https://huggingface.co/docs/transformers/generation_strategies#save-a-custom-decoding-strategy-with-your-model) instead. This warning will be raised to an exception in v4.41.\n",
            "Non-default generation parameters: {'early_stopping': True, 'num_beams': 4, 'no_repeat_ngram_size': 3, 'forced_bos_token_id': 0, 'forced_eos_token_id': 2}\n",
            "Some non-default generation parameters are set in the model config. These should go into a GenerationConfig file (https://huggingface.co/docs/transformers/generation_strategies#save-a-custom-decoding-strategy-with-your-model) instead. This warning will be raised to an exception in v4.41.\n",
            "Non-default generation parameters: {'early_stopping': True, 'num_beams': 4, 'no_repeat_ngram_size': 3, 'forced_bos_token_id': 0, 'forced_eos_token_id': 2}\n",
            "Some non-default generation parameters are set in the model config. These should go into a GenerationConfig file (https://huggingface.co/docs/transformers/generation_strategies#save-a-custom-decoding-strategy-with-your-model) instead. This warning will be raised to an exception in v4.41.\n",
            "Non-default generation parameters: {'early_stopping': True, 'num_beams': 4, 'no_repeat_ngram_size': 3, 'forced_bos_token_id': 0, 'forced_eos_token_id': 2}\n",
            "Some non-default generation parameters are set in the model config. These should go into a GenerationConfig file (https://huggingface.co/docs/transformers/generation_strategies#save-a-custom-decoding-strategy-with-your-model) instead. This warning will be raised to an exception in v4.41.\n",
            "Non-default generation parameters: {'early_stopping': True, 'num_beams': 4, 'no_repeat_ngram_size': 3, 'forced_bos_token_id': 0, 'forced_eos_token_id': 2}\n",
            "Some non-default generation parameters are set in the model config. These should go into a GenerationConfig file (https://huggingface.co/docs/transformers/generation_strategies#save-a-custom-decoding-strategy-with-your-model) instead. This warning will be raised to an exception in v4.41.\n",
            "Non-default generation parameters: {'early_stopping': True, 'num_beams': 4, 'no_repeat_ngram_size': 3, 'forced_bos_token_id': 0, 'forced_eos_token_id': 2}\n",
            "Some non-default generation parameters are set in the model config. These should go into a GenerationConfig file (https://huggingface.co/docs/transformers/generation_strategies#save-a-custom-decoding-strategy-with-your-model) instead. This warning will be raised to an exception in v4.41.\n",
            "Non-default generation parameters: {'early_stopping': True, 'num_beams': 4, 'no_repeat_ngram_size': 3, 'forced_bos_token_id': 0, 'forced_eos_token_id': 2}\n",
            "Some non-default generation parameters are set in the model config. These should go into a GenerationConfig file (https://huggingface.co/docs/transformers/generation_strategies#save-a-custom-decoding-strategy-with-your-model) instead. This warning will be raised to an exception in v4.41.\n",
            "Non-default generation parameters: {'early_stopping': True, 'num_beams': 4, 'no_repeat_ngram_size': 3, 'forced_bos_token_id': 0, 'forced_eos_token_id': 2}\n",
            "Some non-default generation parameters are set in the model config. These should go into a GenerationConfig file (https://huggingface.co/docs/transformers/generation_strategies#save-a-custom-decoding-strategy-with-your-model) instead. This warning will be raised to an exception in v4.41.\n",
            "Non-default generation parameters: {'early_stopping': True, 'num_beams': 4, 'no_repeat_ngram_size': 3, 'forced_bos_token_id': 0, 'forced_eos_token_id': 2}\n",
            "Some non-default generation parameters are set in the model config. These should go into a GenerationConfig file (https://huggingface.co/docs/transformers/generation_strategies#save-a-custom-decoding-strategy-with-your-model) instead. This warning will be raised to an exception in v4.41.\n",
            "Non-default generation parameters: {'early_stopping': True, 'num_beams': 4, 'no_repeat_ngram_size': 3, 'forced_bos_token_id': 0, 'forced_eos_token_id': 2}\n",
            "Some non-default generation parameters are set in the model config. These should go into a GenerationConfig file (https://huggingface.co/docs/transformers/generation_strategies#save-a-custom-decoding-strategy-with-your-model) instead. This warning will be raised to an exception in v4.41.\n",
            "Non-default generation parameters: {'early_stopping': True, 'num_beams': 4, 'no_repeat_ngram_size': 3, 'forced_bos_token_id': 0, 'forced_eos_token_id': 2}\n"
          ]
        },
        {
          "data": {
            "text/html": [
              "\n",
              "    <div>\n",
              "      \n",
              "      <progress value='239' max='500' style='width:300px; height:20px; vertical-align: middle;'></progress>\n",
              "      [239/500 00:26 < 00:29, 8.91 it/s]\n",
              "    </div>\n",
              "    "
            ],
            "text/plain": [
              "<IPython.core.display.HTML object>"
            ]
          },
          "metadata": {},
          "output_type": "display_data"
        },
        {
          "ename": "OutOfMemoryError",
          "evalue": "CUDA out of memory. Tried to allocate 692.00 MiB. GPU ",
          "output_type": "error",
          "traceback": [
            "\u001b[0;31m---------------------------------------------------------------------------\u001b[0m",
            "\u001b[0;31mOutOfMemoryError\u001b[0m                          Traceback (most recent call last)",
            "\u001b[0;32m<ipython-input-22-ca2cb11df1cc>\u001b[0m in \u001b[0;36m<cell line: 13>\u001b[0;34m()\u001b[0m\n\u001b[1;32m     11\u001b[0m \u001b[0;34m\u001b[0m\u001b[0m\n\u001b[1;32m     12\u001b[0m \u001b[0;31m#evaluating the model\u001b[0m\u001b[0;34m\u001b[0m\u001b[0;34m\u001b[0m\u001b[0m\n\u001b[0;32m---> 13\u001b[0;31m \u001b[0meval_results\u001b[0m \u001b[0;34m=\u001b[0m \u001b[0mtrainer\u001b[0m\u001b[0;34m.\u001b[0m\u001b[0mevaluate\u001b[0m\u001b[0;34m(\u001b[0m\u001b[0meval_dataset\u001b[0m \u001b[0;34m=\u001b[0m \u001b[0mtest_dataset\u001b[0m\u001b[0;34m)\u001b[0m \u001b[0;31m# Remove compute_metrics from here\u001b[0m\u001b[0;34m\u001b[0m\u001b[0;34m\u001b[0m\u001b[0m\n\u001b[0m\u001b[1;32m     14\u001b[0m \u001b[0mprint\u001b[0m\u001b[0;34m(\u001b[0m\u001b[0meval_results\u001b[0m\u001b[0;34m)\u001b[0m\u001b[0;34m\u001b[0m\u001b[0;34m\u001b[0m\u001b[0m\n\u001b[1;32m     15\u001b[0m \u001b[0;34m\u001b[0m\u001b[0m\n",
            "\u001b[0;32m/usr/local/lib/python3.10/dist-packages/transformers/trainer.py\u001b[0m in \u001b[0;36mevaluate\u001b[0;34m(self, eval_dataset, ignore_keys, metric_key_prefix)\u001b[0m\n\u001b[1;32m   3639\u001b[0m \u001b[0;34m\u001b[0m\u001b[0m\n\u001b[1;32m   3640\u001b[0m         \u001b[0meval_loop\u001b[0m \u001b[0;34m=\u001b[0m \u001b[0mself\u001b[0m\u001b[0;34m.\u001b[0m\u001b[0mprediction_loop\u001b[0m \u001b[0;32mif\u001b[0m \u001b[0mself\u001b[0m\u001b[0;34m.\u001b[0m\u001b[0margs\u001b[0m\u001b[0;34m.\u001b[0m\u001b[0muse_legacy_prediction_loop\u001b[0m \u001b[0;32melse\u001b[0m \u001b[0mself\u001b[0m\u001b[0;34m.\u001b[0m\u001b[0mevaluation_loop\u001b[0m\u001b[0;34m\u001b[0m\u001b[0;34m\u001b[0m\u001b[0m\n\u001b[0;32m-> 3641\u001b[0;31m         output = eval_loop(\n\u001b[0m\u001b[1;32m   3642\u001b[0m             \u001b[0meval_dataloader\u001b[0m\u001b[0;34m,\u001b[0m\u001b[0;34m\u001b[0m\u001b[0;34m\u001b[0m\u001b[0m\n\u001b[1;32m   3643\u001b[0m             \u001b[0mdescription\u001b[0m\u001b[0;34m=\u001b[0m\u001b[0;34m\"Evaluation\"\u001b[0m\u001b[0;34m,\u001b[0m\u001b[0;34m\u001b[0m\u001b[0;34m\u001b[0m\u001b[0m\n",
            "\u001b[0;32m/usr/local/lib/python3.10/dist-packages/transformers/trainer.py\u001b[0m in \u001b[0;36mevaluation_loop\u001b[0;34m(self, dataloader, description, prediction_loss_only, ignore_keys, metric_key_prefix)\u001b[0m\n\u001b[1;32m   3846\u001b[0m                 \u001b[0mlogits\u001b[0m \u001b[0;34m=\u001b[0m \u001b[0mself\u001b[0m\u001b[0;34m.\u001b[0m\u001b[0mgather_function\u001b[0m\u001b[0;34m(\u001b[0m\u001b[0;34m(\u001b[0m\u001b[0mlogits\u001b[0m\u001b[0;34m)\u001b[0m\u001b[0;34m)\u001b[0m\u001b[0;34m\u001b[0m\u001b[0;34m\u001b[0m\u001b[0m\n\u001b[1;32m   3847\u001b[0m                 \u001b[0;32mif\u001b[0m \u001b[0;32mnot\u001b[0m \u001b[0mself\u001b[0m\u001b[0;34m.\u001b[0m\u001b[0margs\u001b[0m\u001b[0;34m.\u001b[0m\u001b[0mbatch_eval_metrics\u001b[0m \u001b[0;32mor\u001b[0m \u001b[0mdescription\u001b[0m \u001b[0;34m==\u001b[0m \u001b[0;34m\"Prediction\"\u001b[0m\u001b[0;34m:\u001b[0m\u001b[0;34m\u001b[0m\u001b[0;34m\u001b[0m\u001b[0m\n\u001b[0;32m-> 3848\u001b[0;31m                     \u001b[0mall_preds\u001b[0m\u001b[0;34m.\u001b[0m\u001b[0madd\u001b[0m\u001b[0;34m(\u001b[0m\u001b[0mlogits\u001b[0m\u001b[0;34m)\u001b[0m\u001b[0;34m\u001b[0m\u001b[0;34m\u001b[0m\u001b[0m\n\u001b[0m\u001b[1;32m   3849\u001b[0m             \u001b[0;32mif\u001b[0m \u001b[0mlabels\u001b[0m \u001b[0;32mis\u001b[0m \u001b[0;32mnot\u001b[0m \u001b[0;32mNone\u001b[0m\u001b[0;34m:\u001b[0m\u001b[0;34m\u001b[0m\u001b[0;34m\u001b[0m\u001b[0m\n\u001b[1;32m   3850\u001b[0m                 \u001b[0mlabels\u001b[0m \u001b[0;34m=\u001b[0m \u001b[0mself\u001b[0m\u001b[0;34m.\u001b[0m\u001b[0maccelerator\u001b[0m\u001b[0;34m.\u001b[0m\u001b[0mpad_across_processes\u001b[0m\u001b[0;34m(\u001b[0m\u001b[0mlabels\u001b[0m\u001b[0;34m,\u001b[0m \u001b[0mdim\u001b[0m\u001b[0;34m=\u001b[0m\u001b[0;36m1\u001b[0m\u001b[0;34m,\u001b[0m \u001b[0mpad_index\u001b[0m\u001b[0;34m=\u001b[0m\u001b[0;34m-\u001b[0m\u001b[0;36m100\u001b[0m\u001b[0;34m)\u001b[0m\u001b[0;34m\u001b[0m\u001b[0;34m\u001b[0m\u001b[0m\n",
            "\u001b[0;32m/usr/local/lib/python3.10/dist-packages/transformers/trainer_pt_utils.py\u001b[0m in \u001b[0;36madd\u001b[0;34m(self, tensors)\u001b[0m\n\u001b[1;32m    325\u001b[0m             \u001b[0mself\u001b[0m\u001b[0;34m.\u001b[0m\u001b[0mtensors\u001b[0m \u001b[0;34m=\u001b[0m \u001b[0mtensors\u001b[0m \u001b[0;32mif\u001b[0m \u001b[0mself\u001b[0m\u001b[0;34m.\u001b[0m\u001b[0mdo_nested_concat\u001b[0m \u001b[0;32melse\u001b[0m \u001b[0;34m[\u001b[0m\u001b[0mtensors\u001b[0m\u001b[0;34m]\u001b[0m\u001b[0;34m\u001b[0m\u001b[0;34m\u001b[0m\u001b[0m\n\u001b[1;32m    326\u001b[0m         \u001b[0;32melif\u001b[0m \u001b[0mself\u001b[0m\u001b[0;34m.\u001b[0m\u001b[0mdo_nested_concat\u001b[0m\u001b[0;34m:\u001b[0m\u001b[0;34m\u001b[0m\u001b[0;34m\u001b[0m\u001b[0m\n\u001b[0;32m--> 327\u001b[0;31m             \u001b[0mself\u001b[0m\u001b[0;34m.\u001b[0m\u001b[0mtensors\u001b[0m \u001b[0;34m=\u001b[0m \u001b[0mnested_concat\u001b[0m\u001b[0;34m(\u001b[0m\u001b[0mself\u001b[0m\u001b[0;34m.\u001b[0m\u001b[0mtensors\u001b[0m\u001b[0;34m,\u001b[0m \u001b[0mtensors\u001b[0m\u001b[0;34m,\u001b[0m \u001b[0mpadding_index\u001b[0m\u001b[0;34m=\u001b[0m\u001b[0mself\u001b[0m\u001b[0;34m.\u001b[0m\u001b[0mpadding_index\u001b[0m\u001b[0;34m)\u001b[0m\u001b[0;34m\u001b[0m\u001b[0;34m\u001b[0m\u001b[0m\n\u001b[0m\u001b[1;32m    328\u001b[0m         \u001b[0;32melse\u001b[0m\u001b[0;34m:\u001b[0m\u001b[0;34m\u001b[0m\u001b[0;34m\u001b[0m\u001b[0m\n\u001b[1;32m    329\u001b[0m             \u001b[0mself\u001b[0m\u001b[0;34m.\u001b[0m\u001b[0mtensors\u001b[0m\u001b[0;34m.\u001b[0m\u001b[0mappend\u001b[0m\u001b[0;34m(\u001b[0m\u001b[0mtensors\u001b[0m\u001b[0;34m)\u001b[0m\u001b[0;34m\u001b[0m\u001b[0;34m\u001b[0m\u001b[0m\n",
            "\u001b[0;32m/usr/local/lib/python3.10/dist-packages/transformers/trainer_pt_utils.py\u001b[0m in \u001b[0;36mnested_concat\u001b[0;34m(tensors, new_tensors, padding_index)\u001b[0m\n\u001b[1;32m    137\u001b[0m         ), f\"Expected `tensors` and `new_tensors` to have the same type but found {type(tensors)} and {type(new_tensors)}.\"\n\u001b[1;32m    138\u001b[0m     \u001b[0;32mif\u001b[0m \u001b[0misinstance\u001b[0m\u001b[0;34m(\u001b[0m\u001b[0mtensors\u001b[0m\u001b[0;34m,\u001b[0m \u001b[0;34m(\u001b[0m\u001b[0mlist\u001b[0m\u001b[0;34m,\u001b[0m \u001b[0mtuple\u001b[0m\u001b[0;34m)\u001b[0m\u001b[0;34m)\u001b[0m\u001b[0;34m:\u001b[0m\u001b[0;34m\u001b[0m\u001b[0;34m\u001b[0m\u001b[0m\n\u001b[0;32m--> 139\u001b[0;31m         \u001b[0;32mreturn\u001b[0m \u001b[0mtype\u001b[0m\u001b[0;34m(\u001b[0m\u001b[0mtensors\u001b[0m\u001b[0;34m)\u001b[0m\u001b[0;34m(\u001b[0m\u001b[0mnested_concat\u001b[0m\u001b[0;34m(\u001b[0m\u001b[0mt\u001b[0m\u001b[0;34m,\u001b[0m \u001b[0mn\u001b[0m\u001b[0;34m,\u001b[0m \u001b[0mpadding_index\u001b[0m\u001b[0;34m=\u001b[0m\u001b[0mpadding_index\u001b[0m\u001b[0;34m)\u001b[0m \u001b[0;32mfor\u001b[0m \u001b[0mt\u001b[0m\u001b[0;34m,\u001b[0m \u001b[0mn\u001b[0m \u001b[0;32min\u001b[0m \u001b[0mzip\u001b[0m\u001b[0;34m(\u001b[0m\u001b[0mtensors\u001b[0m\u001b[0;34m,\u001b[0m \u001b[0mnew_tensors\u001b[0m\u001b[0;34m)\u001b[0m\u001b[0;34m)\u001b[0m\u001b[0;34m\u001b[0m\u001b[0;34m\u001b[0m\u001b[0m\n\u001b[0m\u001b[1;32m    140\u001b[0m     \u001b[0;32melif\u001b[0m \u001b[0misinstance\u001b[0m\u001b[0;34m(\u001b[0m\u001b[0mtensors\u001b[0m\u001b[0;34m,\u001b[0m \u001b[0mtorch\u001b[0m\u001b[0;34m.\u001b[0m\u001b[0mTensor\u001b[0m\u001b[0;34m)\u001b[0m\u001b[0;34m:\u001b[0m\u001b[0;34m\u001b[0m\u001b[0;34m\u001b[0m\u001b[0m\n\u001b[1;32m    141\u001b[0m         \u001b[0;32mreturn\u001b[0m \u001b[0mtorch_pad_and_concatenate\u001b[0m\u001b[0;34m(\u001b[0m\u001b[0mtensors\u001b[0m\u001b[0;34m,\u001b[0m \u001b[0mnew_tensors\u001b[0m\u001b[0;34m,\u001b[0m \u001b[0mpadding_index\u001b[0m\u001b[0;34m=\u001b[0m\u001b[0mpadding_index\u001b[0m\u001b[0;34m)\u001b[0m\u001b[0;34m\u001b[0m\u001b[0;34m\u001b[0m\u001b[0m\n",
            "\u001b[0;32m/usr/local/lib/python3.10/dist-packages/transformers/trainer_pt_utils.py\u001b[0m in \u001b[0;36m<genexpr>\u001b[0;34m(.0)\u001b[0m\n\u001b[1;32m    137\u001b[0m         ), f\"Expected `tensors` and `new_tensors` to have the same type but found {type(tensors)} and {type(new_tensors)}.\"\n\u001b[1;32m    138\u001b[0m     \u001b[0;32mif\u001b[0m \u001b[0misinstance\u001b[0m\u001b[0;34m(\u001b[0m\u001b[0mtensors\u001b[0m\u001b[0;34m,\u001b[0m \u001b[0;34m(\u001b[0m\u001b[0mlist\u001b[0m\u001b[0;34m,\u001b[0m \u001b[0mtuple\u001b[0m\u001b[0;34m)\u001b[0m\u001b[0;34m)\u001b[0m\u001b[0;34m:\u001b[0m\u001b[0;34m\u001b[0m\u001b[0;34m\u001b[0m\u001b[0m\n\u001b[0;32m--> 139\u001b[0;31m         \u001b[0;32mreturn\u001b[0m \u001b[0mtype\u001b[0m\u001b[0;34m(\u001b[0m\u001b[0mtensors\u001b[0m\u001b[0;34m)\u001b[0m\u001b[0;34m(\u001b[0m\u001b[0mnested_concat\u001b[0m\u001b[0;34m(\u001b[0m\u001b[0mt\u001b[0m\u001b[0;34m,\u001b[0m \u001b[0mn\u001b[0m\u001b[0;34m,\u001b[0m \u001b[0mpadding_index\u001b[0m\u001b[0;34m=\u001b[0m\u001b[0mpadding_index\u001b[0m\u001b[0;34m)\u001b[0m \u001b[0;32mfor\u001b[0m \u001b[0mt\u001b[0m\u001b[0;34m,\u001b[0m \u001b[0mn\u001b[0m \u001b[0;32min\u001b[0m \u001b[0mzip\u001b[0m\u001b[0;34m(\u001b[0m\u001b[0mtensors\u001b[0m\u001b[0;34m,\u001b[0m \u001b[0mnew_tensors\u001b[0m\u001b[0;34m)\u001b[0m\u001b[0;34m)\u001b[0m\u001b[0;34m\u001b[0m\u001b[0;34m\u001b[0m\u001b[0m\n\u001b[0m\u001b[1;32m    140\u001b[0m     \u001b[0;32melif\u001b[0m \u001b[0misinstance\u001b[0m\u001b[0;34m(\u001b[0m\u001b[0mtensors\u001b[0m\u001b[0;34m,\u001b[0m \u001b[0mtorch\u001b[0m\u001b[0;34m.\u001b[0m\u001b[0mTensor\u001b[0m\u001b[0;34m)\u001b[0m\u001b[0;34m:\u001b[0m\u001b[0;34m\u001b[0m\u001b[0;34m\u001b[0m\u001b[0m\n\u001b[1;32m    141\u001b[0m         \u001b[0;32mreturn\u001b[0m \u001b[0mtorch_pad_and_concatenate\u001b[0m\u001b[0;34m(\u001b[0m\u001b[0mtensors\u001b[0m\u001b[0;34m,\u001b[0m \u001b[0mnew_tensors\u001b[0m\u001b[0;34m,\u001b[0m \u001b[0mpadding_index\u001b[0m\u001b[0;34m=\u001b[0m\u001b[0mpadding_index\u001b[0m\u001b[0;34m)\u001b[0m\u001b[0;34m\u001b[0m\u001b[0;34m\u001b[0m\u001b[0m\n",
            "\u001b[0;32m/usr/local/lib/python3.10/dist-packages/transformers/trainer_pt_utils.py\u001b[0m in \u001b[0;36mnested_concat\u001b[0;34m(tensors, new_tensors, padding_index)\u001b[0m\n\u001b[1;32m    139\u001b[0m         \u001b[0;32mreturn\u001b[0m \u001b[0mtype\u001b[0m\u001b[0;34m(\u001b[0m\u001b[0mtensors\u001b[0m\u001b[0;34m)\u001b[0m\u001b[0;34m(\u001b[0m\u001b[0mnested_concat\u001b[0m\u001b[0;34m(\u001b[0m\u001b[0mt\u001b[0m\u001b[0;34m,\u001b[0m \u001b[0mn\u001b[0m\u001b[0;34m,\u001b[0m \u001b[0mpadding_index\u001b[0m\u001b[0;34m=\u001b[0m\u001b[0mpadding_index\u001b[0m\u001b[0;34m)\u001b[0m \u001b[0;32mfor\u001b[0m \u001b[0mt\u001b[0m\u001b[0;34m,\u001b[0m \u001b[0mn\u001b[0m \u001b[0;32min\u001b[0m \u001b[0mzip\u001b[0m\u001b[0;34m(\u001b[0m\u001b[0mtensors\u001b[0m\u001b[0;34m,\u001b[0m \u001b[0mnew_tensors\u001b[0m\u001b[0;34m)\u001b[0m\u001b[0;34m)\u001b[0m\u001b[0;34m\u001b[0m\u001b[0;34m\u001b[0m\u001b[0m\n\u001b[1;32m    140\u001b[0m     \u001b[0;32melif\u001b[0m \u001b[0misinstance\u001b[0m\u001b[0;34m(\u001b[0m\u001b[0mtensors\u001b[0m\u001b[0;34m,\u001b[0m \u001b[0mtorch\u001b[0m\u001b[0;34m.\u001b[0m\u001b[0mTensor\u001b[0m\u001b[0;34m)\u001b[0m\u001b[0;34m:\u001b[0m\u001b[0;34m\u001b[0m\u001b[0;34m\u001b[0m\u001b[0m\n\u001b[0;32m--> 141\u001b[0;31m         \u001b[0;32mreturn\u001b[0m \u001b[0mtorch_pad_and_concatenate\u001b[0m\u001b[0;34m(\u001b[0m\u001b[0mtensors\u001b[0m\u001b[0;34m,\u001b[0m \u001b[0mnew_tensors\u001b[0m\u001b[0;34m,\u001b[0m \u001b[0mpadding_index\u001b[0m\u001b[0;34m=\u001b[0m\u001b[0mpadding_index\u001b[0m\u001b[0;34m)\u001b[0m\u001b[0;34m\u001b[0m\u001b[0;34m\u001b[0m\u001b[0m\n\u001b[0m\u001b[1;32m    142\u001b[0m     \u001b[0;32melif\u001b[0m \u001b[0misinstance\u001b[0m\u001b[0;34m(\u001b[0m\u001b[0mtensors\u001b[0m\u001b[0;34m,\u001b[0m \u001b[0mMapping\u001b[0m\u001b[0;34m)\u001b[0m\u001b[0;34m:\u001b[0m\u001b[0;34m\u001b[0m\u001b[0;34m\u001b[0m\u001b[0m\n\u001b[1;32m    143\u001b[0m         return type(tensors)(\n",
            "\u001b[0;32m/usr/local/lib/python3.10/dist-packages/transformers/trainer_pt_utils.py\u001b[0m in \u001b[0;36mtorch_pad_and_concatenate\u001b[0;34m(tensor1, tensor2, padding_index)\u001b[0m\n\u001b[1;32m     97\u001b[0m \u001b[0;34m\u001b[0m\u001b[0m\n\u001b[1;32m     98\u001b[0m     \u001b[0;32mif\u001b[0m \u001b[0mlen\u001b[0m\u001b[0;34m(\u001b[0m\u001b[0mtensor1\u001b[0m\u001b[0;34m.\u001b[0m\u001b[0mshape\u001b[0m\u001b[0;34m)\u001b[0m \u001b[0;34m==\u001b[0m \u001b[0;36m1\u001b[0m \u001b[0;32mor\u001b[0m \u001b[0mtensor1\u001b[0m\u001b[0;34m.\u001b[0m\u001b[0mshape\u001b[0m\u001b[0;34m[\u001b[0m\u001b[0;36m1\u001b[0m\u001b[0;34m]\u001b[0m \u001b[0;34m==\u001b[0m \u001b[0mtensor2\u001b[0m\u001b[0;34m.\u001b[0m\u001b[0mshape\u001b[0m\u001b[0;34m[\u001b[0m\u001b[0;36m1\u001b[0m\u001b[0;34m]\u001b[0m\u001b[0;34m:\u001b[0m\u001b[0;34m\u001b[0m\u001b[0;34m\u001b[0m\u001b[0m\n\u001b[0;32m---> 99\u001b[0;31m         \u001b[0;32mreturn\u001b[0m \u001b[0mtorch\u001b[0m\u001b[0;34m.\u001b[0m\u001b[0mcat\u001b[0m\u001b[0;34m(\u001b[0m\u001b[0;34m(\u001b[0m\u001b[0mtensor1\u001b[0m\u001b[0;34m,\u001b[0m \u001b[0mtensor2\u001b[0m\u001b[0;34m)\u001b[0m\u001b[0;34m,\u001b[0m \u001b[0mdim\u001b[0m\u001b[0;34m=\u001b[0m\u001b[0;36m0\u001b[0m\u001b[0;34m)\u001b[0m\u001b[0;34m\u001b[0m\u001b[0;34m\u001b[0m\u001b[0m\n\u001b[0m\u001b[1;32m    100\u001b[0m \u001b[0;34m\u001b[0m\u001b[0m\n\u001b[1;32m    101\u001b[0m     \u001b[0;31m# Let's figure out the new shape\u001b[0m\u001b[0;34m\u001b[0m\u001b[0;34m\u001b[0m\u001b[0m\n",
            "\u001b[0;31mOutOfMemoryError\u001b[0m: CUDA out of memory. Tried to allocate 692.00 MiB. GPU "
          ]
        }
      ],
      "source": [
        "#Initialize the Trainer with compute_metrics\n",
        "trainer = Trainer(\n",
        "    model=model,\n",
        "    args=training_args,\n",
        "    train_dataset=train_dataset, # Pass the Dataset object here\n",
        "    eval_dataset=val_dataset,  # Pass the Dataset object here\n",
        "    compute_metrics=compute_metrics # Pass the compute_metrics function here\n",
        ")\n",
        "\n",
        "trainer.train()\n",
        "\n"
      ]
    },
    {
      "cell_type": "code",
      "execution_count": null,
      "metadata": {
        "colab": {
          "base_uri": "https://localhost:8080/",
          "height": 393
        },
        "id": "r4h4T-SdDg2L",
        "outputId": "a331a597-2ff8-4ab9-b36f-c7a3c15c3206"
      },
      "outputs": [
        {
          "data": {
            "text/html": [
              "\n",
              "    <div>\n",
              "      \n",
              "      <progress value='588' max='500' style='width:300px; height:20px; vertical-align: middle;'></progress>\n",
              "      [500/500 03:08]\n",
              "    </div>\n",
              "    "
            ],
            "text/plain": [
              "<IPython.core.display.HTML object>"
            ]
          },
          "metadata": {},
          "output_type": "display_data"
        },
        {
          "ename": "OutOfMemoryError",
          "evalue": "CUDA out of memory. Tried to allocate 384.00 MiB. GPU ",
          "output_type": "error",
          "traceback": [
            "\u001b[0;31m---------------------------------------------------------------------------\u001b[0m",
            "\u001b[0;31mOutOfMemoryError\u001b[0m                          Traceback (most recent call last)",
            "\u001b[0;32m<ipython-input-32-74c7ad708073>\u001b[0m in \u001b[0;36m<cell line: 2>\u001b[0;34m()\u001b[0m\n\u001b[1;32m      1\u001b[0m \u001b[0;31m##evaluating the model\u001b[0m\u001b[0;34m\u001b[0m\u001b[0;34m\u001b[0m\u001b[0m\n\u001b[0;32m----> 2\u001b[0;31m \u001b[0meval_results\u001b[0m \u001b[0;34m=\u001b[0m \u001b[0mtrainer\u001b[0m\u001b[0;34m.\u001b[0m\u001b[0mevaluate\u001b[0m\u001b[0;34m(\u001b[0m\u001b[0meval_dataset\u001b[0m \u001b[0;34m=\u001b[0m \u001b[0mtest_dataset\u001b[0m\u001b[0;34m)\u001b[0m \u001b[0;31m# Remove compute_metrics from here\u001b[0m\u001b[0;34m\u001b[0m\u001b[0;34m\u001b[0m\u001b[0m\n\u001b[0m\u001b[1;32m      3\u001b[0m \u001b[0mprint\u001b[0m\u001b[0;34m(\u001b[0m\u001b[0meval_results\u001b[0m\u001b[0;34m)\u001b[0m\u001b[0;34m\u001b[0m\u001b[0;34m\u001b[0m\u001b[0m\n\u001b[1;32m      4\u001b[0m \u001b[0;34m\u001b[0m\u001b[0m\n\u001b[1;32m      5\u001b[0m \u001b[0mprint\u001b[0m\u001b[0;34m(\u001b[0m\u001b[0;34m\"Rouge Scores:\"\u001b[0m\u001b[0;34m)\u001b[0m\u001b[0;34m\u001b[0m\u001b[0;34m\u001b[0m\u001b[0m\n",
            "\u001b[0;32m/usr/local/lib/python3.10/dist-packages/transformers/trainer.py\u001b[0m in \u001b[0;36mevaluate\u001b[0;34m(self, eval_dataset, ignore_keys, metric_key_prefix)\u001b[0m\n\u001b[1;32m   3639\u001b[0m \u001b[0;34m\u001b[0m\u001b[0m\n\u001b[1;32m   3640\u001b[0m         \u001b[0meval_loop\u001b[0m \u001b[0;34m=\u001b[0m \u001b[0mself\u001b[0m\u001b[0;34m.\u001b[0m\u001b[0mprediction_loop\u001b[0m \u001b[0;32mif\u001b[0m \u001b[0mself\u001b[0m\u001b[0;34m.\u001b[0m\u001b[0margs\u001b[0m\u001b[0;34m.\u001b[0m\u001b[0muse_legacy_prediction_loop\u001b[0m \u001b[0;32melse\u001b[0m \u001b[0mself\u001b[0m\u001b[0;34m.\u001b[0m\u001b[0mevaluation_loop\u001b[0m\u001b[0;34m\u001b[0m\u001b[0;34m\u001b[0m\u001b[0m\n\u001b[0;32m-> 3641\u001b[0;31m         output = eval_loop(\n\u001b[0m\u001b[1;32m   3642\u001b[0m             \u001b[0meval_dataloader\u001b[0m\u001b[0;34m,\u001b[0m\u001b[0;34m\u001b[0m\u001b[0;34m\u001b[0m\u001b[0m\n\u001b[1;32m   3643\u001b[0m             \u001b[0mdescription\u001b[0m\u001b[0;34m=\u001b[0m\u001b[0;34m\"Evaluation\"\u001b[0m\u001b[0;34m,\u001b[0m\u001b[0;34m\u001b[0m\u001b[0;34m\u001b[0m\u001b[0m\n",
            "\u001b[0;32m/usr/local/lib/python3.10/dist-packages/transformers/trainer.py\u001b[0m in \u001b[0;36mevaluation_loop\u001b[0;34m(self, dataloader, description, prediction_loss_only, ignore_keys, metric_key_prefix)\u001b[0m\n\u001b[1;32m   3846\u001b[0m                 \u001b[0mlogits\u001b[0m \u001b[0;34m=\u001b[0m \u001b[0mself\u001b[0m\u001b[0;34m.\u001b[0m\u001b[0mgather_function\u001b[0m\u001b[0;34m(\u001b[0m\u001b[0;34m(\u001b[0m\u001b[0mlogits\u001b[0m\u001b[0;34m)\u001b[0m\u001b[0;34m)\u001b[0m\u001b[0;34m\u001b[0m\u001b[0;34m\u001b[0m\u001b[0m\n\u001b[1;32m   3847\u001b[0m                 \u001b[0;32mif\u001b[0m \u001b[0;32mnot\u001b[0m \u001b[0mself\u001b[0m\u001b[0;34m.\u001b[0m\u001b[0margs\u001b[0m\u001b[0;34m.\u001b[0m\u001b[0mbatch_eval_metrics\u001b[0m \u001b[0;32mor\u001b[0m \u001b[0mdescription\u001b[0m \u001b[0;34m==\u001b[0m \u001b[0;34m\"Prediction\"\u001b[0m\u001b[0;34m:\u001b[0m\u001b[0;34m\u001b[0m\u001b[0;34m\u001b[0m\u001b[0m\n\u001b[0;32m-> 3848\u001b[0;31m                     \u001b[0mall_preds\u001b[0m\u001b[0;34m.\u001b[0m\u001b[0madd\u001b[0m\u001b[0;34m(\u001b[0m\u001b[0mlogits\u001b[0m\u001b[0;34m)\u001b[0m\u001b[0;34m\u001b[0m\u001b[0;34m\u001b[0m\u001b[0m\n\u001b[0m\u001b[1;32m   3849\u001b[0m             \u001b[0;32mif\u001b[0m \u001b[0mlabels\u001b[0m \u001b[0;32mis\u001b[0m \u001b[0;32mnot\u001b[0m \u001b[0;32mNone\u001b[0m\u001b[0;34m:\u001b[0m\u001b[0;34m\u001b[0m\u001b[0;34m\u001b[0m\u001b[0m\n\u001b[1;32m   3850\u001b[0m                 \u001b[0mlabels\u001b[0m \u001b[0;34m=\u001b[0m \u001b[0mself\u001b[0m\u001b[0;34m.\u001b[0m\u001b[0maccelerator\u001b[0m\u001b[0;34m.\u001b[0m\u001b[0mpad_across_processes\u001b[0m\u001b[0;34m(\u001b[0m\u001b[0mlabels\u001b[0m\u001b[0;34m,\u001b[0m \u001b[0mdim\u001b[0m\u001b[0;34m=\u001b[0m\u001b[0;36m1\u001b[0m\u001b[0;34m,\u001b[0m \u001b[0mpad_index\u001b[0m\u001b[0;34m=\u001b[0m\u001b[0;34m-\u001b[0m\u001b[0;36m100\u001b[0m\u001b[0;34m)\u001b[0m\u001b[0;34m\u001b[0m\u001b[0;34m\u001b[0m\u001b[0m\n",
            "\u001b[0;32m/usr/local/lib/python3.10/dist-packages/transformers/trainer_pt_utils.py\u001b[0m in \u001b[0;36madd\u001b[0;34m(self, tensors)\u001b[0m\n\u001b[1;32m    325\u001b[0m             \u001b[0mself\u001b[0m\u001b[0;34m.\u001b[0m\u001b[0mtensors\u001b[0m \u001b[0;34m=\u001b[0m \u001b[0mtensors\u001b[0m \u001b[0;32mif\u001b[0m \u001b[0mself\u001b[0m\u001b[0;34m.\u001b[0m\u001b[0mdo_nested_concat\u001b[0m \u001b[0;32melse\u001b[0m \u001b[0;34m[\u001b[0m\u001b[0mtensors\u001b[0m\u001b[0;34m]\u001b[0m\u001b[0;34m\u001b[0m\u001b[0;34m\u001b[0m\u001b[0m\n\u001b[1;32m    326\u001b[0m         \u001b[0;32melif\u001b[0m \u001b[0mself\u001b[0m\u001b[0;34m.\u001b[0m\u001b[0mdo_nested_concat\u001b[0m\u001b[0;34m:\u001b[0m\u001b[0;34m\u001b[0m\u001b[0;34m\u001b[0m\u001b[0m\n\u001b[0;32m--> 327\u001b[0;31m             \u001b[0mself\u001b[0m\u001b[0;34m.\u001b[0m\u001b[0mtensors\u001b[0m \u001b[0;34m=\u001b[0m \u001b[0mnested_concat\u001b[0m\u001b[0;34m(\u001b[0m\u001b[0mself\u001b[0m\u001b[0;34m.\u001b[0m\u001b[0mtensors\u001b[0m\u001b[0;34m,\u001b[0m \u001b[0mtensors\u001b[0m\u001b[0;34m,\u001b[0m \u001b[0mpadding_index\u001b[0m\u001b[0;34m=\u001b[0m\u001b[0mself\u001b[0m\u001b[0;34m.\u001b[0m\u001b[0mpadding_index\u001b[0m\u001b[0;34m)\u001b[0m\u001b[0;34m\u001b[0m\u001b[0;34m\u001b[0m\u001b[0m\n\u001b[0m\u001b[1;32m    328\u001b[0m         \u001b[0;32melse\u001b[0m\u001b[0;34m:\u001b[0m\u001b[0;34m\u001b[0m\u001b[0;34m\u001b[0m\u001b[0m\n\u001b[1;32m    329\u001b[0m             \u001b[0mself\u001b[0m\u001b[0;34m.\u001b[0m\u001b[0mtensors\u001b[0m\u001b[0;34m.\u001b[0m\u001b[0mappend\u001b[0m\u001b[0;34m(\u001b[0m\u001b[0mtensors\u001b[0m\u001b[0;34m)\u001b[0m\u001b[0;34m\u001b[0m\u001b[0;34m\u001b[0m\u001b[0m\n",
            "\u001b[0;32m/usr/local/lib/python3.10/dist-packages/transformers/trainer_pt_utils.py\u001b[0m in \u001b[0;36mnested_concat\u001b[0;34m(tensors, new_tensors, padding_index)\u001b[0m\n\u001b[1;32m    137\u001b[0m         ), f\"Expected `tensors` and `new_tensors` to have the same type but found {type(tensors)} and {type(new_tensors)}.\"\n\u001b[1;32m    138\u001b[0m     \u001b[0;32mif\u001b[0m \u001b[0misinstance\u001b[0m\u001b[0;34m(\u001b[0m\u001b[0mtensors\u001b[0m\u001b[0;34m,\u001b[0m \u001b[0;34m(\u001b[0m\u001b[0mlist\u001b[0m\u001b[0;34m,\u001b[0m \u001b[0mtuple\u001b[0m\u001b[0;34m)\u001b[0m\u001b[0;34m)\u001b[0m\u001b[0;34m:\u001b[0m\u001b[0;34m\u001b[0m\u001b[0;34m\u001b[0m\u001b[0m\n\u001b[0;32m--> 139\u001b[0;31m         \u001b[0;32mreturn\u001b[0m \u001b[0mtype\u001b[0m\u001b[0;34m(\u001b[0m\u001b[0mtensors\u001b[0m\u001b[0;34m)\u001b[0m\u001b[0;34m(\u001b[0m\u001b[0mnested_concat\u001b[0m\u001b[0;34m(\u001b[0m\u001b[0mt\u001b[0m\u001b[0;34m,\u001b[0m \u001b[0mn\u001b[0m\u001b[0;34m,\u001b[0m \u001b[0mpadding_index\u001b[0m\u001b[0;34m=\u001b[0m\u001b[0mpadding_index\u001b[0m\u001b[0;34m)\u001b[0m \u001b[0;32mfor\u001b[0m \u001b[0mt\u001b[0m\u001b[0;34m,\u001b[0m \u001b[0mn\u001b[0m \u001b[0;32min\u001b[0m \u001b[0mzip\u001b[0m\u001b[0;34m(\u001b[0m\u001b[0mtensors\u001b[0m\u001b[0;34m,\u001b[0m \u001b[0mnew_tensors\u001b[0m\u001b[0;34m)\u001b[0m\u001b[0;34m)\u001b[0m\u001b[0;34m\u001b[0m\u001b[0;34m\u001b[0m\u001b[0m\n\u001b[0m\u001b[1;32m    140\u001b[0m     \u001b[0;32melif\u001b[0m \u001b[0misinstance\u001b[0m\u001b[0;34m(\u001b[0m\u001b[0mtensors\u001b[0m\u001b[0;34m,\u001b[0m \u001b[0mtorch\u001b[0m\u001b[0;34m.\u001b[0m\u001b[0mTensor\u001b[0m\u001b[0;34m)\u001b[0m\u001b[0;34m:\u001b[0m\u001b[0;34m\u001b[0m\u001b[0;34m\u001b[0m\u001b[0m\n\u001b[1;32m    141\u001b[0m         \u001b[0;32mreturn\u001b[0m \u001b[0mtorch_pad_and_concatenate\u001b[0m\u001b[0;34m(\u001b[0m\u001b[0mtensors\u001b[0m\u001b[0;34m,\u001b[0m \u001b[0mnew_tensors\u001b[0m\u001b[0;34m,\u001b[0m \u001b[0mpadding_index\u001b[0m\u001b[0;34m=\u001b[0m\u001b[0mpadding_index\u001b[0m\u001b[0;34m)\u001b[0m\u001b[0;34m\u001b[0m\u001b[0;34m\u001b[0m\u001b[0m\n",
            "\u001b[0;32m/usr/local/lib/python3.10/dist-packages/transformers/trainer_pt_utils.py\u001b[0m in \u001b[0;36m<genexpr>\u001b[0;34m(.0)\u001b[0m\n\u001b[1;32m    137\u001b[0m         ), f\"Expected `tensors` and `new_tensors` to have the same type but found {type(tensors)} and {type(new_tensors)}.\"\n\u001b[1;32m    138\u001b[0m     \u001b[0;32mif\u001b[0m \u001b[0misinstance\u001b[0m\u001b[0;34m(\u001b[0m\u001b[0mtensors\u001b[0m\u001b[0;34m,\u001b[0m \u001b[0;34m(\u001b[0m\u001b[0mlist\u001b[0m\u001b[0;34m,\u001b[0m \u001b[0mtuple\u001b[0m\u001b[0;34m)\u001b[0m\u001b[0;34m)\u001b[0m\u001b[0;34m:\u001b[0m\u001b[0;34m\u001b[0m\u001b[0;34m\u001b[0m\u001b[0m\n\u001b[0;32m--> 139\u001b[0;31m         \u001b[0;32mreturn\u001b[0m \u001b[0mtype\u001b[0m\u001b[0;34m(\u001b[0m\u001b[0mtensors\u001b[0m\u001b[0;34m)\u001b[0m\u001b[0;34m(\u001b[0m\u001b[0mnested_concat\u001b[0m\u001b[0;34m(\u001b[0m\u001b[0mt\u001b[0m\u001b[0;34m,\u001b[0m \u001b[0mn\u001b[0m\u001b[0;34m,\u001b[0m \u001b[0mpadding_index\u001b[0m\u001b[0;34m=\u001b[0m\u001b[0mpadding_index\u001b[0m\u001b[0;34m)\u001b[0m \u001b[0;32mfor\u001b[0m \u001b[0mt\u001b[0m\u001b[0;34m,\u001b[0m \u001b[0mn\u001b[0m \u001b[0;32min\u001b[0m \u001b[0mzip\u001b[0m\u001b[0;34m(\u001b[0m\u001b[0mtensors\u001b[0m\u001b[0;34m,\u001b[0m \u001b[0mnew_tensors\u001b[0m\u001b[0;34m)\u001b[0m\u001b[0;34m)\u001b[0m\u001b[0;34m\u001b[0m\u001b[0;34m\u001b[0m\u001b[0m\n\u001b[0m\u001b[1;32m    140\u001b[0m     \u001b[0;32melif\u001b[0m \u001b[0misinstance\u001b[0m\u001b[0;34m(\u001b[0m\u001b[0mtensors\u001b[0m\u001b[0;34m,\u001b[0m \u001b[0mtorch\u001b[0m\u001b[0;34m.\u001b[0m\u001b[0mTensor\u001b[0m\u001b[0;34m)\u001b[0m\u001b[0;34m:\u001b[0m\u001b[0;34m\u001b[0m\u001b[0;34m\u001b[0m\u001b[0m\n\u001b[1;32m    141\u001b[0m         \u001b[0;32mreturn\u001b[0m \u001b[0mtorch_pad_and_concatenate\u001b[0m\u001b[0;34m(\u001b[0m\u001b[0mtensors\u001b[0m\u001b[0;34m,\u001b[0m \u001b[0mnew_tensors\u001b[0m\u001b[0;34m,\u001b[0m \u001b[0mpadding_index\u001b[0m\u001b[0;34m=\u001b[0m\u001b[0mpadding_index\u001b[0m\u001b[0;34m)\u001b[0m\u001b[0;34m\u001b[0m\u001b[0;34m\u001b[0m\u001b[0m\n",
            "\u001b[0;32m/usr/local/lib/python3.10/dist-packages/transformers/trainer_pt_utils.py\u001b[0m in \u001b[0;36mnested_concat\u001b[0;34m(tensors, new_tensors, padding_index)\u001b[0m\n\u001b[1;32m    139\u001b[0m         \u001b[0;32mreturn\u001b[0m \u001b[0mtype\u001b[0m\u001b[0;34m(\u001b[0m\u001b[0mtensors\u001b[0m\u001b[0;34m)\u001b[0m\u001b[0;34m(\u001b[0m\u001b[0mnested_concat\u001b[0m\u001b[0;34m(\u001b[0m\u001b[0mt\u001b[0m\u001b[0;34m,\u001b[0m \u001b[0mn\u001b[0m\u001b[0;34m,\u001b[0m \u001b[0mpadding_index\u001b[0m\u001b[0;34m=\u001b[0m\u001b[0mpadding_index\u001b[0m\u001b[0;34m)\u001b[0m \u001b[0;32mfor\u001b[0m \u001b[0mt\u001b[0m\u001b[0;34m,\u001b[0m \u001b[0mn\u001b[0m \u001b[0;32min\u001b[0m \u001b[0mzip\u001b[0m\u001b[0;34m(\u001b[0m\u001b[0mtensors\u001b[0m\u001b[0;34m,\u001b[0m \u001b[0mnew_tensors\u001b[0m\u001b[0;34m)\u001b[0m\u001b[0;34m)\u001b[0m\u001b[0;34m\u001b[0m\u001b[0;34m\u001b[0m\u001b[0m\n\u001b[1;32m    140\u001b[0m     \u001b[0;32melif\u001b[0m \u001b[0misinstance\u001b[0m\u001b[0;34m(\u001b[0m\u001b[0mtensors\u001b[0m\u001b[0;34m,\u001b[0m \u001b[0mtorch\u001b[0m\u001b[0;34m.\u001b[0m\u001b[0mTensor\u001b[0m\u001b[0;34m)\u001b[0m\u001b[0;34m:\u001b[0m\u001b[0;34m\u001b[0m\u001b[0;34m\u001b[0m\u001b[0m\n\u001b[0;32m--> 141\u001b[0;31m         \u001b[0;32mreturn\u001b[0m \u001b[0mtorch_pad_and_concatenate\u001b[0m\u001b[0;34m(\u001b[0m\u001b[0mtensors\u001b[0m\u001b[0;34m,\u001b[0m \u001b[0mnew_tensors\u001b[0m\u001b[0;34m,\u001b[0m \u001b[0mpadding_index\u001b[0m\u001b[0;34m=\u001b[0m\u001b[0mpadding_index\u001b[0m\u001b[0;34m)\u001b[0m\u001b[0;34m\u001b[0m\u001b[0;34m\u001b[0m\u001b[0m\n\u001b[0m\u001b[1;32m    142\u001b[0m     \u001b[0;32melif\u001b[0m \u001b[0misinstance\u001b[0m\u001b[0;34m(\u001b[0m\u001b[0mtensors\u001b[0m\u001b[0;34m,\u001b[0m \u001b[0mMapping\u001b[0m\u001b[0;34m)\u001b[0m\u001b[0;34m:\u001b[0m\u001b[0;34m\u001b[0m\u001b[0;34m\u001b[0m\u001b[0m\n\u001b[1;32m    143\u001b[0m         return type(tensors)(\n",
            "\u001b[0;32m/usr/local/lib/python3.10/dist-packages/transformers/trainer_pt_utils.py\u001b[0m in \u001b[0;36mtorch_pad_and_concatenate\u001b[0;34m(tensor1, tensor2, padding_index)\u001b[0m\n\u001b[1;32m     97\u001b[0m \u001b[0;34m\u001b[0m\u001b[0m\n\u001b[1;32m     98\u001b[0m     \u001b[0;32mif\u001b[0m \u001b[0mlen\u001b[0m\u001b[0;34m(\u001b[0m\u001b[0mtensor1\u001b[0m\u001b[0;34m.\u001b[0m\u001b[0mshape\u001b[0m\u001b[0;34m)\u001b[0m \u001b[0;34m==\u001b[0m \u001b[0;36m1\u001b[0m \u001b[0;32mor\u001b[0m \u001b[0mtensor1\u001b[0m\u001b[0;34m.\u001b[0m\u001b[0mshape\u001b[0m\u001b[0;34m[\u001b[0m\u001b[0;36m1\u001b[0m\u001b[0;34m]\u001b[0m \u001b[0;34m==\u001b[0m \u001b[0mtensor2\u001b[0m\u001b[0;34m.\u001b[0m\u001b[0mshape\u001b[0m\u001b[0;34m[\u001b[0m\u001b[0;36m1\u001b[0m\u001b[0;34m]\u001b[0m\u001b[0;34m:\u001b[0m\u001b[0;34m\u001b[0m\u001b[0;34m\u001b[0m\u001b[0m\n\u001b[0;32m---> 99\u001b[0;31m         \u001b[0;32mreturn\u001b[0m \u001b[0mtorch\u001b[0m\u001b[0;34m.\u001b[0m\u001b[0mcat\u001b[0m\u001b[0;34m(\u001b[0m\u001b[0;34m(\u001b[0m\u001b[0mtensor1\u001b[0m\u001b[0;34m,\u001b[0m \u001b[0mtensor2\u001b[0m\u001b[0;34m)\u001b[0m\u001b[0;34m,\u001b[0m \u001b[0mdim\u001b[0m\u001b[0;34m=\u001b[0m\u001b[0;36m0\u001b[0m\u001b[0;34m)\u001b[0m\u001b[0;34m\u001b[0m\u001b[0;34m\u001b[0m\u001b[0m\n\u001b[0m\u001b[1;32m    100\u001b[0m \u001b[0;34m\u001b[0m\u001b[0m\n\u001b[1;32m    101\u001b[0m     \u001b[0;31m# Let's figure out the new shape\u001b[0m\u001b[0;34m\u001b[0m\u001b[0;34m\u001b[0m\u001b[0m\n",
            "\u001b[0;31mOutOfMemoryError\u001b[0m: CUDA out of memory. Tried to allocate 384.00 MiB. GPU "
          ]
        }
      ],
      "source": [
        "##evaluating the model\n",
        "eval_results = trainer.evaluate(eval_dataset = test_dataset) # Remove compute_metrics from here\n",
        "print(eval_results)\n",
        "\n",
        "print(\"Rouge Scores:\")\n",
        "print(f\"Rouge-1: {eval_results['eval_rouge1']}\") # Access metrics with 'eval_' prefix\n",
        "print(f\"Rouge-2: {eval_results['eval_rouge2']}\")\n",
        "print(f\"Rouge-L: {eval_results['eval_rougeL']}\")\n",
        "print(f\"Rouge-Lsum: {eval_results['eval_rougeLsum']}\")\n",
        "\n",
        "print(\"\\nBleu Score:\")\n",
        "print(f\"Bleu: {eval_results['eval_bleu']}\")\n"
      ]
    },
    {
      "cell_type": "markdown",
      "metadata": {
        "id": "hL8clrzR0LN3"
      },
      "source": [
        "### **Training BART**"
      ]
    },
    {
      "cell_type": "code",
      "execution_count": null,
      "metadata": {
        "id": "UTlfDH8xR8Ko"
      },
      "outputs": [],
      "source": [
        "#Preprocess data\n",
        "\n",
        "#tokenize data using Bart tokenizer\n",
        "\n",
        "def tokenize_data(data, tokenizer):\n",
        "    inputs = data.apply(lambda x: f\"{x['title']} {tokenizer.sep_token} {x['post']}\", axis=1).tolist() # Convert inputs to a list\n",
        "    targets = data[\"summary\"].tolist() # Call the tolist function to get a list of targets\n",
        "\n",
        "    encodings = tokenizer(inputs, truncation=True, padding=True)\n",
        "    targets = tokenizer(targets, truncation=True, padding=True)\n",
        "\n",
        "    return encodings, targets"
      ]
    },
    {
      "cell_type": "code",
      "execution_count": null,
      "metadata": {
        "id": "aZW1E0Q3R8Kx"
      },
      "outputs": [],
      "source": [
        "train_encodings, train_targets = tokenize_data(train_df, tokenizer)\n",
        "test_encodings, test_targets = tokenize_data(test_df, tokenizer)\n",
        "val_encodings, val_targets = tokenize_data(val_df, tokenizer)"
      ]
    },
    {
      "cell_type": "code",
      "execution_count": null,
      "metadata": {
        "id": "wFwQADK_R8Kx"
      },
      "outputs": [],
      "source": [
        "#create a pytorch dataset.\n",
        "#This will convert the tokenized data into format that can be fed into te model\n",
        "\n",
        "#Initialize model\n",
        "from transformers import BartForConditionalGeneration, TrainingArguments, Trainer\n",
        "from torch.utils.data import Dataset\n",
        "\n",
        "# Wrap tokenized data in a Dataset object\n",
        "class NewsSummaryDataset(Dataset):\n",
        "    def __init__(self, encodings, targets):\n",
        "        self.encodings = encodings\n",
        "        self.targets = targets\n",
        "\n",
        "    def __getitem__(self, idx):\n",
        "        item = {key: val[idx] for key, val in self.encodings.items()}\n",
        "        item['labels'] = self.targets['input_ids'][idx]  # Add 'labels' key for target data\n",
        "        return item\n",
        "\n",
        "    def __len__(self):\n",
        "        return len(self.encodings.input_ids)\n",
        "\n",
        "# Create Dataset objects\n",
        "train_dataset = NewsSummaryDataset(train_encodings, train_targets)\n",
        "val_dataset = NewsSummaryDataset(val_encodings, val_targets)\n",
        "test_dataset = NewsSummaryDataset(test_encodings, test_targets)\n",
        "\n"
      ]
    },
    {
      "cell_type": "code",
      "execution_count": null,
      "metadata": {
        "colab": {
          "base_uri": "https://localhost:8080/",
          "height": 118,
          "referenced_widgets": [
            "0650e18ccec443ba91796b296df831b7",
            "c5ca8477378d4e96a706863ef801e216",
            "6c3c923dc26248a8b14a79b43c883cac",
            "a8a609a0067746cf86cf98c0ab28cdcc",
            "ecc0baa5f076499d878461e55051567f",
            "5532aa19b121434bba4ff7718f931872",
            "62412fb37dd241fb83bba0c3fe3dfa72",
            "5fbdb5d53fb1450db0aa05e0623a2ae6",
            "f6c2772cb54c4d0d872d3644d0e56088",
            "a4ce0aa79d614ec5b2530fcee9fb0aba",
            "5f00ff30d49c410388eba314aebe21e8"
          ]
        },
        "id": "wcVGvgkl7Mir",
        "outputId": "1f2934c0-6f42-4b12-d12f-d65f40329b90"
      },
      "outputs": [
        {
          "data": {
            "application/vnd.jupyter.widget-view+json": {
              "model_id": "0650e18ccec443ba91796b296df831b7",
              "version_major": 2,
              "version_minor": 0
            },
            "text/plain": [
              "Map:   0%|          | 0/1000 [00:00<?, ? examples/s]"
            ]
          },
          "metadata": {},
          "output_type": "display_data"
        },
        {
          "name": "stdout",
          "output_type": "stream",
          "text": [
            "Dataset({\n",
            "    features: ['input_ids', 'attention_mask', 'labels'],\n",
            "    num_rows: 1000\n",
            "})\n"
          ]
        }
      ],
      "source": [
        "# # Convert DataFrame to Hugging Face Dataset\n",
        "# dataset = Dataset.from_pandas(train_df)\n",
        "\n",
        "# # Remove Columns\n",
        "# dataset = dataset.remove_columns(['id', 'subreddit', 'title'])\n",
        "\n",
        "# # Tokenization function\n",
        "# def tokenize_function(examples):\n",
        "#     inputs = tokenizer(examples['post'], truncation=True, max_length=512, padding='max_length')\n",
        "#     outputs = tokenizer(examples['summary'], truncation=True, max_length=128, padding='max_length')\n",
        "#     inputs['labels'] = outputs['input_ids']\n",
        "\n",
        "#     # Replace padding token id's of the labels by -100 so it's ignored by the loss\n",
        "#     inputs['labels'] = [[-100 if token == tokenizer.pad_token_id else token for token in label] for label in inputs['labels']]\n",
        "\n",
        "#     return inputs\n",
        "\n",
        "# # Tokenize the dataset\n",
        "# tokenized_dataset = dataset.map(tokenize_function, batched=True, remove_columns=dataset.column_names)\n",
        "\n",
        "# print(tokenized_dataset)\n",
        "\n",
        "# # Data collator\n",
        "# data_collator = DataCollatorForSeq2Seq(tokenizer, model=model, pad_to_multiple_of=8)"
      ]
    },
    {
      "cell_type": "code",
      "execution_count": null,
      "metadata": {
        "id": "D_xUok_i0ccS"
      },
      "outputs": [],
      "source": [
        "peft_model.save_pretrained('./fine-tuned-bart')\n",
        "tokenizer.save_pretrained('./fine-tuned-bart')"
      ]
    },
    {
      "cell_type": "markdown",
      "metadata": {
        "id": "3Ba3qZ_q0Wm4"
      },
      "source": [
        "### **Evaluating BART**"
      ]
    },
    {
      "cell_type": "code",
      "execution_count": null,
      "metadata": {
        "id": "_lFbfCZwuEfy"
      },
      "outputs": [],
      "source": [
        "#evaluation\n",
        "def evaluate(model, tokenizer, dataset):\n",
        "    model.eval()  # Set the model to evaluation mode\n",
        "    predictions = []\n",
        "    references = []\n",
        "    # Iterate over the rows of the DataFrame\n",
        "    for _, example in dataset.iterrows():\n",
        "        summary = generate_summary(example['post'][0])\n",
        "        predictions.append(summary)\n",
        "        references.append(example['summary'][0])\n",
        "    return predictions, references\n",
        "\n",
        "results = evaluate(model, tokenizer, val_df)\n",
        "print(results)"
      ]
    },
    {
      "cell_type": "code",
      "execution_count": null,
      "metadata": {
        "id": "O7kB0pf7vIss"
      },
      "outputs": [],
      "source": [
        "#evaluate\n",
        "from rouge import Rouge\n",
        "rouge = Rouge()\n",
        "rouge.get_scores(results[0], results[1])\n",
        "\n"
      ]
    },
    {
      "cell_type": "markdown",
      "metadata": {
        "id": "fyn0vOOGOhVx"
      },
      "source": [
        "# **Evaluation**"
      ]
    },
    {
      "cell_type": "code",
      "execution_count": null,
      "metadata": {
        "id": "EU2S5gaEOld6"
      },
      "outputs": [],
      "source": [
        "from datasets import load_metric\n",
        "\n",
        "metric = load_metric('rouge')\n",
        "\n",
        "def evaluate(model, tokenizer, dataset):\n",
        "    model.eval()\n",
        "    predictions = []\n",
        "    references = []\n",
        "    for example in dataset:\n",
        "        inputs = tokenizer(example['post'], return_tensors=\"pt\")\n",
        "        output = model.generate(**inputs)\n",
        "        prediction = tokenizer.decode(output[0], skip_special_tokens=True)\n",
        "        predictions.append(prediction)\n",
        "        references.append(example['summary'])\n",
        "    results = metric.compute(predictions=predictions, references=references)\n",
        "    return results\n",
        "\n",
        "results = evaluate(model, tokenizer, train_df)\n",
        "print(results)"
      ]
    },
    {
      "cell_type": "markdown",
      "metadata": {
        "id": "8Iney8qnMMY1"
      },
      "source": [
        "# **T5**"
      ]
    },
    {
      "cell_type": "code",
      "execution_count": null,
      "metadata": {
        "id": "gYxX5jFKQ_Na"
      },
      "outputs": [],
      "source": [
        "from transformers import T5Tokenizer, TFT5ForConditionalGeneration"
      ]
    },
    {
      "cell_type": "code",
      "execution_count": null,
      "metadata": {
        "colab": {
          "base_uri": "https://localhost:8080/",
          "height": 403,
          "referenced_widgets": [
            "19bf342489924c75bb7fe450978692ed",
            "b7c8023d124b43c7becda606e9ef0eb9",
            "e1177ba1d3284f3fb5a909a639ab5081",
            "5e9e563c54c04c9bbd84768746e59d00",
            "03c57b1b71de42f7a6ff765c90da9678",
            "c45a2562555847dc96e5e34c78a93c71",
            "4a1ef2a4fc42401ebd02d44d491e200f",
            "0988df03ebfd4ca9a4e0fc4399932645",
            "0d20c8b41f584738a0132661ad1fe4e3",
            "24202f1da688445280ab8b583d5fd800",
            "f987c33e88eb4528b15220a5913e7e6b",
            "f48e2f8e3e9e4172bae1a8717abdbd44",
            "023232c6d72a4ff69607853b69f4f1b1",
            "721d60ad7b15412aafd53ba519e35b7c",
            "0d55a11255924a82b5df3cfaa5d5cb76",
            "870a00b4f6c7432fab3c3835e8542345",
            "bf08ccc19d8a47ee840e67f134c80d67",
            "b839095e41354430b2a58dbd60528b79",
            "4096058ed46346498a4bd9f62b870f70",
            "2ec0e5333f81424797d201e3236bf996",
            "c9d58552ba104d768a3674deffd99d64",
            "9aba40ca7321448899c416bc4d164448"
          ]
        },
        "id": "WGsSHaswMP4b",
        "outputId": "7c52cee7-5fdc-43df-8a6f-ae85fd86150a"
      },
      "outputs": [
        {
          "data": {
            "application/vnd.jupyter.widget-view+json": {
              "model_id": "19bf342489924c75bb7fe450978692ed",
              "version_major": 2,
              "version_minor": 0
            },
            "text/plain": [
              "config.json:   0%|          | 0.00/1.21k [00:00<?, ?B/s]"
            ]
          },
          "metadata": {},
          "output_type": "display_data"
        },
        {
          "data": {
            "application/vnd.jupyter.widget-view+json": {
              "model_id": "f48e2f8e3e9e4172bae1a8717abdbd44",
              "version_major": 2,
              "version_minor": 0
            },
            "text/plain": [
              "model.safetensors:   0%|          | 0.00/242M [00:00<?, ?B/s]"
            ]
          },
          "metadata": {},
          "output_type": "display_data"
        },
        {
          "ename": "ResourceExhaustedError",
          "evalue": "{{function_node __wrapped__StatelessTruncatedNormalV2_device_/job:localhost/replica:0/task:0/device:GPU:0}} OOM when allocating tensor with shape[32128,512] and type float on /job:localhost/replica:0/task:0/device:GPU:0 by allocator GPU_0_bfc [Op:StatelessTruncatedNormalV2] name: ",
          "output_type": "error",
          "traceback": [
            "\u001b[0;31m---------------------------------------------------------------------------\u001b[0m",
            "\u001b[0;31mResourceExhaustedError\u001b[0m                    Traceback (most recent call last)",
            "\u001b[0;32m<ipython-input-37-cf7249471e46>\u001b[0m in \u001b[0;36m<cell line: 1>\u001b[0;34m()\u001b[0m\n\u001b[0;32m----> 1\u001b[0;31m \u001b[0mt5model\u001b[0m \u001b[0;34m=\u001b[0m \u001b[0mTFT5ForConditionalGeneration\u001b[0m\u001b[0;34m.\u001b[0m\u001b[0mfrom_pretrained\u001b[0m\u001b[0;34m(\u001b[0m\u001b[0;34m\"t5-small\"\u001b[0m\u001b[0;34m)\u001b[0m\u001b[0;34m\u001b[0m\u001b[0;34m\u001b[0m\u001b[0m\n\u001b[0m\u001b[1;32m      2\u001b[0m \u001b[0mt5tokenizer\u001b[0m \u001b[0;34m=\u001b[0m \u001b[0mT5Tokenizer\u001b[0m\u001b[0;34m.\u001b[0m\u001b[0mfrom_pretrained\u001b[0m\u001b[0;34m(\u001b[0m\u001b[0;34m\"t5-small\"\u001b[0m\u001b[0;34m)\u001b[0m\u001b[0;34m\u001b[0m\u001b[0;34m\u001b[0m\u001b[0m\n",
            "\u001b[0;32m/usr/local/lib/python3.10/dist-packages/transformers/modeling_tf_utils.py\u001b[0m in \u001b[0;36mfrom_pretrained\u001b[0;34m(cls, pretrained_model_name_or_path, config, cache_dir, ignore_mismatched_sizes, force_download, local_files_only, token, revision, use_safetensors, *model_args, **kwargs)\u001b[0m\n\u001b[1;32m   2975\u001b[0m                 \u001b[0mmodel\u001b[0m\u001b[0;34m.\u001b[0m\u001b[0mbuild_in_name_scope\u001b[0m\u001b[0;34m(\u001b[0m\u001b[0;34m)\u001b[0m  \u001b[0;31m# build the network with dummy inputs\u001b[0m\u001b[0;34m\u001b[0m\u001b[0;34m\u001b[0m\u001b[0m\n\u001b[1;32m   2976\u001b[0m         \u001b[0;32melse\u001b[0m\u001b[0;34m:\u001b[0m\u001b[0;34m\u001b[0m\u001b[0;34m\u001b[0m\u001b[0m\n\u001b[0;32m-> 2977\u001b[0;31m             \u001b[0mmodel\u001b[0m\u001b[0;34m.\u001b[0m\u001b[0mbuild_in_name_scope\u001b[0m\u001b[0;34m(\u001b[0m\u001b[0;34m)\u001b[0m  \u001b[0;31m# build the network with dummy inputs\u001b[0m\u001b[0;34m\u001b[0m\u001b[0;34m\u001b[0m\u001b[0m\n\u001b[0m\u001b[1;32m   2978\u001b[0m \u001b[0;34m\u001b[0m\u001b[0m\n\u001b[1;32m   2979\u001b[0m         \u001b[0;32mif\u001b[0m \u001b[0msafetensors_from_pt\u001b[0m \u001b[0;32mand\u001b[0m \u001b[0;32mnot\u001b[0m \u001b[0mis_sharded\u001b[0m\u001b[0;34m:\u001b[0m\u001b[0;34m\u001b[0m\u001b[0;34m\u001b[0m\u001b[0m\n",
            "\u001b[0;32m/usr/local/lib/python3.10/dist-packages/transformers/modeling_tf_utils.py\u001b[0m in \u001b[0;36mbuild_in_name_scope\u001b[0;34m(self)\u001b[0m\n\u001b[1;32m   1195\u001b[0m     \u001b[0;32mdef\u001b[0m \u001b[0mbuild_in_name_scope\u001b[0m\u001b[0;34m(\u001b[0m\u001b[0mself\u001b[0m\u001b[0;34m)\u001b[0m\u001b[0;34m:\u001b[0m\u001b[0;34m\u001b[0m\u001b[0;34m\u001b[0m\u001b[0m\n\u001b[1;32m   1196\u001b[0m         \u001b[0;32mwith\u001b[0m \u001b[0mtf\u001b[0m\u001b[0;34m.\u001b[0m\u001b[0mname_scope\u001b[0m\u001b[0;34m(\u001b[0m\u001b[0mself\u001b[0m\u001b[0;34m.\u001b[0m\u001b[0mname\u001b[0m\u001b[0;34m)\u001b[0m\u001b[0;34m:\u001b[0m\u001b[0;34m\u001b[0m\u001b[0;34m\u001b[0m\u001b[0m\n\u001b[0;32m-> 1197\u001b[0;31m             \u001b[0mself\u001b[0m\u001b[0;34m.\u001b[0m\u001b[0mbuild\u001b[0m\u001b[0;34m(\u001b[0m\u001b[0minput_shape\u001b[0m\u001b[0;34m=\u001b[0m\u001b[0;32mNone\u001b[0m\u001b[0;34m)\u001b[0m\u001b[0;34m\u001b[0m\u001b[0;34m\u001b[0m\u001b[0m\n\u001b[0m\u001b[1;32m   1198\u001b[0m \u001b[0;34m\u001b[0m\u001b[0m\n\u001b[1;32m   1199\u001b[0m     \u001b[0;34m@\u001b[0m\u001b[0mproperty\u001b[0m\u001b[0;34m\u001b[0m\u001b[0;34m\u001b[0m\u001b[0m\n",
            "\u001b[0;32m/usr/local/lib/python3.10/dist-packages/transformers/models/t5/modeling_tf_t5.py\u001b[0m in \u001b[0;36mbuild\u001b[0;34m(self, input_shape)\u001b[0m\n\u001b[1;32m   1577\u001b[0m         \u001b[0;31m# the current one.\u001b[0m\u001b[0;34m\u001b[0m\u001b[0;34m\u001b[0m\u001b[0m\n\u001b[1;32m   1578\u001b[0m         \u001b[0;32mwith\u001b[0m \u001b[0mtf\u001b[0m\u001b[0;34m.\u001b[0m\u001b[0mname_scope\u001b[0m\u001b[0;34m(\u001b[0m\u001b[0mself\u001b[0m\u001b[0;34m.\u001b[0m\u001b[0mshared\u001b[0m\u001b[0;34m.\u001b[0m\u001b[0mload_weight_prefix\u001b[0m \u001b[0;34m+\u001b[0m \u001b[0;34m\"/\"\u001b[0m \u001b[0;34m+\u001b[0m \u001b[0mself\u001b[0m\u001b[0;34m.\u001b[0m\u001b[0mshared\u001b[0m\u001b[0;34m.\u001b[0m\u001b[0mname\u001b[0m \u001b[0;34m+\u001b[0m \u001b[0;34m\"/\"\u001b[0m\u001b[0;34m)\u001b[0m\u001b[0;34m:\u001b[0m\u001b[0;34m\u001b[0m\u001b[0;34m\u001b[0m\u001b[0m\n\u001b[0;32m-> 1579\u001b[0;31m             \u001b[0mself\u001b[0m\u001b[0;34m.\u001b[0m\u001b[0mshared\u001b[0m\u001b[0;34m.\u001b[0m\u001b[0mbuild\u001b[0m\u001b[0;34m(\u001b[0m\u001b[0;32mNone\u001b[0m\u001b[0;34m)\u001b[0m\u001b[0;34m\u001b[0m\u001b[0;34m\u001b[0m\u001b[0m\n\u001b[0m\u001b[1;32m   1580\u001b[0m         \u001b[0;32mif\u001b[0m \u001b[0mgetattr\u001b[0m\u001b[0;34m(\u001b[0m\u001b[0mself\u001b[0m\u001b[0;34m,\u001b[0m \u001b[0;34m\"encoder\"\u001b[0m\u001b[0;34m,\u001b[0m \u001b[0;32mNone\u001b[0m\u001b[0;34m)\u001b[0m \u001b[0;32mis\u001b[0m \u001b[0;32mnot\u001b[0m \u001b[0;32mNone\u001b[0m\u001b[0;34m:\u001b[0m\u001b[0;34m\u001b[0m\u001b[0;34m\u001b[0m\u001b[0m\n\u001b[1;32m   1581\u001b[0m             \u001b[0;32mwith\u001b[0m \u001b[0mtf\u001b[0m\u001b[0;34m.\u001b[0m\u001b[0mname_scope\u001b[0m\u001b[0;34m(\u001b[0m\u001b[0mself\u001b[0m\u001b[0;34m.\u001b[0m\u001b[0mencoder\u001b[0m\u001b[0;34m.\u001b[0m\u001b[0mname\u001b[0m\u001b[0;34m)\u001b[0m\u001b[0;34m:\u001b[0m\u001b[0;34m\u001b[0m\u001b[0;34m\u001b[0m\u001b[0m\n",
            "\u001b[0;32m/usr/local/lib/python3.10/dist-packages/tf_keras/src/utils/tf_utils.py\u001b[0m in \u001b[0;36mwrapper\u001b[0;34m(instance, input_shape)\u001b[0m\n\u001b[1;32m    369\u001b[0m         \u001b[0;32mif\u001b[0m \u001b[0minput_shape\u001b[0m \u001b[0;32mis\u001b[0m \u001b[0;32mnot\u001b[0m \u001b[0;32mNone\u001b[0m\u001b[0;34m:\u001b[0m\u001b[0;34m\u001b[0m\u001b[0;34m\u001b[0m\u001b[0m\n\u001b[1;32m    370\u001b[0m             \u001b[0minput_shape\u001b[0m \u001b[0;34m=\u001b[0m \u001b[0mconvert_shapes\u001b[0m\u001b[0;34m(\u001b[0m\u001b[0minput_shape\u001b[0m\u001b[0;34m,\u001b[0m \u001b[0mto_tuples\u001b[0m\u001b[0;34m=\u001b[0m\u001b[0;32mTrue\u001b[0m\u001b[0;34m)\u001b[0m\u001b[0;34m\u001b[0m\u001b[0;34m\u001b[0m\u001b[0m\n\u001b[0;32m--> 371\u001b[0;31m         \u001b[0moutput_shape\u001b[0m \u001b[0;34m=\u001b[0m \u001b[0mfn\u001b[0m\u001b[0;34m(\u001b[0m\u001b[0minstance\u001b[0m\u001b[0;34m,\u001b[0m \u001b[0minput_shape\u001b[0m\u001b[0;34m)\u001b[0m\u001b[0;34m\u001b[0m\u001b[0;34m\u001b[0m\u001b[0m\n\u001b[0m\u001b[1;32m    372\u001b[0m         \u001b[0;31m# Return shapes from `fn` as TensorShapes.\u001b[0m\u001b[0;34m\u001b[0m\u001b[0;34m\u001b[0m\u001b[0m\n\u001b[1;32m    373\u001b[0m         \u001b[0;32mif\u001b[0m \u001b[0moutput_shape\u001b[0m \u001b[0;32mis\u001b[0m \u001b[0;32mnot\u001b[0m \u001b[0;32mNone\u001b[0m\u001b[0;34m:\u001b[0m\u001b[0;34m\u001b[0m\u001b[0;34m\u001b[0m\u001b[0m\n",
            "\u001b[0;32m/usr/local/lib/python3.10/dist-packages/tf_keras/src/layers/core/embedding.py\u001b[0m in \u001b[0;36mbuild\u001b[0;34m(self, input_shape)\u001b[0m\n\u001b[1;32m    178\u001b[0m     \u001b[0;34m@\u001b[0m\u001b[0mtf_utils\u001b[0m\u001b[0;34m.\u001b[0m\u001b[0mshape_type_conversion\u001b[0m\u001b[0;34m\u001b[0m\u001b[0;34m\u001b[0m\u001b[0m\n\u001b[1;32m    179\u001b[0m     \u001b[0;32mdef\u001b[0m \u001b[0mbuild\u001b[0m\u001b[0;34m(\u001b[0m\u001b[0mself\u001b[0m\u001b[0;34m,\u001b[0m \u001b[0minput_shape\u001b[0m\u001b[0;34m=\u001b[0m\u001b[0;32mNone\u001b[0m\u001b[0;34m)\u001b[0m\u001b[0;34m:\u001b[0m\u001b[0;34m\u001b[0m\u001b[0;34m\u001b[0m\u001b[0m\n\u001b[0;32m--> 180\u001b[0;31m         self.embeddings = self.add_weight(\n\u001b[0m\u001b[1;32m    181\u001b[0m             \u001b[0mshape\u001b[0m\u001b[0;34m=\u001b[0m\u001b[0;34m(\u001b[0m\u001b[0mself\u001b[0m\u001b[0;34m.\u001b[0m\u001b[0minput_dim\u001b[0m\u001b[0;34m,\u001b[0m \u001b[0mself\u001b[0m\u001b[0;34m.\u001b[0m\u001b[0moutput_dim\u001b[0m\u001b[0;34m)\u001b[0m\u001b[0;34m,\u001b[0m\u001b[0;34m\u001b[0m\u001b[0;34m\u001b[0m\u001b[0m\n\u001b[1;32m    182\u001b[0m             \u001b[0minitializer\u001b[0m\u001b[0;34m=\u001b[0m\u001b[0mself\u001b[0m\u001b[0;34m.\u001b[0m\u001b[0membeddings_initializer\u001b[0m\u001b[0;34m,\u001b[0m\u001b[0;34m\u001b[0m\u001b[0;34m\u001b[0m\u001b[0m\n",
            "\u001b[0;32m/usr/local/lib/python3.10/dist-packages/tf_keras/src/engine/base_layer.py\u001b[0m in \u001b[0;36madd_weight\u001b[0;34m(self, name, shape, dtype, initializer, regularizer, trainable, constraint, use_resource, synchronization, aggregation, **kwargs)\u001b[0m\n\u001b[1;32m    697\u001b[0m             \u001b[0mgetter\u001b[0m \u001b[0;34m=\u001b[0m \u001b[0mfunctools\u001b[0m\u001b[0;34m.\u001b[0m\u001b[0mpartial\u001b[0m\u001b[0;34m(\u001b[0m\u001b[0mgetter\u001b[0m\u001b[0;34m,\u001b[0m \u001b[0mlayout\u001b[0m\u001b[0;34m=\u001b[0m\u001b[0mlayout\u001b[0m\u001b[0;34m)\u001b[0m\u001b[0;34m\u001b[0m\u001b[0;34m\u001b[0m\u001b[0m\n\u001b[1;32m    698\u001b[0m \u001b[0;34m\u001b[0m\u001b[0m\n\u001b[0;32m--> 699\u001b[0;31m         variable = self._add_variable_with_custom_getter(\n\u001b[0m\u001b[1;32m    700\u001b[0m             \u001b[0mname\u001b[0m\u001b[0;34m=\u001b[0m\u001b[0mname\u001b[0m\u001b[0;34m,\u001b[0m\u001b[0;34m\u001b[0m\u001b[0;34m\u001b[0m\u001b[0m\n\u001b[1;32m    701\u001b[0m             \u001b[0mshape\u001b[0m\u001b[0;34m=\u001b[0m\u001b[0mshape\u001b[0m\u001b[0;34m,\u001b[0m\u001b[0;34m\u001b[0m\u001b[0;34m\u001b[0m\u001b[0m\n",
            "\u001b[0;32m/usr/local/lib/python3.10/dist-packages/tensorflow/python/trackable/base.py\u001b[0m in \u001b[0;36m_add_variable_with_custom_getter\u001b[0;34m(self, name, shape, dtype, initializer, getter, overwrite, **kwargs_for_getter)\u001b[0m\n\u001b[1;32m    490\u001b[0m         \u001b[0;31m# \"best effort\" to set the initializer with the highest restore UID.\u001b[0m\u001b[0;34m\u001b[0m\u001b[0;34m\u001b[0m\u001b[0m\n\u001b[1;32m    491\u001b[0m         \u001b[0minitializer\u001b[0m \u001b[0;34m=\u001b[0m \u001b[0mcheckpoint_initializer\u001b[0m\u001b[0;34m\u001b[0m\u001b[0;34m\u001b[0m\u001b[0m\n\u001b[0;32m--> 492\u001b[0;31m     new_variable = getter(\n\u001b[0m\u001b[1;32m    493\u001b[0m         \u001b[0mname\u001b[0m\u001b[0;34m=\u001b[0m\u001b[0mname\u001b[0m\u001b[0;34m,\u001b[0m\u001b[0;34m\u001b[0m\u001b[0;34m\u001b[0m\u001b[0m\n\u001b[1;32m    494\u001b[0m         \u001b[0mshape\u001b[0m\u001b[0;34m=\u001b[0m\u001b[0mshape\u001b[0m\u001b[0;34m,\u001b[0m\u001b[0;34m\u001b[0m\u001b[0;34m\u001b[0m\u001b[0m\n",
            "\u001b[0;32m/usr/local/lib/python3.10/dist-packages/tf_keras/src/engine/base_layer_utils.py\u001b[0m in \u001b[0;36mmake_variable\u001b[0;34m(name, shape, dtype, initializer, trainable, caching_device, validate_shape, constraint, use_resource, collections, synchronization, aggregation, partitioner, layout, experimental_enable_variable_lifting)\u001b[0m\n\u001b[1;32m    135\u001b[0m         \u001b[0;31m# However, this breaks legacy (Estimator) checkpoints because\u001b[0m\u001b[0;34m\u001b[0m\u001b[0;34m\u001b[0m\u001b[0m\n\u001b[1;32m    136\u001b[0m         \u001b[0;31m# it changes variable names. Remove this when V1 is fully deprecated.\u001b[0m\u001b[0;34m\u001b[0m\u001b[0;34m\u001b[0m\u001b[0m\n\u001b[0;32m--> 137\u001b[0;31m         return tf1.Variable(\n\u001b[0m\u001b[1;32m    138\u001b[0m             \u001b[0minitial_value\u001b[0m\u001b[0;34m=\u001b[0m\u001b[0minit_val\u001b[0m\u001b[0;34m,\u001b[0m\u001b[0;34m\u001b[0m\u001b[0;34m\u001b[0m\u001b[0m\n\u001b[1;32m    139\u001b[0m             \u001b[0mname\u001b[0m\u001b[0;34m=\u001b[0m\u001b[0mname\u001b[0m\u001b[0;34m,\u001b[0m\u001b[0;34m\u001b[0m\u001b[0;34m\u001b[0m\u001b[0m\n",
            "\u001b[0;32m/usr/local/lib/python3.10/dist-packages/tensorflow/python/util/traceback_utils.py\u001b[0m in \u001b[0;36merror_handler\u001b[0;34m(*args, **kwargs)\u001b[0m\n\u001b[1;32m    151\u001b[0m     \u001b[0;32mexcept\u001b[0m \u001b[0mException\u001b[0m \u001b[0;32mas\u001b[0m \u001b[0me\u001b[0m\u001b[0;34m:\u001b[0m\u001b[0;34m\u001b[0m\u001b[0;34m\u001b[0m\u001b[0m\n\u001b[1;32m    152\u001b[0m       \u001b[0mfiltered_tb\u001b[0m \u001b[0;34m=\u001b[0m \u001b[0m_process_traceback_frames\u001b[0m\u001b[0;34m(\u001b[0m\u001b[0me\u001b[0m\u001b[0;34m.\u001b[0m\u001b[0m__traceback__\u001b[0m\u001b[0;34m)\u001b[0m\u001b[0;34m\u001b[0m\u001b[0;34m\u001b[0m\u001b[0m\n\u001b[0;32m--> 153\u001b[0;31m       \u001b[0;32mraise\u001b[0m \u001b[0me\u001b[0m\u001b[0;34m.\u001b[0m\u001b[0mwith_traceback\u001b[0m\u001b[0;34m(\u001b[0m\u001b[0mfiltered_tb\u001b[0m\u001b[0;34m)\u001b[0m \u001b[0;32mfrom\u001b[0m \u001b[0;32mNone\u001b[0m\u001b[0;34m\u001b[0m\u001b[0;34m\u001b[0m\u001b[0m\n\u001b[0m\u001b[1;32m    154\u001b[0m     \u001b[0;32mfinally\u001b[0m\u001b[0;34m:\u001b[0m\u001b[0;34m\u001b[0m\u001b[0;34m\u001b[0m\u001b[0m\n\u001b[1;32m    155\u001b[0m       \u001b[0;32mdel\u001b[0m \u001b[0mfiltered_tb\u001b[0m\u001b[0;34m\u001b[0m\u001b[0;34m\u001b[0m\u001b[0m\n",
            "\u001b[0;32m/usr/local/lib/python3.10/dist-packages/tf_keras/src/initializers/initializers.py\u001b[0m in \u001b[0;36m__call__\u001b[0;34m(self, shape, dtype, **kwargs)\u001b[0m\n\u001b[1;32m    523\u001b[0m                 \u001b[0mnonce\u001b[0m\u001b[0;34m,\u001b[0m\u001b[0;34m\u001b[0m\u001b[0;34m\u001b[0m\u001b[0m\n\u001b[1;32m    524\u001b[0m             )\n\u001b[0;32m--> 525\u001b[0;31m         return self._random_generator.truncated_normal(\n\u001b[0m\u001b[1;32m    526\u001b[0m             \u001b[0mshape\u001b[0m\u001b[0;34m,\u001b[0m \u001b[0mself\u001b[0m\u001b[0;34m.\u001b[0m\u001b[0mmean\u001b[0m\u001b[0;34m,\u001b[0m \u001b[0mself\u001b[0m\u001b[0;34m.\u001b[0m\u001b[0mstddev\u001b[0m\u001b[0;34m,\u001b[0m \u001b[0mdtype\u001b[0m\u001b[0;34m,\u001b[0m \u001b[0mnonce\u001b[0m\u001b[0;34m\u001b[0m\u001b[0;34m\u001b[0m\u001b[0m\n\u001b[1;32m    527\u001b[0m         )\n",
            "\u001b[0;32m/usr/local/lib/python3.10/dist-packages/tf_keras/src/backend.py\u001b[0m in \u001b[0;36mtruncated_normal\u001b[0;34m(self, shape, mean, stddev, dtype, nonce)\u001b[0m\n\u001b[1;32m   2142\u001b[0m             \u001b[0;32mif\u001b[0m \u001b[0mnonce\u001b[0m\u001b[0;34m:\u001b[0m\u001b[0;34m\u001b[0m\u001b[0;34m\u001b[0m\u001b[0m\n\u001b[1;32m   2143\u001b[0m                 \u001b[0mseed\u001b[0m \u001b[0;34m=\u001b[0m \u001b[0mtf\u001b[0m\u001b[0;34m.\u001b[0m\u001b[0mrandom\u001b[0m\u001b[0;34m.\u001b[0m\u001b[0mexperimental\u001b[0m\u001b[0;34m.\u001b[0m\u001b[0mstateless_fold_in\u001b[0m\u001b[0;34m(\u001b[0m\u001b[0mseed\u001b[0m\u001b[0;34m,\u001b[0m \u001b[0mnonce\u001b[0m\u001b[0;34m)\u001b[0m\u001b[0;34m\u001b[0m\u001b[0;34m\u001b[0m\u001b[0m\n\u001b[0;32m-> 2144\u001b[0;31m             return tf.random.stateless_truncated_normal(\n\u001b[0m\u001b[1;32m   2145\u001b[0m                 \u001b[0mshape\u001b[0m\u001b[0;34m=\u001b[0m\u001b[0mshape\u001b[0m\u001b[0;34m,\u001b[0m \u001b[0mmean\u001b[0m\u001b[0;34m=\u001b[0m\u001b[0mmean\u001b[0m\u001b[0;34m,\u001b[0m \u001b[0mstddev\u001b[0m\u001b[0;34m=\u001b[0m\u001b[0mstddev\u001b[0m\u001b[0;34m,\u001b[0m \u001b[0mdtype\u001b[0m\u001b[0;34m=\u001b[0m\u001b[0mdtype\u001b[0m\u001b[0;34m,\u001b[0m \u001b[0mseed\u001b[0m\u001b[0;34m=\u001b[0m\u001b[0mseed\u001b[0m\u001b[0;34m\u001b[0m\u001b[0;34m\u001b[0m\u001b[0m\n\u001b[1;32m   2146\u001b[0m             )\n",
            "\u001b[0;31mResourceExhaustedError\u001b[0m: {{function_node __wrapped__StatelessTruncatedNormalV2_device_/job:localhost/replica:0/task:0/device:GPU:0}} OOM when allocating tensor with shape[32128,512] and type float on /job:localhost/replica:0/task:0/device:GPU:0 by allocator GPU_0_bfc [Op:StatelessTruncatedNormalV2] name: "
          ]
        }
      ],
      "source": [
        "\n",
        "t5model = TFT5ForConditionalGeneration.from_pretrained(\"t5-small\")\n",
        "t5tokenizer = T5Tokenizer.from_pretrained(\"t5-small\")\n"
      ]
    },
    {
      "cell_type": "code",
      "execution_count": null,
      "metadata": {
        "id": "KlmJQBzIhvC2"
      },
      "outputs": [],
      "source": [
        "t5model.summary()"
      ]
    },
    {
      "cell_type": "code",
      "execution_count": null,
      "metadata": {
        "id": "EY-Z-ZhyO08K"
      },
      "outputs": [],
      "source": [
        "def tokenize_data(data, tokenizer):\n",
        "    inputs = data.apply(lambda x: f\"{x['title']} {tokenizer.sep_token} {x['post']}\", axis=1).tolist() # Convert inputs to a list\n",
        "    targets = data[\"summary\"].tolist() # Call the tolist function to get a list of targets\n",
        "\n",
        "    encodings = tokenizer(inputs, truncation=True, padding=True)\n",
        "    targets = tokenizer(targets, truncation=True, padding=True)\n",
        "\n",
        "    return encodings, targets"
      ]
    },
    {
      "cell_type": "code",
      "execution_count": null,
      "metadata": {
        "id": "rPOBtBxXO05j"
      },
      "outputs": [],
      "source": [
        "train_dataset = NewsSummaryDataset(train_encodings, train_targets)\n",
        "val_dataset = NewsSummaryDataset(val_encodings, val_targets)\n",
        "test_dataset = NewsSummaryDataset(test_encodings, test_targets)"
      ]
    },
    {
      "cell_type": "code",
      "execution_count": null,
      "metadata": {
        "id": "0bWkiDvaO03N"
      },
      "outputs": [],
      "source": [
        "class NewsSummaryDataset(Dataset):\n",
        "    def __init__(self, encodings, targets):\n",
        "        self.encodings = encodings\n",
        "        self.targets = targets\n",
        "\n",
        "    def __getitem__(self, idx):\n",
        "        item = {key: val[idx] for key, val in self.encodings.items()}\n",
        "        item['labels'] = self.targets['input_ids'][idx]  # Add 'labels' key for target data\n",
        "        return item\n",
        "\n",
        "    def __len__(self):\n",
        "        return len(self.encodings.input_ids)\n",
        "\n",
        "# Create Dataset objects\n",
        "train_dataset = NewsSummaryDataset(train_encodings, train_targets)\n",
        "val_dataset = NewsSummaryDataset(val_encodings, val_targets)\n",
        "test_dataset = NewsSummaryDataset(test_encodings, test_targets)\n"
      ]
    },
    {
      "cell_type": "code",
      "execution_count": null,
      "metadata": {
        "id": "MdQoTqviO01B"
      },
      "outputs": [],
      "source": [
        "model = TFT5ForConditionalGeneration.from_pretrained(\"t5-small\")"
      ]
    },
    {
      "cell_type": "code",
      "execution_count": null,
      "metadata": {
        "id": "NIntXoCgO0xL"
      },
      "outputs": [],
      "source": [
        "from transformers import Trainer, TrainingArguments\n",
        "\n",
        "rouge_metric = load_metric(\"rouge\")\n",
        "bleu_metric = load_metric(\"bleu\")\n",
        "\n",
        "def compute_metrics(eval_pred):\n",
        "    labels_ids = eval_pred.label_ids\n",
        "    pred_ids = eval_pred.predictions\n",
        "\n",
        "    pred_str = tokenizer.batch_decode(pred_ids, skip_special_tokens=True)\n",
        "    labels_ids[labels_ids == -100] = tokenizer.pad_token\n",
        "    label_str = tokenizer.batch_decode(labels_ids, skip_special_tokens=True)\n",
        "\n",
        "    rouge_results = rouge_metric.compute(predictions=pred_str, references=label_str, use_stemmer=True)\n",
        "    pred_tokens = [pred.split() for pred in pred_str]\n",
        "    label_tokens = [[label.split()] for label in label_str]\n",
        "\n",
        "    bleu_results = bleu_metric.compute(predictions=pred_tokens, references=label_tokens)\n",
        "\n",
        "    rouge_scores = {\n",
        "        \"rouge1\": rouge_results[\"rouge1\"].mid.fmeasure,\n",
        "        \"rouge2\": rouge_results[\"rouge2\"].mid.fmeasure,\n",
        "        \"rougeL\": rouge_results[\"rougeL\"].mid.fmeasure,\n",
        "        \"rougeLsum\": rouge_results[\"rougeLsum\"].mid.fmeasure,\n",
        "    }\n",
        "\n",
        "    bleu_score = bleu_results[\"bleu\"]\n",
        "\n",
        "    metrics = {**rouge_scores, \"bleu\": bleu_score}\n",
        "\n",
        "    return metrics\n",
        "\n",
        "\n",
        "\n",
        "\n",
        "\n",
        "\n",
        "\n",
        "\n",
        "\n",
        "training_args = TrainingArguments(\n",
        "    output_dir = './results',\n",
        "    num_train_epochs=3,\n",
        "    per_device_train_batch_size=2,\n",
        "    per_device_eval_batch_size=2,\n",
        "    warmup_steps=500,\n",
        "    weight_decay=0.01,\n",
        "    logging_dir='./logs',\n",
        "    gradient_accumulation_steps=8,\n",
        "    logging_steps=10,\n",
        "    save_steps=10,\n",
        "    fp16 = True\n",
        ")\n",
        "\n",
        "trainer = Trainer(\n",
        "    model=model,\n",
        "    args=training_args,\n",
        "    train_dataset=train_dataset,\n",
        "    eval_dataset=val_dataset,\n",
        "    compute_metrics=compute_metrics\n",
        ")\n",
        "\n",
        "trainer.train()"
      ]
    },
    {
      "cell_type": "code",
      "execution_count": null,
      "metadata": {
        "id": "qYqG0XKuPmhR"
      },
      "outputs": [],
      "source": [
        "\n",
        "eval_results = trainer.evaluate(eval_dataset = test_dataset) # Remove compute_metrics from here\n",
        "print(eval_results)\n",
        "\n",
        "print(\"Rouge Scores:\")\n",
        "print(f\"Rouge-1: {eval_results['eval_rouge1']}\") # Access metrics with 'eval_' prefix\n",
        "print(f\"Rouge-2: {eval_results['eval_rouge2']}\")\n",
        "print(f\"Rouge-L: {eval_results['eval_rougeL']}\")\n",
        "print(f\"Rouge-Lsum: {eval_results['eval_rougeLsum']}\")\n",
        "\n",
        "print(\"\\nBleu Score:\")\n",
        "print(f\"Bleu: {eval_results['eval_bleu']}\")\n",
        "\n"
      ]
    },
    {
      "cell_type": "code",
      "execution_count": null,
      "metadata": {
        "id": "XESBij_shu7k"
      },
      "outputs": [],
      "source": [
        "#def preprocess(examples):\n",
        "   # inputs = [\"summarize: \" + example for example in examples[\"post\"]]\n",
        "   # targets = [example for example in examples[\"summary\"]]\n",
        "   # model_inputs = t5tokenizer(inputs, max_length=1024, truncation=True)\n",
        "\n",
        "    #tokenizer for targets\n",
        "   # with t5tokenizer.as_target_tokenizer():\n",
        "    #    labels = t5tokenizer(targets, max_length=150, truncation=True)\n",
        "\n",
        "    #model_inputs[\"labels\"] = labels[\"input_ids\"]\n",
        "    #return model_inputs\n",
        "\n",
        "\n",
        "#PROMT = \"summarize: \"\n",
        "#T5POST_TO_SUMMARIZE = PROMT + train_df['post'][0]\n",
        "#T5POST_TO_SUMMARIZE\n",
        "\n",
        "# Convert the Pandas Series to a list of strings\n",
        "#T5POST_TO_SUMMARIZE_LIST = [T5POST_TO_SUMMARIZE] # Wrap the string in a list\n",
        "\n",
        "# Tokenize the list of strings\n",
        "#inputs = t5tokenizer(T5POST_TO_SUMMARIZE_LIST, max_length=1024, truncation=True)\n",
        "\n",
        "#inputs\n",
        "\n",
        "# Generate Summary\n",
        "#summary_ids = t5model.generate(inputs[\"input_ids\"],\n",
        "                               #max_length=150,\n",
        "                               #num_beams=5,\n",
        "                               #no_repeat_ngram_size=2,\n",
        "                               #max_new_tokens = 30,\n",
        "                               #min_length = 75,\n",
        "                               #early_stopping=True\n",
        "#)\n",
        "#candidate = t5tokenizer.batch_decode(summary_ids, skip_special_tokens=True, clean_up_tokenization_spaces=False)\n",
        "#pprint(candidate[0], compact=True)#"
      ]
    },
    {
      "cell_type": "code",
      "execution_count": null,
      "metadata": {
        "id": "EOew9tN5nYlU"
      },
      "outputs": [],
      "source": [
        "from pprint import pprint"
      ]
    },
    {
      "cell_type": "code",
      "execution_count": null,
      "metadata": {
        "id": "SdZdmh4rpBIC"
      },
      "outputs": [],
      "source": [
        "#rouge = evaluate.load('rouge')\n",
        "#ground_truth_summary = train_df['summary'].iloc[0]\n",
        "#results = rouge.compute(predictions=candidate[0], references=ground_truth_summary)\n",
        "#pprint(results)\n",
        "\n",
        "rouge = evaluate.load('rouge')\n",
        "ground_truth_summary = train_df['summary'].iloc[0]\n",
        "# Pass a list of predictions and references\n",
        "results = rouge.compute(predictions=[candidate[0]], references=[ground_truth_summary])\n",
        "pprint(results)\n",
        "\n"
      ]
    },
    {
      "cell_type": "markdown",
      "metadata": {
        "id": "GmXmPmwh6Iyb"
      },
      "source": [
        "**GPT 2**"
      ]
    },
    {
      "cell_type": "code",
      "execution_count": null,
      "metadata": {
        "id": "RhqjYXBD6My_"
      },
      "outputs": [],
      "source": [
        "# Use a pipeline as a high-level helper\n",
        "from transformers import pipeline\n",
        "\n",
        "pipe = pipeline(\"summarization\", model=\"openai-community/gpt2\")"
      ]
    },
    {
      "cell_type": "code",
      "execution_count": null,
      "metadata": {
        "id": "YiVJXs5E6XSE"
      },
      "outputs": [],
      "source": [
        "# Load model directly\n",
        "from transformers import AutoTokenizer, AutoModelForCausalLM\n",
        "\n",
        "tokenizer = AutoTokenizer.from_pretrained(\"openai-community/gpt2\")\n",
        "model = AutoModelForCausalLM.from_pretrained(\"openai-community/gpt2\")"
      ]
    },
    {
      "cell_type": "code",
      "execution_count": null,
      "metadata": {
        "id": "mGhAGKA06h4R"
      },
      "outputs": [],
      "source": [
        "def generate_summary(post):\n",
        "    input_text =\n",
        "    inputs = tokenizer(post, return_tensors=\"pt\", max_length=1024, truncation=True)\n",
        "\n"
      ]
    }
  ],
  "metadata": {
    "accelerator": "GPU",
    "colab": {
      "collapsed_sections": [
        "xpmVeagH1-AU"
      ],
      "gpuType": "T4",
      "provenance": []
    },
    "kernelspec": {
      "display_name": "Python 3",
      "name": "python3"
    },
    "language_info": {
      "codemirror_mode": {
        "name": "ipython",
        "version": 3
      },
      "file_extension": ".py",
      "mimetype": "text/x-python",
      "name": "python",
      "nbconvert_exporter": "python",
      "pygments_lexer": "ipython3",
      "version": "3.11.9"
    },
    "widgets": {
      "application/vnd.jupyter.widget-state+json": {
        "023232c6d72a4ff69607853b69f4f1b1": {
          "model_module": "@jupyter-widgets/controls",
          "model_module_version": "1.5.0",
          "model_name": "HTMLModel",
          "state": {
            "_dom_classes": [],
            "_model_module": "@jupyter-widgets/controls",
            "_model_module_version": "1.5.0",
            "_model_name": "HTMLModel",
            "_view_count": null,
            "_view_module": "@jupyter-widgets/controls",
            "_view_module_version": "1.5.0",
            "_view_name": "HTMLView",
            "description": "",
            "description_tooltip": null,
            "layout": "IPY_MODEL_bf08ccc19d8a47ee840e67f134c80d67",
            "placeholder": "​",
            "style": "IPY_MODEL_b839095e41354430b2a58dbd60528b79",
            "value": "model.safetensors: 100%"
          }
        },
        "03c57b1b71de42f7a6ff765c90da9678": {
          "model_module": "@jupyter-widgets/base",
          "model_module_version": "1.2.0",
          "model_name": "LayoutModel",
          "state": {
            "_model_module": "@jupyter-widgets/base",
            "_model_module_version": "1.2.0",
            "_model_name": "LayoutModel",
            "_view_count": null,
            "_view_module": "@jupyter-widgets/base",
            "_view_module_version": "1.2.0",
            "_view_name": "LayoutView",
            "align_content": null,
            "align_items": null,
            "align_self": null,
            "border": null,
            "bottom": null,
            "display": null,
            "flex": null,
            "flex_flow": null,
            "grid_area": null,
            "grid_auto_columns": null,
            "grid_auto_flow": null,
            "grid_auto_rows": null,
            "grid_column": null,
            "grid_gap": null,
            "grid_row": null,
            "grid_template_areas": null,
            "grid_template_columns": null,
            "grid_template_rows": null,
            "height": null,
            "justify_content": null,
            "justify_items": null,
            "left": null,
            "margin": null,
            "max_height": null,
            "max_width": null,
            "min_height": null,
            "min_width": null,
            "object_fit": null,
            "object_position": null,
            "order": null,
            "overflow": null,
            "overflow_x": null,
            "overflow_y": null,
            "padding": null,
            "right": null,
            "top": null,
            "visibility": null,
            "width": null
          }
        },
        "0650e18ccec443ba91796b296df831b7": {
          "model_module": "@jupyter-widgets/controls",
          "model_module_version": "1.5.0",
          "model_name": "HBoxModel",
          "state": {
            "_dom_classes": [],
            "_model_module": "@jupyter-widgets/controls",
            "_model_module_version": "1.5.0",
            "_model_name": "HBoxModel",
            "_view_count": null,
            "_view_module": "@jupyter-widgets/controls",
            "_view_module_version": "1.5.0",
            "_view_name": "HBoxView",
            "box_style": "",
            "children": [
              "IPY_MODEL_c5ca8477378d4e96a706863ef801e216",
              "IPY_MODEL_6c3c923dc26248a8b14a79b43c883cac",
              "IPY_MODEL_a8a609a0067746cf86cf98c0ab28cdcc"
            ],
            "layout": "IPY_MODEL_ecc0baa5f076499d878461e55051567f"
          }
        },
        "0988df03ebfd4ca9a4e0fc4399932645": {
          "model_module": "@jupyter-widgets/base",
          "model_module_version": "1.2.0",
          "model_name": "LayoutModel",
          "state": {
            "_model_module": "@jupyter-widgets/base",
            "_model_module_version": "1.2.0",
            "_model_name": "LayoutModel",
            "_view_count": null,
            "_view_module": "@jupyter-widgets/base",
            "_view_module_version": "1.2.0",
            "_view_name": "LayoutView",
            "align_content": null,
            "align_items": null,
            "align_self": null,
            "border": null,
            "bottom": null,
            "display": null,
            "flex": null,
            "flex_flow": null,
            "grid_area": null,
            "grid_auto_columns": null,
            "grid_auto_flow": null,
            "grid_auto_rows": null,
            "grid_column": null,
            "grid_gap": null,
            "grid_row": null,
            "grid_template_areas": null,
            "grid_template_columns": null,
            "grid_template_rows": null,
            "height": null,
            "justify_content": null,
            "justify_items": null,
            "left": null,
            "margin": null,
            "max_height": null,
            "max_width": null,
            "min_height": null,
            "min_width": null,
            "object_fit": null,
            "object_position": null,
            "order": null,
            "overflow": null,
            "overflow_x": null,
            "overflow_y": null,
            "padding": null,
            "right": null,
            "top": null,
            "visibility": null,
            "width": null
          }
        },
        "09a1977c9e31445587967e03bba71068": {
          "model_module": "@jupyter-widgets/base",
          "model_module_version": "1.2.0",
          "model_name": "LayoutModel",
          "state": {
            "_model_module": "@jupyter-widgets/base",
            "_model_module_version": "1.2.0",
            "_model_name": "LayoutModel",
            "_view_count": null,
            "_view_module": "@jupyter-widgets/base",
            "_view_module_version": "1.2.0",
            "_view_name": "LayoutView",
            "align_content": null,
            "align_items": null,
            "align_self": null,
            "border": null,
            "bottom": null,
            "display": null,
            "flex": null,
            "flex_flow": null,
            "grid_area": null,
            "grid_auto_columns": null,
            "grid_auto_flow": null,
            "grid_auto_rows": null,
            "grid_column": null,
            "grid_gap": null,
            "grid_row": null,
            "grid_template_areas": null,
            "grid_template_columns": null,
            "grid_template_rows": null,
            "height": null,
            "justify_content": null,
            "justify_items": null,
            "left": null,
            "margin": null,
            "max_height": null,
            "max_width": null,
            "min_height": null,
            "min_width": null,
            "object_fit": null,
            "object_position": null,
            "order": null,
            "overflow": null,
            "overflow_x": null,
            "overflow_y": null,
            "padding": null,
            "right": null,
            "top": null,
            "visibility": null,
            "width": null
          }
        },
        "0a6b55fbf6a143498a670dbc8099fc97": {
          "model_module": "@jupyter-widgets/controls",
          "model_module_version": "1.5.0",
          "model_name": "HTMLModel",
          "state": {
            "_dom_classes": [],
            "_model_module": "@jupyter-widgets/controls",
            "_model_module_version": "1.5.0",
            "_model_name": "HTMLModel",
            "_view_count": null,
            "_view_module": "@jupyter-widgets/controls",
            "_view_module_version": "1.5.0",
            "_view_name": "HTMLView",
            "description": "",
            "description_tooltip": null,
            "layout": "IPY_MODEL_0e11e0550d4e48b78f526707f8061634",
            "placeholder": "​",
            "style": "IPY_MODEL_ea8afb737d1645b7b4b4022843cf8682",
            "value": " 116722/116722 [02:53&lt;00:00, 680.46 examples/s]"
          }
        },
        "0d20c8b41f584738a0132661ad1fe4e3": {
          "model_module": "@jupyter-widgets/controls",
          "model_module_version": "1.5.0",
          "model_name": "ProgressStyleModel",
          "state": {
            "_model_module": "@jupyter-widgets/controls",
            "_model_module_version": "1.5.0",
            "_model_name": "ProgressStyleModel",
            "_view_count": null,
            "_view_module": "@jupyter-widgets/base",
            "_view_module_version": "1.2.0",
            "_view_name": "StyleView",
            "bar_color": null,
            "description_width": ""
          }
        },
        "0d55a11255924a82b5df3cfaa5d5cb76": {
          "model_module": "@jupyter-widgets/controls",
          "model_module_version": "1.5.0",
          "model_name": "HTMLModel",
          "state": {
            "_dom_classes": [],
            "_model_module": "@jupyter-widgets/controls",
            "_model_module_version": "1.5.0",
            "_model_name": "HTMLModel",
            "_view_count": null,
            "_view_module": "@jupyter-widgets/controls",
            "_view_module_version": "1.5.0",
            "_view_name": "HTMLView",
            "description": "",
            "description_tooltip": null,
            "layout": "IPY_MODEL_c9d58552ba104d768a3674deffd99d64",
            "placeholder": "​",
            "style": "IPY_MODEL_9aba40ca7321448899c416bc4d164448",
            "value": " 242M/242M [00:02&lt;00:00, 121MB/s]"
          }
        },
        "0e11e0550d4e48b78f526707f8061634": {
          "model_module": "@jupyter-widgets/base",
          "model_module_version": "1.2.0",
          "model_name": "LayoutModel",
          "state": {
            "_model_module": "@jupyter-widgets/base",
            "_model_module_version": "1.2.0",
            "_model_name": "LayoutModel",
            "_view_count": null,
            "_view_module": "@jupyter-widgets/base",
            "_view_module_version": "1.2.0",
            "_view_name": "LayoutView",
            "align_content": null,
            "align_items": null,
            "align_self": null,
            "border": null,
            "bottom": null,
            "display": null,
            "flex": null,
            "flex_flow": null,
            "grid_area": null,
            "grid_auto_columns": null,
            "grid_auto_flow": null,
            "grid_auto_rows": null,
            "grid_column": null,
            "grid_gap": null,
            "grid_row": null,
            "grid_template_areas": null,
            "grid_template_columns": null,
            "grid_template_rows": null,
            "height": null,
            "justify_content": null,
            "justify_items": null,
            "left": null,
            "margin": null,
            "max_height": null,
            "max_width": null,
            "min_height": null,
            "min_width": null,
            "object_fit": null,
            "object_position": null,
            "order": null,
            "overflow": null,
            "overflow_x": null,
            "overflow_y": null,
            "padding": null,
            "right": null,
            "top": null,
            "visibility": null,
            "width": null
          }
        },
        "117c7962b27b41b7bfc55561704050e2": {
          "model_module": "@jupyter-widgets/base",
          "model_module_version": "1.2.0",
          "model_name": "LayoutModel",
          "state": {
            "_model_module": "@jupyter-widgets/base",
            "_model_module_version": "1.2.0",
            "_model_name": "LayoutModel",
            "_view_count": null,
            "_view_module": "@jupyter-widgets/base",
            "_view_module_version": "1.2.0",
            "_view_name": "LayoutView",
            "align_content": null,
            "align_items": null,
            "align_self": null,
            "border": null,
            "bottom": null,
            "display": null,
            "flex": null,
            "flex_flow": null,
            "grid_area": null,
            "grid_auto_columns": null,
            "grid_auto_flow": null,
            "grid_auto_rows": null,
            "grid_column": null,
            "grid_gap": null,
            "grid_row": null,
            "grid_template_areas": null,
            "grid_template_columns": null,
            "grid_template_rows": null,
            "height": null,
            "justify_content": null,
            "justify_items": null,
            "left": null,
            "margin": null,
            "max_height": null,
            "max_width": null,
            "min_height": null,
            "min_width": null,
            "object_fit": null,
            "object_position": null,
            "order": null,
            "overflow": null,
            "overflow_x": null,
            "overflow_y": null,
            "padding": null,
            "right": null,
            "top": null,
            "visibility": null,
            "width": null
          }
        },
        "1355c847fbc84f12b9c376c5c7c0f790": {
          "model_module": "@jupyter-widgets/controls",
          "model_module_version": "1.5.0",
          "model_name": "FloatProgressModel",
          "state": {
            "_dom_classes": [],
            "_model_module": "@jupyter-widgets/controls",
            "_model_module_version": "1.5.0",
            "_model_name": "FloatProgressModel",
            "_view_count": null,
            "_view_module": "@jupyter-widgets/controls",
            "_view_module_version": "1.5.0",
            "_view_name": "ProgressView",
            "bar_style": "success",
            "description": "",
            "description_tooltip": null,
            "layout": "IPY_MODEL_09a1977c9e31445587967e03bba71068",
            "max": 1554,
            "min": 0,
            "orientation": "horizontal",
            "style": "IPY_MODEL_7503f105bcd64e59aa85ad9ee063c425",
            "value": 1554
          }
        },
        "19bf342489924c75bb7fe450978692ed": {
          "model_module": "@jupyter-widgets/controls",
          "model_module_version": "1.5.0",
          "model_name": "HBoxModel",
          "state": {
            "_dom_classes": [],
            "_model_module": "@jupyter-widgets/controls",
            "_model_module_version": "1.5.0",
            "_model_name": "HBoxModel",
            "_view_count": null,
            "_view_module": "@jupyter-widgets/controls",
            "_view_module_version": "1.5.0",
            "_view_name": "HBoxView",
            "box_style": "",
            "children": [
              "IPY_MODEL_b7c8023d124b43c7becda606e9ef0eb9",
              "IPY_MODEL_e1177ba1d3284f3fb5a909a639ab5081",
              "IPY_MODEL_5e9e563c54c04c9bbd84768746e59d00"
            ],
            "layout": "IPY_MODEL_03c57b1b71de42f7a6ff765c90da9678"
          }
        },
        "1a98d1ff9c3446ce84ef2703e62de710": {
          "model_module": "@jupyter-widgets/controls",
          "model_module_version": "1.5.0",
          "model_name": "HTMLModel",
          "state": {
            "_dom_classes": [],
            "_model_module": "@jupyter-widgets/controls",
            "_model_module_version": "1.5.0",
            "_model_name": "HTMLModel",
            "_view_count": null,
            "_view_module": "@jupyter-widgets/controls",
            "_view_module_version": "1.5.0",
            "_view_name": "HTMLView",
            "description": "",
            "description_tooltip": null,
            "layout": "IPY_MODEL_a0b06014ffa94d7d9b1ec4e6d0397b00",
            "placeholder": "​",
            "style": "IPY_MODEL_84ad3174ee9341fb9f691ac83f9628f3",
            "value": " 116722/116722 [03:57&lt;00:00, 275.23 examples/s]"
          }
        },
        "1ce535fa30794890b34d129bee5fe311": {
          "model_module": "@jupyter-widgets/controls",
          "model_module_version": "1.5.0",
          "model_name": "DescriptionStyleModel",
          "state": {
            "_model_module": "@jupyter-widgets/controls",
            "_model_module_version": "1.5.0",
            "_model_name": "DescriptionStyleModel",
            "_view_count": null,
            "_view_module": "@jupyter-widgets/base",
            "_view_module_version": "1.2.0",
            "_view_name": "StyleView",
            "description_width": ""
          }
        },
        "24202f1da688445280ab8b583d5fd800": {
          "model_module": "@jupyter-widgets/base",
          "model_module_version": "1.2.0",
          "model_name": "LayoutModel",
          "state": {
            "_model_module": "@jupyter-widgets/base",
            "_model_module_version": "1.2.0",
            "_model_name": "LayoutModel",
            "_view_count": null,
            "_view_module": "@jupyter-widgets/base",
            "_view_module_version": "1.2.0",
            "_view_name": "LayoutView",
            "align_content": null,
            "align_items": null,
            "align_self": null,
            "border": null,
            "bottom": null,
            "display": null,
            "flex": null,
            "flex_flow": null,
            "grid_area": null,
            "grid_auto_columns": null,
            "grid_auto_flow": null,
            "grid_auto_rows": null,
            "grid_column": null,
            "grid_gap": null,
            "grid_row": null,
            "grid_template_areas": null,
            "grid_template_columns": null,
            "grid_template_rows": null,
            "height": null,
            "justify_content": null,
            "justify_items": null,
            "left": null,
            "margin": null,
            "max_height": null,
            "max_width": null,
            "min_height": null,
            "min_width": null,
            "object_fit": null,
            "object_position": null,
            "order": null,
            "overflow": null,
            "overflow_x": null,
            "overflow_y": null,
            "padding": null,
            "right": null,
            "top": null,
            "visibility": null,
            "width": null
          }
        },
        "2ec0e5333f81424797d201e3236bf996": {
          "model_module": "@jupyter-widgets/controls",
          "model_module_version": "1.5.0",
          "model_name": "ProgressStyleModel",
          "state": {
            "_model_module": "@jupyter-widgets/controls",
            "_model_module_version": "1.5.0",
            "_model_name": "ProgressStyleModel",
            "_view_count": null,
            "_view_module": "@jupyter-widgets/base",
            "_view_module_version": "1.2.0",
            "_view_name": "StyleView",
            "bar_color": null,
            "description_width": ""
          }
        },
        "37ea07194edb405d93ca9a8e5f3a6f40": {
          "model_module": "@jupyter-widgets/controls",
          "model_module_version": "1.5.0",
          "model_name": "HTMLModel",
          "state": {
            "_dom_classes": [],
            "_model_module": "@jupyter-widgets/controls",
            "_model_module_version": "1.5.0",
            "_model_name": "HTMLModel",
            "_view_count": null,
            "_view_module": "@jupyter-widgets/controls",
            "_view_module_version": "1.5.0",
            "_view_name": "HTMLView",
            "description": "",
            "description_tooltip": null,
            "layout": "IPY_MODEL_b667a6d992e143bca40b9202bfb5eb7e",
            "placeholder": "​",
            "style": "IPY_MODEL_bd58ac70e17e49d2a2057dc1312dbd5d",
            "value": "Map: 100%"
          }
        },
        "4096058ed46346498a4bd9f62b870f70": {
          "model_module": "@jupyter-widgets/base",
          "model_module_version": "1.2.0",
          "model_name": "LayoutModel",
          "state": {
            "_model_module": "@jupyter-widgets/base",
            "_model_module_version": "1.2.0",
            "_model_name": "LayoutModel",
            "_view_count": null,
            "_view_module": "@jupyter-widgets/base",
            "_view_module_version": "1.2.0",
            "_view_name": "LayoutView",
            "align_content": null,
            "align_items": null,
            "align_self": null,
            "border": null,
            "bottom": null,
            "display": null,
            "flex": null,
            "flex_flow": null,
            "grid_area": null,
            "grid_auto_columns": null,
            "grid_auto_flow": null,
            "grid_auto_rows": null,
            "grid_column": null,
            "grid_gap": null,
            "grid_row": null,
            "grid_template_areas": null,
            "grid_template_columns": null,
            "grid_template_rows": null,
            "height": null,
            "justify_content": null,
            "justify_items": null,
            "left": null,
            "margin": null,
            "max_height": null,
            "max_width": null,
            "min_height": null,
            "min_width": null,
            "object_fit": null,
            "object_position": null,
            "order": null,
            "overflow": null,
            "overflow_x": null,
            "overflow_y": null,
            "padding": null,
            "right": null,
            "top": null,
            "visibility": null,
            "width": null
          }
        },
        "42b362c64c6c48d3aaf216daa6fd46a1": {
          "model_module": "@jupyter-widgets/base",
          "model_module_version": "1.2.0",
          "model_name": "LayoutModel",
          "state": {
            "_model_module": "@jupyter-widgets/base",
            "_model_module_version": "1.2.0",
            "_model_name": "LayoutModel",
            "_view_count": null,
            "_view_module": "@jupyter-widgets/base",
            "_view_module_version": "1.2.0",
            "_view_name": "LayoutView",
            "align_content": null,
            "align_items": null,
            "align_self": null,
            "border": null,
            "bottom": null,
            "display": null,
            "flex": null,
            "flex_flow": null,
            "grid_area": null,
            "grid_auto_columns": null,
            "grid_auto_flow": null,
            "grid_auto_rows": null,
            "grid_column": null,
            "grid_gap": null,
            "grid_row": null,
            "grid_template_areas": null,
            "grid_template_columns": null,
            "grid_template_rows": null,
            "height": null,
            "justify_content": null,
            "justify_items": null,
            "left": null,
            "margin": null,
            "max_height": null,
            "max_width": null,
            "min_height": null,
            "min_width": null,
            "object_fit": null,
            "object_position": null,
            "order": null,
            "overflow": null,
            "overflow_x": null,
            "overflow_y": null,
            "padding": null,
            "right": null,
            "top": null,
            "visibility": null,
            "width": null
          }
        },
        "4356adceae0d441ba2bb9d0d75b775f7": {
          "model_module": "@jupyter-widgets/base",
          "model_module_version": "1.2.0",
          "model_name": "LayoutModel",
          "state": {
            "_model_module": "@jupyter-widgets/base",
            "_model_module_version": "1.2.0",
            "_model_name": "LayoutModel",
            "_view_count": null,
            "_view_module": "@jupyter-widgets/base",
            "_view_module_version": "1.2.0",
            "_view_name": "LayoutView",
            "align_content": null,
            "align_items": null,
            "align_self": null,
            "border": null,
            "bottom": null,
            "display": null,
            "flex": null,
            "flex_flow": null,
            "grid_area": null,
            "grid_auto_columns": null,
            "grid_auto_flow": null,
            "grid_auto_rows": null,
            "grid_column": null,
            "grid_gap": null,
            "grid_row": null,
            "grid_template_areas": null,
            "grid_template_columns": null,
            "grid_template_rows": null,
            "height": null,
            "justify_content": null,
            "justify_items": null,
            "left": null,
            "margin": null,
            "max_height": null,
            "max_width": null,
            "min_height": null,
            "min_width": null,
            "object_fit": null,
            "object_position": null,
            "order": null,
            "overflow": null,
            "overflow_x": null,
            "overflow_y": null,
            "padding": null,
            "right": null,
            "top": null,
            "visibility": null,
            "width": null
          }
        },
        "48d762b1634f4ab2b0bf75567c3c03ca": {
          "model_module": "@jupyter-widgets/base",
          "model_module_version": "1.2.0",
          "model_name": "LayoutModel",
          "state": {
            "_model_module": "@jupyter-widgets/base",
            "_model_module_version": "1.2.0",
            "_model_name": "LayoutModel",
            "_view_count": null,
            "_view_module": "@jupyter-widgets/base",
            "_view_module_version": "1.2.0",
            "_view_name": "LayoutView",
            "align_content": null,
            "align_items": null,
            "align_self": null,
            "border": null,
            "bottom": null,
            "display": null,
            "flex": null,
            "flex_flow": null,
            "grid_area": null,
            "grid_auto_columns": null,
            "grid_auto_flow": null,
            "grid_auto_rows": null,
            "grid_column": null,
            "grid_gap": null,
            "grid_row": null,
            "grid_template_areas": null,
            "grid_template_columns": null,
            "grid_template_rows": null,
            "height": null,
            "justify_content": null,
            "justify_items": null,
            "left": null,
            "margin": null,
            "max_height": null,
            "max_width": null,
            "min_height": null,
            "min_width": null,
            "object_fit": null,
            "object_position": null,
            "order": null,
            "overflow": null,
            "overflow_x": null,
            "overflow_y": null,
            "padding": null,
            "right": null,
            "top": null,
            "visibility": null,
            "width": null
          }
        },
        "48fb770688c04da6bc94b422af0a862b": {
          "model_module": "@jupyter-widgets/controls",
          "model_module_version": "1.5.0",
          "model_name": "DescriptionStyleModel",
          "state": {
            "_model_module": "@jupyter-widgets/controls",
            "_model_module_version": "1.5.0",
            "_model_name": "DescriptionStyleModel",
            "_view_count": null,
            "_view_module": "@jupyter-widgets/base",
            "_view_module_version": "1.2.0",
            "_view_name": "StyleView",
            "description_width": ""
          }
        },
        "4a1ef2a4fc42401ebd02d44d491e200f": {
          "model_module": "@jupyter-widgets/controls",
          "model_module_version": "1.5.0",
          "model_name": "DescriptionStyleModel",
          "state": {
            "_model_module": "@jupyter-widgets/controls",
            "_model_module_version": "1.5.0",
            "_model_name": "DescriptionStyleModel",
            "_view_count": null,
            "_view_module": "@jupyter-widgets/base",
            "_view_module_version": "1.2.0",
            "_view_name": "StyleView",
            "description_width": ""
          }
        },
        "4b2cef31dae84f499c34a0b2df9af21b": {
          "model_module": "@jupyter-widgets/controls",
          "model_module_version": "1.5.0",
          "model_name": "HBoxModel",
          "state": {
            "_dom_classes": [],
            "_model_module": "@jupyter-widgets/controls",
            "_model_module_version": "1.5.0",
            "_model_name": "HBoxModel",
            "_view_count": null,
            "_view_module": "@jupyter-widgets/controls",
            "_view_module_version": "1.5.0",
            "_view_name": "HBoxView",
            "box_style": "",
            "children": [
              "IPY_MODEL_63cc2caaa1434787bc052bd8cfc79f27",
              "IPY_MODEL_1355c847fbc84f12b9c376c5c7c0f790",
              "IPY_MODEL_ab450be926c34790bca6c7187440f1fe"
            ],
            "layout": "IPY_MODEL_48d762b1634f4ab2b0bf75567c3c03ca"
          }
        },
        "4c1d3c3e7ee949a4ad55a2a40576cefc": {
          "model_module": "@jupyter-widgets/base",
          "model_module_version": "1.2.0",
          "model_name": "LayoutModel",
          "state": {
            "_model_module": "@jupyter-widgets/base",
            "_model_module_version": "1.2.0",
            "_model_name": "LayoutModel",
            "_view_count": null,
            "_view_module": "@jupyter-widgets/base",
            "_view_module_version": "1.2.0",
            "_view_name": "LayoutView",
            "align_content": null,
            "align_items": null,
            "align_self": null,
            "border": null,
            "bottom": null,
            "display": null,
            "flex": null,
            "flex_flow": null,
            "grid_area": null,
            "grid_auto_columns": null,
            "grid_auto_flow": null,
            "grid_auto_rows": null,
            "grid_column": null,
            "grid_gap": null,
            "grid_row": null,
            "grid_template_areas": null,
            "grid_template_columns": null,
            "grid_template_rows": null,
            "height": null,
            "justify_content": null,
            "justify_items": null,
            "left": null,
            "margin": null,
            "max_height": null,
            "max_width": null,
            "min_height": null,
            "min_width": null,
            "object_fit": null,
            "object_position": null,
            "order": null,
            "overflow": null,
            "overflow_x": null,
            "overflow_y": null,
            "padding": null,
            "right": null,
            "top": null,
            "visibility": null,
            "width": null
          }
        },
        "4cb76570b1d44c32ae7ad8b2001d42bf": {
          "model_module": "@jupyter-widgets/controls",
          "model_module_version": "1.5.0",
          "model_name": "ProgressStyleModel",
          "state": {
            "_model_module": "@jupyter-widgets/controls",
            "_model_module_version": "1.5.0",
            "_model_name": "ProgressStyleModel",
            "_view_count": null,
            "_view_module": "@jupyter-widgets/base",
            "_view_module_version": "1.2.0",
            "_view_name": "StyleView",
            "bar_color": null,
            "description_width": ""
          }
        },
        "4d96e10aeffb4eb8913f0406f9f9a747": {
          "model_module": "@jupyter-widgets/controls",
          "model_module_version": "1.5.0",
          "model_name": "ProgressStyleModel",
          "state": {
            "_model_module": "@jupyter-widgets/controls",
            "_model_module_version": "1.5.0",
            "_model_name": "ProgressStyleModel",
            "_view_count": null,
            "_view_module": "@jupyter-widgets/base",
            "_view_module_version": "1.2.0",
            "_view_name": "StyleView",
            "bar_color": null,
            "description_width": ""
          }
        },
        "503368be488c436ab1c0338a6e7468b3": {
          "model_module": "@jupyter-widgets/controls",
          "model_module_version": "1.5.0",
          "model_name": "HBoxModel",
          "state": {
            "_dom_classes": [],
            "_model_module": "@jupyter-widgets/controls",
            "_model_module_version": "1.5.0",
            "_model_name": "HBoxModel",
            "_view_count": null,
            "_view_module": "@jupyter-widgets/controls",
            "_view_module_version": "1.5.0",
            "_view_name": "HBoxView",
            "box_style": "",
            "children": [
              "IPY_MODEL_63e614b89ffd4c1c949cc41e0afa7d78",
              "IPY_MODEL_6d559f00827a429bb893a64b72f69d6e",
              "IPY_MODEL_1a98d1ff9c3446ce84ef2703e62de710"
            ],
            "layout": "IPY_MODEL_4356adceae0d441ba2bb9d0d75b775f7"
          }
        },
        "52abe42d15c74eaa89eecd92c7823824": {
          "model_module": "@jupyter-widgets/base",
          "model_module_version": "1.2.0",
          "model_name": "LayoutModel",
          "state": {
            "_model_module": "@jupyter-widgets/base",
            "_model_module_version": "1.2.0",
            "_model_name": "LayoutModel",
            "_view_count": null,
            "_view_module": "@jupyter-widgets/base",
            "_view_module_version": "1.2.0",
            "_view_name": "LayoutView",
            "align_content": null,
            "align_items": null,
            "align_self": null,
            "border": null,
            "bottom": null,
            "display": null,
            "flex": null,
            "flex_flow": null,
            "grid_area": null,
            "grid_auto_columns": null,
            "grid_auto_flow": null,
            "grid_auto_rows": null,
            "grid_column": null,
            "grid_gap": null,
            "grid_row": null,
            "grid_template_areas": null,
            "grid_template_columns": null,
            "grid_template_rows": null,
            "height": null,
            "justify_content": null,
            "justify_items": null,
            "left": null,
            "margin": null,
            "max_height": null,
            "max_width": null,
            "min_height": null,
            "min_width": null,
            "object_fit": null,
            "object_position": null,
            "order": null,
            "overflow": null,
            "overflow_x": null,
            "overflow_y": null,
            "padding": null,
            "right": null,
            "top": null,
            "visibility": null,
            "width": null
          }
        },
        "5532aa19b121434bba4ff7718f931872": {
          "model_module": "@jupyter-widgets/base",
          "model_module_version": "1.2.0",
          "model_name": "LayoutModel",
          "state": {
            "_model_module": "@jupyter-widgets/base",
            "_model_module_version": "1.2.0",
            "_model_name": "LayoutModel",
            "_view_count": null,
            "_view_module": "@jupyter-widgets/base",
            "_view_module_version": "1.2.0",
            "_view_name": "LayoutView",
            "align_content": null,
            "align_items": null,
            "align_self": null,
            "border": null,
            "bottom": null,
            "display": null,
            "flex": null,
            "flex_flow": null,
            "grid_area": null,
            "grid_auto_columns": null,
            "grid_auto_flow": null,
            "grid_auto_rows": null,
            "grid_column": null,
            "grid_gap": null,
            "grid_row": null,
            "grid_template_areas": null,
            "grid_template_columns": null,
            "grid_template_rows": null,
            "height": null,
            "justify_content": null,
            "justify_items": null,
            "left": null,
            "margin": null,
            "max_height": null,
            "max_width": null,
            "min_height": null,
            "min_width": null,
            "object_fit": null,
            "object_position": null,
            "order": null,
            "overflow": null,
            "overflow_x": null,
            "overflow_y": null,
            "padding": null,
            "right": null,
            "top": null,
            "visibility": null,
            "width": null
          }
        },
        "5654cb7edf0a4839bf84711c0b534ad9": {
          "model_module": "@jupyter-widgets/controls",
          "model_module_version": "1.5.0",
          "model_name": "FloatProgressModel",
          "state": {
            "_dom_classes": [],
            "_model_module": "@jupyter-widgets/controls",
            "_model_module_version": "1.5.0",
            "_model_name": "FloatProgressModel",
            "_view_count": null,
            "_view_module": "@jupyter-widgets/controls",
            "_view_module_version": "1.5.0",
            "_view_name": "ProgressView",
            "bar_style": "success",
            "description": "",
            "description_tooltip": null,
            "layout": "IPY_MODEL_911e609438844eea8e846f3061d76459",
            "max": 116722,
            "min": 0,
            "orientation": "horizontal",
            "style": "IPY_MODEL_4d96e10aeffb4eb8913f0406f9f9a747",
            "value": 116722
          }
        },
        "5e9e563c54c04c9bbd84768746e59d00": {
          "model_module": "@jupyter-widgets/controls",
          "model_module_version": "1.5.0",
          "model_name": "HTMLModel",
          "state": {
            "_dom_classes": [],
            "_model_module": "@jupyter-widgets/controls",
            "_model_module_version": "1.5.0",
            "_model_name": "HTMLModel",
            "_view_count": null,
            "_view_module": "@jupyter-widgets/controls",
            "_view_module_version": "1.5.0",
            "_view_name": "HTMLView",
            "description": "",
            "description_tooltip": null,
            "layout": "IPY_MODEL_24202f1da688445280ab8b583d5fd800",
            "placeholder": "​",
            "style": "IPY_MODEL_f987c33e88eb4528b15220a5913e7e6b",
            "value": " 1.21k/1.21k [00:00&lt;00:00, 22.8kB/s]"
          }
        },
        "5ed55df300d84c65ae78077a8e1a1cb5": {
          "model_module": "@jupyter-widgets/controls",
          "model_module_version": "1.5.0",
          "model_name": "FloatProgressModel",
          "state": {
            "_dom_classes": [],
            "_model_module": "@jupyter-widgets/controls",
            "_model_module_version": "1.5.0",
            "_model_name": "FloatProgressModel",
            "_view_count": null,
            "_view_module": "@jupyter-widgets/controls",
            "_view_module_version": "1.5.0",
            "_view_name": "ProgressView",
            "bar_style": "success",
            "description": "",
            "description_tooltip": null,
            "layout": "IPY_MODEL_743715875da54891b42b22eb6f0c22a3",
            "max": 2479,
            "min": 0,
            "orientation": "horizontal",
            "style": "IPY_MODEL_4cb76570b1d44c32ae7ad8b2001d42bf",
            "value": 2479
          }
        },
        "5f00ff30d49c410388eba314aebe21e8": {
          "model_module": "@jupyter-widgets/controls",
          "model_module_version": "1.5.0",
          "model_name": "DescriptionStyleModel",
          "state": {
            "_model_module": "@jupyter-widgets/controls",
            "_model_module_version": "1.5.0",
            "_model_name": "DescriptionStyleModel",
            "_view_count": null,
            "_view_module": "@jupyter-widgets/base",
            "_view_module_version": "1.2.0",
            "_view_name": "StyleView",
            "description_width": ""
          }
        },
        "5fbdb5d53fb1450db0aa05e0623a2ae6": {
          "model_module": "@jupyter-widgets/base",
          "model_module_version": "1.2.0",
          "model_name": "LayoutModel",
          "state": {
            "_model_module": "@jupyter-widgets/base",
            "_model_module_version": "1.2.0",
            "_model_name": "LayoutModel",
            "_view_count": null,
            "_view_module": "@jupyter-widgets/base",
            "_view_module_version": "1.2.0",
            "_view_name": "LayoutView",
            "align_content": null,
            "align_items": null,
            "align_self": null,
            "border": null,
            "bottom": null,
            "display": null,
            "flex": null,
            "flex_flow": null,
            "grid_area": null,
            "grid_auto_columns": null,
            "grid_auto_flow": null,
            "grid_auto_rows": null,
            "grid_column": null,
            "grid_gap": null,
            "grid_row": null,
            "grid_template_areas": null,
            "grid_template_columns": null,
            "grid_template_rows": null,
            "height": null,
            "justify_content": null,
            "justify_items": null,
            "left": null,
            "margin": null,
            "max_height": null,
            "max_width": null,
            "min_height": null,
            "min_width": null,
            "object_fit": null,
            "object_position": null,
            "order": null,
            "overflow": null,
            "overflow_x": null,
            "overflow_y": null,
            "padding": null,
            "right": null,
            "top": null,
            "visibility": null,
            "width": null
          }
        },
        "5fd0f6344919465a8eb58097989ab450": {
          "model_module": "@jupyter-widgets/controls",
          "model_module_version": "1.5.0",
          "model_name": "DescriptionStyleModel",
          "state": {
            "_model_module": "@jupyter-widgets/controls",
            "_model_module_version": "1.5.0",
            "_model_name": "DescriptionStyleModel",
            "_view_count": null,
            "_view_module": "@jupyter-widgets/base",
            "_view_module_version": "1.2.0",
            "_view_name": "StyleView",
            "description_width": ""
          }
        },
        "62412fb37dd241fb83bba0c3fe3dfa72": {
          "model_module": "@jupyter-widgets/controls",
          "model_module_version": "1.5.0",
          "model_name": "DescriptionStyleModel",
          "state": {
            "_model_module": "@jupyter-widgets/controls",
            "_model_module_version": "1.5.0",
            "_model_name": "DescriptionStyleModel",
            "_view_count": null,
            "_view_module": "@jupyter-widgets/base",
            "_view_module_version": "1.2.0",
            "_view_name": "StyleView",
            "description_width": ""
          }
        },
        "63cc2caaa1434787bc052bd8cfc79f27": {
          "model_module": "@jupyter-widgets/controls",
          "model_module_version": "1.5.0",
          "model_name": "HTMLModel",
          "state": {
            "_dom_classes": [],
            "_model_module": "@jupyter-widgets/controls",
            "_model_module_version": "1.5.0",
            "_model_name": "HTMLModel",
            "_view_count": null,
            "_view_module": "@jupyter-widgets/controls",
            "_view_module_version": "1.5.0",
            "_view_name": "HTMLView",
            "description": "",
            "description_tooltip": null,
            "layout": "IPY_MODEL_42b362c64c6c48d3aaf216daa6fd46a1",
            "placeholder": "​",
            "style": "IPY_MODEL_9673bbb04a7548e799ff783bb5e2667b",
            "value": "Downloading extra modules: "
          }
        },
        "63cdbbd2cfb34c99a30016ce84c28939": {
          "model_module": "@jupyter-widgets/controls",
          "model_module_version": "1.5.0",
          "model_name": "ProgressStyleModel",
          "state": {
            "_model_module": "@jupyter-widgets/controls",
            "_model_module_version": "1.5.0",
            "_model_name": "ProgressStyleModel",
            "_view_count": null,
            "_view_module": "@jupyter-widgets/base",
            "_view_module_version": "1.2.0",
            "_view_name": "StyleView",
            "bar_color": null,
            "description_width": ""
          }
        },
        "63e614b89ffd4c1c949cc41e0afa7d78": {
          "model_module": "@jupyter-widgets/controls",
          "model_module_version": "1.5.0",
          "model_name": "HTMLModel",
          "state": {
            "_dom_classes": [],
            "_model_module": "@jupyter-widgets/controls",
            "_model_module_version": "1.5.0",
            "_model_name": "HTMLModel",
            "_view_count": null,
            "_view_module": "@jupyter-widgets/controls",
            "_view_module_version": "1.5.0",
            "_view_name": "HTMLView",
            "description": "",
            "description_tooltip": null,
            "layout": "IPY_MODEL_b3b5f5a7f4b3498cbb0522a968b56398",
            "placeholder": "​",
            "style": "IPY_MODEL_aa2a3d44496b4f6aa0cf1d362ca15fca",
            "value": "Map: 100%"
          }
        },
        "6c3c923dc26248a8b14a79b43c883cac": {
          "model_module": "@jupyter-widgets/controls",
          "model_module_version": "1.5.0",
          "model_name": "FloatProgressModel",
          "state": {
            "_dom_classes": [],
            "_model_module": "@jupyter-widgets/controls",
            "_model_module_version": "1.5.0",
            "_model_name": "FloatProgressModel",
            "_view_count": null,
            "_view_module": "@jupyter-widgets/controls",
            "_view_module_version": "1.5.0",
            "_view_name": "ProgressView",
            "bar_style": "success",
            "description": "",
            "description_tooltip": null,
            "layout": "IPY_MODEL_5fbdb5d53fb1450db0aa05e0623a2ae6",
            "max": 1000,
            "min": 0,
            "orientation": "horizontal",
            "style": "IPY_MODEL_f6c2772cb54c4d0d872d3644d0e56088",
            "value": 1000
          }
        },
        "6d559f00827a429bb893a64b72f69d6e": {
          "model_module": "@jupyter-widgets/controls",
          "model_module_version": "1.5.0",
          "model_name": "FloatProgressModel",
          "state": {
            "_dom_classes": [],
            "_model_module": "@jupyter-widgets/controls",
            "_model_module_version": "1.5.0",
            "_model_name": "FloatProgressModel",
            "_view_count": null,
            "_view_module": "@jupyter-widgets/controls",
            "_view_module_version": "1.5.0",
            "_view_name": "ProgressView",
            "bar_style": "success",
            "description": "",
            "description_tooltip": null,
            "layout": "IPY_MODEL_d1b68ea47e2041fea5264f36987817ca",
            "max": 116722,
            "min": 0,
            "orientation": "horizontal",
            "style": "IPY_MODEL_925ddaca334b48cda199afada87fd4c8",
            "value": 116722
          }
        },
        "721d60ad7b15412aafd53ba519e35b7c": {
          "model_module": "@jupyter-widgets/controls",
          "model_module_version": "1.5.0",
          "model_name": "FloatProgressModel",
          "state": {
            "_dom_classes": [],
            "_model_module": "@jupyter-widgets/controls",
            "_model_module_version": "1.5.0",
            "_model_name": "FloatProgressModel",
            "_view_count": null,
            "_view_module": "@jupyter-widgets/controls",
            "_view_module_version": "1.5.0",
            "_view_name": "ProgressView",
            "bar_style": "success",
            "description": "",
            "description_tooltip": null,
            "layout": "IPY_MODEL_4096058ed46346498a4bd9f62b870f70",
            "max": 242043056,
            "min": 0,
            "orientation": "horizontal",
            "style": "IPY_MODEL_2ec0e5333f81424797d201e3236bf996",
            "value": 242043056
          }
        },
        "743715875da54891b42b22eb6f0c22a3": {
          "model_module": "@jupyter-widgets/base",
          "model_module_version": "1.2.0",
          "model_name": "LayoutModel",
          "state": {
            "_model_module": "@jupyter-widgets/base",
            "_model_module_version": "1.2.0",
            "_model_name": "LayoutModel",
            "_view_count": null,
            "_view_module": "@jupyter-widgets/base",
            "_view_module_version": "1.2.0",
            "_view_name": "LayoutView",
            "align_content": null,
            "align_items": null,
            "align_self": null,
            "border": null,
            "bottom": null,
            "display": null,
            "flex": null,
            "flex_flow": null,
            "grid_area": null,
            "grid_auto_columns": null,
            "grid_auto_flow": null,
            "grid_auto_rows": null,
            "grid_column": null,
            "grid_gap": null,
            "grid_row": null,
            "grid_template_areas": null,
            "grid_template_columns": null,
            "grid_template_rows": null,
            "height": null,
            "justify_content": null,
            "justify_items": null,
            "left": null,
            "margin": null,
            "max_height": null,
            "max_width": null,
            "min_height": null,
            "min_width": null,
            "object_fit": null,
            "object_position": null,
            "order": null,
            "overflow": null,
            "overflow_x": null,
            "overflow_y": null,
            "padding": null,
            "right": null,
            "top": null,
            "visibility": null,
            "width": null
          }
        },
        "74698c46de9a48a1b8888663653f8e66": {
          "model_module": "@jupyter-widgets/controls",
          "model_module_version": "1.5.0",
          "model_name": "HTMLModel",
          "state": {
            "_dom_classes": [],
            "_model_module": "@jupyter-widgets/controls",
            "_model_module_version": "1.5.0",
            "_model_name": "HTMLModel",
            "_view_count": null,
            "_view_module": "@jupyter-widgets/controls",
            "_view_module_version": "1.5.0",
            "_view_name": "HTMLView",
            "description": "",
            "description_tooltip": null,
            "layout": "IPY_MODEL_f27e8a394f45485ab70fe85834b21a9a",
            "placeholder": "​",
            "style": "IPY_MODEL_8d94aa177e384a4d8adfb5656127084b",
            "value": "Map: 100%"
          }
        },
        "7503f105bcd64e59aa85ad9ee063c425": {
          "model_module": "@jupyter-widgets/controls",
          "model_module_version": "1.5.0",
          "model_name": "ProgressStyleModel",
          "state": {
            "_model_module": "@jupyter-widgets/controls",
            "_model_module_version": "1.5.0",
            "_model_name": "ProgressStyleModel",
            "_view_count": null,
            "_view_module": "@jupyter-widgets/base",
            "_view_module_version": "1.2.0",
            "_view_name": "StyleView",
            "bar_color": null,
            "description_width": ""
          }
        },
        "83dcd347570d49958d471228c0c3435f": {
          "model_module": "@jupyter-widgets/base",
          "model_module_version": "1.2.0",
          "model_name": "LayoutModel",
          "state": {
            "_model_module": "@jupyter-widgets/base",
            "_model_module_version": "1.2.0",
            "_model_name": "LayoutModel",
            "_view_count": null,
            "_view_module": "@jupyter-widgets/base",
            "_view_module_version": "1.2.0",
            "_view_name": "LayoutView",
            "align_content": null,
            "align_items": null,
            "align_self": null,
            "border": null,
            "bottom": null,
            "display": null,
            "flex": null,
            "flex_flow": null,
            "grid_area": null,
            "grid_auto_columns": null,
            "grid_auto_flow": null,
            "grid_auto_rows": null,
            "grid_column": null,
            "grid_gap": null,
            "grid_row": null,
            "grid_template_areas": null,
            "grid_template_columns": null,
            "grid_template_rows": null,
            "height": null,
            "justify_content": null,
            "justify_items": null,
            "left": null,
            "margin": null,
            "max_height": null,
            "max_width": null,
            "min_height": null,
            "min_width": null,
            "object_fit": null,
            "object_position": null,
            "order": null,
            "overflow": null,
            "overflow_x": null,
            "overflow_y": null,
            "padding": null,
            "right": null,
            "top": null,
            "visibility": null,
            "width": null
          }
        },
        "84ad3174ee9341fb9f691ac83f9628f3": {
          "model_module": "@jupyter-widgets/controls",
          "model_module_version": "1.5.0",
          "model_name": "DescriptionStyleModel",
          "state": {
            "_model_module": "@jupyter-widgets/controls",
            "_model_module_version": "1.5.0",
            "_model_name": "DescriptionStyleModel",
            "_view_count": null,
            "_view_module": "@jupyter-widgets/base",
            "_view_module_version": "1.2.0",
            "_view_name": "StyleView",
            "description_width": ""
          }
        },
        "870a00b4f6c7432fab3c3835e8542345": {
          "model_module": "@jupyter-widgets/base",
          "model_module_version": "1.2.0",
          "model_name": "LayoutModel",
          "state": {
            "_model_module": "@jupyter-widgets/base",
            "_model_module_version": "1.2.0",
            "_model_name": "LayoutModel",
            "_view_count": null,
            "_view_module": "@jupyter-widgets/base",
            "_view_module_version": "1.2.0",
            "_view_name": "LayoutView",
            "align_content": null,
            "align_items": null,
            "align_self": null,
            "border": null,
            "bottom": null,
            "display": null,
            "flex": null,
            "flex_flow": null,
            "grid_area": null,
            "grid_auto_columns": null,
            "grid_auto_flow": null,
            "grid_auto_rows": null,
            "grid_column": null,
            "grid_gap": null,
            "grid_row": null,
            "grid_template_areas": null,
            "grid_template_columns": null,
            "grid_template_rows": null,
            "height": null,
            "justify_content": null,
            "justify_items": null,
            "left": null,
            "margin": null,
            "max_height": null,
            "max_width": null,
            "min_height": null,
            "min_width": null,
            "object_fit": null,
            "object_position": null,
            "order": null,
            "overflow": null,
            "overflow_x": null,
            "overflow_y": null,
            "padding": null,
            "right": null,
            "top": null,
            "visibility": null,
            "width": null
          }
        },
        "8d94aa177e384a4d8adfb5656127084b": {
          "model_module": "@jupyter-widgets/controls",
          "model_module_version": "1.5.0",
          "model_name": "DescriptionStyleModel",
          "state": {
            "_model_module": "@jupyter-widgets/controls",
            "_model_module_version": "1.5.0",
            "_model_name": "DescriptionStyleModel",
            "_view_count": null,
            "_view_module": "@jupyter-widgets/base",
            "_view_module_version": "1.2.0",
            "_view_name": "StyleView",
            "description_width": ""
          }
        },
        "911e609438844eea8e846f3061d76459": {
          "model_module": "@jupyter-widgets/base",
          "model_module_version": "1.2.0",
          "model_name": "LayoutModel",
          "state": {
            "_model_module": "@jupyter-widgets/base",
            "_model_module_version": "1.2.0",
            "_model_name": "LayoutModel",
            "_view_count": null,
            "_view_module": "@jupyter-widgets/base",
            "_view_module_version": "1.2.0",
            "_view_name": "LayoutView",
            "align_content": null,
            "align_items": null,
            "align_self": null,
            "border": null,
            "bottom": null,
            "display": null,
            "flex": null,
            "flex_flow": null,
            "grid_area": null,
            "grid_auto_columns": null,
            "grid_auto_flow": null,
            "grid_auto_rows": null,
            "grid_column": null,
            "grid_gap": null,
            "grid_row": null,
            "grid_template_areas": null,
            "grid_template_columns": null,
            "grid_template_rows": null,
            "height": null,
            "justify_content": null,
            "justify_items": null,
            "left": null,
            "margin": null,
            "max_height": null,
            "max_width": null,
            "min_height": null,
            "min_width": null,
            "object_fit": null,
            "object_position": null,
            "order": null,
            "overflow": null,
            "overflow_x": null,
            "overflow_y": null,
            "padding": null,
            "right": null,
            "top": null,
            "visibility": null,
            "width": null
          }
        },
        "925ddaca334b48cda199afada87fd4c8": {
          "model_module": "@jupyter-widgets/controls",
          "model_module_version": "1.5.0",
          "model_name": "ProgressStyleModel",
          "state": {
            "_model_module": "@jupyter-widgets/controls",
            "_model_module_version": "1.5.0",
            "_model_name": "ProgressStyleModel",
            "_view_count": null,
            "_view_module": "@jupyter-widgets/base",
            "_view_module_version": "1.2.0",
            "_view_name": "StyleView",
            "bar_color": null,
            "description_width": ""
          }
        },
        "9596facd94f54883ad939b93b3acf734": {
          "model_module": "@jupyter-widgets/controls",
          "model_module_version": "1.5.0",
          "model_name": "HTMLModel",
          "state": {
            "_dom_classes": [],
            "_model_module": "@jupyter-widgets/controls",
            "_model_module_version": "1.5.0",
            "_model_name": "HTMLModel",
            "_view_count": null,
            "_view_module": "@jupyter-widgets/controls",
            "_view_module_version": "1.5.0",
            "_view_name": "HTMLView",
            "description": "",
            "description_tooltip": null,
            "layout": "IPY_MODEL_52abe42d15c74eaa89eecd92c7823824",
            "placeholder": "​",
            "style": "IPY_MODEL_98bdd412c8fa48d1b33edae306d6ef29",
            "value": "Downloading builder script: "
          }
        },
        "9673bbb04a7548e799ff783bb5e2667b": {
          "model_module": "@jupyter-widgets/controls",
          "model_module_version": "1.5.0",
          "model_name": "DescriptionStyleModel",
          "state": {
            "_model_module": "@jupyter-widgets/controls",
            "_model_module_version": "1.5.0",
            "_model_name": "DescriptionStyleModel",
            "_view_count": null,
            "_view_module": "@jupyter-widgets/base",
            "_view_module_version": "1.2.0",
            "_view_name": "StyleView",
            "description_width": ""
          }
        },
        "98bdd412c8fa48d1b33edae306d6ef29": {
          "model_module": "@jupyter-widgets/controls",
          "model_module_version": "1.5.0",
          "model_name": "DescriptionStyleModel",
          "state": {
            "_model_module": "@jupyter-widgets/controls",
            "_model_module_version": "1.5.0",
            "_model_name": "DescriptionStyleModel",
            "_view_count": null,
            "_view_module": "@jupyter-widgets/base",
            "_view_module_version": "1.2.0",
            "_view_name": "StyleView",
            "description_width": ""
          }
        },
        "9aba40ca7321448899c416bc4d164448": {
          "model_module": "@jupyter-widgets/controls",
          "model_module_version": "1.5.0",
          "model_name": "DescriptionStyleModel",
          "state": {
            "_model_module": "@jupyter-widgets/controls",
            "_model_module_version": "1.5.0",
            "_model_name": "DescriptionStyleModel",
            "_view_count": null,
            "_view_module": "@jupyter-widgets/base",
            "_view_module_version": "1.2.0",
            "_view_name": "StyleView",
            "description_width": ""
          }
        },
        "a0b06014ffa94d7d9b1ec4e6d0397b00": {
          "model_module": "@jupyter-widgets/base",
          "model_module_version": "1.2.0",
          "model_name": "LayoutModel",
          "state": {
            "_model_module": "@jupyter-widgets/base",
            "_model_module_version": "1.2.0",
            "_model_name": "LayoutModel",
            "_view_count": null,
            "_view_module": "@jupyter-widgets/base",
            "_view_module_version": "1.2.0",
            "_view_name": "LayoutView",
            "align_content": null,
            "align_items": null,
            "align_self": null,
            "border": null,
            "bottom": null,
            "display": null,
            "flex": null,
            "flex_flow": null,
            "grid_area": null,
            "grid_auto_columns": null,
            "grid_auto_flow": null,
            "grid_auto_rows": null,
            "grid_column": null,
            "grid_gap": null,
            "grid_row": null,
            "grid_template_areas": null,
            "grid_template_columns": null,
            "grid_template_rows": null,
            "height": null,
            "justify_content": null,
            "justify_items": null,
            "left": null,
            "margin": null,
            "max_height": null,
            "max_width": null,
            "min_height": null,
            "min_width": null,
            "object_fit": null,
            "object_position": null,
            "order": null,
            "overflow": null,
            "overflow_x": null,
            "overflow_y": null,
            "padding": null,
            "right": null,
            "top": null,
            "visibility": null,
            "width": null
          }
        },
        "a4ce0aa79d614ec5b2530fcee9fb0aba": {
          "model_module": "@jupyter-widgets/base",
          "model_module_version": "1.2.0",
          "model_name": "LayoutModel",
          "state": {
            "_model_module": "@jupyter-widgets/base",
            "_model_module_version": "1.2.0",
            "_model_name": "LayoutModel",
            "_view_count": null,
            "_view_module": "@jupyter-widgets/base",
            "_view_module_version": "1.2.0",
            "_view_name": "LayoutView",
            "align_content": null,
            "align_items": null,
            "align_self": null,
            "border": null,
            "bottom": null,
            "display": null,
            "flex": null,
            "flex_flow": null,
            "grid_area": null,
            "grid_auto_columns": null,
            "grid_auto_flow": null,
            "grid_auto_rows": null,
            "grid_column": null,
            "grid_gap": null,
            "grid_row": null,
            "grid_template_areas": null,
            "grid_template_columns": null,
            "grid_template_rows": null,
            "height": null,
            "justify_content": null,
            "justify_items": null,
            "left": null,
            "margin": null,
            "max_height": null,
            "max_width": null,
            "min_height": null,
            "min_width": null,
            "object_fit": null,
            "object_position": null,
            "order": null,
            "overflow": null,
            "overflow_x": null,
            "overflow_y": null,
            "padding": null,
            "right": null,
            "top": null,
            "visibility": null,
            "width": null
          }
        },
        "a8a609a0067746cf86cf98c0ab28cdcc": {
          "model_module": "@jupyter-widgets/controls",
          "model_module_version": "1.5.0",
          "model_name": "HTMLModel",
          "state": {
            "_dom_classes": [],
            "_model_module": "@jupyter-widgets/controls",
            "_model_module_version": "1.5.0",
            "_model_name": "HTMLModel",
            "_view_count": null,
            "_view_module": "@jupyter-widgets/controls",
            "_view_module_version": "1.5.0",
            "_view_name": "HTMLView",
            "description": "",
            "description_tooltip": null,
            "layout": "IPY_MODEL_a4ce0aa79d614ec5b2530fcee9fb0aba",
            "placeholder": "​",
            "style": "IPY_MODEL_5f00ff30d49c410388eba314aebe21e8",
            "value": " 1000/1000 [00:01&lt;00:00, 589.12 examples/s]"
          }
        },
        "aa2a3d44496b4f6aa0cf1d362ca15fca": {
          "model_module": "@jupyter-widgets/controls",
          "model_module_version": "1.5.0",
          "model_name": "DescriptionStyleModel",
          "state": {
            "_model_module": "@jupyter-widgets/controls",
            "_model_module_version": "1.5.0",
            "_model_name": "DescriptionStyleModel",
            "_view_count": null,
            "_view_module": "@jupyter-widgets/base",
            "_view_module_version": "1.2.0",
            "_view_name": "StyleView",
            "description_width": ""
          }
        },
        "ab450be926c34790bca6c7187440f1fe": {
          "model_module": "@jupyter-widgets/controls",
          "model_module_version": "1.5.0",
          "model_name": "HTMLModel",
          "state": {
            "_dom_classes": [],
            "_model_module": "@jupyter-widgets/controls",
            "_model_module_version": "1.5.0",
            "_model_name": "HTMLModel",
            "_view_count": null,
            "_view_module": "@jupyter-widgets/controls",
            "_view_module_version": "1.5.0",
            "_view_name": "HTMLView",
            "description": "",
            "description_tooltip": null,
            "layout": "IPY_MODEL_4c1d3c3e7ee949a4ad55a2a40576cefc",
            "placeholder": "​",
            "style": "IPY_MODEL_1ce535fa30794890b34d129bee5fe311",
            "value": " 4.07k/? [00:00&lt;00:00, 201kB/s]"
          }
        },
        "b07ea2ed584948e2be1679fce135a685": {
          "model_module": "@jupyter-widgets/controls",
          "model_module_version": "1.5.0",
          "model_name": "HTMLModel",
          "state": {
            "_dom_classes": [],
            "_model_module": "@jupyter-widgets/controls",
            "_model_module_version": "1.5.0",
            "_model_name": "HTMLModel",
            "_view_count": null,
            "_view_module": "@jupyter-widgets/controls",
            "_view_module_version": "1.5.0",
            "_view_name": "HTMLView",
            "description": "",
            "description_tooltip": null,
            "layout": "IPY_MODEL_83dcd347570d49958d471228c0c3435f",
            "placeholder": "​",
            "style": "IPY_MODEL_5fd0f6344919465a8eb58097989ab450",
            "value": " 6447/6447 [00:12&lt;00:00, 452.96 examples/s]"
          }
        },
        "b3b5f5a7f4b3498cbb0522a968b56398": {
          "model_module": "@jupyter-widgets/base",
          "model_module_version": "1.2.0",
          "model_name": "LayoutModel",
          "state": {
            "_model_module": "@jupyter-widgets/base",
            "_model_module_version": "1.2.0",
            "_model_name": "LayoutModel",
            "_view_count": null,
            "_view_module": "@jupyter-widgets/base",
            "_view_module_version": "1.2.0",
            "_view_name": "LayoutView",
            "align_content": null,
            "align_items": null,
            "align_self": null,
            "border": null,
            "bottom": null,
            "display": null,
            "flex": null,
            "flex_flow": null,
            "grid_area": null,
            "grid_auto_columns": null,
            "grid_auto_flow": null,
            "grid_auto_rows": null,
            "grid_column": null,
            "grid_gap": null,
            "grid_row": null,
            "grid_template_areas": null,
            "grid_template_columns": null,
            "grid_template_rows": null,
            "height": null,
            "justify_content": null,
            "justify_items": null,
            "left": null,
            "margin": null,
            "max_height": null,
            "max_width": null,
            "min_height": null,
            "min_width": null,
            "object_fit": null,
            "object_position": null,
            "order": null,
            "overflow": null,
            "overflow_x": null,
            "overflow_y": null,
            "padding": null,
            "right": null,
            "top": null,
            "visibility": null,
            "width": null
          }
        },
        "b667a6d992e143bca40b9202bfb5eb7e": {
          "model_module": "@jupyter-widgets/base",
          "model_module_version": "1.2.0",
          "model_name": "LayoutModel",
          "state": {
            "_model_module": "@jupyter-widgets/base",
            "_model_module_version": "1.2.0",
            "_model_name": "LayoutModel",
            "_view_count": null,
            "_view_module": "@jupyter-widgets/base",
            "_view_module_version": "1.2.0",
            "_view_name": "LayoutView",
            "align_content": null,
            "align_items": null,
            "align_self": null,
            "border": null,
            "bottom": null,
            "display": null,
            "flex": null,
            "flex_flow": null,
            "grid_area": null,
            "grid_auto_columns": null,
            "grid_auto_flow": null,
            "grid_auto_rows": null,
            "grid_column": null,
            "grid_gap": null,
            "grid_row": null,
            "grid_template_areas": null,
            "grid_template_columns": null,
            "grid_template_rows": null,
            "height": null,
            "justify_content": null,
            "justify_items": null,
            "left": null,
            "margin": null,
            "max_height": null,
            "max_width": null,
            "min_height": null,
            "min_width": null,
            "object_fit": null,
            "object_position": null,
            "order": null,
            "overflow": null,
            "overflow_x": null,
            "overflow_y": null,
            "padding": null,
            "right": null,
            "top": null,
            "visibility": null,
            "width": null
          }
        },
        "b7c8023d124b43c7becda606e9ef0eb9": {
          "model_module": "@jupyter-widgets/controls",
          "model_module_version": "1.5.0",
          "model_name": "HTMLModel",
          "state": {
            "_dom_classes": [],
            "_model_module": "@jupyter-widgets/controls",
            "_model_module_version": "1.5.0",
            "_model_name": "HTMLModel",
            "_view_count": null,
            "_view_module": "@jupyter-widgets/controls",
            "_view_module_version": "1.5.0",
            "_view_name": "HTMLView",
            "description": "",
            "description_tooltip": null,
            "layout": "IPY_MODEL_c45a2562555847dc96e5e34c78a93c71",
            "placeholder": "​",
            "style": "IPY_MODEL_4a1ef2a4fc42401ebd02d44d491e200f",
            "value": "config.json: 100%"
          }
        },
        "b83017b6a84a418d9ebc6e8dddd4d027": {
          "model_module": "@jupyter-widgets/base",
          "model_module_version": "1.2.0",
          "model_name": "LayoutModel",
          "state": {
            "_model_module": "@jupyter-widgets/base",
            "_model_module_version": "1.2.0",
            "_model_name": "LayoutModel",
            "_view_count": null,
            "_view_module": "@jupyter-widgets/base",
            "_view_module_version": "1.2.0",
            "_view_name": "LayoutView",
            "align_content": null,
            "align_items": null,
            "align_self": null,
            "border": null,
            "bottom": null,
            "display": null,
            "flex": null,
            "flex_flow": null,
            "grid_area": null,
            "grid_auto_columns": null,
            "grid_auto_flow": null,
            "grid_auto_rows": null,
            "grid_column": null,
            "grid_gap": null,
            "grid_row": null,
            "grid_template_areas": null,
            "grid_template_columns": null,
            "grid_template_rows": null,
            "height": null,
            "justify_content": null,
            "justify_items": null,
            "left": null,
            "margin": null,
            "max_height": null,
            "max_width": null,
            "min_height": null,
            "min_width": null,
            "object_fit": null,
            "object_position": null,
            "order": null,
            "overflow": null,
            "overflow_x": null,
            "overflow_y": null,
            "padding": null,
            "right": null,
            "top": null,
            "visibility": null,
            "width": null
          }
        },
        "b839095e41354430b2a58dbd60528b79": {
          "model_module": "@jupyter-widgets/controls",
          "model_module_version": "1.5.0",
          "model_name": "DescriptionStyleModel",
          "state": {
            "_model_module": "@jupyter-widgets/controls",
            "_model_module_version": "1.5.0",
            "_model_name": "DescriptionStyleModel",
            "_view_count": null,
            "_view_module": "@jupyter-widgets/base",
            "_view_module_version": "1.2.0",
            "_view_name": "StyleView",
            "description_width": ""
          }
        },
        "bd58ac70e17e49d2a2057dc1312dbd5d": {
          "model_module": "@jupyter-widgets/controls",
          "model_module_version": "1.5.0",
          "model_name": "DescriptionStyleModel",
          "state": {
            "_model_module": "@jupyter-widgets/controls",
            "_model_module_version": "1.5.0",
            "_model_name": "DescriptionStyleModel",
            "_view_count": null,
            "_view_module": "@jupyter-widgets/base",
            "_view_module_version": "1.2.0",
            "_view_name": "StyleView",
            "description_width": ""
          }
        },
        "bf08ccc19d8a47ee840e67f134c80d67": {
          "model_module": "@jupyter-widgets/base",
          "model_module_version": "1.2.0",
          "model_name": "LayoutModel",
          "state": {
            "_model_module": "@jupyter-widgets/base",
            "_model_module_version": "1.2.0",
            "_model_name": "LayoutModel",
            "_view_count": null,
            "_view_module": "@jupyter-widgets/base",
            "_view_module_version": "1.2.0",
            "_view_name": "LayoutView",
            "align_content": null,
            "align_items": null,
            "align_self": null,
            "border": null,
            "bottom": null,
            "display": null,
            "flex": null,
            "flex_flow": null,
            "grid_area": null,
            "grid_auto_columns": null,
            "grid_auto_flow": null,
            "grid_auto_rows": null,
            "grid_column": null,
            "grid_gap": null,
            "grid_row": null,
            "grid_template_areas": null,
            "grid_template_columns": null,
            "grid_template_rows": null,
            "height": null,
            "justify_content": null,
            "justify_items": null,
            "left": null,
            "margin": null,
            "max_height": null,
            "max_width": null,
            "min_height": null,
            "min_width": null,
            "object_fit": null,
            "object_position": null,
            "order": null,
            "overflow": null,
            "overflow_x": null,
            "overflow_y": null,
            "padding": null,
            "right": null,
            "top": null,
            "visibility": null,
            "width": null
          }
        },
        "c38fd66566184bcb9afa586ad3761ded": {
          "model_module": "@jupyter-widgets/base",
          "model_module_version": "1.2.0",
          "model_name": "LayoutModel",
          "state": {
            "_model_module": "@jupyter-widgets/base",
            "_model_module_version": "1.2.0",
            "_model_name": "LayoutModel",
            "_view_count": null,
            "_view_module": "@jupyter-widgets/base",
            "_view_module_version": "1.2.0",
            "_view_name": "LayoutView",
            "align_content": null,
            "align_items": null,
            "align_self": null,
            "border": null,
            "bottom": null,
            "display": null,
            "flex": null,
            "flex_flow": null,
            "grid_area": null,
            "grid_auto_columns": null,
            "grid_auto_flow": null,
            "grid_auto_rows": null,
            "grid_column": null,
            "grid_gap": null,
            "grid_row": null,
            "grid_template_areas": null,
            "grid_template_columns": null,
            "grid_template_rows": null,
            "height": null,
            "justify_content": null,
            "justify_items": null,
            "left": null,
            "margin": null,
            "max_height": null,
            "max_width": null,
            "min_height": null,
            "min_width": null,
            "object_fit": null,
            "object_position": null,
            "order": null,
            "overflow": null,
            "overflow_x": null,
            "overflow_y": null,
            "padding": null,
            "right": null,
            "top": null,
            "visibility": null,
            "width": null
          }
        },
        "c45a2562555847dc96e5e34c78a93c71": {
          "model_module": "@jupyter-widgets/base",
          "model_module_version": "1.2.0",
          "model_name": "LayoutModel",
          "state": {
            "_model_module": "@jupyter-widgets/base",
            "_model_module_version": "1.2.0",
            "_model_name": "LayoutModel",
            "_view_count": null,
            "_view_module": "@jupyter-widgets/base",
            "_view_module_version": "1.2.0",
            "_view_name": "LayoutView",
            "align_content": null,
            "align_items": null,
            "align_self": null,
            "border": null,
            "bottom": null,
            "display": null,
            "flex": null,
            "flex_flow": null,
            "grid_area": null,
            "grid_auto_columns": null,
            "grid_auto_flow": null,
            "grid_auto_rows": null,
            "grid_column": null,
            "grid_gap": null,
            "grid_row": null,
            "grid_template_areas": null,
            "grid_template_columns": null,
            "grid_template_rows": null,
            "height": null,
            "justify_content": null,
            "justify_items": null,
            "left": null,
            "margin": null,
            "max_height": null,
            "max_width": null,
            "min_height": null,
            "min_width": null,
            "object_fit": null,
            "object_position": null,
            "order": null,
            "overflow": null,
            "overflow_x": null,
            "overflow_y": null,
            "padding": null,
            "right": null,
            "top": null,
            "visibility": null,
            "width": null
          }
        },
        "c5ca8477378d4e96a706863ef801e216": {
          "model_module": "@jupyter-widgets/controls",
          "model_module_version": "1.5.0",
          "model_name": "HTMLModel",
          "state": {
            "_dom_classes": [],
            "_model_module": "@jupyter-widgets/controls",
            "_model_module_version": "1.5.0",
            "_model_name": "HTMLModel",
            "_view_count": null,
            "_view_module": "@jupyter-widgets/controls",
            "_view_module_version": "1.5.0",
            "_view_name": "HTMLView",
            "description": "",
            "description_tooltip": null,
            "layout": "IPY_MODEL_5532aa19b121434bba4ff7718f931872",
            "placeholder": "​",
            "style": "IPY_MODEL_62412fb37dd241fb83bba0c3fe3dfa72",
            "value": "Map: 100%"
          }
        },
        "c9d58552ba104d768a3674deffd99d64": {
          "model_module": "@jupyter-widgets/base",
          "model_module_version": "1.2.0",
          "model_name": "LayoutModel",
          "state": {
            "_model_module": "@jupyter-widgets/base",
            "_model_module_version": "1.2.0",
            "_model_name": "LayoutModel",
            "_view_count": null,
            "_view_module": "@jupyter-widgets/base",
            "_view_module_version": "1.2.0",
            "_view_name": "LayoutView",
            "align_content": null,
            "align_items": null,
            "align_self": null,
            "border": null,
            "bottom": null,
            "display": null,
            "flex": null,
            "flex_flow": null,
            "grid_area": null,
            "grid_auto_columns": null,
            "grid_auto_flow": null,
            "grid_auto_rows": null,
            "grid_column": null,
            "grid_gap": null,
            "grid_row": null,
            "grid_template_areas": null,
            "grid_template_columns": null,
            "grid_template_rows": null,
            "height": null,
            "justify_content": null,
            "justify_items": null,
            "left": null,
            "margin": null,
            "max_height": null,
            "max_width": null,
            "min_height": null,
            "min_width": null,
            "object_fit": null,
            "object_position": null,
            "order": null,
            "overflow": null,
            "overflow_x": null,
            "overflow_y": null,
            "padding": null,
            "right": null,
            "top": null,
            "visibility": null,
            "width": null
          }
        },
        "ce10f4f851b94d259e81bcba936fa607": {
          "model_module": "@jupyter-widgets/controls",
          "model_module_version": "1.5.0",
          "model_name": "HBoxModel",
          "state": {
            "_dom_classes": [],
            "_model_module": "@jupyter-widgets/controls",
            "_model_module_version": "1.5.0",
            "_model_name": "HBoxModel",
            "_view_count": null,
            "_view_module": "@jupyter-widgets/controls",
            "_view_module_version": "1.5.0",
            "_view_name": "HBoxView",
            "box_style": "",
            "children": [
              "IPY_MODEL_74698c46de9a48a1b8888663653f8e66",
              "IPY_MODEL_5654cb7edf0a4839bf84711c0b534ad9",
              "IPY_MODEL_0a6b55fbf6a143498a670dbc8099fc97"
            ],
            "layout": "IPY_MODEL_b83017b6a84a418d9ebc6e8dddd4d027"
          }
        },
        "d019a7226172446994c85a8369863e14": {
          "model_module": "@jupyter-widgets/base",
          "model_module_version": "1.2.0",
          "model_name": "LayoutModel",
          "state": {
            "_model_module": "@jupyter-widgets/base",
            "_model_module_version": "1.2.0",
            "_model_name": "LayoutModel",
            "_view_count": null,
            "_view_module": "@jupyter-widgets/base",
            "_view_module_version": "1.2.0",
            "_view_name": "LayoutView",
            "align_content": null,
            "align_items": null,
            "align_self": null,
            "border": null,
            "bottom": null,
            "display": null,
            "flex": null,
            "flex_flow": null,
            "grid_area": null,
            "grid_auto_columns": null,
            "grid_auto_flow": null,
            "grid_auto_rows": null,
            "grid_column": null,
            "grid_gap": null,
            "grid_row": null,
            "grid_template_areas": null,
            "grid_template_columns": null,
            "grid_template_rows": null,
            "height": null,
            "justify_content": null,
            "justify_items": null,
            "left": null,
            "margin": null,
            "max_height": null,
            "max_width": null,
            "min_height": null,
            "min_width": null,
            "object_fit": null,
            "object_position": null,
            "order": null,
            "overflow": null,
            "overflow_x": null,
            "overflow_y": null,
            "padding": null,
            "right": null,
            "top": null,
            "visibility": null,
            "width": null
          }
        },
        "d1b68ea47e2041fea5264f36987817ca": {
          "model_module": "@jupyter-widgets/base",
          "model_module_version": "1.2.0",
          "model_name": "LayoutModel",
          "state": {
            "_model_module": "@jupyter-widgets/base",
            "_model_module_version": "1.2.0",
            "_model_name": "LayoutModel",
            "_view_count": null,
            "_view_module": "@jupyter-widgets/base",
            "_view_module_version": "1.2.0",
            "_view_name": "LayoutView",
            "align_content": null,
            "align_items": null,
            "align_self": null,
            "border": null,
            "bottom": null,
            "display": null,
            "flex": null,
            "flex_flow": null,
            "grid_area": null,
            "grid_auto_columns": null,
            "grid_auto_flow": null,
            "grid_auto_rows": null,
            "grid_column": null,
            "grid_gap": null,
            "grid_row": null,
            "grid_template_areas": null,
            "grid_template_columns": null,
            "grid_template_rows": null,
            "height": null,
            "justify_content": null,
            "justify_items": null,
            "left": null,
            "margin": null,
            "max_height": null,
            "max_width": null,
            "min_height": null,
            "min_width": null,
            "object_fit": null,
            "object_position": null,
            "order": null,
            "overflow": null,
            "overflow_x": null,
            "overflow_y": null,
            "padding": null,
            "right": null,
            "top": null,
            "visibility": null,
            "width": null
          }
        },
        "d39d414b19f9436883d5408cadb0f712": {
          "model_module": "@jupyter-widgets/controls",
          "model_module_version": "1.5.0",
          "model_name": "HBoxModel",
          "state": {
            "_dom_classes": [],
            "_model_module": "@jupyter-widgets/controls",
            "_model_module_version": "1.5.0",
            "_model_name": "HBoxModel",
            "_view_count": null,
            "_view_module": "@jupyter-widgets/controls",
            "_view_module_version": "1.5.0",
            "_view_name": "HBoxView",
            "box_style": "",
            "children": [
              "IPY_MODEL_37ea07194edb405d93ca9a8e5f3a6f40",
              "IPY_MODEL_d996de5f240544ea953d8b6de5301fd2",
              "IPY_MODEL_b07ea2ed584948e2be1679fce135a685"
            ],
            "layout": "IPY_MODEL_117c7962b27b41b7bfc55561704050e2"
          }
        },
        "d78d85903ea04260957175e0ac2e669c": {
          "model_module": "@jupyter-widgets/controls",
          "model_module_version": "1.5.0",
          "model_name": "HTMLModel",
          "state": {
            "_dom_classes": [],
            "_model_module": "@jupyter-widgets/controls",
            "_model_module_version": "1.5.0",
            "_model_name": "HTMLModel",
            "_view_count": null,
            "_view_module": "@jupyter-widgets/controls",
            "_view_module_version": "1.5.0",
            "_view_name": "HTMLView",
            "description": "",
            "description_tooltip": null,
            "layout": "IPY_MODEL_f591b4197c154dff9799f46517f76a9f",
            "placeholder": "​",
            "style": "IPY_MODEL_48fb770688c04da6bc94b422af0a862b",
            "value": " 6.06k/? [00:00&lt;00:00, 408kB/s]"
          }
        },
        "d996de5f240544ea953d8b6de5301fd2": {
          "model_module": "@jupyter-widgets/controls",
          "model_module_version": "1.5.0",
          "model_name": "FloatProgressModel",
          "state": {
            "_dom_classes": [],
            "_model_module": "@jupyter-widgets/controls",
            "_model_module_version": "1.5.0",
            "_model_name": "FloatProgressModel",
            "_view_count": null,
            "_view_module": "@jupyter-widgets/controls",
            "_view_module_version": "1.5.0",
            "_view_name": "ProgressView",
            "bar_style": "success",
            "description": "",
            "description_tooltip": null,
            "layout": "IPY_MODEL_c38fd66566184bcb9afa586ad3761ded",
            "max": 6447,
            "min": 0,
            "orientation": "horizontal",
            "style": "IPY_MODEL_63cdbbd2cfb34c99a30016ce84c28939",
            "value": 6447
          }
        },
        "e1177ba1d3284f3fb5a909a639ab5081": {
          "model_module": "@jupyter-widgets/controls",
          "model_module_version": "1.5.0",
          "model_name": "FloatProgressModel",
          "state": {
            "_dom_classes": [],
            "_model_module": "@jupyter-widgets/controls",
            "_model_module_version": "1.5.0",
            "_model_name": "FloatProgressModel",
            "_view_count": null,
            "_view_module": "@jupyter-widgets/controls",
            "_view_module_version": "1.5.0",
            "_view_name": "ProgressView",
            "bar_style": "success",
            "description": "",
            "description_tooltip": null,
            "layout": "IPY_MODEL_0988df03ebfd4ca9a4e0fc4399932645",
            "max": 1206,
            "min": 0,
            "orientation": "horizontal",
            "style": "IPY_MODEL_0d20c8b41f584738a0132661ad1fe4e3",
            "value": 1206
          }
        },
        "ea8afb737d1645b7b4b4022843cf8682": {
          "model_module": "@jupyter-widgets/controls",
          "model_module_version": "1.5.0",
          "model_name": "DescriptionStyleModel",
          "state": {
            "_model_module": "@jupyter-widgets/controls",
            "_model_module_version": "1.5.0",
            "_model_name": "DescriptionStyleModel",
            "_view_count": null,
            "_view_module": "@jupyter-widgets/base",
            "_view_module_version": "1.2.0",
            "_view_name": "StyleView",
            "description_width": ""
          }
        },
        "ecc0baa5f076499d878461e55051567f": {
          "model_module": "@jupyter-widgets/base",
          "model_module_version": "1.2.0",
          "model_name": "LayoutModel",
          "state": {
            "_model_module": "@jupyter-widgets/base",
            "_model_module_version": "1.2.0",
            "_model_name": "LayoutModel",
            "_view_count": null,
            "_view_module": "@jupyter-widgets/base",
            "_view_module_version": "1.2.0",
            "_view_name": "LayoutView",
            "align_content": null,
            "align_items": null,
            "align_self": null,
            "border": null,
            "bottom": null,
            "display": null,
            "flex": null,
            "flex_flow": null,
            "grid_area": null,
            "grid_auto_columns": null,
            "grid_auto_flow": null,
            "grid_auto_rows": null,
            "grid_column": null,
            "grid_gap": null,
            "grid_row": null,
            "grid_template_areas": null,
            "grid_template_columns": null,
            "grid_template_rows": null,
            "height": null,
            "justify_content": null,
            "justify_items": null,
            "left": null,
            "margin": null,
            "max_height": null,
            "max_width": null,
            "min_height": null,
            "min_width": null,
            "object_fit": null,
            "object_position": null,
            "order": null,
            "overflow": null,
            "overflow_x": null,
            "overflow_y": null,
            "padding": null,
            "right": null,
            "top": null,
            "visibility": null,
            "width": null
          }
        },
        "f1ffbdedb61a43b6b94f23c1f3fe9c10": {
          "model_module": "@jupyter-widgets/controls",
          "model_module_version": "1.5.0",
          "model_name": "HBoxModel",
          "state": {
            "_dom_classes": [],
            "_model_module": "@jupyter-widgets/controls",
            "_model_module_version": "1.5.0",
            "_model_name": "HBoxModel",
            "_view_count": null,
            "_view_module": "@jupyter-widgets/controls",
            "_view_module_version": "1.5.0",
            "_view_name": "HBoxView",
            "box_style": "",
            "children": [
              "IPY_MODEL_9596facd94f54883ad939b93b3acf734",
              "IPY_MODEL_5ed55df300d84c65ae78077a8e1a1cb5",
              "IPY_MODEL_d78d85903ea04260957175e0ac2e669c"
            ],
            "layout": "IPY_MODEL_d019a7226172446994c85a8369863e14"
          }
        },
        "f27e8a394f45485ab70fe85834b21a9a": {
          "model_module": "@jupyter-widgets/base",
          "model_module_version": "1.2.0",
          "model_name": "LayoutModel",
          "state": {
            "_model_module": "@jupyter-widgets/base",
            "_model_module_version": "1.2.0",
            "_model_name": "LayoutModel",
            "_view_count": null,
            "_view_module": "@jupyter-widgets/base",
            "_view_module_version": "1.2.0",
            "_view_name": "LayoutView",
            "align_content": null,
            "align_items": null,
            "align_self": null,
            "border": null,
            "bottom": null,
            "display": null,
            "flex": null,
            "flex_flow": null,
            "grid_area": null,
            "grid_auto_columns": null,
            "grid_auto_flow": null,
            "grid_auto_rows": null,
            "grid_column": null,
            "grid_gap": null,
            "grid_row": null,
            "grid_template_areas": null,
            "grid_template_columns": null,
            "grid_template_rows": null,
            "height": null,
            "justify_content": null,
            "justify_items": null,
            "left": null,
            "margin": null,
            "max_height": null,
            "max_width": null,
            "min_height": null,
            "min_width": null,
            "object_fit": null,
            "object_position": null,
            "order": null,
            "overflow": null,
            "overflow_x": null,
            "overflow_y": null,
            "padding": null,
            "right": null,
            "top": null,
            "visibility": null,
            "width": null
          }
        },
        "f48e2f8e3e9e4172bae1a8717abdbd44": {
          "model_module": "@jupyter-widgets/controls",
          "model_module_version": "1.5.0",
          "model_name": "HBoxModel",
          "state": {
            "_dom_classes": [],
            "_model_module": "@jupyter-widgets/controls",
            "_model_module_version": "1.5.0",
            "_model_name": "HBoxModel",
            "_view_count": null,
            "_view_module": "@jupyter-widgets/controls",
            "_view_module_version": "1.5.0",
            "_view_name": "HBoxView",
            "box_style": "",
            "children": [
              "IPY_MODEL_023232c6d72a4ff69607853b69f4f1b1",
              "IPY_MODEL_721d60ad7b15412aafd53ba519e35b7c",
              "IPY_MODEL_0d55a11255924a82b5df3cfaa5d5cb76"
            ],
            "layout": "IPY_MODEL_870a00b4f6c7432fab3c3835e8542345"
          }
        },
        "f591b4197c154dff9799f46517f76a9f": {
          "model_module": "@jupyter-widgets/base",
          "model_module_version": "1.2.0",
          "model_name": "LayoutModel",
          "state": {
            "_model_module": "@jupyter-widgets/base",
            "_model_module_version": "1.2.0",
            "_model_name": "LayoutModel",
            "_view_count": null,
            "_view_module": "@jupyter-widgets/base",
            "_view_module_version": "1.2.0",
            "_view_name": "LayoutView",
            "align_content": null,
            "align_items": null,
            "align_self": null,
            "border": null,
            "bottom": null,
            "display": null,
            "flex": null,
            "flex_flow": null,
            "grid_area": null,
            "grid_auto_columns": null,
            "grid_auto_flow": null,
            "grid_auto_rows": null,
            "grid_column": null,
            "grid_gap": null,
            "grid_row": null,
            "grid_template_areas": null,
            "grid_template_columns": null,
            "grid_template_rows": null,
            "height": null,
            "justify_content": null,
            "justify_items": null,
            "left": null,
            "margin": null,
            "max_height": null,
            "max_width": null,
            "min_height": null,
            "min_width": null,
            "object_fit": null,
            "object_position": null,
            "order": null,
            "overflow": null,
            "overflow_x": null,
            "overflow_y": null,
            "padding": null,
            "right": null,
            "top": null,
            "visibility": null,
            "width": null
          }
        },
        "f6c2772cb54c4d0d872d3644d0e56088": {
          "model_module": "@jupyter-widgets/controls",
          "model_module_version": "1.5.0",
          "model_name": "ProgressStyleModel",
          "state": {
            "_model_module": "@jupyter-widgets/controls",
            "_model_module_version": "1.5.0",
            "_model_name": "ProgressStyleModel",
            "_view_count": null,
            "_view_module": "@jupyter-widgets/base",
            "_view_module_version": "1.2.0",
            "_view_name": "StyleView",
            "bar_color": null,
            "description_width": ""
          }
        },
        "f987c33e88eb4528b15220a5913e7e6b": {
          "model_module": "@jupyter-widgets/controls",
          "model_module_version": "1.5.0",
          "model_name": "DescriptionStyleModel",
          "state": {
            "_model_module": "@jupyter-widgets/controls",
            "_model_module_version": "1.5.0",
            "_model_name": "DescriptionStyleModel",
            "_view_count": null,
            "_view_module": "@jupyter-widgets/base",
            "_view_module_version": "1.2.0",
            "_view_name": "StyleView",
            "description_width": ""
          }
        }
      }
    }
  },
  "nbformat": 4,
  "nbformat_minor": 0
}
